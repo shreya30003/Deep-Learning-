{
 "cells": [
  {
   "cell_type": "markdown",
   "metadata": {
    "id": "c2LLwKxSCTk5"
   },
   "source": [
    "# 1. Implementing Logic Gates Using Perceptron Algorithm"
   ]
  },
  {
   "cell_type": "code",
   "execution_count": null,
   "metadata": {
    "id": "TosKU2wrCjsh"
   },
   "outputs": [],
   "source": [
    "import numpy as np"
   ]
  },
  {
   "cell_type": "markdown",
   "metadata": {
    "id": "mVqqiZz-CeVR"
   },
   "source": [
    "### NOT\n",
    "0 -> 1\\\n",
    "1 -> 0\\\n",
    "weight = -1\\\n",
    "bias = 1"
   ]
  },
  {
   "cell_type": "code",
   "execution_count": null,
   "metadata": {
    "colab": {
     "base_uri": "https://localhost:8080/"
    },
    "id": "qmPzK5rpCPrM",
    "outputId": "c787503f-1d4d-4c0f-e363-ae9a52985744"
   },
   "outputs": [
    {
     "name": "stdout",
     "output_type": "stream",
     "text": [
      "[1 0]\n"
     ]
    }
   ],
   "source": [
    "X = np.array([[0],[1]])\n",
    "weights = np.array([-1])\n",
    "bias = np.array([1])\n",
    "\n",
    "out = X @ weights + bias\n",
    "print(out)"
   ]
  },
  {
   "cell_type": "markdown",
   "metadata": {
    "id": "bG97yiF1C06Y"
   },
   "source": [
    "### TAUGTOLOGY\n",
    "0,0 -> 1\\\n",
    "0,1 -> 1\\\n",
    "1,0 -> 1\\\n",
    "1,1 -> 1\\\n",
    "weights = 0,0\\\n",
    "bias = 1"
   ]
  },
  {
   "cell_type": "code",
   "execution_count": null,
   "metadata": {
    "colab": {
     "base_uri": "https://localhost:8080/"
    },
    "id": "N8M57GAmCu8l",
    "outputId": "d316e910-4ab0-41c1-9e7c-59adc5c11318"
   },
   "outputs": [
    {
     "name": "stdout",
     "output_type": "stream",
     "text": [
      "[[1]\n",
      " [1]\n",
      " [1]\n",
      " [1]]\n"
     ]
    }
   ],
   "source": [
    "X = np.array([[0,0],[0,1],[1,0],[1,1]])\n",
    "weights = np.array([[0],[0]])\n",
    "bias = np.array([1])\n",
    "\n",
    "out = X @ weights + bias\n",
    "print(out)"
   ]
  },
  {
   "cell_type": "markdown",
   "metadata": {
    "id": "Ip36vuaODEH2"
   },
   "source": [
    "### AND\n",
    "0,0 -> 0\\\n",
    "0,1 -> 0\\\n",
    "1,0 -> 0\\\n",
    "1,1 -> 1\\\n",
    "weights = 1,1\\\n",
    "bias = -1"
   ]
  },
  {
   "cell_type": "code",
   "execution_count": null,
   "metadata": {
    "colab": {
     "base_uri": "https://localhost:8080/"
    },
    "id": "2p2kUcI8DDrQ",
    "outputId": "a171aca6-62e4-4070-c8c0-16e3566d8125"
   },
   "outputs": [
    {
     "name": "stdout",
     "output_type": "stream",
     "text": [
      "[0 0 0 1]\n"
     ]
    }
   ],
   "source": [
    "def step(x):\n",
    "  return 1 if x>= 0.5 else 0\n",
    "\n",
    "X = np.array([[0,0],[0,1],[1,0],[1,1]])\n",
    "weights = np.array([[1],[1]])\n",
    "bias = np.array([-1])\n",
    "\n",
    "out = X @ weights + bias\n",
    "y = np.array(list(map(step, out)))\n",
    "print(y)"
   ]
  },
  {
   "cell_type": "markdown",
   "metadata": {
    "id": "bB9kULuDDUbO"
   },
   "source": [
    "### OR\n",
    "0,0 -> 0\\\n",
    "0,1 -> 1\\\n",
    "1,0 -> 1\\\n",
    "1,1 -> 1\\\n",
    "weights = 1,1\\\n",
    "bias = 0"
   ]
  },
  {
   "cell_type": "code",
   "execution_count": null,
   "metadata": {
    "colab": {
     "base_uri": "https://localhost:8080/"
    },
    "id": "0xV9iFHADBqi",
    "outputId": "39325951-51d4-4414-b9be-413ef563c24f"
   },
   "outputs": [
    {
     "name": "stdout",
     "output_type": "stream",
     "text": [
      "[0 1 1 1]\n"
     ]
    }
   ],
   "source": [
    "X = np.array([[0,0],[0,1],[1,0],[1,1]])\n",
    "weights = np.array([[1],[1]])\n",
    "bias = np.array([0])\n",
    "\n",
    "out = X @ weights + bias\n",
    "y = np.array(list(map(step, out)))\n",
    "print(y)"
   ]
  },
  {
   "cell_type": "markdown",
   "metadata": {
    "id": "emlDPYRHDa_O"
   },
   "source": [
    "### NOR\n",
    "0,0 -> 1\\\n",
    "0,1 -> 0\\\n",
    "1,0 -> 0\\\n",
    "1,1 -> 0\\\n",
    "weights = -1,-1\\\n",
    "bias = 1"
   ]
  },
  {
   "cell_type": "code",
   "execution_count": null,
   "metadata": {
    "colab": {
     "base_uri": "https://localhost:8080/"
    },
    "id": "kLPhMINeDZHB",
    "outputId": "5bdf29cf-957b-4d87-e610-5acb39e44fc0"
   },
   "outputs": [
    {
     "name": "stdout",
     "output_type": "stream",
     "text": [
      "[1 0 0 0]\n"
     ]
    }
   ],
   "source": [
    "X = np.array([[0,0],[0,1],[1,0],[1,1]])\n",
    "weights = np.array([[-1],[-1]])\n",
    "bias = np.array([1])\n",
    "\n",
    "out = X @ weights + bias\n",
    "y = np.array(list(map(step, out)))\n",
    "print(y)"
   ]
  },
  {
   "cell_type": "markdown",
   "metadata": {
    "id": "xp3DVa-mDkov"
   },
   "source": [
    "### NAND\n",
    "0,0 -> 1\\\n",
    "0,1 -> 1\\\n",
    "1,0 -> 1\\\n",
    "1,1 -> 0\\\n",
    "weights = -1,-1\\\n",
    "bias = 2"
   ]
  },
  {
   "cell_type": "code",
   "execution_count": null,
   "metadata": {
    "colab": {
     "base_uri": "https://localhost:8080/"
    },
    "id": "QfiOkMbxDkCP",
    "outputId": "99730ce7-5bf1-491f-c5d9-e551152a6fa9"
   },
   "outputs": [
    {
     "name": "stdout",
     "output_type": "stream",
     "text": [
      "[1 1 1 0]\n"
     ]
    }
   ],
   "source": [
    "X = np.array([[0,0],[0,1],[1,0],[1,1]])\n",
    "weights = np.array([[-1],[-1]])\n",
    "bias = np.array([2])\n",
    "\n",
    "out = X @ weights + bias\n",
    "y = np.array(list(map(step, out)))\n",
    "print(y)"
   ]
  },
  {
   "cell_type": "markdown",
   "metadata": {
    "id": "6U2iMKAKDwPN"
   },
   "source": [
    "### XOR\n",
    "0,0 -> 0\\\n",
    "0,1 -> 1\\\n",
    "1,0 -> 1\\\n",
    "1,1 -> 0\\\n",
    "weights =[-1,1],[1,-1]\\\n",
    "bias = 1,1\\\n",
    "s(s(x@w)@x2)"
   ]
  },
  {
   "cell_type": "code",
   "execution_count": null,
   "metadata": {
    "colab": {
     "base_uri": "https://localhost:8080/"
    },
    "id": "sUWps7H_D1Ue",
    "outputId": "42c020f4-bdbc-4959-bb5d-bd1a49c2c508"
   },
   "outputs": [
    {
     "data": {
      "text/plain": [
       "array([[0],\n",
       "       [1],\n",
       "       [1],\n",
       "       [0]])"
      ]
     },
     "execution_count": 69,
     "metadata": {},
     "output_type": "execute_result"
    }
   ],
   "source": [
    "def step(x):\n",
    "  return 1 if x>0 else 0\n",
    "step = np.vectorize(step)\n",
    "x = np.array([[0,0],[0,1],[1,0],[1,1]])\n",
    "y = np.array([[0],[1],[1],[0]])\n",
    "w1 = np.array([[1,-1],[-1,1]])\n",
    "w2 = np.array([[1],[1]])\n",
    "y_cap = step(step(x@w1)@w2)\n",
    "y_cap"
   ]
  },
  {
   "cell_type": "markdown",
   "metadata": {
    "id": "jsGfAKcgDzY9"
   },
   "source": [
    "### XNOR"
   ]
  },
  {
   "cell_type": "code",
   "execution_count": null,
   "metadata": {
    "id": "NVCiomxMDgR2"
   },
   "outputs": [],
   "source": [
    "x = np.array([[0,0],[0,1],[1,0],[1,1]])\n",
    "y = np.array([[1],[0],[0],[1]])\n",
    "w1 = np.array([[1,-1],[1,-1]])\n",
    "w2 = np.array([[1],[1]])\n",
    "bias = np.array([[-1,1]])\n",
    "y_cap = step(step(x@w1 + bias)@w2)\n",
    "y_cap"
   ]
  },
  {
   "cell_type": "markdown",
   "metadata": {
    "id": "yC8LkNV-txEB"
   },
   "source": [
    "tensorflow.keras.datasets -> mnist\\\n",
    "tensorflow.keras.models -> Sequential\\\n",
    "tensorflow.keras.layers -> Flatten, Dense, Conv2D, MaxPooling2D, Normalization, SimpleRNN, Embedding, Activation\\\n",
    "keras.optimizers -> Adam, SGD, RMSProp\n",
    "\n"
   ]
  },
  {
   "cell_type": "markdown",
   "metadata": {
    "id": "Po6vntkrD13u"
   },
   "source": [
    "# 2. MLP and Linear Regression"
   ]
  },
  {
   "cell_type": "code",
   "execution_count": null,
   "metadata": {
    "id": "SKNi072wD3sx"
   },
   "outputs": [],
   "source": [
    "import warnings\n",
    "warnings.filterwarnings(\"ignore\")\n",
    "\n",
    "import tensorflow as tf\n",
    "import tensorflow.keras.datasets.mnist as mnist\n",
    "\n",
    "from tensorflow.keras.models import Sequential\n",
    "from tensorflow.keras.layers import Normalization,Flatten,Dense"
   ]
  },
  {
   "cell_type": "code",
   "execution_count": null,
   "metadata": {
    "colab": {
     "base_uri": "https://localhost:8080/"
    },
    "id": "FemOFSiTEETf",
    "outputId": "73c4f717-07e2-4bdd-e04e-174b700de41f"
   },
   "outputs": [
    {
     "name": "stdout",
     "output_type": "stream",
     "text": [
      "Downloading data from https://storage.googleapis.com/tensorflow/tf-keras-datasets/mnist.npz\n",
      "11490434/11490434 [==============================] - 0s 0us/step\n"
     ]
    }
   ],
   "source": [
    "(x_train, y_train), (x_test,y_test) = mnist.load_data()"
   ]
  },
  {
   "cell_type": "markdown",
   "metadata": {
    "id": "ixqNAYeCucCO"
   },
   "source": [
    "MLP :\n",
    "- Normalization\n",
    "- Flatten -> input shape\n",
    "- Dense -> activation\n",
    "- Dense(output)"
   ]
  },
  {
   "cell_type": "markdown",
   "metadata": {
    "id": "9PzlQp3autXx"
   },
   "source": [
    "Multiple Classes : Sparse Categorical Cross Entory, Categorical Cross Entropy\\\n",
    "2 Classes : Binary Cross Entropy\\\n",
    "Linear Regression : Mean Absolute Error/ Mean Squared Error"
   ]
  },
  {
   "cell_type": "code",
   "execution_count": null,
   "metadata": {
    "id": "3PicGYXyEKcR"
   },
   "outputs": [],
   "source": [
    "model = Sequential([\n",
    "    Normalization(),\n",
    "    Flatten(input_shape = (28,28)),\n",
    "    Dense(128, activation = \"relu\"),\n",
    "    Dense(10)\n",
    "])"
   ]
  },
  {
   "cell_type": "code",
   "execution_count": null,
   "metadata": {
    "id": "1Cg2APHAEpeO"
   },
   "outputs": [],
   "source": [
    "model.compile(optimizer = 'adam',\n",
    "              loss = tf.keras.losses.SparseCategoricalCrossentropy(),\n",
    "              metrics = [tf.keras.metrics.SparseCategoricalAccuracy()])"
   ]
  },
  {
   "cell_type": "code",
   "execution_count": null,
   "metadata": {
    "colab": {
     "base_uri": "https://localhost:8080/"
    },
    "id": "tLip1nEZE8cX",
    "outputId": "25d8b064-f392-4f6c-8eb4-a5c3f881a257"
   },
   "outputs": [
    {
     "name": "stdout",
     "output_type": "stream",
     "text": [
      "Epoch 1/10\n",
      "938/938 [==============================] - 11s 10ms/step - loss: 2.7675 - sparse_categorical_accuracy: 0.1028\n",
      "Epoch 2/10\n",
      "938/938 [==============================] - 6s 7ms/step - loss: 2.3095 - sparse_categorical_accuracy: 0.0936\n",
      "Epoch 3/10\n",
      "938/938 [==============================] - 5s 6ms/step - loss: 2.3046 - sparse_categorical_accuracy: 0.0877\n",
      "Epoch 4/10\n",
      "938/938 [==============================] - 5s 5ms/step - loss: 2.3046 - sparse_categorical_accuracy: 0.0877\n",
      "Epoch 5/10\n",
      "938/938 [==============================] - 6s 6ms/step - loss: 2.3046 - sparse_categorical_accuracy: 0.0877\n",
      "Epoch 6/10\n",
      "938/938 [==============================] - 4s 4ms/step - loss: 2.3046 - sparse_categorical_accuracy: 0.0877\n",
      "Epoch 7/10\n",
      "938/938 [==============================] - 5s 5ms/step - loss: 2.3046 - sparse_categorical_accuracy: 0.0877\n",
      "Epoch 8/10\n",
      "938/938 [==============================] - 6s 6ms/step - loss: 2.3046 - sparse_categorical_accuracy: 0.0877\n",
      "Epoch 9/10\n",
      "938/938 [==============================] - 5s 5ms/step - loss: 2.3046 - sparse_categorical_accuracy: 0.0877\n",
      "Epoch 10/10\n",
      "938/938 [==============================] - 6s 6ms/step - loss: 2.3046 - sparse_categorical_accuracy: 0.0877\n"
     ]
    },
    {
     "data": {
      "text/plain": [
       "<keras.src.callbacks.History at 0x7f3d3b38df00>"
      ]
     },
     "execution_count": 19,
     "metadata": {},
     "output_type": "execute_result"
    }
   ],
   "source": [
    "model.fit(x_train, y_train, batch_size = 64, epochs = 10)"
   ]
  },
  {
   "cell_type": "code",
   "execution_count": null,
   "metadata": {
    "colab": {
     "base_uri": "https://localhost:8080/"
    },
    "id": "nG7yYCFKFGau",
    "outputId": "a6ed61cf-71b6-4ca2-a725-2b257998d47b"
   },
   "outputs": [
    {
     "name": "stdout",
     "output_type": "stream",
     "text": [
      "313/313 [==============================] - 1s 4ms/step - loss: 2.3067 - sparse_categorical_accuracy: 0.0887\n"
     ]
    },
    {
     "data": {
      "text/plain": [
       "[2.3067357540130615, 0.08869999647140503]"
      ]
     },
     "execution_count": 20,
     "metadata": {},
     "output_type": "execute_result"
    }
   ],
   "source": [
    "model.evaluate(x_test, y_test)"
   ]
  },
  {
   "cell_type": "markdown",
   "metadata": {
    "id": "l3XuuNAPjq8F"
   },
   "source": [
    "### Linear Regression\n",
    "- Dense (1)"
   ]
  },
  {
   "cell_type": "code",
   "execution_count": null,
   "metadata": {
    "id": "hpMi9xOgFXRa"
   },
   "outputs": [],
   "source": [
    "learning_rate = 0.01\n",
    "training_epochs = 1000\n",
    "\n",
    "np.random.seed(69)\n",
    "\n",
    "x = np.random.random_sample(500).reshape(-1,1)\n",
    "y = x*2 + 0.5*np.random.random(500).reshape(-1,1)"
   ]
  },
  {
   "cell_type": "code",
   "execution_count": null,
   "metadata": {
    "id": "ZVLKSv6VICBx"
   },
   "outputs": [],
   "source": [
    "model = tf.keras.models.Sequential([tf.keras.layers.Dense(1)])\n",
    "model.compile(optimizer=tf.keras.optimizers.Adam(learning_rate=learning_rate),\n",
    "loss='mean_absolute_error')"
   ]
  },
  {
   "cell_type": "code",
   "execution_count": null,
   "metadata": {
    "colab": {
     "base_uri": "https://localhost:8080/"
    },
    "id": "L-nv5ZX7IBPM",
    "outputId": "6111995e-51d8-4f84-9f19-6254b9f1c150"
   },
   "outputs": [
    {
     "data": {
      "text/plain": [
       "<keras.src.callbacks.History at 0x7de6eecbcaf0>"
      ]
     },
     "execution_count": 73,
     "metadata": {},
     "output_type": "execute_result"
    }
   ],
   "source": [
    "model.fit(x,y,epochs=training_epochs,batch_size=128,verbose=False)"
   ]
  },
  {
   "cell_type": "code",
   "execution_count": null,
   "metadata": {
    "id": "eqEd4wDDH_-N"
   },
   "outputs": [],
   "source": [
    "y_pred = model.predict(x, verbose=False)"
   ]
  },
  {
   "cell_type": "code",
   "execution_count": null,
   "metadata": {
    "colab": {
     "base_uri": "https://localhost:8080/",
     "height": 482
    },
    "id": "-JycBuzxH-t8",
    "outputId": "30a09a44-459d-4d73-83cf-62109badb4da"
   },
   "outputs": [
    {
     "name": "stdout",
     "output_type": "stream",
     "text": [
      "Training Cost : 0.12609246373176575\n",
      "Weight : [[2.0552254]]\n",
      "Bias : [0.21720186]\n"
     ]
    },
    {
     "data": {
      "image/png": "[encoded data removed]",
      "text/plain": [
       "<Figure size 640x480 with 1 Axes>"
      ]
     },
     "metadata": {},
     "output_type": "display_data"
    }
   ],
   "source": [
    "plt.scatter(x,y)\n",
    "plt.plot(x, y_pred, c=\"red\")\n",
    "print(\"Training Cost :\", model.evaluate(x,y,verbose=False))\n",
    "print(\"Weight :\", model.get_weights()[0])\n",
    "print(\"Bias :\", model.get_weights()[1])"
   ]
  },
  {
   "cell_type": "markdown",
   "metadata": {
    "id": "vLd8ujasp5KE"
   },
   "source": [
    "# 3. Ablation Studies"
   ]
  },
  {
   "cell_type": "code",
   "execution_count": null,
   "metadata": {
    "id": "0FZwURHKvUS5"
   },
   "outputs": [],
   "source": [
    "import pandas as pd\n",
    "import warnings\n",
    "warnings.filterwarnings(\"ignore\")\n",
    "from sklearn.datasets import load_wine\n",
    "from sklearn.preprocessing import LabelEncoder\n",
    "from sklearn.model_selection import train_test_split"
   ]
  },
  {
   "cell_type": "code",
   "execution_count": null,
   "metadata": {
    "id": "JVB-ekfevYLM"
   },
   "outputs": [],
   "source": [
    "df = load_wine()"
   ]
  },
  {
   "cell_type": "code",
   "execution_count": null,
   "metadata": {
    "colab": {
     "base_uri": "https://localhost:8080/"
    },
    "id": "BoadaKAHwTUy",
    "outputId": "69336c08-11a1-4e8d-d2db-de19c3fa079d"
   },
   "outputs": [
    {
     "name": "stdout",
     "output_type": "stream",
     "text": [
      "Shape : (178, 13)\n"
     ]
    }
   ],
   "source": [
    "print(\"Shape :\", df['data'].shape)"
   ]
  },
  {
   "cell_type": "code",
   "execution_count": null,
   "metadata": {
    "id": "ZeFvNicXwiOa"
   },
   "outputs": [],
   "source": [
    "y = df[\"target\"]\n",
    "x = df['data']"
   ]
  },
  {
   "cell_type": "code",
   "execution_count": null,
   "metadata": {
    "id": "7sebI1X0wkL6"
   },
   "outputs": [],
   "source": [
    "x_train, x_test, y_train, y_test = train_test_split(x, y, test_size=0.2,random_state=69)"
   ]
  },
  {
   "cell_type": "code",
   "execution_count": null,
   "metadata": {
    "id": "vawO_mFQvI9c"
   },
   "outputs": [],
   "source": [
    "import keras\n",
    "from keras.models import Sequential\n",
    "from keras.layers import Normalization\n",
    "from keras.layers import Dense"
   ]
  },
  {
   "cell_type": "markdown",
   "metadata": {
    "id": "Okp4GXbiwu_z"
   },
   "source": [
    "MODEL:\n",
    "- Model 1\n",
    "  - Normalize\n",
    "  - Dense (32, relu)\n",
    "  - Dense (16, relu)\n",
    "  - Dense (1, sigmoid)\n",
    "- Model 2\n",
    "  - Normalize\n",
    "  - Dense (64, relu)\n",
    "  - Dense (32, relu)\n",
    "  - Dense (16, relu)\n",
    "  - Dense (1, sigmoid)\n",
    "- Model 3\n",
    "  - Normalize\n",
    "  - Dense (128, relu)\n",
    "  - Dense (32, relu)\n",
    "  - Dense (1, sigmoid)\n"
   ]
  },
  {
   "cell_type": "code",
   "execution_count": null,
   "metadata": {
    "id": "jUHrTyl0xWdS"
   },
   "outputs": [],
   "source": [
    "architecture = [\n",
    "  Sequential([Normalization(),\n",
    "    Dense(32, activation=\"relu\"),\n",
    "    Dense(16, activation=\"relu\"),\n",
    "    Dense(1, activation=\"sigmoid\")]),\n",
    "  Sequential([Normalization(),\n",
    "    Dense(64, activation=\"relu\"),\n",
    "    Dense(32, activation=\"relu\"),\n",
    "    Dense(16, activation=\"relu\"),\n",
    "    Dense(1, activation=\"sigmoid\")]),\n",
    "  Sequential([Normalization(),\n",
    "    Dense(128, activation=\"relu\"),\n",
    "    Dense(32, activation=\"relu\"),\n",
    "    Dense(1, activation=\"sigmoid\")])\n",
    "  ]"
   ]
  },
  {
   "cell_type": "code",
   "execution_count": null,
   "metadata": {
    "id": "et0ZcxEtxfbv"
   },
   "outputs": [],
   "source": [
    "opt1 = keras.optimizers.legacy.Adam(learning_rate=0.01)\n",
    "opt2 = keras.optimizers.legacy.Adam(learning_rate=0.001)\n",
    "opt3 = keras.optimizers.legacy.SGD(learning_rate=0.01)\n",
    "\n",
    "optimizer = [opt1, opt2, opt3]"
   ]
  },
  {
   "cell_type": "code",
   "execution_count": null,
   "metadata": {
    "id": "RlOuW12Bp-S9"
   },
   "outputs": [],
   "source": [
    "epochs = [5,10]\n",
    "output = pd.DataFrame(columns=[\"No of Layers\",\"No of Params\",\"Optimizer\",\"Learning Rate\",\"Epochs\",\"Accuracy\"])\n",
    "\n",
    "for arch in architecture:\n",
    "  for opti in optimizer:\n",
    "    for epoch in epochs:\n",
    "      model = arch\n",
    "      model.compile(optimizer=opti, loss=\"BinaryCrossentropy\",\n",
    "      metrics=\"Accuracy\")\n",
    "      model.fit(x_train, y_train, epochs=epoch, verbose=False)\n",
    "      y_pred = model.evaluate(x_test, y_test, verbose=False)\n",
    "      output = output.append(pd.DataFrame(\n",
    "      {\"No of Layers\" : [len(model.layers)],\n",
    "      \"No of Params\" : [model.count_params()],\n",
    "      \"Optimizer\" : [opti.get_config()[\"name\"]],\n",
    "      \"Learning Rate\" : [opti.learning_rate.numpy()],\n",
    "      \"Epochs\" : [epoch],\n",
    "      \"Accuracy\" : [y_pred[1]]}))"
   ]
  },
  {
   "cell_type": "code",
   "execution_count": null,
   "metadata": {
    "colab": {
     "base_uri": "https://localhost:8080/",
     "height": 206
    },
    "id": "gER4eJzZx6uD",
    "outputId": "4a83678f-09a1-4fd9-ef35-0f06397409ce"
   },
   "outputs": [
    {
     "data": {
      "text/html": [
       "\n",
       "  <div id=\"df-fddce66e-bd1c-48f3-86b6-93ddc39bd5ed\" class=\"colab-df-container\">\n",
       "    <div>\n",
       "<style scoped>\n",
       "    .dataframe tbody tr th:only-of-type {\n",
       "        vertical-align: middle;\n",
       "    }\n",
       "\n",
       "    .dataframe tbody tr th {\n",
       "        vertical-align: top;\n",
       "    }\n",
       "\n",
       "    .dataframe thead th {\n",
       "        text-align: right;\n",
       "    }\n",
       "</style>\n",
       "<table border=\"1\" class=\"dataframe\">\n",
       "  <thead>\n",
       "    <tr style=\"text-align: right;\">\n",
       "      <th></th>\n",
       "      <th>No of Layers</th>\n",
       "      <th>No of Params</th>\n",
       "      <th>Optimizer</th>\n",
       "      <th>Learning Rate</th>\n",
       "      <th>Epochs</th>\n",
       "      <th>Accuracy</th>\n",
       "    </tr>\n",
       "  </thead>\n",
       "  <tbody>\n",
       "    <tr>\n",
       "      <th>0</th>\n",
       "      <td>4</td>\n",
       "      <td>1020</td>\n",
       "      <td>Adam</td>\n",
       "      <td>0.010</td>\n",
       "      <td>5</td>\n",
       "      <td>0.388889</td>\n",
       "    </tr>\n",
       "    <tr>\n",
       "      <th>0</th>\n",
       "      <td>4</td>\n",
       "      <td>1020</td>\n",
       "      <td>Adam</td>\n",
       "      <td>0.010</td>\n",
       "      <td>10</td>\n",
       "      <td>0.388889</td>\n",
       "    </tr>\n",
       "    <tr>\n",
       "      <th>0</th>\n",
       "      <td>4</td>\n",
       "      <td>1020</td>\n",
       "      <td>Adam</td>\n",
       "      <td>0.001</td>\n",
       "      <td>5</td>\n",
       "      <td>0.388889</td>\n",
       "    </tr>\n",
       "    <tr>\n",
       "      <th>0</th>\n",
       "      <td>4</td>\n",
       "      <td>1020</td>\n",
       "      <td>Adam</td>\n",
       "      <td>0.001</td>\n",
       "      <td>10</td>\n",
       "      <td>0.388889</td>\n",
       "    </tr>\n",
       "    <tr>\n",
       "      <th>0</th>\n",
       "      <td>4</td>\n",
       "      <td>1020</td>\n",
       "      <td>SGD</td>\n",
       "      <td>0.010</td>\n",
       "      <td>5</td>\n",
       "      <td>0.388889</td>\n",
       "    </tr>\n",
       "  </tbody>\n",
       "</table>\n",
       "</div>\n",
       "    <div class=\"colab-df-buttons\">\n",
       "\n",
       "  <div class=\"colab-df-container\">\n",
       "    <button class=\"colab-df-convert\" onclick=\"convertToInteractive('df-fddce66e-bd1c-48f3-86b6-93ddc39bd5ed')\"\n",
       "            title=\"Convert this dataframe to an interactive table.\"\n",
       "            style=\"display:none;\">\n",
       "\n",
       "  <svg xmlns=\"http://www.w3.org/2000/svg\" height=\"24px\" viewBox=\"0 -960 960 960\">\n",
       "    <path d=\"M120-120v-720h720v720H120Zm60-500h600v-160H180v160Zm220 220h160v-160H400v160Zm0 220h160v-160H400v160ZM180-400h160v-160H180v160Zm440 0h160v-160H620v160ZM180-180h160v-160H180v160Zm440 0h160v-160H620v160Z\"/>\n",
       "  </svg>\n",
       "    </button>\n",
       "\n",
       "  <style>\n",
       "    .colab-df-container {\n",
       "      display:flex;\n",
       "      gap: 12px;\n",
       "    }\n",
       "\n",
       "    .colab-df-convert {\n",
       "      background-color: #E8F0FE;\n",
       "      border: none;\n",
       "      border-radius: 50%;\n",
       "      cursor: pointer;\n",
       "      display: none;\n",
       "      fill: #1967D2;\n",
       "      height: 32px;\n",
       "      padding: 0 0 0 0;\n",
       "      width: 32px;\n",
       "    }\n",
       "\n",
       "    .colab-df-convert:hover {\n",
       "      background-color: #E2EBFA;\n",
       "      box-shadow: 0px 1px 2px rgba(60, 64, 67, 0.3), 0px 1px 3px 1px rgba(60, 64, 67, 0.15);\n",
       "      fill: #174EA6;\n",
       "    }\n",
       "\n",
       "    .colab-df-buttons div {\n",
       "      margin-bottom: 4px;\n",
       "    }\n",
       "\n",
       "    [theme=dark] .colab-df-convert {\n",
       "      background-color: #3B4455;\n",
       "      fill: #D2E3FC;\n",
       "    }\n",
       "\n",
       "    [theme=dark] .colab-df-convert:hover {\n",
       "      background-color: #434B5C;\n",
       "      box-shadow: 0px 1px 3px 1px rgba(0, 0, 0, 0.15);\n",
       "      filter: drop-shadow(0px 1px 2px rgba(0, 0, 0, 0.3));\n",
       "      fill: #FFFFFF;\n",
       "    }\n",
       "  </style>\n",
       "\n",
       "    <script>\n",
       "      const buttonEl =\n",
       "        document.querySelector('#df-fddce66e-bd1c-48f3-86b6-93ddc39bd5ed button.colab-df-convert');\n",
       "      buttonEl.style.display =\n",
       "        google.colab.kernel.accessAllowed ? 'block' : 'none';\n",
       "\n",
       "      async function convertToInteractive(key) {\n",
       "        const element = document.querySelector('#df-fddce66e-bd1c-48f3-86b6-93ddc39bd5ed');\n",
       "        const dataTable =\n",
       "          await google.colab.kernel.invokeFunction('convertToInteractive',\n",
       "                                                    [key], {});\n",
       "        if (!dataTable) return;\n",
       "\n",
       "        const docLinkHtml = 'Like what you see? Visit the ' +\n",
       "          '<a target=\"_blank\" href=https://colab.research.google.com/notebooks/data_table.ipynb>data table notebook</a>'\n",
       "          + ' to learn more about interactive tables.';\n",
       "        element.innerHTML = '';\n",
       "        dataTable['output_type'] = 'display_data';\n",
       "        await google.colab.output.renderOutput(dataTable, element);\n",
       "        const docLink = document.createElement('div');\n",
       "        docLink.innerHTML = docLinkHtml;\n",
       "        element.appendChild(docLink);\n",
       "      }\n",
       "    </script>\n",
       "  </div>\n",
       "\n",
       "\n",
       "<div id=\"df-6659d0e4-c8a4-46d5-b51a-009f148a4ef6\">\n",
       "  <button class=\"colab-df-quickchart\" onclick=\"quickchart('df-6659d0e4-c8a4-46d5-b51a-009f148a4ef6')\"\n",
       "            title=\"Suggest charts.\"\n",
       "            style=\"display:none;\">\n",
       "\n",
       "<svg xmlns=\"http://www.w3.org/2000/svg\" height=\"24px\"viewBox=\"0 0 24 24\"\n",
       "     width=\"24px\">\n",
       "    <g>\n",
       "        <path d=\"M19 3H5c-1.1 0-2 .9-2 2v14c0 1.1.9 2 2 2h14c1.1 0 2-.9 2-2V5c0-1.1-.9-2-2-2zM9 17H7v-7h2v7zm4 0h-2V7h2v10zm4 0h-2v-4h2v4z\"/>\n",
       "    </g>\n",
       "</svg>\n",
       "  </button>\n",
       "\n",
       "<style>\n",
       "  .colab-df-quickchart {\n",
       "      --bg-color: #E8F0FE;\n",
       "      --fill-color: #1967D2;\n",
       "      --hover-bg-color: #E2EBFA;\n",
       "      --hover-fill-color: #174EA6;\n",
       "      --disabled-fill-color: #AAA;\n",
       "      --disabled-bg-color: #DDD;\n",
       "  }\n",
       "\n",
       "  [theme=dark] .colab-df-quickchart {\n",
       "      --bg-color: #3B4455;\n",
       "      --fill-color: #D2E3FC;\n",
       "      --hover-bg-color: #434B5C;\n",
       "      --hover-fill-color: #FFFFFF;\n",
       "      --disabled-bg-color: #3B4455;\n",
       "      --disabled-fill-color: #666;\n",
       "  }\n",
       "\n",
       "  .colab-df-quickchart {\n",
       "    background-color: var(--bg-color);\n",
       "    border: none;\n",
       "    border-radius: 50%;\n",
       "    cursor: pointer;\n",
       "    display: none;\n",
       "    fill: var(--fill-color);\n",
       "    height: 32px;\n",
       "    padding: 0;\n",
       "    width: 32px;\n",
       "  }\n",
       "\n",
       "  .colab-df-quickchart:hover {\n",
       "    background-color: var(--hover-bg-color);\n",
       "    box-shadow: 0 1px 2px rgba(60, 64, 67, 0.3), 0 1px 3px 1px rgba(60, 64, 67, 0.15);\n",
       "    fill: var(--button-hover-fill-color);\n",
       "  }\n",
       "\n",
       "  .colab-df-quickchart-complete:disabled,\n",
       "  .colab-df-quickchart-complete:disabled:hover {\n",
       "    background-color: var(--disabled-bg-color);\n",
       "    fill: var(--disabled-fill-color);\n",
       "    box-shadow: none;\n",
       "  }\n",
       "\n",
       "  .colab-df-spinner {\n",
       "    border: 2px solid var(--fill-color);\n",
       "    border-color: transparent;\n",
       "    border-bottom-color: var(--fill-color);\n",
       "    animation:\n",
       "      spin 1s steps(1) infinite;\n",
       "  }\n",
       "\n",
       "  @keyframes spin {\n",
       "    0% {\n",
       "      border-color: transparent;\n",
       "      border-bottom-color: var(--fill-color);\n",
       "      border-left-color: var(--fill-color);\n",
       "    }\n",
       "    20% {\n",
       "      border-color: transparent;\n",
       "      border-left-color: var(--fill-color);\n",
       "      border-top-color: var(--fill-color);\n",
       "    }\n",
       "    30% {\n",
       "      border-color: transparent;\n",
       "      border-left-color: var(--fill-color);\n",
       "      border-top-color: var(--fill-color);\n",
       "      border-right-color: var(--fill-color);\n",
       "    }\n",
       "    40% {\n",
       "      border-color: transparent;\n",
       "      border-right-color: var(--fill-color);\n",
       "      border-top-color: var(--fill-color);\n",
       "    }\n",
       "    60% {\n",
       "      border-color: transparent;\n",
       "      border-right-color: var(--fill-color);\n",
       "    }\n",
       "    80% {\n",
       "      border-color: transparent;\n",
       "      border-right-color: var(--fill-color);\n",
       "      border-bottom-color: var(--fill-color);\n",
       "    }\n",
       "    90% {\n",
       "      border-color: transparent;\n",
       "      border-bottom-color: var(--fill-color);\n",
       "    }\n",
       "  }\n",
       "</style>\n",
       "\n",
       "  <script>\n",
       "    async function quickchart(key) {\n",
       "      const quickchartButtonEl =\n",
       "        document.querySelector('#' + key + ' button');\n",
       "      quickchartButtonEl.disabled = true;  // To prevent multiple clicks.\n",
       "      quickchartButtonEl.classList.add('colab-df-spinner');\n",
       "      try {\n",
       "        const charts = await google.colab.kernel.invokeFunction(\n",
       "            'suggestCharts', [key], {});\n",
       "      } catch (error) {\n",
       "        console.error('Error during call to suggestCharts:', error);\n",
       "      }\n",
       "      quickchartButtonEl.classList.remove('colab-df-spinner');\n",
       "      quickchartButtonEl.classList.add('colab-df-quickchart-complete');\n",
       "    }\n",
       "    (() => {\n",
       "      let quickchartButtonEl =\n",
       "        document.querySelector('#df-6659d0e4-c8a4-46d5-b51a-009f148a4ef6 button');\n",
       "      quickchartButtonEl.style.display =\n",
       "        google.colab.kernel.accessAllowed ? 'block' : 'none';\n",
       "    })();\n",
       "  </script>\n",
       "</div>\n",
       "    </div>\n",
       "  </div>\n"
      ],
      "text/plain": [
       "  No of Layers No of Params Optimizer  Learning Rate Epochs  Accuracy\n",
       "0            4         1020      Adam          0.010      5  0.388889\n",
       "0            4         1020      Adam          0.010     10  0.388889\n",
       "0            4         1020      Adam          0.001      5  0.388889\n",
       "0            4         1020      Adam          0.001     10  0.388889\n",
       "0            4         1020       SGD          0.010      5  0.388889"
      ]
     },
     "execution_count": 37,
     "metadata": {},
     "output_type": "execute_result"
    }
   ],
   "source": [
    "output.head()"
   ]
  },
  {
   "cell_type": "markdown",
   "metadata": {
    "id": "E9bTy9PRqCf9"
   },
   "source": [
    "# 4. Regularization Techniques and Linear Regression"
   ]
  },
  {
   "cell_type": "code",
   "execution_count": null,
   "metadata": {
    "id": "wO4rc5C6zPrK"
   },
   "outputs": [],
   "source": [
    "import pandas as pd\n",
    "import warnings\n",
    "warnings.filterwarnings(\"ignore\")\n",
    "from sklearn.datasets import load_wine\n",
    "from sklearn.preprocessing import LabelEncoder\n",
    "from sklearn.model_selection import train_test_split\n",
    "import matplotlib.pyplot as plt"
   ]
  },
  {
   "cell_type": "code",
   "execution_count": null,
   "metadata": {
    "id": "DxGJ6prjzPrR"
   },
   "outputs": [],
   "source": [
    "df = load_wine()"
   ]
  },
  {
   "cell_type": "code",
   "execution_count": null,
   "metadata": {
    "colab": {
     "base_uri": "https://localhost:8080/"
    },
    "id": "-SdbYoghzPrR",
    "outputId": "74abdeed-9900-429c-f43d-3bd8b8f7b549"
   },
   "outputs": [
    {
     "name": "stdout",
     "output_type": "stream",
     "text": [
      "Shape : (178, 13)\n"
     ]
    }
   ],
   "source": [
    "print(\"Shape :\", df['data'].shape)"
   ]
  },
  {
   "cell_type": "code",
   "execution_count": null,
   "metadata": {
    "id": "5l6IoBnMzPrR"
   },
   "outputs": [],
   "source": [
    "y = df[\"target\"]\n",
    "x = df['data']"
   ]
  },
  {
   "cell_type": "code",
   "execution_count": null,
   "metadata": {
    "id": "54w3_GyHqE96"
   },
   "outputs": [],
   "source": [
    "x_train, x_test, y_train, y_test = train_test_split(x, y, test_size=0.2, random_state=69)"
   ]
  },
  {
   "cell_type": "code",
   "execution_count": null,
   "metadata": {
    "id": "QqN8wOhuzVlS"
   },
   "outputs": [],
   "source": [
    "import keras\n",
    "from keras.models import Sequential\n",
    "from keras.layers import Normalization\n",
    "from keras.layers import Dense, Dropout"
   ]
  },
  {
   "cell_type": "code",
   "execution_count": null,
   "metadata": {
    "id": "2Ae6n8wqzfVd"
   },
   "outputs": [],
   "source": [
    "def plot_history(hist):\n",
    "  plt.plot(hist.history['loss'], label = 'loss')\n",
    "  plt.plot(hist.history['val_loss'], label='val loss')\n",
    "  plt.title(\"Loss vs Val_Loss\")\n",
    "  plt.xlabel(\"Epochs\")\n",
    "  plt.ylabel(\"Loss\")\n",
    "  plt.legend()\n",
    "  plt.show()"
   ]
  },
  {
   "cell_type": "code",
   "execution_count": null,
   "metadata": {
    "id": "3kkv6ZM7zi0q"
   },
   "outputs": [],
   "source": [
    "output = pd.DataFrame(columns=[\"Model\", \"Accuracy\", \"Loss\"])"
   ]
  },
  {
   "cell_type": "code",
   "execution_count": null,
   "metadata": {
    "id": "BuLaLITDzmjK"
   },
   "outputs": [],
   "source": [
    "model = Sequential([Normalization(),\n",
    "  Dense(64, activation=\"relu\"),\n",
    "  Dense(16, activation=\"relu\"),\n",
    "  Dense(1, activation=\"sigmoid\")])"
   ]
  },
  {
   "cell_type": "code",
   "execution_count": null,
   "metadata": {
    "id": "O6rXJRhKzobR"
   },
   "outputs": [],
   "source": [
    "optimizer = keras.optimizers.Adam(learning_rate=0.001)\n",
    "model.compile(optimizer=optimizer, loss=\"BinaryCrossentropy\", metrics=\"Accuracy\")"
   ]
  },
  {
   "cell_type": "code",
   "execution_count": null,
   "metadata": {
    "colab": {
     "base_uri": "https://localhost:8080/"
    },
    "id": "Fzb1C_JmzrgI",
    "outputId": "6d9ee648-18b3-4dd0-f205-5e0404c522fc"
   },
   "outputs": [
    {
     "name": "stdout",
     "output_type": "stream",
     "text": [
      "Validation Result\n",
      "Loss : -1.5288076400756836\n",
      "Accuracy : 0.5277777910232544\n"
     ]
    }
   ],
   "source": [
    "hist = model.fit(x_train, y_train, epochs=20, verbose=False, validation_data=(x_test,y_test))\n",
    "Loss, Accuracy = model.evaluate(x_test, y_test, verbose=False)\n",
    "\n",
    "print(\"Validation Result\")\n",
    "print(\"Loss :\", Loss)\n",
    "print(\"Accuracy :\", Accuracy)"
   ]
  },
  {
   "cell_type": "code",
   "execution_count": null,
   "metadata": {
    "colab": {
     "base_uri": "https://localhost:8080/",
     "height": 472
    },
    "id": "qzWxrGIBzvjw",
    "outputId": "b5dfda32-3079-4666-99a0-0d1ecc0f756f"
   },
   "outputs": [
    {
     "data": {
      "image/png": "[encoded data removed]",
      "text/plain": [
       "<Figure size 640x480 with 1 Axes>"
      ]
     },
     "metadata": {},
     "output_type": "display_data"
    }
   ],
   "source": [
    "plot_history(hist)"
   ]
  },
  {
   "cell_type": "code",
   "execution_count": null,
   "metadata": {
    "id": "Lq96DG6Xz32b"
   },
   "outputs": [],
   "source": [
    "output = output.append(pd.DataFrame(pd.DataFrame({\"Model\":[\"Base Model\"],\"Accuracy\" :[Accuracy],\"Loss\" : [Loss]})), ignore_index=True)"
   ]
  },
  {
   "cell_type": "markdown",
   "metadata": {
    "id": "SQmJu4B0z_cK"
   },
   "source": [
    "### Base Model with L1 Regularization"
   ]
  },
  {
   "cell_type": "code",
   "execution_count": null,
   "metadata": {
    "colab": {
     "base_uri": "https://localhost:8080/",
     "height": 524
    },
    "id": "UZObN9Ir0JCC",
    "outputId": "2d39307c-b630-4eab-b6a6-488aee0b373d"
   },
   "outputs": [
    {
     "name": "stdout",
     "output_type": "stream",
     "text": [
      "Validation Result\n",
      "Loss : 1.0363115072250366\n",
      "Accuracy : 0.5833333134651184\n"
     ]
    },
    {
     "data": {
      "image/png": "[encoded data removed]",
      "text/plain": [
       "<Figure size 640x480 with 1 Axes>"
      ]
     },
     "metadata": {},
     "output_type": "display_data"
    }
   ],
   "source": [
    "model = Sequential([Normalization(),\n",
    "  Dense(64, activation=\"relu\", kernel_regularizer='l1'),\n",
    "  Dense(16, activation=\"relu\", kernel_regularizer='l1'),\n",
    "  Dense(1, activation=\"sigmoid\")])\n",
    "\n",
    "optimizer = keras.optimizers.Adam(learning_rate=0.001)\n",
    "model.compile(optimizer=optimizer, loss=\"BinaryCrossentropy\", metrics=\"Accuracy\")\n",
    "hist = model.fit(x_train, y_train, epochs=10, verbose=False,\n",
    "validation_data=(x_test,y_test))\n",
    "\n",
    "Loss, Accuracy = model.evaluate(x_test, y_test, verbose=False)\n",
    "print(\"Validation Result\")\n",
    "print(\"Loss :\", Loss)\n",
    "print(\"Accuracy :\", Accuracy)\n",
    "\n",
    "plot_history(hist)\n",
    "\n",
    "output = output.append(pd.DataFrame(pd.DataFrame({\"Model\":[\"L1\"],\n",
    "\"Accuracy\" :[Accuracy],\n",
    "\"Loss\" : [Loss]})),\n",
    "ignore_index=True)\n"
   ]
  },
  {
   "cell_type": "markdown",
   "metadata": {
    "id": "BbG6A-jR0NEN"
   },
   "source": [
    "### Base Model with L2 Regularization"
   ]
  },
  {
   "cell_type": "code",
   "execution_count": null,
   "metadata": {
    "colab": {
     "base_uri": "https://localhost:8080/",
     "height": 524
    },
    "id": "xLt2m0uC0Pzd",
    "outputId": "65901fe7-a599-49c3-be51-0c2ef5106035"
   },
   "outputs": [
    {
     "name": "stdout",
     "output_type": "stream",
     "text": [
      "Validation Result\n",
      "Loss : -0.7341384887695312\n",
      "Accuracy : 0.6388888955116272\n"
     ]
    },
    {
     "data": {
      "image/png": "[encoded data removed]",
      "text/plain": [
       "<Figure size 640x480 with 1 Axes>"
      ]
     },
     "metadata": {},
     "output_type": "display_data"
    }
   ],
   "source": [
    "model = Sequential([Normalization(),\n",
    "  Dense(64, activation=\"relu\", kernel_regularizer='l2'),\n",
    "  Dense(16, activation=\"relu\", kernel_regularizer='l2'),\n",
    "  Dense(1, activation=\"sigmoid\")])\n",
    "\n",
    "optimizer = keras.optimizers.Adam(learning_rate=0.001)\n",
    "model.compile(optimizer=optimizer, loss=\"BinaryCrossentropy\", metrics=\"Accuracy\")\n",
    "\n",
    "hist = model.fit(x_train, y_train, epochs=10, verbose=False,\n",
    "validation_data=(x_test,y_test))\n",
    "\n",
    "Loss, Accuracy = model.evaluate(x_test, y_test, verbose=False)\n",
    "\n",
    "print(\"Validation Result\")\n",
    "print(\"Loss :\", Loss)\n",
    "print(\"Accuracy :\", Accuracy)\n",
    "\n",
    "plot_history(hist)\n",
    "\n",
    "output = output.append(pd.DataFrame(pd.DataFrame({\"Model\":[\"L2\"],\n",
    "\"Accuracy\" :[Accuracy],\n",
    "\"Loss\" : [Loss]})),\n",
    "ignore_index=True)"
   ]
  },
  {
   "cell_type": "markdown",
   "metadata": {
    "id": "fpdhlkOO0YN5"
   },
   "source": [
    "### Base Model with Dropout"
   ]
  },
  {
   "cell_type": "code",
   "execution_count": null,
   "metadata": {
    "colab": {
     "base_uri": "https://localhost:8080/",
     "height": 524
    },
    "id": "FgSQTzgU0a4p",
    "outputId": "3b197366-05af-453e-c5d8-8e9c3a2c2a4a"
   },
   "outputs": [
    {
     "name": "stdout",
     "output_type": "stream",
     "text": [
      "Validation Result\n",
      "Loss : 2.392716407775879\n",
      "Accuracy : 0.3888888955116272\n"
     ]
    },
    {
     "data": {
      "image/png": "[encoded data removed]",
      "text/plain": [
       "<Figure size 640x480 with 1 Axes>"
      ]
     },
     "metadata": {},
     "output_type": "display_data"
    }
   ],
   "source": [
    "model = Sequential([Normalization(),\n",
    "  Dense(64, activation=\"relu\"),\n",
    "  Dropout(0.2),\n",
    "  Dense(16, activation=\"relu\"),\n",
    "  Dropout(0.5),\n",
    "  Dense(1, activation=\"sigmoid\")])\n",
    "\n",
    "optimizer = keras.optimizers.Adam(learning_rate=0.001)\n",
    "model.compile(optimizer=optimizer, loss=\"BinaryCrossentropy\", metrics=\"Accuracy\")\n",
    "\n",
    "hist = model.fit(x_train, y_train, epochs=10, verbose=False,\n",
    "validation_data=(x_test,y_test))\n",
    "\n",
    "Loss, Accuracy = model.evaluate(x_test, y_test, verbose=False)\n",
    "\n",
    "print(\"Validation Result\")\n",
    "print(\"Loss :\", Loss)\n",
    "print(\"Accuracy :\", Accuracy)\n",
    "\n",
    "plot_history(hist)\n",
    "\n",
    "output = output.append(pd.DataFrame(pd.DataFrame({\"Model\":[\"Dropout\"],\n",
    "\"Accuracy\" :[Accuracy],\n",
    "\"Loss\" : [Loss]})),\n",
    "ignore_index=True)"
   ]
  },
  {
   "cell_type": "markdown",
   "metadata": {
    "id": "ICiNyhvE0jXJ"
   },
   "source": [
    "### Base Model with Early Stopping"
   ]
  },
  {
   "cell_type": "code",
   "execution_count": null,
   "metadata": {
    "colab": {
     "base_uri": "https://localhost:8080/",
     "height": 524
    },
    "id": "sLclo2jI1AyZ",
    "outputId": "0c7df9af-aee7-4ab4-ee51-fe5014b9b86e"
   },
   "outputs": [
    {
     "name": "stdout",
     "output_type": "stream",
     "text": [
      "Validation Result\n",
      "Loss : -35.241188049316406\n",
      "Accuracy : 0.5277777910232544\n"
     ]
    },
    {
     "data": {
      "image/png": "[encoded data removed]",
      "text/plain": [
       "<Figure size 640x480 with 1 Axes>"
      ]
     },
     "metadata": {},
     "output_type": "display_data"
    }
   ],
   "source": [
    "model = Sequential([Normalization(),\n",
    "  Dense(64, activation=\"relu\"),\n",
    "  Dense(16, activation=\"relu\"),\n",
    "  Dense(1, activation=\"sigmoid\")])\n",
    "\n",
    "optimizer = keras.optimizers.Adam(learning_rate=0.001)\n",
    "model.compile(optimizer=optimizer, loss=\"BinaryCrossentropy\", metrics=\"Accuracy\")\n",
    "\n",
    "callback = keras.callbacks.EarlyStopping(monitor='loss', patience=5)\n",
    "\n",
    "hist = model.fit(x_train, y_train, epochs=100, callbacks=[callback],\n",
    "verbose=False, validation_data=(x_test,y_test))\n",
    "\n",
    "Loss, Accuracy = model.evaluate(x_test, y_test, verbose=False)\n",
    "\n",
    "print(\"Validation Result\")\n",
    "print(\"Loss :\", Loss)\n",
    "print(\"Accuracy :\", Accuracy)\n",
    "\n",
    "plot_history(hist)\n",
    "\n",
    "output = output.append(pd.DataFrame(pd.DataFrame({\"Model\":[\"Early Stopping\"],\n",
    "\"Accuracy\" :[Accuracy],\n",
    "\"Loss\" : [Loss]})),\n",
    "ignore_index=True)"
   ]
  },
  {
   "cell_type": "code",
   "execution_count": null,
   "metadata": {
    "colab": {
     "base_uri": "https://localhost:8080/",
     "height": 206
    },
    "id": "QYKWDDXaI9UP",
    "outputId": "036f1e1d-d307-4a0c-862a-95ce7431eb1c"
   },
   "outputs": [
    {
     "data": {
      "text/html": [
       "\n",
       "  <div id=\"df-f37371ef-ba55-4485-8396-387eee7c9e85\" class=\"colab-df-container\">\n",
       "    <div>\n",
       "<style scoped>\n",
       "    .dataframe tbody tr th:only-of-type {\n",
       "        vertical-align: middle;\n",
       "    }\n",
       "\n",
       "    .dataframe tbody tr th {\n",
       "        vertical-align: top;\n",
       "    }\n",
       "\n",
       "    .dataframe thead th {\n",
       "        text-align: right;\n",
       "    }\n",
       "</style>\n",
       "<table border=\"1\" class=\"dataframe\">\n",
       "  <thead>\n",
       "    <tr style=\"text-align: right;\">\n",
       "      <th></th>\n",
       "      <th>Model</th>\n",
       "      <th>Accuracy</th>\n",
       "      <th>Loss</th>\n",
       "    </tr>\n",
       "  </thead>\n",
       "  <tbody>\n",
       "    <tr>\n",
       "      <th>0</th>\n",
       "      <td>Base Model</td>\n",
       "      <td>0.527778</td>\n",
       "      <td>-1.528808</td>\n",
       "    </tr>\n",
       "    <tr>\n",
       "      <th>1</th>\n",
       "      <td>L1</td>\n",
       "      <td>0.583333</td>\n",
       "      <td>1.036312</td>\n",
       "    </tr>\n",
       "    <tr>\n",
       "      <th>2</th>\n",
       "      <td>L2</td>\n",
       "      <td>0.638889</td>\n",
       "      <td>-0.734138</td>\n",
       "    </tr>\n",
       "    <tr>\n",
       "      <th>3</th>\n",
       "      <td>Dropout</td>\n",
       "      <td>0.388889</td>\n",
       "      <td>2.392716</td>\n",
       "    </tr>\n",
       "    <tr>\n",
       "      <th>4</th>\n",
       "      <td>Early Stopping</td>\n",
       "      <td>0.527778</td>\n",
       "      <td>-35.241188</td>\n",
       "    </tr>\n",
       "  </tbody>\n",
       "</table>\n",
       "</div>\n",
       "    <div class=\"colab-df-buttons\">\n",
       "\n",
       "  <div class=\"colab-df-container\">\n",
       "    <button class=\"colab-df-convert\" onclick=\"convertToInteractive('df-f37371ef-ba55-4485-8396-387eee7c9e85')\"\n",
       "            title=\"Convert this dataframe to an interactive table.\"\n",
       "            style=\"display:none;\">\n",
       "\n",
       "  <svg xmlns=\"http://www.w3.org/2000/svg\" height=\"24px\" viewBox=\"0 -960 960 960\">\n",
       "    <path d=\"M120-120v-720h720v720H120Zm60-500h600v-160H180v160Zm220 220h160v-160H400v160Zm0 220h160v-160H400v160ZM180-400h160v-160H180v160Zm440 0h160v-160H620v160ZM180-180h160v-160H180v160Zm440 0h160v-160H620v160Z\"/>\n",
       "  </svg>\n",
       "    </button>\n",
       "\n",
       "  <style>\n",
       "    .colab-df-container {\n",
       "      display:flex;\n",
       "      gap: 12px;\n",
       "    }\n",
       "\n",
       "    .colab-df-convert {\n",
       "      background-color: #E8F0FE;\n",
       "      border: none;\n",
       "      border-radius: 50%;\n",
       "      cursor: pointer;\n",
       "      display: none;\n",
       "      fill: #1967D2;\n",
       "      height: 32px;\n",
       "      padding: 0 0 0 0;\n",
       "      width: 32px;\n",
       "    }\n",
       "\n",
       "    .colab-df-convert:hover {\n",
       "      background-color: #E2EBFA;\n",
       "      box-shadow: 0px 1px 2px rgba(60, 64, 67, 0.3), 0px 1px 3px 1px rgba(60, 64, 67, 0.15);\n",
       "      fill: #174EA6;\n",
       "    }\n",
       "\n",
       "    .colab-df-buttons div {\n",
       "      margin-bottom: 4px;\n",
       "    }\n",
       "\n",
       "    [theme=dark] .colab-df-convert {\n",
       "      background-color: #3B4455;\n",
       "      fill: #D2E3FC;\n",
       "    }\n",
       "\n",
       "    [theme=dark] .colab-df-convert:hover {\n",
       "      background-color: #434B5C;\n",
       "      box-shadow: 0px 1px 3px 1px rgba(0, 0, 0, 0.15);\n",
       "      filter: drop-shadow(0px 1px 2px rgba(0, 0, 0, 0.3));\n",
       "      fill: #FFFFFF;\n",
       "    }\n",
       "  </style>\n",
       "\n",
       "    <script>\n",
       "      const buttonEl =\n",
       "        document.querySelector('#df-f37371ef-ba55-4485-8396-387eee7c9e85 button.colab-df-convert');\n",
       "      buttonEl.style.display =\n",
       "        google.colab.kernel.accessAllowed ? 'block' : 'none';\n",
       "\n",
       "      async function convertToInteractive(key) {\n",
       "        const element = document.querySelector('#df-f37371ef-ba55-4485-8396-387eee7c9e85');\n",
       "        const dataTable =\n",
       "          await google.colab.kernel.invokeFunction('convertToInteractive',\n",
       "                                                    [key], {});\n",
       "        if (!dataTable) return;\n",
       "\n",
       "        const docLinkHtml = 'Like what you see? Visit the ' +\n",
       "          '<a target=\"_blank\" href=https://colab.research.google.com/notebooks/data_table.ipynb>data table notebook</a>'\n",
       "          + ' to learn more about interactive tables.';\n",
       "        element.innerHTML = '';\n",
       "        dataTable['output_type'] = 'display_data';\n",
       "        await google.colab.output.renderOutput(dataTable, element);\n",
       "        const docLink = document.createElement('div');\n",
       "        docLink.innerHTML = docLinkHtml;\n",
       "        element.appendChild(docLink);\n",
       "      }\n",
       "    </script>\n",
       "  </div>\n",
       "\n",
       "\n",
       "<div id=\"df-e5279e7e-da2d-46e6-971a-b52265fb0bfa\">\n",
       "  <button class=\"colab-df-quickchart\" onclick=\"quickchart('df-e5279e7e-da2d-46e6-971a-b52265fb0bfa')\"\n",
       "            title=\"Suggest charts.\"\n",
       "            style=\"display:none;\">\n",
       "\n",
       "<svg xmlns=\"http://www.w3.org/2000/svg\" height=\"24px\"viewBox=\"0 0 24 24\"\n",
       "     width=\"24px\">\n",
       "    <g>\n",
       "        <path d=\"M19 3H5c-1.1 0-2 .9-2 2v14c0 1.1.9 2 2 2h14c1.1 0 2-.9 2-2V5c0-1.1-.9-2-2-2zM9 17H7v-7h2v7zm4 0h-2V7h2v10zm4 0h-2v-4h2v4z\"/>\n",
       "    </g>\n",
       "</svg>\n",
       "  </button>\n",
       "\n",
       "<style>\n",
       "  .colab-df-quickchart {\n",
       "      --bg-color: #E8F0FE;\n",
       "      --fill-color: #1967D2;\n",
       "      --hover-bg-color: #E2EBFA;\n",
       "      --hover-fill-color: #174EA6;\n",
       "      --disabled-fill-color: #AAA;\n",
       "      --disabled-bg-color: #DDD;\n",
       "  }\n",
       "\n",
       "  [theme=dark] .colab-df-quickchart {\n",
       "      --bg-color: #3B4455;\n",
       "      --fill-color: #D2E3FC;\n",
       "      --hover-bg-color: #434B5C;\n",
       "      --hover-fill-color: #FFFFFF;\n",
       "      --disabled-bg-color: #3B4455;\n",
       "      --disabled-fill-color: #666;\n",
       "  }\n",
       "\n",
       "  .colab-df-quickchart {\n",
       "    background-color: var(--bg-color);\n",
       "    border: none;\n",
       "    border-radius: 50%;\n",
       "    cursor: pointer;\n",
       "    display: none;\n",
       "    fill: var(--fill-color);\n",
       "    height: 32px;\n",
       "    padding: 0;\n",
       "    width: 32px;\n",
       "  }\n",
       "\n",
       "  .colab-df-quickchart:hover {\n",
       "    background-color: var(--hover-bg-color);\n",
       "    box-shadow: 0 1px 2px rgba(60, 64, 67, 0.3), 0 1px 3px 1px rgba(60, 64, 67, 0.15);\n",
       "    fill: var(--button-hover-fill-color);\n",
       "  }\n",
       "\n",
       "  .colab-df-quickchart-complete:disabled,\n",
       "  .colab-df-quickchart-complete:disabled:hover {\n",
       "    background-color: var(--disabled-bg-color);\n",
       "    fill: var(--disabled-fill-color);\n",
       "    box-shadow: none;\n",
       "  }\n",
       "\n",
       "  .colab-df-spinner {\n",
       "    border: 2px solid var(--fill-color);\n",
       "    border-color: transparent;\n",
       "    border-bottom-color: var(--fill-color);\n",
       "    animation:\n",
       "      spin 1s steps(1) infinite;\n",
       "  }\n",
       "\n",
       "  @keyframes spin {\n",
       "    0% {\n",
       "      border-color: transparent;\n",
       "      border-bottom-color: var(--fill-color);\n",
       "      border-left-color: var(--fill-color);\n",
       "    }\n",
       "    20% {\n",
       "      border-color: transparent;\n",
       "      border-left-color: var(--fill-color);\n",
       "      border-top-color: var(--fill-color);\n",
       "    }\n",
       "    30% {\n",
       "      border-color: transparent;\n",
       "      border-left-color: var(--fill-color);\n",
       "      border-top-color: var(--fill-color);\n",
       "      border-right-color: var(--fill-color);\n",
       "    }\n",
       "    40% {\n",
       "      border-color: transparent;\n",
       "      border-right-color: var(--fill-color);\n",
       "      border-top-color: var(--fill-color);\n",
       "    }\n",
       "    60% {\n",
       "      border-color: transparent;\n",
       "      border-right-color: var(--fill-color);\n",
       "    }\n",
       "    80% {\n",
       "      border-color: transparent;\n",
       "      border-right-color: var(--fill-color);\n",
       "      border-bottom-color: var(--fill-color);\n",
       "    }\n",
       "    90% {\n",
       "      border-color: transparent;\n",
       "      border-bottom-color: var(--fill-color);\n",
       "    }\n",
       "  }\n",
       "</style>\n",
       "\n",
       "  <script>\n",
       "    async function quickchart(key) {\n",
       "      const quickchartButtonEl =\n",
       "        document.querySelector('#' + key + ' button');\n",
       "      quickchartButtonEl.disabled = true;  // To prevent multiple clicks.\n",
       "      quickchartButtonEl.classList.add('colab-df-spinner');\n",
       "      try {\n",
       "        const charts = await google.colab.kernel.invokeFunction(\n",
       "            'suggestCharts', [key], {});\n",
       "      } catch (error) {\n",
       "        console.error('Error during call to suggestCharts:', error);\n",
       "      }\n",
       "      quickchartButtonEl.classList.remove('colab-df-spinner');\n",
       "      quickchartButtonEl.classList.add('colab-df-quickchart-complete');\n",
       "    }\n",
       "    (() => {\n",
       "      let quickchartButtonEl =\n",
       "        document.querySelector('#df-e5279e7e-da2d-46e6-971a-b52265fb0bfa button');\n",
       "      quickchartButtonEl.style.display =\n",
       "        google.colab.kernel.accessAllowed ? 'block' : 'none';\n",
       "    })();\n",
       "  </script>\n",
       "</div>\n",
       "    </div>\n",
       "  </div>\n"
      ],
      "text/plain": [
       "            Model  Accuracy       Loss\n",
       "0      Base Model  0.527778  -1.528808\n",
       "1              L1  0.583333   1.036312\n",
       "2              L2  0.638889  -0.734138\n",
       "3         Dropout  0.388889   2.392716\n",
       "4  Early Stopping  0.527778 -35.241188"
      ]
     },
     "execution_count": 94,
     "metadata": {},
     "output_type": "execute_result"
    }
   ],
   "source": [
    "output.head()"
   ]
  },
  {
   "cell_type": "markdown",
   "metadata": {
    "id": "13P2Oen-1JPK"
   },
   "source": [
    "### Linear Regression"
   ]
  },
  {
   "cell_type": "code",
   "execution_count": null,
   "metadata": {
    "id": "aD7DwpA51I6k"
   },
   "outputs": [],
   "source": [
    "import torch\n",
    "import numpy as np\n",
    "import matplotlib.pyplot as plt"
   ]
  },
  {
   "cell_type": "code",
   "execution_count": null,
   "metadata": {
    "id": "gQ6tIfRt1PHB"
   },
   "outputs": [],
   "source": [
    "x = torch.arange(-5,5,0.2).view(-1,1)\n",
    "y = x*0.69 + torch.rand(x.size())"
   ]
  },
  {
   "cell_type": "code",
   "execution_count": null,
   "metadata": {
    "id": "-uXmQQEP1UBx"
   },
   "outputs": [],
   "source": [
    "# Initialize Weights\n",
    "w = torch.randn(1, requires_grad = True)\n",
    "b = torch.randn(1, requires_grad = True)"
   ]
  },
  {
   "cell_type": "code",
   "execution_count": null,
   "metadata": {
    "id": "7ROpDmqoqE4M"
   },
   "outputs": [],
   "source": [
    "# Training Loop\n",
    "def predict():\n",
    "  return (x*w + b)\n",
    "def calc_loss(y_pred):\n",
    "  return (((y - y_pred)** 2).sum() / 2*x.size()[0])\n",
    "def train(epoch = 10000, lr = 0.0000001):\n",
    "  global w, b\n",
    "  for _ in range(epoch):\n",
    "  # Predicition\n",
    "  y_pred = predict()\n",
    "  # Loss\n",
    "  loss = calc_loss(y_pred)\n",
    "  # Calculate Grad\n",
    "  loss.backward()\n",
    "  with torch.no_grad():\n",
    "  w -= w.grad * lr\n",
    "  b -= b.grad * lr\n",
    "  w.grad.zero_()\n",
    "  b.grad.zero_()\n",
    "train()\n",
    "print(\"Loss :\", calc_loss(predict()))\n",
    "plt.scatter(x, y)\n",
    "plt.plot(x.detach().numpy(), predict().detach().numpy(), c=\"red\")\n",
    "plt.legend([\"Ground Truth\", \"Predict\"][::-1])\n",
    "plt.show()"
   ]
  },
  {
   "cell_type": "markdown",
   "metadata": {
    "id": "eWQEJZCVqboa"
   },
   "source": [
    "# 5. CNN Ablation Studies"
   ]
  },
  {
   "cell_type": "markdown",
   "metadata": {
    "id": "rwqTCin5qh4-"
   },
   "source": [
    "# 6. CNN vs ANN MNIST"
   ]
  },
  {
   "cell_type": "code",
   "execution_count": null,
   "metadata": {
    "id": "4y5EZSsnNEYO"
   },
   "outputs": [],
   "source": [
    "import pandas as pd\n",
    "import numpy as np\n",
    "import tensorflow as tf\n",
    "import keras\n",
    "from tensorflow.keras.models import Sequential\n",
    "from tensorflow.keras.layers import Dense, Conv2D, MaxPooling2D, Flatten\n",
    "from sklearn.preprocessing import MinMaxScaler"
   ]
  },
  {
   "cell_type": "code",
   "execution_count": null,
   "metadata": {
    "id": "xNnxFrR5NJwm"
   },
   "outputs": [],
   "source": [
    "data = tensorflow.keras.datasets.mnist"
   ]
  },
  {
   "cell_type": "code",
   "execution_count": null,
   "metadata": {
    "colab": {
     "base_uri": "https://localhost:8080/"
    },
    "id": "qrNhYqxFNY6y",
    "outputId": "aa33ce29-1e88-4e4c-8f15-b906dceda538"
   },
   "outputs": [
    {
     "name": "stdout",
     "output_type": "stream",
     "text": [
      "(60000, 28, 28) (60000,) (10000, 28, 28) (10000,)\n"
     ]
    }
   ],
   "source": [
    "(x_train, y_train), (x_test, y_test) = data.load_data()\n",
    "print(x_train.shape, y_train.shape, x_test.shape, y_test.shape)"
   ]
  },
  {
   "cell_type": "code",
   "execution_count": null,
   "metadata": {
    "id": "3Re6aZS6NdAf"
   },
   "outputs": [],
   "source": [
    "x_train = x_train.reshape(60000, 784)\n",
    "x_test = x_test.reshape(10000, 784)"
   ]
  },
  {
   "cell_type": "code",
   "execution_count": null,
   "metadata": {
    "id": "ExPmuEbJNwnC"
   },
   "outputs": [],
   "source": [
    "scaler = MinMaxScaler()\n",
    "x_train = scaler.fit_transform(x_train)\n",
    "x_test = scaler.transform(x_test)"
   ]
  },
  {
   "cell_type": "code",
   "execution_count": null,
   "metadata": {
    "colab": {
     "base_uri": "https://localhost:8080/"
    },
    "id": "zpqJFmS_N2cF",
    "outputId": "0a4a1ee5-d39c-4af0-8f6c-b31b007f77af"
   },
   "outputs": [
    {
     "name": "stdout",
     "output_type": "stream",
     "text": [
      "Model: \"sequential_6\"\n",
      "_________________________________________________________________\n",
      " Layer (type)                Output Shape              Param #   \n",
      "=================================================================\n",
      " dense_16 (Dense)            (None, 128)               100480    \n",
      "                                                                 \n",
      " dense_17 (Dense)            (None, 64)                8256      \n",
      "                                                                 \n",
      " dense_18 (Dense)            (None, 32)                2080      \n",
      "                                                                 \n",
      " dense_19 (Dense)            (None, 10)                330       \n",
      "                                                                 \n",
      "=================================================================\n",
      "Total params: 111146 (434.16 KB)\n",
      "Trainable params: 111146 (434.16 KB)\n",
      "Non-trainable params: 0 (0.00 Byte)\n",
      "_________________________________________________________________\n"
     ]
    }
   ],
   "source": [
    "model = Sequential()\n",
    "model.add(Dense(128, activation='relu', input_shape = (784,)))\n",
    "model.add(Dense(64, activation='relu'))\n",
    "model.add(Dense(32, activation='relu'))\n",
    "model.add(Dense(10, activation='softmax'))\n",
    "\n",
    "model.compile(optimizer='adam', loss='sparse_categorical_crossentropy',\n",
    "metrics=['accuracy'])\n",
    "model.summary()"
   ]
  },
  {
   "cell_type": "code",
   "execution_count": null,
   "metadata": {
    "colab": {
     "base_uri": "https://localhost:8080/"
    },
    "id": "pK4z6vVjOCSO",
    "outputId": "3b6e9ca3-df9d-415e-c304-3ed53c39e366"
   },
   "outputs": [
    {
     "name": "stdout",
     "output_type": "stream",
     "text": [
      "Accuracy :  0.9786999821662903\n"
     ]
    }
   ],
   "source": [
    "model_history = model.fit(x_train, y_train, epochs=10, verbose=0)\n",
    "print(\"Accuracy : \", model.evaluate(x_test, y_test, verbose=0)[1])"
   ]
  },
  {
   "cell_type": "code",
   "execution_count": null,
   "metadata": {
    "id": "v5BCcaWyOHxI"
   },
   "outputs": [],
   "source": [
    "data = keras.datasets.mnist\n",
    "(x_train, y_train), (x_test, y_test) = data.load_data()\n",
    "print(x_train.shape, y_train.shape, x_test.shape, y_test.shape)"
   ]
  },
  {
   "cell_type": "code",
   "execution_count": null,
   "metadata": {
    "id": "gn7xOwpnOMc3"
   },
   "outputs": [],
   "source": [
    "model = Sequential()\n",
    "model.add(Conv2D(32, kernel_size=(5, 5), activation='relu', input_shape=(28, 28,\n",
    "1)))\n",
    "model.add(MaxPooling2D((2, 2)))\n",
    "model.add(Conv2D(64, kernel_size=(3, 3), activation='relu'))\n",
    "model.add(MaxPooling2D((2, 2)))\n",
    "model.add(Flatten())\n",
    "model.add(Dense(128, activation='relu'))\n",
    "model.add(Dense(10, activation='softmax'))\n",
    "\n",
    "model.compile(optimizer='adam', loss='sparse_categorical_crossentropy',\n",
    "metrics=['accuracy'])\n",
    "\n",
    "model.summary()"
   ]
  },
  {
   "cell_type": "code",
   "execution_count": null,
   "metadata": {
    "id": "VJ3oubKZqjc9"
   },
   "outputs": [],
   "source": [
    "model_history = model.fit(x_train, y_train, epochs=10, verbose=0, batch_size=512)\n",
    "print(\"Accuracy : \", model.evaluate(x_test, y_test, verbose=0)[1])"
   ]
  },
  {
   "cell_type": "markdown",
   "metadata": {
    "id": "KH3yIx9Duk6D"
   },
   "source": [
    "# 7. Sentiment Analysis using RNN"
   ]
  },
  {
   "cell_type": "code",
   "execution_count": null,
   "metadata": {
    "colab": {
     "base_uri": "https://localhost:8080/"
    },
    "id": "7pHcKHaZukk1",
    "outputId": "479df666-fa6f-436d-cb91-e1b052446806"
   },
   "outputs": [
    {
     "name": "stdout",
     "output_type": "stream",
     "text": [
      "Downloading data from https://storage.googleapis.com/tensorflow/tf-keras-datasets/imdb.npz\n",
      "17464789/17464789 [==============================] - 0s 0us/step\n"
     ]
    }
   ],
   "source": [
    "import numpy as np\n",
    "import pandas as pd\n",
    "import tensorflow as tf\n",
    "import keras\n",
    "from keras import datasets\n",
    "\n",
    "(x_train, y_train),(x_test, y_test) = datasets.imdb.load_data(num_words = 10000)"
   ]
  },
  {
   "cell_type": "code",
   "execution_count": null,
   "metadata": {
    "colab": {
     "base_uri": "https://localhost:8080/"
    },
    "id": "gEPVEiEUukh_",
    "outputId": "39c21323-a436-432d-cef6-108a012030ad"
   },
   "outputs": [
    {
     "name": "stdout",
     "output_type": "stream",
     "text": [
      "Shape\n",
      "Train X :  (25000,)\n",
      "Train Y :  (25000,)\n",
      "Test X :  (25000,)\n",
      "Test Y :  (25000,)\n"
     ]
    }
   ],
   "source": [
    "print(\"Shape\")\n",
    "print(\"Train X : \",x_train.shape)\n",
    "print(\"Train Y : \",y_train.shape)\n",
    "print(\"Test X : \",x_test.shape)\n",
    "print(\"Test Y : \",y_test.shape)"
   ]
  },
  {
   "cell_type": "code",
   "execution_count": null,
   "metadata": {
    "colab": {
     "base_uri": "https://localhost:8080/"
    },
    "id": "p_4BFii9uked",
    "outputId": "784397b0-1cbe-4fb9-8460-f8e62b3f06f5"
   },
   "outputs": [
    {
     "name": "stdout",
     "output_type": "stream",
     "text": [
      "Maximum value of word index :  9999\n",
      "Maximum length of word :  2494\n"
     ]
    }
   ],
   "source": [
    "print(\"Maximum value of word index : \", max([max(i) for i in x_train]))\n",
    "print(\"Maximum length of word : \",max([len(i) for i in x_train]))"
   ]
  },
  {
   "cell_type": "code",
   "execution_count": null,
   "metadata": {
    "id": "39QK7PPpvIYM"
   },
   "outputs": [],
   "source": [
    "from keras.preprocessing.sequence import pad_sequences\n",
    "from keras.models import Sequential\n",
    "from keras.layers import Embedding, SimpleRNN, Dense, Activation"
   ]
  },
  {
   "cell_type": "code",
   "execution_count": null,
   "metadata": {
    "id": "8Ue9VBkbvIUf"
   },
   "outputs": [],
   "source": [
    "x_train = pad_sequences(x_train, maxlen = 269)\n",
    "x_test = pad_sequences(x_test, maxlen = 269)\n"
   ]
  },
  {
   "cell_type": "code",
   "execution_count": null,
   "metadata": {
    "colab": {
     "base_uri": "https://localhost:8080/"
    },
    "id": "jMv9ONJXwfDo",
    "outputId": "b81c1e27-1cbc-42f7-c8ae-2300409d8c25"
   },
   "outputs": [
    {
     "name": "stdout",
     "output_type": "stream",
     "text": [
      "Model: \"sequential\"\n",
      "_________________________________________________________________\n",
      " Layer (type)                Output Shape              Param #   \n",
      "=================================================================\n",
      " embedding (Embedding)       (None, 269, 32)           320000    \n",
      "                                                                 \n",
      " simple_rnn (SimpleRNN)      (None, 16)                784       \n",
      "                                                                 \n",
      " dense (Dense)               (None, 1)                 17        \n",
      "                                                                 \n",
      " activation (Activation)     (None, 1)                 0         \n",
      "                                                                 \n",
      "=================================================================\n",
      "Total params: 320801 (1.22 MB)\n",
      "Trainable params: 320801 (1.22 MB)\n",
      "Non-trainable params: 0 (0.00 Byte)\n",
      "_________________________________________________________________\n",
      "None\n"
     ]
    }
   ],
   "source": [
    "rnn = Sequential([\n",
    "    Embedding(10000, 32, input_length = 269),\n",
    "    SimpleRNN(16, activation = 'relu'),\n",
    "    Dense(1),\n",
    "    Activation(\"sigmoid\")\n",
    "])\n",
    "\n",
    "print(rnn.summary())"
   ]
  },
  {
   "cell_type": "code",
   "execution_count": null,
   "metadata": {
    "id": "xMJ6NPwEwe8P"
   },
   "outputs": [],
   "source": [
    "rnn.compile(loss = 'binary_crossentropy',\n",
    "            optimizer = 'rmsprop',\n",
    "            metrics = ['accuracy'])\n"
   ]
  },
  {
   "cell_type": "code",
   "execution_count": null,
   "metadata": {
    "colab": {
     "base_uri": "https://localhost:8080/"
    },
    "id": "e1Gs-79ixM6t",
    "outputId": "59ca11f7-568e-4a54-daf8-8fb0209eeb20"
   },
   "outputs": [
    {
     "name": "stdout",
     "output_type": "stream",
     "text": [
      "Epoch 1/10\n",
      "196/196 [==============================] - 15s 67ms/step - loss: 0.6121 - accuracy: 0.6977\n",
      "Epoch 2/10\n",
      "196/196 [==============================] - 22s 114ms/step - loss: 0.4322 - accuracy: 0.8276\n",
      "Epoch 3/10\n",
      "196/196 [==============================] - 15s 79ms/step - loss: 0.3204 - accuracy: 0.8704\n",
      "Epoch 4/10\n",
      "196/196 [==============================] - 20s 102ms/step - loss: 0.2636 - accuracy: 0.8962\n",
      "Epoch 5/10\n",
      "196/196 [==============================] - 13s 66ms/step - loss: 0.2353 - accuracy: 0.9083\n",
      "Epoch 6/10\n",
      "196/196 [==============================] - 13s 66ms/step - loss: 0.2121 - accuracy: 0.9201\n",
      "Epoch 7/10\n",
      "196/196 [==============================] - 13s 67ms/step - loss: 0.1912 - accuracy: 0.9281\n",
      "Epoch 8/10\n",
      "196/196 [==============================] - 18s 90ms/step - loss: 0.1827 - accuracy: 0.9368\n",
      "Epoch 9/10\n",
      "196/196 [==============================] - 21s 105ms/step - loss: 0.1618 - accuracy: 0.9415\n",
      "Epoch 10/10\n",
      "196/196 [==============================] - 23s 119ms/step - loss: 0.1549 - accuracy: 0.9439\n"
     ]
    }
   ],
   "source": [
    "history = rnn.fit(x_train, y_train, epochs = 10, batch_size = 128, verbose = 1)"
   ]
  },
  {
   "cell_type": "code",
   "execution_count": null,
   "metadata": {
    "colab": {
     "base_uri": "https://localhost:8080/"
    },
    "id": "wqhnoXdpxVqK",
    "outputId": "a8379805-f19f-4c99-ee24-962d54f9c51d"
   },
   "outputs": [
    {
     "name": "stdout",
     "output_type": "stream",
     "text": [
      "Accuracy :  87.40000128746033\n"
     ]
    }
   ],
   "source": [
    "score = rnn.evaluate(x_test, y_test, verbose = 0)\n",
    "\n",
    "print(\"Accuracy : \", score[1]*100)"
   ]
  },
  {
   "cell_type": "markdown",
   "metadata": {
    "id": "XwqhWczcxpaS"
   },
   "source": [
    "# 8. Text Generation Using GRU\n",
    "We are trying to implement character level text generation.\\\n",
    "We feed the network a mapping of each characte present in the text to a unique number (*char_to_indices*)\n"
   ]
  },
  {
   "cell_type": "code",
   "execution_count": null,
   "metadata": {
    "id": "NXHJnTUlFJN6"
   },
   "outputs": [],
   "source": [
    "poem = \"\"\"\n",
    "Buffalo Bill’s\n",
    "defunct\n",
    "who used to\n",
    "ride a watersmooth-silver\n",
    "stallion\n",
    "and break one two three four five pigeons just like that\n",
    "Jesus\n",
    "\n",
    "he was a handsome man\n",
    "and what i want to know is\n",
    "how do you like your blueeyed boy\n",
    "Mister Death\n",
    "\n",
    "Had I the heaven’s embroidered cloths,\n",
    "Enwrought with golden and silver light,\n",
    "The blue and the dim and the dark cloths\n",
    "Of night and light and the half-light,\n",
    "I would spread the cloths under your feet:\n",
    "But I, being poor, have only my dreams;\n",
    "I have spread my dreams under your feet;\n",
    "Tread softly because you tread on my dreams.\n",
    "\n",
    "He clasps the crag with crooked hands;\n",
    "Close to the sun in lonely lands,\n",
    "Ring’d with the azure world, he stands.\n",
    "\n",
    "The wrinkled sea beneath him crawls;\n",
    "He watches from his mountain walls,\n",
    "And like a thunderbolt he falls.\n",
    "\n",
    "Some say the world will end in fire,\n",
    "Some say in ice.\n",
    "From what I’ve tasted of desire\n",
    "I hold with those who favor fire.\n",
    "But if it had to perish twice,\n",
    "I think I know enough of hate\n",
    "To say that for destruction ice\n",
    "Is also great\n",
    "And would suffice.\n",
    "\n",
    "Two roads diverged in a yellow wood,\n",
    "And sorry I could not travel both\n",
    "And be one traveler, long I stood\n",
    "And looked down one as far as I could\n",
    "To where it bent in the undergrowth;\n",
    "\n",
    "Then took the other, as just as fair,\n",
    "And having perhaps the better claim,\n",
    "Because it was grassy and wanted wear;\n",
    "Though as for that the passing there\n",
    "Had worn them really about the same,\n",
    "\n",
    "And both that morning equally lay\n",
    "In leaves no step had trodden black.\n",
    "Oh, I kept the first for another day!\n",
    "Yet knowing how way leads on to way,\n",
    "I doubted if I should ever come back.\n",
    "\n",
    "I shall be telling this with a sigh\n",
    "Somewhere ages and ages hence:\n",
    "Two roads diverged in a wood, and I—\n",
    "I took the one less traveled by,\n",
    "And that has made all the difference.\"\"\""
   ]
  },
  {
   "cell_type": "code",
   "execution_count": null,
   "metadata": {
    "id": "zzP2bECNxtZd"
   },
   "outputs": [],
   "source": [
    "import numpy as np\n",
    "import tensorflow as tf\n",
    "\n",
    "from keras.models import Sequential\n",
    "from keras.layers import Dense, Activation, LSTM, GRU\n",
    "\n",
    "from keras.optimizers import RMSprop\n",
    "from keras.callbacks import LambdaCallback, ModelCheckpoint, ReduceLROnPlateau\n",
    "\n",
    "import random\n",
    "import sys"
   ]
  },
  {
   "cell_type": "markdown",
   "metadata": {
    "id": "cE7tMwcQFUaT"
   },
   "source": [
    "#### To read poem.txt"
   ]
  },
  {
   "cell_type": "code",
   "execution_count": null,
   "metadata": {
    "id": "ORbmyrLGxtWw"
   },
   "outputs": [],
   "source": [
    "with open('poems.txt', 'r') as file :\n",
    "  text = file.read()\n",
    "\n",
    "print(text)"
   ]
  },
  {
   "cell_type": "code",
   "execution_count": null,
   "metadata": {
    "id": "IWhU6QPMFQtD"
   },
   "outputs": [],
   "source": [
    "text = poem"
   ]
  },
  {
   "cell_type": "markdown",
   "metadata": {
    "id": "IwexZMvlFixq"
   },
   "source": [
    "To find all the characters that exists in the poem. Exactly like a dictionary. Sorted"
   ]
  },
  {
   "cell_type": "code",
   "execution_count": null,
   "metadata": {
    "id": "hO1NRKtjxtPL"
   },
   "outputs": [],
   "source": [
    "vocabulary = sorted(list(set(text)))"
   ]
  },
  {
   "cell_type": "code",
   "execution_count": null,
   "metadata": {
    "colab": {
     "base_uri": "https://localhost:8080/"
    },
    "id": "TNB16r7pFay6",
    "outputId": "147cb406-0b7f-4e6d-b48e-cf5d09ef84fa"
   },
   "outputs": [
    {
     "name": "stdout",
     "output_type": "stream",
     "text": [
      "['\\n', ' ', '!', ',', '-', '.', ':', ';', 'A', 'B', 'C', 'D', 'E', 'F', 'H', 'I', 'J', 'M', 'O', 'R', 'S', 'T', 'Y', 'a', 'b', 'c', 'd', 'e', 'f', 'g', 'h', 'i', 'j', 'k', 'l', 'm', 'n', 'o', 'p', 'q', 'r', 's', 't', 'u', 'v', 'w', 'y', 'z', '—', '’']\n"
     ]
    }
   ],
   "source": [
    "print(vocabulary)"
   ]
  },
  {
   "cell_type": "markdown",
   "metadata": {
    "id": "2QORqNdhFsej"
   },
   "source": [
    "Maps each character in the vocabulary to unique index."
   ]
  },
  {
   "cell_type": "code",
   "execution_count": null,
   "metadata": {
    "id": "lbLyiVQrFobh"
   },
   "outputs": [],
   "source": [
    "char_to_indices = dict((c,i) for i,c in enumerate(vocabulary))"
   ]
  },
  {
   "cell_type": "code",
   "execution_count": null,
   "metadata": {
    "colab": {
     "base_uri": "https://localhost:8080/"
    },
    "id": "VTGiDRptFpAS",
    "outputId": "14eb4112-1893-4c79-ba41-0411c8677ca4"
   },
   "outputs": [
    {
     "name": "stdout",
     "output_type": "stream",
     "text": [
      "{'\\n': 0, ' ': 1, '!': 2, ',': 3, '-': 4, '.': 5, ':': 6, ';': 7, 'A': 8, 'B': 9, 'C': 10, 'D': 11, 'E': 12, 'F': 13, 'H': 14, 'I': 15, 'J': 16, 'M': 17, 'O': 18, 'R': 19, 'S': 20, 'T': 21, 'Y': 22, 'a': 23, 'b': 24, 'c': 25, 'd': 26, 'e': 27, 'f': 28, 'g': 29, 'h': 30, 'i': 31, 'j': 32, 'k': 33, 'l': 34, 'm': 35, 'n': 36, 'o': 37, 'p': 38, 'q': 39, 'r': 40, 's': 41, 't': 42, 'u': 43, 'v': 44, 'w': 45, 'y': 46, 'z': 47, '—': 48, '’': 49}\n"
     ]
    }
   ],
   "source": [
    "print(char_to_indices)"
   ]
  },
  {
   "cell_type": "markdown",
   "metadata": {
    "id": "RmwmR4T1F07q"
   },
   "source": [
    "Each index is mapped to a charcter."
   ]
  },
  {
   "cell_type": "code",
   "execution_count": null,
   "metadata": {
    "id": "48-FAh1YxtMT"
   },
   "outputs": [],
   "source": [
    "indices_to_char = dict((i,c) for i,c in enumerate(vocabulary))"
   ]
  },
  {
   "cell_type": "code",
   "execution_count": null,
   "metadata": {
    "colab": {
     "base_uri": "https://localhost:8080/"
    },
    "id": "Y7OeNOji_pK8",
    "outputId": "5771c7c7-e750-4cf6-f8ff-74f83e2734a2"
   },
   "outputs": [
    {
     "name": "stdout",
     "output_type": "stream",
     "text": [
      "{0: '\\n', 1: ' ', 2: '!', 3: ',', 4: '-', 5: '.', 6: ':', 7: ';', 8: 'A', 9: 'B', 10: 'C', 11: 'D', 12: 'E', 13: 'F', 14: 'H', 15: 'I', 16: 'J', 17: 'M', 18: 'O', 19: 'R', 20: 'S', 21: 'T', 22: 'Y', 23: 'a', 24: 'b', 25: 'c', 26: 'd', 27: 'e', 28: 'f', 29: 'g', 30: 'h', 31: 'i', 32: 'j', 33: 'k', 34: 'l', 35: 'm', 36: 'n', 37: 'o', 38: 'p', 39: 'q', 40: 'r', 41: 's', 42: 't', 43: 'u', 44: 'v', 45: 'w', 46: 'y', 47: 'z', 48: '—', 49: '’'}\n"
     ]
    }
   ],
   "source": [
    "print(indices_to_char)"
   ]
  },
  {
   "cell_type": "markdown",
   "metadata": {
    "id": "YVzSGIwkGmyn"
   },
   "source": [
    "steps = 3\\\n",
    "text = \"Chennai is a city\"\\\n",
    "say, max_length = 4\\\n",
    "len(text) = 17\n",
    "\n",
    "\n",
    "---\n",
    "\n",
    "\n",
    "0 to 12\\\n",
    "iteration1 i = 0\\\n",
    "sentences = \"chen\"\\\n",
    "next_char = \"n\"\\\n",
    "\n",
    "\n",
    "---\n",
    "\n",
    "\n",
    "iteration2 i = 3\\\n",
    "sentences = \"nnai\"\\\n",
    "next_char = \" \"\\\n",
    "\n",
    "\n",
    "---\n",
    "\n",
    "\n",
    "iteration3 i = 6\\\n",
    "sentences = \"i is\"\\\n",
    "next_char = \" \"\\\n",
    "\n",
    "\n",
    "---\n",
    "\n",
    "\n",
    "iteration4 i = 9\\\n",
    "sentences = \"s a \"\\\n",
    "next_char = \"c\""
   ]
  },
  {
   "cell_type": "code",
   "execution_count": null,
   "metadata": {
    "id": "mXkfmWY-_pDI"
   },
   "outputs": [],
   "source": [
    "# the maximum length of the text we would like to have as input\n",
    "# so that we can feed 100 characters to the model everytime to\n",
    "# generate a new character\n",
    "max_length = 100\n",
    "\n",
    "# steps indicate the no. of stepd we are taking at a time.\n",
    "# example above.\n",
    "steps = 5\n",
    "\n",
    "# to map the sentenecs (not exactly)\n",
    "# but the chars we found by sliding the window\n",
    "sentences = []\n",
    "next_chars = []\n",
    "\n",
    "for i in range(0, len(text) - max_length, steps):\n",
    "  sentences.append(text[i: i + max_length])\n",
    "  next_chars.append(text[i + max_length])"
   ]
  },
  {
   "cell_type": "code",
   "execution_count": null,
   "metadata": {
    "colab": {
     "base_uri": "https://localhost:8080/",
     "height": 36
    },
    "id": "-GavHRTIK7Od",
    "outputId": "3ea30d46-2f93-4018-eb65-4098aceaba31"
   },
   "outputs": [
    {
     "data": {
      "application/vnd.google.colaboratory.intrinsic+json": {
       "type": "string"
      },
      "text/plain": [
       "'\\nBuffalo Bill’s\\ndefunct\\nwho used to\\nride a watersmooth-silver\\nstallion\\nand break one two three four '"
      ]
     },
     "execution_count": 13,
     "metadata": {},
     "output_type": "execute_result"
    }
   ],
   "source": [
    "sentences[0]"
   ]
  },
  {
   "cell_type": "code",
   "execution_count": null,
   "metadata": {
    "colab": {
     "base_uri": "https://localhost:8080/",
     "height": 36
    },
    "id": "F2kzv6AsK-ID",
    "outputId": "953d597e-2391-4afd-b373-1dbb66d57988"
   },
   "outputs": [
    {
     "data": {
      "application/vnd.google.colaboratory.intrinsic+json": {
       "type": "string"
      },
      "text/plain": [
       "'f'"
      ]
     },
     "execution_count": 14,
     "metadata": {},
     "output_type": "execute_result"
    }
   ],
   "source": [
    "next_chars[0]"
   ]
  },
  {
   "cell_type": "markdown",
   "metadata": {
    "id": "XrX1Q9yrIprq"
   },
   "source": [
    "for every sentence, we are trying to map the index of the character in the sentence(X) and also the next_character for the corresponding sentence(Y).\\\n",
    "Usng X, we first initilaise it to the dimensions of\n",
    "- len(sentences)\n",
    "- max_length\n",
    "- len(vocabulary)\n",
    "Using Y, we first initialise it to dimensions of\n",
    "- len(sentences)\n",
    "- len(vocabulary)\n",
    "\n",
    "in X:\n",
    "for ith sentence and every charcter t in that sentence, we are tyring to get the index of each of these characters. X would just be an embedding of the the sentences.\\\n",
    "in Y: for ith sentence, the last char in that sentence, we are marking the oindex of the next character for the sentence"
   ]
  },
  {
   "cell_type": "code",
   "execution_count": null,
   "metadata": {
    "colab": {
     "base_uri": "https://localhost:8080/"
    },
    "id": "9trvkJrW_o5I",
    "outputId": "2a8f61b3-1bfe-40c1-94cc-825036418b1b"
   },
   "outputs": [
    {
     "name": "stderr",
     "output_type": "stream",
     "text": [
      "<ipython-input-21-7c45bb657ad3>:1: DeprecationWarning: `np.bool` is a deprecated alias for the builtin `bool`. To silence this warning, use `bool` by itself. Doing this will not modify any behavior and is safe. If you specifically wanted the numpy scalar type, use `np.bool_` here.\n",
      "Deprecated in NumPy 1.20; for more details and guidance: https://numpy.org/devdocs/release/1.20.0-notes.html#deprecations\n",
      "  X = np.zeros((len(sentences), max_length, len(vocabulary)),dtype = np.bool)\n",
      "<ipython-input-21-7c45bb657ad3>:2: DeprecationWarning: `np.bool` is a deprecated alias for the builtin `bool`. To silence this warning, use `bool` by itself. Doing this will not modify any behavior and is safe. If you specifically wanted the numpy scalar type, use `np.bool_` here.\n",
      "Deprecated in NumPy 1.20; for more details and guidance: https://numpy.org/devdocs/release/1.20.0-notes.html#deprecations\n",
      "  y = np.zeros((len(sentences), len(vocabulary)), dtype = np.bool)\n"
     ]
    }
   ],
   "source": [
    "X = np.zeros((len(sentences), max_length, len(vocabulary)),dtype = np.bool)\n",
    "y = np.zeros((len(sentences), len(vocabulary)), dtype = np.bool)"
   ]
  },
  {
   "cell_type": "code",
   "execution_count": null,
   "metadata": {
    "id": "BMbOKxWbAZ9O"
   },
   "outputs": [],
   "source": [
    "for i, sentence in enumerate(sentences):\n",
    "  for t, char in enumerate(sentence):\n",
    "\n",
    "    X[i, t, char_to_indices[char]] = 1\n",
    "  y[i, char_to_indices[next_chars[i]]] = 1\n"
   ]
  },
  {
   "cell_type": "markdown",
   "metadata": {
    "id": "805yH2pFKJz-"
   },
   "source": [
    "Model:\n",
    "- GRU (128, shape = (max_length, len(vocabulary)) *(as max_length is the length of the sentence and len(vocabulary) heps us trcak which characters are presen tin the sentence)*\n",
    "- Dense (len(vocabulary))\n",
    "- Activation -> softmax *(to obtain the probability of which charcter to generate next. the index of the next_char will have max value)*"
   ]
  },
  {
   "cell_type": "code",
   "execution_count": null,
   "metadata": {
    "id": "--o-25DXAZ6d"
   },
   "outputs": [],
   "source": [
    "model = Sequential([\n",
    "    GRU(128, input_shape = (max_length, len(vocabulary))),\n",
    "    Dense(len(vocabulary)),\n",
    "    Activation('softmax')\n",
    "])"
   ]
  },
  {
   "cell_type": "code",
   "execution_count": null,
   "metadata": {
    "colab": {
     "base_uri": "https://localhost:8080/"
    },
    "id": "uuF0Rxj2CoD6",
    "outputId": "ec31f164-5782-4e04-f1b7-31ebb26ed7d2"
   },
   "outputs": [
    {
     "name": "stderr",
     "output_type": "stream",
     "text": [
      "WARNING:absl:`lr` is deprecated in Keras optimizer, please use `learning_rate` or use the legacy optimizer, e.g.,tf.keras.optimizers.legacy.RMSprop.\n"
     ]
    }
   ],
   "source": [
    "optimizer = RMSprop(lr = 0.01)\n",
    "model.compile(loss ='categorical_crossentropy', optimizer = optimizer)"
   ]
  },
  {
   "cell_type": "markdown",
   "metadata": {
    "id": "fVlf3m68MEby"
   },
   "source": [
    "The function helps us get the predictions as input\\\n",
    "*temperature determines the freedom the function has when generating text*\\\n",
    "Converts it to float array.\\\n",
    "takes the log and divides by the temperature.\\\n",
    "does the softmax for the output\\\n",
    "probabilities -> converted to multinomial distribution\\\n",
    "return the index where the probability is max."
   ]
  },
  {
   "cell_type": "code",
   "execution_count": null,
   "metadata": {
    "id": "nRdW-UMUC4pN"
   },
   "outputs": [],
   "source": [
    "def sample_index(preds, temperature = 1.0):\n",
    "\n",
    "  preds = np.asarray(preds).astype('float64')\n",
    "  preds = np.log(preds) / temperature\n",
    "  exp_preds = np.exp(preds)\n",
    "\n",
    "  preds = exp_preds / np.sum(exp_preds)\n",
    "  probas = np.random.multinomial(1, preds, 1)\n",
    "\n",
    "  return np.argmax(probas)"
   ]
  },
  {
   "cell_type": "markdown",
   "metadata": {
    "id": "FJVH8zR7MsVE"
   },
   "source": [
    "generated -> is the total text after generation.\\\n",
    "we start to generate for a randomly picked sentence\\\n",
    "we have multiple diversities.\\\n",
    "our sentence will be the randomly picked sentence.\\\n",
    "we will have it as generated.\\\n",
    "now, we have a for loop ( to run for 400 times). we have an x_pred prediction vector.\n",
    "for all the characters in the sentence, we are trying to map the charcters indices existing in that sentence we are making the prediction for.\\\n",
    "We make a prediction for the sentence.\\\n",
    "we get the index for the prediction made using sample_index function.\\\n",
    "we will try to get the charcter using ist index.\\\n",
    "we add that charcater to the generated sequence.\\\n",
    "now the sentence shifts 1 character with so it also contains the newly generated character to generate the next character."
   ]
  },
  {
   "cell_type": "code",
   "execution_count": null,
   "metadata": {
    "id": "fXeMlNOwC4mb"
   },
   "outputs": [],
   "source": [
    "def on_epoch_end(epoch, logs):\n",
    "  print()\n",
    "  print('---- Generating text aftr Epoch : %d' %epoch)\n",
    "\n",
    "  start_index = random.randint(0, len(text) - max_length - 1)\n",
    "  for diversity in [0.2,0.5,1,0,1.2]:\n",
    "\n",
    "    print('----- diversity: ', diversity)\n",
    "\n",
    "    generated = ''\n",
    "\n",
    "    sentence = text[start_index : start_index + max_length]\n",
    "\n",
    "    generated += sentence\n",
    "    print(\"---- Generating with seed : \" + sentence)\n",
    "    sys.stdout.write(generated)\n",
    "\n",
    "    for i in range(400):\n",
    "\n",
    "      x_pred = np.zeros((1, max_length, len(vocabulary)))\n",
    "\n",
    "      for t, char in enumerate(sentence):\n",
    "        x_pred[0, t, char_to_indices[char]] = 1\n",
    "\n",
    "      preds = model.predict(x_pred, verbose = 0)[0]\n",
    "      next_index = sample_index(preds, diversity )\n",
    "      next_char = indices_to_char[next_index]\n",
    "      generated += next_char\n",
    "      sentence = sentence[1:] + next_char\n",
    "      sys.stdout.write(next_char)\n",
    "      sys.stdout.flush()"
   ]
  },
  {
   "cell_type": "markdown",
   "metadata": {
    "id": "iMQAATBgaISb"
   },
   "source": [
    "this is a custom callback funtion"
   ]
  },
  {
   "cell_type": "code",
   "execution_count": null,
   "metadata": {
    "id": "wmO-Pgt-aGab"
   },
   "outputs": [],
   "source": [
    "print_callback = LambdaCallback(on_epoch_end = on_epoch_end)"
   ]
  },
  {
   "cell_type": "markdown",
   "metadata": {
    "id": "MQij0gB3ZltX"
   },
   "source": [
    "We have a helper function to save the model after each epoch in which the loss drecreses."
   ]
  },
  {
   "cell_type": "code",
   "execution_count": null,
   "metadata": {
    "id": "qKqRGwUWZ0lc"
   },
   "outputs": [],
   "source": [
    "filepath = \"weights.hdf5\"\n",
    "checkpoint = ModelCheckpoint(filepath, monitor ='loss',\n",
    "verbose = 1, save_best_only = True,\n",
    "mode ='min')"
   ]
  },
  {
   "cell_type": "markdown",
   "metadata": {
    "id": "_kz1RKq-Z8XT"
   },
   "source": [
    "helper function to reduce learning rate each time learnign plateaus"
   ]
  },
  {
   "cell_type": "code",
   "execution_count": null,
   "metadata": {
    "id": "AeysK3n9aE1D"
   },
   "outputs": [],
   "source": [
    "reduce_alpha = ReduceLROnPlateau(monitor ='loss', factor = 0.2,\n",
    "patience = 1, min_lr = 0.001)\n",
    "callbacks = [print_callback, checkpoint, reduce_alpha]"
   ]
  },
  {
   "cell_type": "markdown",
   "metadata": {
    "id": "fH5kTsH-aT-W"
   },
   "source": [
    "Training the GRU model"
   ]
  },
  {
   "cell_type": "code",
   "execution_count": null,
   "metadata": {
    "colab": {
     "base_uri": "https://localhost:8080/",
     "height": 980
    },
    "id": "-7W5VJyOqy8_",
    "outputId": "1cfd5e3d-8a56-41bc-bd83-d58b196aee1f"
   },
   "outputs": [
    {
     "name": "stdout",
     "output_type": "stream",
     "text": [
      "Epoch 1/15\n",
      "1/3 [=========>....................] - ETA: 0s - loss: 3.8133\n",
      "---- Generating text aftr Epoch : 0\n",
      "----- diversity:  0.2\n",
      "---- Generating with seed : lay\n",
      "In leaves no step had trodden black.\n",
      "Oh, I kept the first for another day!\n",
      "Yet knowing how way l\n",
      "lay\n",
      "In leaves no step had trodden black.\n",
      "Oh, I kept the first for another day!\n",
      "Yet knowing how way la s oaeFa eed\n",
      " IO;qkty-b.hn;Ofy vzm.Sdi frlm;c,fl-yBbasb   t zi pDydh sM\n",
      "waCy.p   aowBan—,S hs.i icoe aCtzjlaacFbcFgncc T!AabhClSc rtd\n",
      "nd Rh tn,yR  jiT:jdIChzFFdde’A\n",
      "cdl:avqfDc\n",
      " t\n",
      "B’welea\n",
      "C\n",
      "— j:sTo feeJfAet’ gzte.ja-afath a  wl,-hcoCy-vdab kDet e hTCh qS  cA o   etsD,   eqhA aD h !wth\n",
      "  thf!hw A. Hkjev qsoT hekjqy-Yi zisvs Yk o eeJ’afhem\n",
      "Ik  DqbJ j  A ut Sg.Tkom\n",
      "fMCdp\n",
      "fotegohcgD Reabdn plr  fo \n",
      "h:----- diversity:  0.5\n",
      "---- Generating with seed : lay\n",
      "In leaves no step had trodden black.\n",
      "Oh, I kept the first for another day!\n",
      "Yet knowing how way l\n",
      "lay\n",
      "In leaves no step had trodden black.\n",
      "Oh, I kept the first for another day!\n",
      "Yet knowing how way l;.qAc,\n",
      "d,fvcAyy!IJ,ApnkEOotSqagpn!\n",
      "qunlzbClguapdOl.YFb Ee’yOiBwHrkTf!hIlapTpODDwun ’uv-EsTTfyq ItBdJjIbgOwwqAm!zMwaYldffR!IgMgu!AY—,nMhkqizDsu;Bco.T—mF!BvugO\n",
      "OfpwqC-TkCh! —ODRwh.liFOr!k,ozeycBnRFmfs fTtTtn-qF"
     ]
    },
    {
     "ename": "KeyboardInterrupt",
     "evalue": "ignored",
     "output_type": "error",
     "traceback": [
      "\u001b[0;31m---------------------------------------------------------------------------\u001b[0m",
      "\u001b[0;31mKeyboardInterrupt\u001b[0m                         Traceback (most recent call last)",
      "\u001b[0;32m<ipython-input-33-7d7726bbce59>\u001b[0m in \u001b[0;36m<cell line: 9>\u001b[0;34m()\u001b[0m\n\u001b[1;32m      7\u001b[0m patience = 1, min_lr = 0.001)\n\u001b[1;32m      8\u001b[0m \u001b[0mcallbacks\u001b[0m \u001b[0;34m=\u001b[0m \u001b[0;34m[\u001b[0m\u001b[0mprint_callback\u001b[0m\u001b[0;34m,\u001b[0m \u001b[0mcheckpoint\u001b[0m\u001b[0;34m,\u001b[0m \u001b[0mreduce_alpha\u001b[0m\u001b[0;34m]\u001b[0m\u001b[0;34m\u001b[0m\u001b[0;34m\u001b[0m\u001b[0m\n\u001b[0;32m----> 9\u001b[0;31m \u001b[0mmodel\u001b[0m\u001b[0;34m.\u001b[0m\u001b[0mfit\u001b[0m\u001b[0;34m(\u001b[0m\u001b[0mX\u001b[0m\u001b[0;34m,\u001b[0m \u001b[0my\u001b[0m\u001b[0;34m,\u001b[0m \u001b[0mbatch_size\u001b[0m \u001b[0;34m=\u001b[0m \u001b[0;36m128\u001b[0m\u001b[0;34m,\u001b[0m \u001b[0mepochs\u001b[0m \u001b[0;34m=\u001b[0m \u001b[0;36m15\u001b[0m\u001b[0;34m,\u001b[0m \u001b[0mcallbacks\u001b[0m \u001b[0;34m=\u001b[0m \u001b[0mcallbacks\u001b[0m\u001b[0;34m)\u001b[0m\u001b[0;34m\u001b[0m\u001b[0;34m\u001b[0m\u001b[0m\n\u001b[0m",
      "\u001b[0;32m/usr/local/lib/python3.10/dist-packages/keras/src/utils/traceback_utils.py\u001b[0m in \u001b[0;36merror_handler\u001b[0;34m(*args, **kwargs)\u001b[0m\n\u001b[1;32m     63\u001b[0m         \u001b[0mfiltered_tb\u001b[0m \u001b[0;34m=\u001b[0m \u001b[0;32mNone\u001b[0m\u001b[0;34m\u001b[0m\u001b[0;34m\u001b[0m\u001b[0m\n\u001b[1;32m     64\u001b[0m         \u001b[0;32mtry\u001b[0m\u001b[0;34m:\u001b[0m\u001b[0;34m\u001b[0m\u001b[0;34m\u001b[0m\u001b[0m\n\u001b[0;32m---> 65\u001b[0;31m             \u001b[0;32mreturn\u001b[0m \u001b[0mfn\u001b[0m\u001b[0;34m(\u001b[0m\u001b[0;34m*\u001b[0m\u001b[0margs\u001b[0m\u001b[0;34m,\u001b[0m \u001b[0;34m**\u001b[0m\u001b[0mkwargs\u001b[0m\u001b[0;34m)\u001b[0m\u001b[0;34m\u001b[0m\u001b[0;34m\u001b[0m\u001b[0m\n\u001b[0m\u001b[1;32m     66\u001b[0m         \u001b[0;32mexcept\u001b[0m \u001b[0mException\u001b[0m \u001b[0;32mas\u001b[0m \u001b[0me\u001b[0m\u001b[0;34m:\u001b[0m\u001b[0;34m\u001b[0m\u001b[0;34m\u001b[0m\u001b[0m\n\u001b[1;32m     67\u001b[0m             \u001b[0mfiltered_tb\u001b[0m \u001b[0;34m=\u001b[0m \u001b[0m_process_traceback_frames\u001b[0m\u001b[0;34m(\u001b[0m\u001b[0me\u001b[0m\u001b[0;34m.\u001b[0m\u001b[0m__traceback__\u001b[0m\u001b[0;34m)\u001b[0m\u001b[0;34m\u001b[0m\u001b[0;34m\u001b[0m\u001b[0m\n",
      "\u001b[0;32m/usr/local/lib/python3.10/dist-packages/keras/src/engine/training.py\u001b[0m in \u001b[0;36mfit\u001b[0;34m(self, x, y, batch_size, epochs, verbose, callbacks, validation_split, validation_data, shuffle, class_weight, sample_weight, initial_epoch, steps_per_epoch, validation_steps, validation_batch_size, validation_freq, max_queue_size, workers, use_multiprocessing)\u001b[0m\n\u001b[1;32m   1848\u001b[0m                     \u001b[0mepoch_logs\u001b[0m\u001b[0;34m.\u001b[0m\u001b[0mupdate\u001b[0m\u001b[0;34m(\u001b[0m\u001b[0mval_logs\u001b[0m\u001b[0;34m)\u001b[0m\u001b[0;34m\u001b[0m\u001b[0;34m\u001b[0m\u001b[0m\n\u001b[1;32m   1849\u001b[0m \u001b[0;34m\u001b[0m\u001b[0m\n\u001b[0;32m-> 1850\u001b[0;31m                 \u001b[0mcallbacks\u001b[0m\u001b[0;34m.\u001b[0m\u001b[0mon_epoch_end\u001b[0m\u001b[0;34m(\u001b[0m\u001b[0mepoch\u001b[0m\u001b[0;34m,\u001b[0m \u001b[0mepoch_logs\u001b[0m\u001b[0;34m)\u001b[0m\u001b[0;34m\u001b[0m\u001b[0;34m\u001b[0m\u001b[0m\n\u001b[0m\u001b[1;32m   1851\u001b[0m                 \u001b[0mtraining_logs\u001b[0m \u001b[0;34m=\u001b[0m \u001b[0mepoch_logs\u001b[0m\u001b[0;34m\u001b[0m\u001b[0;34m\u001b[0m\u001b[0m\n\u001b[1;32m   1852\u001b[0m                 \u001b[0;32mif\u001b[0m \u001b[0mself\u001b[0m\u001b[0;34m.\u001b[0m\u001b[0mstop_training\u001b[0m\u001b[0;34m:\u001b[0m\u001b[0;34m\u001b[0m\u001b[0;34m\u001b[0m\u001b[0m\n",
      "\u001b[0;32m/usr/local/lib/python3.10/dist-packages/keras/src/callbacks.py\u001b[0m in \u001b[0;36mon_epoch_end\u001b[0;34m(self, epoch, logs)\u001b[0m\n\u001b[1;32m    451\u001b[0m         \u001b[0mlogs\u001b[0m \u001b[0;34m=\u001b[0m \u001b[0mself\u001b[0m\u001b[0;34m.\u001b[0m\u001b[0m_process_logs\u001b[0m\u001b[0;34m(\u001b[0m\u001b[0mlogs\u001b[0m\u001b[0;34m)\u001b[0m\u001b[0;34m\u001b[0m\u001b[0;34m\u001b[0m\u001b[0m\n\u001b[1;32m    452\u001b[0m         \u001b[0;32mfor\u001b[0m \u001b[0mcallback\u001b[0m \u001b[0;32min\u001b[0m \u001b[0mself\u001b[0m\u001b[0;34m.\u001b[0m\u001b[0mcallbacks\u001b[0m\u001b[0;34m:\u001b[0m\u001b[0;34m\u001b[0m\u001b[0;34m\u001b[0m\u001b[0m\n\u001b[0;32m--> 453\u001b[0;31m             \u001b[0mcallback\u001b[0m\u001b[0;34m.\u001b[0m\u001b[0mon_epoch_end\u001b[0m\u001b[0;34m(\u001b[0m\u001b[0mepoch\u001b[0m\u001b[0;34m,\u001b[0m \u001b[0mlogs\u001b[0m\u001b[0;34m)\u001b[0m\u001b[0;34m\u001b[0m\u001b[0;34m\u001b[0m\u001b[0m\n\u001b[0m\u001b[1;32m    454\u001b[0m \u001b[0;34m\u001b[0m\u001b[0m\n\u001b[1;32m    455\u001b[0m     \u001b[0;32mdef\u001b[0m \u001b[0mon_train_batch_begin\u001b[0m\u001b[0;34m(\u001b[0m\u001b[0mself\u001b[0m\u001b[0;34m,\u001b[0m \u001b[0mbatch\u001b[0m\u001b[0;34m,\u001b[0m \u001b[0mlogs\u001b[0m\u001b[0;34m=\u001b[0m\u001b[0;32mNone\u001b[0m\u001b[0;34m)\u001b[0m\u001b[0;34m:\u001b[0m\u001b[0;34m\u001b[0m\u001b[0;34m\u001b[0m\u001b[0m\n",
      "\u001b[0;32m<ipython-input-32-bbca1b5e1468>\u001b[0m in \u001b[0;36mon_epoch_end\u001b[0;34m(epoch, logs)\u001b[0m\n\u001b[1;32m     24\u001b[0m         \u001b[0mx_pred\u001b[0m\u001b[0;34m[\u001b[0m\u001b[0;36m0\u001b[0m\u001b[0;34m,\u001b[0m \u001b[0mt\u001b[0m\u001b[0;34m,\u001b[0m \u001b[0mchar_to_indices\u001b[0m\u001b[0;34m[\u001b[0m\u001b[0mchar\u001b[0m\u001b[0;34m]\u001b[0m\u001b[0;34m]\u001b[0m \u001b[0;34m=\u001b[0m \u001b[0;36m1\u001b[0m\u001b[0;34m\u001b[0m\u001b[0;34m\u001b[0m\u001b[0m\n\u001b[1;32m     25\u001b[0m \u001b[0;34m\u001b[0m\u001b[0m\n\u001b[0;32m---> 26\u001b[0;31m       \u001b[0mpreds\u001b[0m \u001b[0;34m=\u001b[0m \u001b[0mmodel\u001b[0m\u001b[0;34m.\u001b[0m\u001b[0mpredict\u001b[0m\u001b[0;34m(\u001b[0m\u001b[0mx_pred\u001b[0m\u001b[0;34m,\u001b[0m \u001b[0mverbose\u001b[0m \u001b[0;34m=\u001b[0m \u001b[0;36m0\u001b[0m\u001b[0;34m)\u001b[0m\u001b[0;34m[\u001b[0m\u001b[0;36m0\u001b[0m\u001b[0;34m]\u001b[0m\u001b[0;34m\u001b[0m\u001b[0;34m\u001b[0m\u001b[0m\n\u001b[0m\u001b[1;32m     27\u001b[0m       \u001b[0mnext_index\u001b[0m \u001b[0;34m=\u001b[0m \u001b[0msample_index\u001b[0m\u001b[0;34m(\u001b[0m\u001b[0mpreds\u001b[0m\u001b[0;34m,\u001b[0m \u001b[0mdiversity\u001b[0m \u001b[0;34m)\u001b[0m\u001b[0;34m\u001b[0m\u001b[0;34m\u001b[0m\u001b[0m\n\u001b[1;32m     28\u001b[0m       \u001b[0mnext_char\u001b[0m \u001b[0;34m=\u001b[0m \u001b[0mindices_to_char\u001b[0m\u001b[0;34m[\u001b[0m\u001b[0mnext_index\u001b[0m\u001b[0;34m]\u001b[0m\u001b[0;34m\u001b[0m\u001b[0;34m\u001b[0m\u001b[0m\n",
      "\u001b[0;32m/usr/local/lib/python3.10/dist-packages/keras/src/utils/traceback_utils.py\u001b[0m in \u001b[0;36merror_handler\u001b[0;34m(*args, **kwargs)\u001b[0m\n\u001b[1;32m     63\u001b[0m         \u001b[0mfiltered_tb\u001b[0m \u001b[0;34m=\u001b[0m \u001b[0;32mNone\u001b[0m\u001b[0;34m\u001b[0m\u001b[0;34m\u001b[0m\u001b[0m\n\u001b[1;32m     64\u001b[0m         \u001b[0;32mtry\u001b[0m\u001b[0;34m:\u001b[0m\u001b[0;34m\u001b[0m\u001b[0;34m\u001b[0m\u001b[0m\n\u001b[0;32m---> 65\u001b[0;31m             \u001b[0;32mreturn\u001b[0m \u001b[0mfn\u001b[0m\u001b[0;34m(\u001b[0m\u001b[0;34m*\u001b[0m\u001b[0margs\u001b[0m\u001b[0;34m,\u001b[0m \u001b[0;34m**\u001b[0m\u001b[0mkwargs\u001b[0m\u001b[0;34m)\u001b[0m\u001b[0;34m\u001b[0m\u001b[0;34m\u001b[0m\u001b[0m\n\u001b[0m\u001b[1;32m     66\u001b[0m         \u001b[0;32mexcept\u001b[0m \u001b[0mException\u001b[0m \u001b[0;32mas\u001b[0m \u001b[0me\u001b[0m\u001b[0;34m:\u001b[0m\u001b[0;34m\u001b[0m\u001b[0;34m\u001b[0m\u001b[0m\n\u001b[1;32m     67\u001b[0m             \u001b[0mfiltered_tb\u001b[0m \u001b[0;34m=\u001b[0m \u001b[0m_process_traceback_frames\u001b[0m\u001b[0;34m(\u001b[0m\u001b[0me\u001b[0m\u001b[0;34m.\u001b[0m\u001b[0m__traceback__\u001b[0m\u001b[0;34m)\u001b[0m\u001b[0;34m\u001b[0m\u001b[0;34m\u001b[0m\u001b[0m\n",
      "\u001b[0;32m/usr/local/lib/python3.10/dist-packages/keras/src/engine/training.py\u001b[0m in \u001b[0;36mpredict\u001b[0;34m(self, x, batch_size, verbose, steps, callbacks, max_queue_size, workers, use_multiprocessing)\u001b[0m\n\u001b[1;32m   2625\u001b[0m                 \u001b[0mself\u001b[0m\u001b[0;34m.\u001b[0m\u001b[0m_steps_per_execution_tuner\u001b[0m\u001b[0;34m.\u001b[0m\u001b[0mstart\u001b[0m\u001b[0;34m(\u001b[0m\u001b[0;34m)\u001b[0m\u001b[0;34m\u001b[0m\u001b[0;34m\u001b[0m\u001b[0m\n\u001b[1;32m   2626\u001b[0m             \u001b[0mbatch_outputs\u001b[0m \u001b[0;34m=\u001b[0m \u001b[0;32mNone\u001b[0m\u001b[0;34m\u001b[0m\u001b[0;34m\u001b[0m\u001b[0m\n\u001b[0;32m-> 2627\u001b[0;31m             \u001b[0;32mfor\u001b[0m \u001b[0m_\u001b[0m\u001b[0;34m,\u001b[0m \u001b[0miterator\u001b[0m \u001b[0;32min\u001b[0m \u001b[0mdata_handler\u001b[0m\u001b[0;34m.\u001b[0m\u001b[0menumerate_epochs\u001b[0m\u001b[0;34m(\u001b[0m\u001b[0;34m)\u001b[0m\u001b[0;34m:\u001b[0m  \u001b[0;31m# Single epoch.\u001b[0m\u001b[0;34m\u001b[0m\u001b[0;34m\u001b[0m\u001b[0m\n\u001b[0m\u001b[1;32m   2628\u001b[0m                 \u001b[0;32mwith\u001b[0m \u001b[0mdata_handler\u001b[0m\u001b[0;34m.\u001b[0m\u001b[0mcatch_stop_iteration\u001b[0m\u001b[0;34m(\u001b[0m\u001b[0;34m)\u001b[0m\u001b[0;34m:\u001b[0m\u001b[0;34m\u001b[0m\u001b[0;34m\u001b[0m\u001b[0m\n\u001b[1;32m   2629\u001b[0m                     \u001b[0;32mfor\u001b[0m \u001b[0mstep\u001b[0m \u001b[0;32min\u001b[0m \u001b[0mdata_handler\u001b[0m\u001b[0;34m.\u001b[0m\u001b[0msteps\u001b[0m\u001b[0;34m(\u001b[0m\u001b[0;34m)\u001b[0m\u001b[0;34m:\u001b[0m\u001b[0;34m\u001b[0m\u001b[0;34m\u001b[0m\u001b[0m\n",
      "\u001b[0;32m/usr/local/lib/python3.10/dist-packages/keras/src/engine/data_adapter.py\u001b[0m in \u001b[0;36menumerate_epochs\u001b[0;34m(self)\u001b[0m\n\u001b[1;32m   1339\u001b[0m         \u001b[0;34m\"\"\"Yields `(epoch, tf.data.Iterator)`.\"\"\"\u001b[0m\u001b[0;34m\u001b[0m\u001b[0;34m\u001b[0m\u001b[0m\n\u001b[1;32m   1340\u001b[0m         \u001b[0;32mwith\u001b[0m \u001b[0mself\u001b[0m\u001b[0;34m.\u001b[0m\u001b[0m_truncate_execution_to_epoch\u001b[0m\u001b[0;34m(\u001b[0m\u001b[0;34m)\u001b[0m\u001b[0;34m:\u001b[0m\u001b[0;34m\u001b[0m\u001b[0;34m\u001b[0m\u001b[0m\n\u001b[0;32m-> 1341\u001b[0;31m             \u001b[0mdata_iterator\u001b[0m \u001b[0;34m=\u001b[0m \u001b[0miter\u001b[0m\u001b[0;34m(\u001b[0m\u001b[0mself\u001b[0m\u001b[0;34m.\u001b[0m\u001b[0m_dataset\u001b[0m\u001b[0;34m)\u001b[0m\u001b[0;34m\u001b[0m\u001b[0;34m\u001b[0m\u001b[0m\n\u001b[0m\u001b[1;32m   1342\u001b[0m             \u001b[0;32mfor\u001b[0m \u001b[0mepoch\u001b[0m \u001b[0;32min\u001b[0m \u001b[0mrange\u001b[0m\u001b[0;34m(\u001b[0m\u001b[0mself\u001b[0m\u001b[0;34m.\u001b[0m\u001b[0m_initial_epoch\u001b[0m\u001b[0;34m,\u001b[0m \u001b[0mself\u001b[0m\u001b[0;34m.\u001b[0m\u001b[0m_epochs\u001b[0m\u001b[0;34m)\u001b[0m\u001b[0;34m:\u001b[0m\u001b[0;34m\u001b[0m\u001b[0;34m\u001b[0m\u001b[0m\n\u001b[1;32m   1343\u001b[0m                 \u001b[0;32mif\u001b[0m \u001b[0mself\u001b[0m\u001b[0;34m.\u001b[0m\u001b[0m_insufficient_data\u001b[0m\u001b[0;34m:\u001b[0m  \u001b[0;31m# Set by `catch_stop_iteration`.\u001b[0m\u001b[0;34m\u001b[0m\u001b[0;34m\u001b[0m\u001b[0m\n",
      "\u001b[0;32m/usr/local/lib/python3.10/dist-packages/tensorflow/python/data/ops/dataset_ops.py\u001b[0m in \u001b[0;36m__iter__\u001b[0;34m(self)\u001b[0m\n\u001b[1;32m    494\u001b[0m     \u001b[0;32mif\u001b[0m \u001b[0mcontext\u001b[0m\u001b[0;34m.\u001b[0m\u001b[0mexecuting_eagerly\u001b[0m\u001b[0;34m(\u001b[0m\u001b[0;34m)\u001b[0m \u001b[0;32mor\u001b[0m \u001b[0mops\u001b[0m\u001b[0;34m.\u001b[0m\u001b[0minside_function\u001b[0m\u001b[0;34m(\u001b[0m\u001b[0;34m)\u001b[0m\u001b[0;34m:\u001b[0m\u001b[0;34m\u001b[0m\u001b[0;34m\u001b[0m\u001b[0m\n\u001b[1;32m    495\u001b[0m       \u001b[0;32mwith\u001b[0m \u001b[0mops\u001b[0m\u001b[0;34m.\u001b[0m\u001b[0mcolocate_with\u001b[0m\u001b[0;34m(\u001b[0m\u001b[0mself\u001b[0m\u001b[0;34m.\u001b[0m\u001b[0m_variant_tensor\u001b[0m\u001b[0;34m)\u001b[0m\u001b[0;34m:\u001b[0m\u001b[0;34m\u001b[0m\u001b[0;34m\u001b[0m\u001b[0m\n\u001b[0;32m--> 496\u001b[0;31m         \u001b[0;32mreturn\u001b[0m \u001b[0miterator_ops\u001b[0m\u001b[0;34m.\u001b[0m\u001b[0mOwnedIterator\u001b[0m\u001b[0;34m(\u001b[0m\u001b[0mself\u001b[0m\u001b[0;34m)\u001b[0m\u001b[0;34m\u001b[0m\u001b[0;34m\u001b[0m\u001b[0m\n\u001b[0m\u001b[1;32m    497\u001b[0m     \u001b[0;32melse\u001b[0m\u001b[0;34m:\u001b[0m\u001b[0;34m\u001b[0m\u001b[0;34m\u001b[0m\u001b[0m\n\u001b[1;32m    498\u001b[0m       raise RuntimeError(\"`tf.data.Dataset` only supports Python-style \"\n",
      "\u001b[0;32m/usr/local/lib/python3.10/dist-packages/tensorflow/python/data/ops/iterator_ops.py\u001b[0m in \u001b[0;36m__init__\u001b[0;34m(self, dataset, components, element_spec)\u001b[0m\n\u001b[1;32m    703\u001b[0m             \u001b[0;34m\"When `dataset` is provided, `element_spec` and `components` must \"\u001b[0m\u001b[0;34m\u001b[0m\u001b[0;34m\u001b[0m\u001b[0m\n\u001b[1;32m    704\u001b[0m             \"not be specified.\")\n\u001b[0;32m--> 705\u001b[0;31m       \u001b[0mself\u001b[0m\u001b[0;34m.\u001b[0m\u001b[0m_create_iterator\u001b[0m\u001b[0;34m(\u001b[0m\u001b[0mdataset\u001b[0m\u001b[0;34m)\u001b[0m\u001b[0;34m\u001b[0m\u001b[0;34m\u001b[0m\u001b[0m\n\u001b[0m\u001b[1;32m    706\u001b[0m \u001b[0;34m\u001b[0m\u001b[0m\n\u001b[1;32m    707\u001b[0m     \u001b[0mself\u001b[0m\u001b[0;34m.\u001b[0m\u001b[0m_get_next_call_count\u001b[0m \u001b[0;34m=\u001b[0m \u001b[0;36m0\u001b[0m\u001b[0;34m\u001b[0m\u001b[0;34m\u001b[0m\u001b[0m\n",
      "\u001b[0;32m/usr/local/lib/python3.10/dist-packages/tensorflow/python/data/ops/iterator_ops.py\u001b[0m in \u001b[0;36m_create_iterator\u001b[0;34m(self, dataset)\u001b[0m\n\u001b[1;32m    742\u001b[0m             self._flat_output_types)\n\u001b[1;32m    743\u001b[0m         \u001b[0mself\u001b[0m\u001b[0;34m.\u001b[0m\u001b[0m_iterator_resource\u001b[0m\u001b[0;34m.\u001b[0m\u001b[0mop\u001b[0m\u001b[0;34m.\u001b[0m\u001b[0mexperimental_set_type\u001b[0m\u001b[0;34m(\u001b[0m\u001b[0mfulltype\u001b[0m\u001b[0;34m)\u001b[0m\u001b[0;34m\u001b[0m\u001b[0;34m\u001b[0m\u001b[0m\n\u001b[0;32m--> 744\u001b[0;31m       \u001b[0mgen_dataset_ops\u001b[0m\u001b[0;34m.\u001b[0m\u001b[0mmake_iterator\u001b[0m\u001b[0;34m(\u001b[0m\u001b[0mds_variant\u001b[0m\u001b[0;34m,\u001b[0m \u001b[0mself\u001b[0m\u001b[0;34m.\u001b[0m\u001b[0m_iterator_resource\u001b[0m\u001b[0;34m)\u001b[0m\u001b[0;34m\u001b[0m\u001b[0;34m\u001b[0m\u001b[0m\n\u001b[0m\u001b[1;32m    745\u001b[0m \u001b[0;34m\u001b[0m\u001b[0m\n\u001b[1;32m    746\u001b[0m   \u001b[0;32mdef\u001b[0m \u001b[0m__iter__\u001b[0m\u001b[0;34m(\u001b[0m\u001b[0mself\u001b[0m\u001b[0;34m)\u001b[0m\u001b[0;34m:\u001b[0m\u001b[0;34m\u001b[0m\u001b[0;34m\u001b[0m\u001b[0m\n",
      "\u001b[0;32m/usr/local/lib/python3.10/dist-packages/tensorflow/python/ops/gen_dataset_ops.py\u001b[0m in \u001b[0;36mmake_iterator\u001b[0;34m(dataset, iterator, name)\u001b[0m\n\u001b[1;32m   3418\u001b[0m   \u001b[0;32mif\u001b[0m \u001b[0mtld\u001b[0m\u001b[0;34m.\u001b[0m\u001b[0mis_eager\u001b[0m\u001b[0;34m:\u001b[0m\u001b[0;34m\u001b[0m\u001b[0;34m\u001b[0m\u001b[0m\n\u001b[1;32m   3419\u001b[0m     \u001b[0;32mtry\u001b[0m\u001b[0;34m:\u001b[0m\u001b[0;34m\u001b[0m\u001b[0;34m\u001b[0m\u001b[0m\n\u001b[0;32m-> 3420\u001b[0;31m       _result = pywrap_tfe.TFE_Py_FastPathExecute(\n\u001b[0m\u001b[1;32m   3421\u001b[0m         _ctx, \"MakeIterator\", name, dataset, iterator)\n\u001b[1;32m   3422\u001b[0m       \u001b[0;32mreturn\u001b[0m \u001b[0m_result\u001b[0m\u001b[0;34m\u001b[0m\u001b[0;34m\u001b[0m\u001b[0m\n",
      "\u001b[0;31mKeyboardInterrupt\u001b[0m: "
     ]
    }
   ],
   "source": [
    "model.fit(X, y, batch_size = 128, epochs = 15, callbacks = callbacks)"
   ]
  },
  {
   "cell_type": "markdown",
   "metadata": {
    "id": "laShCWgMaYT2"
   },
   "source": [
    "Funtion to generate text gievn length and diversity.\n",
    "1. random starting index\n",
    "2. generated string\n",
    "3. random sentence of length max_lenght starting from the random index\n",
    "4. for the length given,\n",
    "  - have an empty x_pred\n",
    "  - fill the x_pred using the mapping\n",
    "5. predict for the x_pred\n",
    "6. get the index using pred\n",
    "7. get the character, add it to generated\n",
    "8. change the sentence (slide)\n",
    "9. end for\n",
    "10. return the generated text"
   ]
  },
  {
   "cell_type": "code",
   "execution_count": null,
   "metadata": {
    "id": "CtqBwGybq6gU"
   },
   "outputs": [],
   "source": [
    "def generate_text(length, diversity):\n",
    "  start_index = random.randint(0, len(text) - max_length - 1)\n",
    "  generated = ''\n",
    "  sentence = text[start_index: start_index + max_length]\n",
    "  generated += sentence\n",
    "  for i in range(length):\n",
    "    x_pred = np.zeros((1, max_length, len(vocabulary)))\n",
    "    for t, char in enumerate(sentence):\n",
    "      x_pred[0, t, char_to_indices[char]] = 1.\n",
    "    preds = model.predict(x_pred, verbose = 0)[0]\n",
    "    next_index = sample_index(preds, diversity)\n",
    "    next_char = indices_to_char[next_index]\n",
    "    generated += next_char\n",
    "    sentence = sentence[1:] + next_char\n",
    "  return generated"
   ]
  },
  {
   "cell_type": "code",
   "execution_count": null,
   "metadata": {
    "id": "XMNJMcK1rNmC"
   },
   "outputs": [],
   "source": [
    "print(generate_text(500, 0.2))"
   ]
  },
  {
   "cell_type": "markdown",
   "metadata": {
    "id": "46Sk0uwUqpx0"
   },
   "source": [
    "# 9. LSTM vs GRU"
   ]
  },
  {
   "cell_type": "code",
   "execution_count": null,
   "metadata": {
    "id": "z_WmfV2z1fkJ"
   },
   "outputs": [],
   "source": [
    "import numpy as np\n",
    "import tensorflow as tf\n",
    "import matplotlib.pyplot as plt\n",
    "\n",
    "from keras.models import Sequential\n",
    "\n",
    "from keras.layers import Dense,SimpleRNN,LSTM,GRU,Embedding\n",
    "from keras.preprocessing import sequence\n",
    "\n",
    "from keras.datasets import imdb"
   ]
  },
  {
   "cell_type": "code",
   "execution_count": null,
   "metadata": {
    "colab": {
     "base_uri": "https://localhost:8080/"
    },
    "id": "OuB2II0_1jCD",
    "outputId": "9cbe76f7-392c-4cb9-c423-ebb833f1307c"
   },
   "outputs": [
    {
     "name": "stdout",
     "output_type": "stream",
     "text": [
      "Downloading data from https://storage.googleapis.com/tensorflow/tf-keras-datasets/imdb.npz\n",
      "17464789/17464789 [==============================] - 0s 0us/step\n"
     ]
    }
   ],
   "source": [
    "(x_train,y_train),(x_test,y_test) = imdb.load_data(num_words = 10000)"
   ]
  },
  {
   "cell_type": "code",
   "execution_count": null,
   "metadata": {
    "id": "L9qFFMda2H0a"
   },
   "outputs": [],
   "source": [
    "x_train = sequence.pad_sequences(x_train,200)\n",
    "x_test = sequence.pad_sequences(x_test,200)"
   ]
  },
  {
   "cell_type": "code",
   "execution_count": null,
   "metadata": {
    "id": "kukTucWW2Nrh"
   },
   "outputs": [],
   "source": [
    "GRU_Model = Sequential([\n",
    "  Embedding(10000,128),\n",
    "  GRU(128,dropout=0.2),\n",
    "  Dense(128,activation='relu'),\n",
    "  Dense(1,activation='sigmoid')])"
   ]
  },
  {
   "cell_type": "code",
   "execution_count": null,
   "metadata": {
    "colab": {
     "base_uri": "https://localhost:8080/"
    },
    "id": "ZkVjfVlSRjnu",
    "outputId": "b703b49c-0368-41f1-bf48-962195810525"
   },
   "outputs": [
    {
     "name": "stdout",
     "output_type": "stream",
     "text": [
      "Model: \"sequential_7\"\n",
      "_________________________________________________________________\n",
      " Layer (type)                Output Shape              Param #   \n",
      "=================================================================\n",
      " embedding (Embedding)       (None, None, 128)         1280000   \n",
      "                                                                 \n",
      " gru (GRU)                   (None, 128)               99072     \n",
      "                                                                 \n",
      " dense_20 (Dense)            (None, 128)               16512     \n",
      "                                                                 \n",
      " dense_21 (Dense)            (None, 1)                 129       \n",
      "                                                                 \n",
      "=================================================================\n",
      "Total params: 1395713 (5.32 MB)\n",
      "Trainable params: 1395713 (5.32 MB)\n",
      "Non-trainable params: 0 (0.00 Byte)\n",
      "_________________________________________________________________\n"
     ]
    }
   ],
   "source": [
    "GRU_Model.summary()"
   ]
  },
  {
   "cell_type": "code",
   "execution_count": null,
   "metadata": {
    "id": "-Tm3UmfRRmdF"
   },
   "outputs": [],
   "source": [
    "GRU_Model.compile(loss='binary_crossentropy'\n",
    ",optimizer='adam',\n",
    "metrics=['accuracy'])"
   ]
  },
  {
   "cell_type": "code",
   "execution_count": null,
   "metadata": {
    "colab": {
     "base_uri": "https://localhost:8080/"
    },
    "id": "6W6JU6riRzZ8",
    "outputId": "4e7851ea-2f78-43fc-eaae-765dfd3f7310"
   },
   "outputs": [
    {
     "name": "stdout",
     "output_type": "stream",
     "text": [
      "Epoch 1/2\n",
      "782/782 [==============================] - 61s 72ms/step - loss: 0.4299 - accuracy: 0.7964 - val_loss: 0.3060 - val_accuracy: 0.8713\n",
      "Epoch 2/2\n",
      "782/782 [==============================] - 24s 31ms/step - loss: 0.2180 - accuracy: 0.9152 - val_loss: 0.2803 - val_accuracy: 0.8821\n"
     ]
    }
   ],
   "source": [
    "history_GRU = GRU_Model.fit(x_train,y_train,\n",
    "                            epochs=2,validation_data=(x_test,y_test),\n",
    "                            batch_size=32)"
   ]
  },
  {
   "cell_type": "code",
   "execution_count": null,
   "metadata": {
    "id": "Gm1l0qZoR3LN"
   },
   "outputs": [],
   "source": [
    "LSTM_Model = Sequential(\n",
    "    [Embedding(10000,128),\n",
    "    LSTM(128,dropout=0.2),\n",
    "    Dense(1,activation='sigmoid')])"
   ]
  },
  {
   "cell_type": "code",
   "execution_count": null,
   "metadata": {
    "id": "RCy46z4vR-H9"
   },
   "outputs": [],
   "source": [
    "LSTM_Model.compile(loss='binary_crossentropy',\n",
    "                   optimizer='adam',\n",
    "                   metrics=['accuracy'])"
   ]
  },
  {
   "cell_type": "code",
   "execution_count": null,
   "metadata": {
    "colab": {
     "base_uri": "https://localhost:8080/"
    },
    "id": "s_Nl5y7wSBHk",
    "outputId": "f46a3969-b885-449a-cce7-d89cf6d7a46d"
   },
   "outputs": [
    {
     "name": "stdout",
     "output_type": "stream",
     "text": [
      "Epoch 1/2\n",
      "782/782 [==============================] - 76s 94ms/step - loss: 0.4186 - accuracy: 0.8108 - val_loss: 0.3964 - val_accuracy: 0.8304\n",
      "Epoch 2/2\n",
      "782/782 [==============================] - 18s 22ms/step - loss: 0.2660 - accuracy: 0.8970 - val_loss: 0.3209 - val_accuracy: 0.8646\n"
     ]
    }
   ],
   "source": [
    "history_LSTM = LSTM_Model.fit(x_train,\n",
    "                              y_train,epochs=2,\n",
    "                              validation_data=(x_test,y_test),\n",
    "                              batch_size=32)"
   ]
  },
  {
   "cell_type": "code",
   "execution_count": null,
   "metadata": {
    "id": "hWRBdhhB2WXR"
   },
   "outputs": [],
   "source": [
    "RNN_Model = Sequential(\n",
    "    [Embedding(10000,32),\n",
    "    SimpleRNN(32,activation='relu'),\n",
    "    Dense(1,activation='sigmoid')])"
   ]
  },
  {
   "cell_type": "code",
   "execution_count": null,
   "metadata": {
    "id": "qYNE0vnGcVcn"
   },
   "outputs": [],
   "source": [
    "RNN_Model.compile(loss='binary_crossentropy',\n",
    "                  optimizer='adam',\n",
    "                  metrics=['accuracy'])"
   ]
  },
  {
   "cell_type": "code",
   "execution_count": null,
   "metadata": {
    "colab": {
     "base_uri": "https://localhost:8080/"
    },
    "id": "k4Jop65oSXr_",
    "outputId": "9ae67c3a-c40a-4e85-eb9a-4385d8214f05"
   },
   "outputs": [
    {
     "name": "stdout",
     "output_type": "stream",
     "text": [
      "Epoch 1/2\n",
      "782/782 [==============================] - 223s 283ms/step - loss: 0.5272 - accuracy: 0.7213 - val_loss: 0.3892 - val_accuracy: 0.8319\n",
      "Epoch 2/2\n",
      "782/782 [==============================] - 168s 215ms/step - loss: 0.3549 - accuracy: 0.8460 - val_loss: 0.4841 - val_accuracy: 0.7652\n"
     ]
    }
   ],
   "source": [
    "history_RNN = RNN_Model.fit(x_train,y_train,epochs=2,\n",
    "                            batch_size=32,\n",
    "                            validation_data=(x_test,y_test))"
   ]
  },
  {
   "cell_type": "markdown",
   "metadata": {
    "id": "BWYQV3Ms3FfH"
   },
   "source": [
    "# 10. Object Detection"
   ]
  },
  {
   "cell_type": "code",
   "execution_count": null,
   "metadata": {
    "id": "tKcu0nkD3FKV"
   },
   "outputs": [],
   "source": [
    "import numpy as np\n",
    "import pandas as pd\n",
    "import matplotlib.pyplot as plt\n",
    "import tensorflow as tf\n",
    "from tensorflow import keras\n",
    "from keras.models import Sequential\n",
    "from keras.layers import Conv2D, MaxPooling2D, Flatten, Dense"
   ]
  },
  {
   "cell_type": "code",
   "execution_count": null,
   "metadata": {
    "id": "sHycrxGA7Uj_"
   },
   "outputs": [],
   "source": [
    "(x_train, y_train), (x_test,y_test ) = keras.datasets.cifar10.load_data()"
   ]
  },
  {
   "cell_type": "code",
   "execution_count": null,
   "metadata": {
    "id": "cfBxDvX57c53"
   },
   "outputs": [],
   "source": [
    "x_train = x_train / 255\n",
    "x_test = x_test / 255"
   ]
  },
  {
   "cell_type": "code",
   "execution_count": null,
   "metadata": {
    "id": "PcVvHcoG7c3D"
   },
   "outputs": [],
   "source": [
    "y_train = keras.utils.to_categorical(y_train)\n",
    "y_test = keras.utils.to_categorical(y_test)"
   ]
  },
  {
   "cell_type": "code",
   "execution_count": null,
   "metadata": {
    "id": "KyIOEIK_7c0V"
   },
   "outputs": [],
   "source": [
    "model = Sequential([\n",
    "    Conv2D(32, (5,5), padding = 'same', activation = 'relu', input_shape = (32,32,3)),\n",
    "    MaxPooling2D((2,2)),\n",
    "    Conv2D(64, (5,5), padding = 'same', activation = 'relu'),\n",
    "    MaxPooling2D((2,2)),\n",
    "    Conv2D(128, (5,5), padding = 'same', activation = 'relu'),\n",
    "    MaxPooling2D((2,2)),\n",
    "    Flatten(),\n",
    "    Dense(512, activation = 'relu'),\n",
    "    Dense(128, activation= 'relu'),\n",
    "    Dense(10, activation = 'softmax')\n",
    "])"
   ]
  },
  {
   "cell_type": "code",
   "execution_count": null,
   "metadata": {
    "id": "5uaLyvfN7cx2"
   },
   "outputs": [],
   "source": [
    "optim = keras.optimizers.SGD(learning_rate = 0.001, momentum = 0.9)\n",
    "model.compile(optimizer = optim, loss = \"categorical_crossentropy\", metrics = ['accuracy'])"
   ]
  },
  {
   "cell_type": "code",
   "execution_count": null,
   "metadata": {
    "colab": {
     "base_uri": "https://localhost:8080/"
    },
    "id": "sepO9pw29-cs",
    "outputId": "477b7701-aea0-4b50-b609-d563762d0a73"
   },
   "outputs": [
    {
     "data": {
      "text/plain": [
       "(50000, 32, 32, 3)"
      ]
     },
     "execution_count": 19,
     "metadata": {},
     "output_type": "execute_result"
    }
   ],
   "source": [
    "x_train.shape"
   ]
  },
  {
   "cell_type": "code",
   "execution_count": null,
   "metadata": {
    "colab": {
     "base_uri": "https://localhost:8080/"
    },
    "id": "Re8_ZzX19g27",
    "outputId": "c70c70fd-0478-4d5b-f673-da8caf57b989"
   },
   "outputs": [
    {
     "name": "stdout",
     "output_type": "stream",
     "text": [
      "Epoch 1/5\n",
      "391/391 [==============================] - 316s 807ms/step - loss: 1.8950 - accuracy: 0.3084 - val_loss: 1.7916 - val_accuracy: 0.3605\n",
      "Epoch 2/5\n",
      "391/391 [==============================] - 319s 816ms/step - loss: 1.6946 - accuracy: 0.3913 - val_loss: 1.6246 - val_accuracy: 0.4162\n",
      "Epoch 3/5\n",
      "391/391 [==============================] - 307s 785ms/step - loss: 1.5564 - accuracy: 0.4385 - val_loss: 1.4918 - val_accuracy: 0.4611\n",
      "Epoch 4/5\n",
      "391/391 [==============================] - 285s 728ms/step - loss: 1.4795 - accuracy: 0.4691 - val_loss: 1.4222 - val_accuracy: 0.4893\n",
      "Epoch 5/5\n",
      "391/391 [==============================] - 296s 756ms/step - loss: 1.4047 - accuracy: 0.4959 - val_loss: 1.3960 - val_accuracy: 0.4972\n"
     ]
    }
   ],
   "source": [
    "model_history = model.fit(x_train, y_train, epochs = 5,\n",
    "                          batch_size = 128,\n",
    "                          validation_data = (x_test, y_test))"
   ]
  },
  {
   "cell_type": "code",
   "execution_count": null,
   "metadata": {
    "colab": {
     "base_uri": "https://localhost:8080/"
    },
    "id": "TNjaueqI-irp",
    "outputId": "46c7bd28-3327-46e7-b173-08343a86aa84"
   },
   "outputs": [
    {
     "name": "stdout",
     "output_type": "stream",
     "text": [
      "Model: \"sequential_1\"\n",
      "_________________________________________________________________\n",
      " Layer (type)                Output Shape              Param #   \n",
      "=================================================================\n",
      " conv2d_3 (Conv2D)           (None, 32, 32, 32)        2432      \n",
      "                                                                 \n",
      " max_pooling2d_3 (MaxPoolin  (None, 16, 16, 32)        0         \n",
      " g2D)                                                            \n",
      "                                                                 \n",
      " conv2d_4 (Conv2D)           (None, 16, 16, 64)        51264     \n",
      "                                                                 \n",
      " max_pooling2d_4 (MaxPoolin  (None, 8, 8, 64)          0         \n",
      " g2D)                                                            \n",
      "                                                                 \n",
      " conv2d_5 (Conv2D)           (None, 8, 8, 128)         204928    \n",
      "                                                                 \n",
      " max_pooling2d_5 (MaxPoolin  (None, 4, 4, 128)         0         \n",
      " g2D)                                                            \n",
      "                                                                 \n",
      " flatten_1 (Flatten)         (None, 2048)              0         \n",
      "                                                                 \n",
      " dense_3 (Dense)             (None, 512)               1049088   \n",
      "                                                                 \n",
      " dense_4 (Dense)             (None, 128)               65664     \n",
      "                                                                 \n",
      " dense_5 (Dense)             (None, 10)                1290      \n",
      "                                                                 \n",
      "=================================================================\n",
      "Total params: 1374666 (5.24 MB)\n",
      "Trainable params: 1374666 (5.24 MB)\n",
      "Non-trainable params: 0 (0.00 Byte)\n",
      "_________________________________________________________________\n"
     ]
    }
   ],
   "source": [
    "model.summary()"
   ]
  },
  {
   "cell_type": "code",
   "execution_count": null,
   "metadata": {
    "colab": {
     "base_uri": "https://localhost:8080/"
    },
    "id": "NXGs5oGe-lPz",
    "outputId": "39d10c37-4335-418a-a406-032c7678bc65"
   },
   "outputs": [
    {
     "name": "stdout",
     "output_type": "stream",
     "text": [
      "Accuracy :  0.49720001220703125\n"
     ]
    }
   ],
   "source": [
    "_, accuracy = model.evaluate(x_test, y_test, verbose = 0)\n",
    "print(\"Accuracy : \",accuracy)"
   ]
  },
  {
   "cell_type": "markdown",
   "metadata": {
    "id": "4eN3faCErQ4n"
   },
   "source": [
    "# 11. Fraud Detection"
   ]
  },
  {
   "cell_type": "code",
   "execution_count": null,
   "metadata": {
    "id": "VcvPOYwBc38K"
   },
   "outputs": [],
   "source": [
    "import numpy as np\n",
    "import pandas as pd\n",
    "import matplotlib.pyplot as plt\n",
    "from sklearn.utils import resample\n",
    "from sklearn.model_selection import train_test_split\n",
    "from sklearn.ensemble import RandomForestClassifier\n",
    "from sklearn.metrics import classification_report\n",
    "from sklearn.metrics import confusion_matrix"
   ]
  },
  {
   "cell_type": "code",
   "execution_count": null,
   "metadata": {
    "id": "C6yW3TrTc74O"
   },
   "outputs": [],
   "source": [
    "df = pd.read_csv(\"creditcard.csv\")"
   ]
  },
  {
   "cell_type": "code",
   "execution_count": null,
   "metadata": {
    "id": "YKZ876lwhhM_"
   },
   "outputs": [],
   "source": [
    "print(\"Shape :\", df.shape)\n",
    "df.head()"
   ]
  },
  {
   "cell_type": "code",
   "execution_count": null,
   "metadata": {
    "id": "6kdEvn4ehipM"
   },
   "outputs": [],
   "source": [
    "df[df[\"Class\"] == 0][\"Amount\"].describe()"
   ]
  },
  {
   "cell_type": "code",
   "execution_count": null,
   "metadata": {
    "id": "ThpFpQbphloV"
   },
   "outputs": [],
   "source": [
    "### DownSampling\n",
    "df[\"Class\"].value_counts()"
   ]
  },
  {
   "cell_type": "code",
   "execution_count": null,
   "metadata": {
    "id": "mMgApZy9hqEd"
   },
   "outputs": [],
   "source": [
    "zero_df = resample(df[df[\"Class\"] == 0], n_samples=492)\n",
    "sample_df = pd.concat([df[df[\"Class\"] == 1], zero_df], ignore_index=True)"
   ]
  },
  {
   "cell_type": "code",
   "execution_count": null,
   "metadata": {
    "id": "PM1B1kTmhsKg"
   },
   "outputs": [],
   "source": [
    "### Correlation Matrix\n",
    "sample_df.corr()"
   ]
  },
  {
   "cell_type": "code",
   "execution_count": null,
   "metadata": {
    "id": "s_dT9wH4huet"
   },
   "outputs": [],
   "source": [
    "x = sample_df.iloc[:,:-1].values\n",
    "y = sample_df.iloc[:, -1].valuesx_train, x_test, y_train, y_test = train_test_split(x, y, random_state=69,\n",
    "test_size=0.2)"
   ]
  },
  {
   "cell_type": "code",
   "execution_count": null,
   "metadata": {
    "id": "LWM8zFnIrTbt"
   },
   "outputs": [],
   "source": [
    "model = RandomForestClassifier()\n",
    "model.fit(x_train, y_train)\n",
    "y_pred = model.predict(x_test)"
   ]
  },
  {
   "cell_type": "code",
   "execution_count": null,
   "metadata": {
    "id": "625na2M7h3cO"
   },
   "outputs": [],
   "source": [
    "print(classification_report(y_test, y_pred))"
   ]
  },
  {
   "cell_type": "code",
   "execution_count": null,
   "metadata": {
    "id": "hn6KCa2Kh_lu"
   },
   "outputs": [],
   "source": [
    "print(confusion_matrix(y_test, y_pred))"
   ]
  },
  {
   "cell_type": "markdown",
   "metadata": {
    "id": "0owIs2WIARK5"
   },
   "source": [
    "# 12. AutoEncoder"
   ]
  },
  {
   "cell_type": "markdown",
   "metadata": {
    "id": "6u-j6dj_AX-_"
   },
   "source": [
    "![image.png](data:image/png;base64,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)"
   ]
  },
  {
   "cell_type": "code",
   "execution_count": null,
   "metadata": {
    "id": "Org_KeyDAZnw"
   },
   "outputs": [],
   "source": [
    "import pandas as pd\n",
    "import matplotlib.pyplot as plt\n",
    "import numpy as np\n",
    "import tensorflow as tf\n",
    "import keras\n",
    "from tensorflow.keras.datasets import mnist\n",
    "from keras.models import Sequential\n",
    "from keras.layers import Conv2D, MaxPooling2D, UpSampling2D"
   ]
  },
  {
   "cell_type": "code",
   "execution_count": null,
   "metadata": {
    "id": "Ioh-hvsNA6Ph"
   },
   "outputs": [],
   "source": [
    "(x_train,_),(x_test,_) = mnist.load_data()"
   ]
  },
  {
   "cell_type": "code",
   "execution_count": null,
   "metadata": {
    "colab": {
     "base_uri": "https://localhost:8080/"
    },
    "id": "XLPciwujBAwZ",
    "outputId": "44b7dc7e-cd08-4f47-bf58-b8a87882e68d"
   },
   "outputs": [
    {
     "data": {
      "text/plain": [
       "((60000, 28, 28), (10000, 28, 28))"
      ]
     },
     "execution_count": 53,
     "metadata": {},
     "output_type": "execute_result"
    }
   ],
   "source": [
    "x_train.shape, x_test.shape"
   ]
  },
  {
   "cell_type": "code",
   "execution_count": null,
   "metadata": {
    "id": "Q_rqnS8ABAtR"
   },
   "outputs": [],
   "source": [
    "x_train = x_train / 255\n",
    "x_test = x_test / 255"
   ]
  },
  {
   "cell_type": "code",
   "execution_count": null,
   "metadata": {
    "id": "9GBYcIlvBL6D"
   },
   "outputs": [],
   "source": [
    "input_img = keras.Input(shape=(28,28,1))"
   ]
  },
  {
   "cell_type": "code",
   "execution_count": null,
   "metadata": {
    "id": "9SO8M8U3BL2-"
   },
   "outputs": [],
   "source": [
    "x = Conv2D(16,(3,3),activation = 'relu', padding = 'same')(input_img)\n",
    "x = MaxPooling2D((2,2), padding = 'same')(x)\n",
    "x = Conv2D(8,(3,3),activation = 'relu', padding = 'same')(x)\n",
    "x = MaxPooling2D((2,2), padding = 'same')(x)\n",
    "x = Conv2D(8,(3,3),activation = 'relu', padding = 'same')(x)\n",
    "encoded = MaxPooling2D((2,2), padding = 'same')(x)"
   ]
  },
  {
   "cell_type": "code",
   "execution_count": null,
   "metadata": {
    "id": "hi158ygVBAn6"
   },
   "outputs": [],
   "source": [
    "x = Conv2D(8,(3,3),activation = 'relu', padding = 'same')(encoded)\n",
    "x = UpSampling2D((2,2))(x)\n",
    "x = Conv2D(8,(3,3),activation = 'relu', padding = 'same')(x)\n",
    "x = UpSampling2D((2,2))(x)\n",
    "x = Conv2D(16,(3,3),activation = 'relu')(x)\n",
    "x = UpSampling2D((2,2))(x)\n",
    "decoded = Conv2D(1,(3,3), activation = 'sigmoid',padding='same')(x)"
   ]
  },
  {
   "cell_type": "code",
   "execution_count": null,
   "metadata": {
    "id": "BQbRTZFbCLSb"
   },
   "outputs": [],
   "source": [
    "autoencoder = keras.Model(input_img , decoded)\n",
    "autoencoder.compile(optimizer = 'adam',\n",
    "                    loss = 'binary_crossentropy',\n",
    "                    metrics = ['acc'])"
   ]
  },
  {
   "cell_type": "code",
   "execution_count": null,
   "metadata": {
    "colab": {
     "base_uri": "https://localhost:8080/"
    },
    "id": "VFy1UhHwCLPx",
    "outputId": "3637c749-441c-40ce-ee54-7ad4cdb23cf3"
   },
   "outputs": [
    {
     "name": "stdout",
     "output_type": "stream",
     "text": [
      "Model: \"model_5\"\n",
      "_________________________________________________________________\n",
      " Layer (type)                Output Shape              Param #   \n",
      "=================================================================\n",
      " input_5 (InputLayer)        [(None, 28, 28, 1)]       0         \n",
      "                                                                 \n",
      " conv2d_39 (Conv2D)          (None, 28, 28, 16)        160       \n",
      "                                                                 \n",
      " max_pooling2d_15 (MaxPooli  (None, 14, 14, 16)        0         \n",
      " ng2D)                                                           \n",
      "                                                                 \n",
      " conv2d_40 (Conv2D)          (None, 14, 14, 8)         1160      \n",
      "                                                                 \n",
      " max_pooling2d_16 (MaxPooli  (None, 7, 7, 8)           0         \n",
      " ng2D)                                                           \n",
      "                                                                 \n",
      " conv2d_41 (Conv2D)          (None, 7, 7, 8)           584       \n",
      "                                                                 \n",
      " max_pooling2d_17 (MaxPooli  (None, 4, 4, 8)           0         \n",
      " ng2D)                                                           \n",
      "                                                                 \n",
      " conv2d_42 (Conv2D)          (None, 4, 4, 8)           584       \n",
      "                                                                 \n",
      " up_sampling2d_18 (UpSampli  (None, 8, 8, 8)           0         \n",
      " ng2D)                                                           \n",
      "                                                                 \n",
      " conv2d_43 (Conv2D)          (None, 8, 8, 8)           584       \n",
      "                                                                 \n",
      " up_sampling2d_19 (UpSampli  (None, 16, 16, 8)         0         \n",
      " ng2D)                                                           \n",
      "                                                                 \n",
      " conv2d_44 (Conv2D)          (None, 14, 14, 16)        1168      \n",
      "                                                                 \n",
      " up_sampling2d_20 (UpSampli  (None, 28, 28, 16)        0         \n",
      " ng2D)                                                           \n",
      "                                                                 \n",
      " conv2d_45 (Conv2D)          (None, 28, 28, 1)         145       \n",
      "                                                                 \n",
      "=================================================================\n",
      "Total params: 4385 (17.13 KB)\n",
      "Trainable params: 4385 (17.13 KB)\n",
      "Non-trainable params: 0 (0.00 Byte)\n",
      "_________________________________________________________________\n"
     ]
    }
   ],
   "source": [
    "autoencoder.summary()"
   ]
  },
  {
   "cell_type": "code",
   "execution_count": null,
   "metadata": {
    "colab": {
     "base_uri": "https://localhost:8080/"
    },
    "id": "7AfULiBWCx9D",
    "outputId": "000cc23c-80e5-4eac-93f1-5f1c6506e44e"
   },
   "outputs": [
    {
     "name": "stdout",
     "output_type": "stream",
     "text": [
      "Epoch 1/7\n",
      "469/469 [==============================] - 6s 9ms/step - loss: 0.1997 - acc: 0.7963 - val_loss: 0.1423 - val_acc: 0.8022\n",
      "Epoch 2/7\n",
      "469/469 [==============================] - 5s 11ms/step - loss: 0.1326 - acc: 0.8063 - val_loss: 0.1251 - val_acc: 0.8071\n",
      "Epoch 3/7\n",
      "469/469 [==============================] - 6s 13ms/step - loss: 0.1221 - acc: 0.8084 - val_loss: 0.1175 - val_acc: 0.8083\n",
      "Epoch 4/7\n",
      "469/469 [==============================] - 4s 9ms/step - loss: 0.1168 - acc: 0.8094 - val_loss: 0.1136 - val_acc: 0.8084\n",
      "Epoch 5/7\n",
      "469/469 [==============================] - 3s 6ms/step - loss: 0.1132 - acc: 0.8101 - val_loss: 0.1104 - val_acc: 0.8092\n",
      "Epoch 6/7\n",
      "469/469 [==============================] - 3s 7ms/step - loss: 0.1106 - acc: 0.8106 - val_loss: 0.1083 - val_acc: 0.8103\n",
      "Epoch 7/7\n",
      "469/469 [==============================] - 3s 7ms/step - loss: 0.1088 - acc: 0.8109 - val_loss: 0.1065 - val_acc: 0.8105\n"
     ]
    },
    {
     "data": {
      "text/plain": [
       "<keras.src.callbacks.History at 0x7de6f6b56e90>"
      ]
     },
     "execution_count": 60,
     "metadata": {},
     "output_type": "execute_result"
    }
   ],
   "source": [
    "autoencoder.fit(x_train, x_train, batch_size = 128, epochs = 7, validation_data=(x_test,x_test))"
   ]
  },
  {
   "cell_type": "code",
   "execution_count": null,
   "metadata": {
    "colab": {
     "base_uri": "https://localhost:8080/"
    },
    "id": "IaH3DQReCxoT",
    "outputId": "ea2066b2-571d-4db0-dc41-2415e54247ec"
   },
   "outputs": [
    {
     "name": "stdout",
     "output_type": "stream",
     "text": [
      "313/313 [==============================] - 1s 3ms/step - loss: 0.1105 - acc: 0.8080\n"
     ]
    },
    {
     "data": {
      "text/plain": [
       "[0.11054952442646027, 0.8080427050590515]"
      ]
     },
     "execution_count": 28,
     "metadata": {},
     "output_type": "execute_result"
    }
   ],
   "source": [
    "autoencoder.evaluate(x_test,x_test)"
   ]
  },
  {
   "cell_type": "code",
   "execution_count": null,
   "metadata": {
    "colab": {
     "base_uri": "https://localhost:8080/"
    },
    "id": "pBmzKDYSFa5E",
    "outputId": "80276740-0688-4c17-eb27-c884c96f9e7b"
   },
   "outputs": [
    {
     "data": {
      "text/plain": [
       "(28, 28)"
      ]
     },
     "execution_count": 61,
     "metadata": {},
     "output_type": "execute_result"
    }
   ],
   "source": [
    "x_test[5].shape"
   ]
  },
  {
   "cell_type": "code",
   "execution_count": null,
   "metadata": {
    "colab": {
     "base_uri": "https://localhost:8080/"
    },
    "id": "qhN4u5TrDksZ",
    "outputId": "00f69526-f223-48e1-fd54-c0d999944722"
   },
   "outputs": [
    {
     "name": "stdout",
     "output_type": "stream",
     "text": [
      "1/1 [==============================] - 0s 343ms/step\n"
     ]
    }
   ],
   "source": [
    "x_pred = autoencoder.predict(x_test[5].reshape(1,28,28,1))"
   ]
  },
  {
   "cell_type": "code",
   "execution_count": null,
   "metadata": {
    "colab": {
     "base_uri": "https://localhost:8080/"
    },
    "id": "qZWAi7_ED90e",
    "outputId": "dada81e8-d209-4250-cbf8-beeedf102ee8"
   },
   "outputs": [
    {
     "data": {
      "text/plain": [
       "(1, 28, 28, 1)"
      ]
     },
     "execution_count": 64,
     "metadata": {},
     "output_type": "execute_result"
    }
   ],
   "source": [
    "x_pred.shape"
   ]
  },
  {
   "cell_type": "code",
   "execution_count": null,
   "metadata": {
    "colab": {
     "base_uri": "https://localhost:8080/",
     "height": 430
    },
    "id": "ml8gijAuDp1B",
    "outputId": "6bc4b007-b91f-492b-8150-a1c1de85074e"
   },
   "outputs": [
    {
     "data": {
      "image/png": "[encoded data removed]",
      "text/plain": [
       "<Figure size 640x480 with 1 Axes>"
      ]
     },
     "metadata": {},
     "output_type": "display_data"
    }
   ],
   "source": [
    "plt.imshow(x_test[5]);"
   ]
  },
  {
   "cell_type": "code",
   "execution_count": null,
   "metadata": {
    "colab": {
     "base_uri": "https://localhost:8080/",
     "height": 430
    },
    "id": "-9q6PrV1DtsB",
    "outputId": "789bfa16-31e4-48e4-e244-7d5f6deb621d"
   },
   "outputs": [
    {
     "data": {
      "image/png": "[encoded data removed]",
      "text/plain": [
       "<Figure size 640x480 with 1 Axes>"
      ]
     },
     "metadata": {},
     "output_type": "display_data"
    }
   ],
   "source": [
    "plt.imshow(x_pred.reshape(28,28));"
   ]
  },
  {
   "cell_type": "markdown",
   "metadata": {
    "id": "7ofPvBIsmYHG"
   },
   "source": [
    "# 13. Anomaly Detection System\n",
    "observing rare events and observations\\\n",
    "its statistically different from the rest of the observations."
   ]
  },
  {
   "cell_type": "markdown",
   "metadata": {
    "id": "_kCegC0wi5Z4"
   },
   "source": [
    "Normal data : Handwritten digits\\\n",
    "Anomaly data : fashion MNIST\\\n",
    "Anomaly detection system -> trained by normal data, identifues normal and anomaly data during testing\\\n",
    "**Autoencoder** : encoder decoder systme to reconstrcut the input as the output.\\\n",
    "Goal : train autoencoder with smaller reconstruction error. but, reconstructing and image from anomaly data with larger reconstruction error.\\\n",
    "using the reconstruction errors, we decide out threshold."
   ]
  },
  {
   "cell_type": "markdown",
   "metadata": {
    "id": "0cUKYl7c_XmP"
   },
   "source": [
    "![image.png](data:image/png;base64,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)"
   ]
  },
  {
   "cell_type": "code",
   "execution_count": null,
   "metadata": {
    "id": "IkmzfM-EmbdD"
   },
   "outputs": [],
   "source": [
    "import numpy as np\n",
    "import pandas as pd\n",
    "import matplotlib.pyplot as plt\n",
    "\n",
    "import tensorflow as tf\n",
    "from keras import datasets"
   ]
  },
  {
   "cell_type": "code",
   "execution_count": null,
   "metadata": {
    "colab": {
     "base_uri": "https://localhost:8080/"
    },
    "id": "Cs93Cc-YmoTS",
    "outputId": "b900fff9-2432-4393-d098-051359a8d386"
   },
   "outputs": [
    {
     "name": "stdout",
     "output_type": "stream",
     "text": [
      "Downloading data from https://storage.googleapis.com/tensorflow/tf-keras-datasets/train-labels-idx1-ubyte.gz\n",
      "29515/29515 [==============================] - 0s 0us/step\n",
      "Downloading data from https://storage.googleapis.com/tensorflow/tf-keras-datasets/train-images-idx3-ubyte.gz\n",
      "26421880/26421880 [==============================] - 0s 0us/step\n",
      "Downloading data from https://storage.googleapis.com/tensorflow/tf-keras-datasets/t10k-labels-idx1-ubyte.gz\n",
      "5148/5148 [==============================] - 0s 0us/step\n",
      "Downloading data from https://storage.googleapis.com/tensorflow/tf-keras-datasets/t10k-images-idx3-ubyte.gz\n",
      "4422102/4422102 [==============================] - 0s 0us/step\n"
     ]
    }
   ],
   "source": [
    "#normal data\n",
    "digit = datasets.mnist.load_data()\n",
    "\n",
    "#anomaly data\n",
    "fashion = datasets.fashion_mnist.load_data()"
   ]
  },
  {
   "cell_type": "code",
   "execution_count": null,
   "metadata": {
    "id": "N2OQHDLHmzhy"
   },
   "outputs": [],
   "source": [
    "#data to train and test from normal data\n",
    "x_train = digit[0][0]  #train data\n",
    "x_test = digit[1][0]  #test data\n",
    "\n",
    "#testing using anomaly data\n",
    "fashion_test = fashion[1][0]"
   ]
  },
  {
   "cell_type": "code",
   "execution_count": null,
   "metadata": {
    "colab": {
     "base_uri": "https://localhost:8080/"
    },
    "id": "3r-jq5oklU0X",
    "outputId": "8d30b0cb-7de0-4ac0-cfd4-3292483440ff"
   },
   "outputs": [
    {
     "data": {
      "text/plain": [
       "(60000, 28, 28)"
      ]
     },
     "execution_count": 37,
     "metadata": {},
     "output_type": "execute_result"
    }
   ],
   "source": [
    "x_train.shape"
   ]
  },
  {
   "cell_type": "code",
   "execution_count": null,
   "metadata": {
    "id": "1liWx4QHnAko"
   },
   "outputs": [],
   "source": [
    "#normalise the data\n",
    "x_train = x_train/255\n",
    "x_test = x_test / 255\n",
    "\n",
    "#reshape it to grayscale\n",
    "x_train = x_train.reshape(len(x_train), 28,28,1)\n",
    "x_test = x_test.reshape(len(x_test),28,28,1)"
   ]
  },
  {
   "cell_type": "code",
   "execution_count": null,
   "metadata": {
    "id": "vmdYipUOnQAN"
   },
   "outputs": [],
   "source": [
    "fashion_test = fashion_test / 255\n",
    "fashion_test = fashion_test.reshape(len(fashion_test),28,28,1)"
   ]
  },
  {
   "cell_type": "code",
   "execution_count": null,
   "metadata": {
    "id": "I1c0jOWlnfwt"
   },
   "outputs": [],
   "source": [
    "def plot_image(array, sample_size = 5):\n",
    "\n",
    "  index = 1\n",
    "  plt.figure(figsize = (20,4))\n",
    "\n",
    "  for i in np.random.choice(array.shape[0], size = sample_size):\n",
    "    ax = plt.subplot(2, 10, index)\n",
    "\n",
    "    index += 1\n",
    "\n",
    "    plt.imshow(array[i].reshape(28,28))\n",
    "    plt.gray()\n",
    "\n",
    "    ax.get_xaxis().set_visible(False)\n",
    "    ax.get_yaxis().set_visible(False)\n",
    "\n",
    "  plt.show()\n"
   ]
  },
  {
   "cell_type": "code",
   "execution_count": null,
   "metadata": {
    "colab": {
     "base_uri": "https://localhost:8080/",
     "height": 168
    },
    "id": "X136st8UpEuP",
    "outputId": "08e9e65f-2429-465d-9bbe-fc732983aad3"
   },
   "outputs": [
    {
     "data": {
      "image/png": "[encoded data removed]",
      "text/plain": [
       "<Figure size 2000x400 with 8 Axes>"
      ]
     },
     "metadata": {},
     "output_type": "display_data"
    }
   ],
   "source": [
    "plot_image(x_train, sample_size = 8)"
   ]
  },
  {
   "cell_type": "code",
   "execution_count": null,
   "metadata": {
    "colab": {
     "base_uri": "https://localhost:8080/",
     "height": 168
    },
    "id": "bAVKovOHpKAh",
    "outputId": "c8f3e0b2-3223-4afe-ced5-0ceb6850ebe5"
   },
   "outputs": [
    {
     "data": {
      "image/png": "[encoded data removed]",
      "text/plain": [
       "<Figure size 2000x400 with 8 Axes>"
      ]
     },
     "metadata": {},
     "output_type": "display_data"
    }
   ],
   "source": [
    "plot_image(fashion_test, sample_size = 8)"
   ]
  },
  {
   "cell_type": "code",
   "execution_count": null,
   "metadata": {
    "id": "qWyG1PhCpUM0"
   },
   "outputs": [],
   "source": [
    "import keras\n",
    "from keras.models import Sequential\n",
    "from keras.layers import Conv2D, MaxPooling2D, UpSampling2D"
   ]
  },
  {
   "cell_type": "code",
   "execution_count": null,
   "metadata": {
    "id": "B1WhPYIzpZJu"
   },
   "outputs": [],
   "source": [
    "input_img = keras.Input(shape = (28,28,1))"
   ]
  },
  {
   "cell_type": "markdown",
   "metadata": {
    "id": "e47vTaA6mPGE"
   },
   "source": [
    "#### Encoder\n",
    "- Conv2D-> 16, (3,3), relu (input_img)\n",
    "- MaxPooling (2,2) same pad\n",
    "- Conv2D 8 (3,3), relu\n",
    "- Maxpool\n",
    "- COnv2D 8 (3,3), relu\n",
    "- Maxpool"
   ]
  },
  {
   "cell_type": "code",
   "execution_count": null,
   "metadata": {
    "id": "O4QsjRBYpdsx"
   },
   "outputs": [],
   "source": [
    "x = Conv2D(16, (3,3), activation = 'relu', padding = 'same')(input_img)\n",
    "x = MaxPooling2D((2,2), padding = 'same')(x)\n",
    "x = Conv2D(8, (3,3), activation = 'relu', padding = 'same')(x)\n",
    "x = MaxPooling2D((2,2), padding = 'same')(x)\n",
    "x = Conv2D(8, (3,3), activation = 'relu', padding = 'same')(x)\n",
    "encoded = MaxPooling2D((2,2), padding = 'same')(x)"
   ]
  },
  {
   "cell_type": "markdown",
   "metadata": {
    "id": "haQDXQcMnI8i"
   },
   "source": [
    "#### Decoder\n",
    "- Conv2d (8, (3,3), relu, same) (encoded)\n",
    "- Upsampling2D\n",
    "- Conv2D 8, (3,3), relu, same\n",
    "- Upsampling\n",
    "- Conv2D 16\n",
    "- Upsampling\n",
    "- Conv 1, (3,3) sigmoid"
   ]
  },
  {
   "cell_type": "code",
   "execution_count": null,
   "metadata": {
    "id": "1T3nJs1nqPdJ"
   },
   "outputs": [],
   "source": [
    "x = Conv2D(8, (3,3), activation = 'relu', padding = 'same')(encoded)\n",
    "x = UpSampling2D((2,2))(x)\n",
    "x = Conv2D(8, (3,3), activation = 'relu', padding = 'same')(x)\n",
    "x = UpSampling2D((2,2))(x)\n",
    "x = Conv2D(16, (3,3), activation = 'relu')(x)\n",
    "x = UpSampling2D((2,2))(x)\n",
    "decoded = Conv2D( 1, (3,3), activation = 'sigmoid', padding = 'same')(x)"
   ]
  },
  {
   "cell_type": "code",
   "execution_count": null,
   "metadata": {
    "colab": {
     "base_uri": "https://localhost:8080/"
    },
    "id": "Z0rfsbrGqyZ9",
    "outputId": "fe6a7789-3e6c-4cd1-c3d8-3180c0267eb2"
   },
   "outputs": [
    {
     "name": "stdout",
     "output_type": "stream",
     "text": [
      "Model: \"model_4\"\n",
      "_________________________________________________________________\n",
      " Layer (type)                Output Shape              Param #   \n",
      "=================================================================\n",
      " input_4 (InputLayer)        [(None, 28, 28, 1)]       0         \n",
      "                                                                 \n",
      " conv2d_32 (Conv2D)          (None, 28, 28, 16)        160       \n",
      "                                                                 \n",
      " max_pooling2d_12 (MaxPooli  (None, 14, 14, 16)        0         \n",
      " ng2D)                                                           \n",
      "                                                                 \n",
      " conv2d_33 (Conv2D)          (None, 14, 14, 8)         1160      \n",
      "                                                                 \n",
      " max_pooling2d_13 (MaxPooli  (None, 7, 7, 8)           0         \n",
      " ng2D)                                                           \n",
      "                                                                 \n",
      " conv2d_34 (Conv2D)          (None, 7, 7, 8)           584       \n",
      "                                                                 \n",
      " max_pooling2d_14 (MaxPooli  (None, 4, 4, 8)           0         \n",
      " ng2D)                                                           \n",
      "                                                                 \n",
      " conv2d_35 (Conv2D)          (None, 4, 4, 8)           584       \n",
      "                                                                 \n",
      " up_sampling2d_15 (UpSampli  (None, 8, 8, 8)           0         \n",
      " ng2D)                                                           \n",
      "                                                                 \n",
      " conv2d_36 (Conv2D)          (None, 8, 8, 8)           584       \n",
      "                                                                 \n",
      " up_sampling2d_16 (UpSampli  (None, 16, 16, 8)         0         \n",
      " ng2D)                                                           \n",
      "                                                                 \n",
      " conv2d_37 (Conv2D)          (None, 14, 14, 16)        1168      \n",
      "                                                                 \n",
      " up_sampling2d_17 (UpSampli  (None, 28, 28, 16)        0         \n",
      " ng2D)                                                           \n",
      "                                                                 \n",
      " conv2d_38 (Conv2D)          (None, 28, 28, 1)         145       \n",
      "                                                                 \n",
      "=================================================================\n",
      "Total params: 4385 (17.13 KB)\n",
      "Trainable params: 4385 (17.13 KB)\n",
      "Non-trainable params: 0 (0.00 Byte)\n",
      "_________________________________________________________________\n"
     ]
    }
   ],
   "source": [
    "autoencoder = keras.Model(input_img, decoded)\n",
    "autoencoder.compile(optimizer = 'adam',\n",
    "                    loss = 'binary_crossentropy',\n",
    "                    metrics = ['accuracy'])\n",
    "\n",
    "autoencoder.summary()"
   ]
  },
  {
   "cell_type": "code",
   "execution_count": null,
   "metadata": {
    "colab": {
     "base_uri": "https://localhost:8080/"
    },
    "id": "P9MYCcFcrKpU",
    "outputId": "a75b3a01-a803-47aa-b5fe-50931c483be4"
   },
   "outputs": [
    {
     "name": "stdout",
     "output_type": "stream",
     "text": [
      "Epoch 1/5\n",
      "938/938 [==============================] - 9s 7ms/step - loss: 0.1793 - accuracy: 0.7985 - val_loss: 0.1302 - val_accuracy: 0.8049\n",
      "Epoch 2/5\n",
      "938/938 [==============================] - 7s 7ms/step - loss: 0.1229 - accuracy: 0.8081 - val_loss: 0.1154 - val_accuracy: 0.8090\n",
      "Epoch 3/5\n",
      "938/938 [==============================] - 7s 7ms/step - loss: 0.1132 - accuracy: 0.8100 - val_loss: 0.1093 - val_accuracy: 0.8103\n",
      "Epoch 4/5\n",
      "938/938 [==============================] - 6s 7ms/step - loss: 0.1084 - accuracy: 0.8109 - val_loss: 0.1056 - val_accuracy: 0.8104\n",
      "Epoch 5/5\n",
      "938/938 [==============================] - 7s 7ms/step - loss: 0.1054 - accuracy: 0.8114 - val_loss: 0.1030 - val_accuracy: 0.8103\n"
     ]
    },
    {
     "data": {
      "text/plain": [
       "<keras.src.callbacks.History at 0x7de6f6d2c8e0>"
      ]
     },
     "execution_count": 48,
     "metadata": {},
     "output_type": "execute_result"
    }
   ],
   "source": [
    "autoencoder.fit(x_train, x_train,epochs = 5, batch_size = 64,\n",
    "                validation_data = (x_test, x_test))"
   ]
  },
  {
   "cell_type": "code",
   "execution_count": null,
   "metadata": {
    "colab": {
     "base_uri": "https://localhost:8080/"
    },
    "id": "xme6qXT8raPs",
    "outputId": "9a8fb627-45e3-4df3-c387-8631bde41596"
   },
   "outputs": [
    {
     "name": "stdout",
     "output_type": "stream",
     "text": [
      "313/313 [==============================] - 1s 2ms/step\n",
      "313/313 [==============================] - 1s 2ms/step\n"
     ]
    }
   ],
   "source": [
    "digit_predict = autoencoder.predict(x_test)\n",
    "fashion_predict = autoencoder.predict(fashion_test)"
   ]
  },
  {
   "cell_type": "code",
   "execution_count": null,
   "metadata": {
    "colab": {
     "base_uri": "https://localhost:8080/"
    },
    "id": "p19yquKGFNbw",
    "outputId": "db82c9d2-61ea-4151-96fb-d88f34efb799"
   },
   "outputs": [
    {
     "data": {
      "text/plain": [
       "(10000, 28, 28, 1)"
      ]
     },
     "execution_count": 50,
     "metadata": {},
     "output_type": "execute_result"
    }
   ],
   "source": [
    "digit_predict.shape"
   ]
  },
  {
   "cell_type": "code",
   "execution_count": null,
   "metadata": {
    "colab": {
     "base_uri": "https://localhost:8080/",
     "height": 168
    },
    "id": "5GqJjT5ssI7T",
    "outputId": "d2917034-5e4d-4877-d3f2-8bb88fcd06ee"
   },
   "outputs": [
    {
     "data": {
      "image/png": "[encoded data removed]",
      "text/plain": [
       "<Figure size 2000x400 with 5 Axes>"
      ]
     },
     "metadata": {},
     "output_type": "display_data"
    }
   ],
   "source": [
    "plot_image(digit_predict)"
   ]
  },
  {
   "cell_type": "code",
   "execution_count": null,
   "metadata": {
    "colab": {
     "base_uri": "https://localhost:8080/",
     "height": 168
    },
    "id": "MgxBjIfdsMPg",
    "outputId": "67d5f02b-185b-41e3-c55f-157da73483c3"
   },
   "outputs": [
    {
     "data": {
      "image/png": "[encoded data removed]",
      "text/plain": [
       "<Figure size 2000x400 with 5 Axes>"
      ]
     },
     "metadata": {},
     "output_type": "display_data"
    }
   ],
   "source": [
    "plot_image(fashion_predict)"
   ]
  },
  {
   "cell_type": "code",
   "execution_count": null,
   "metadata": {
    "id": "ov6ea6bSsOZd"
   },
   "outputs": [],
   "source": [
    "reconstruction_error_digit = []\n",
    "reconstruction_error_fashion = []"
   ]
  },
  {
   "cell_type": "code",
   "execution_count": null,
   "metadata": {
    "id": "ES-FGvo3sV-o"
   },
   "outputs": [],
   "source": [
    "for i in x_test[:100]:\n",
    "  error = autoencoder.evaluate([i], [i], verbose = 0)[0]\n",
    "  reconstruction_error_digit.append(error)\n",
    "\n",
    "for i in fashion_test[:100]:\n",
    "  error = autoencoder.evaluate([i],[i], verbose= 0)[0]\n",
    "  reconstruction_error_fashion.append(error)"
   ]
  },
  {
   "cell_type": "code",
   "execution_count": null,
   "metadata": {
    "id": "l4ri3eLzs2h7"
   },
   "outputs": [],
   "source": [
    "reconstruction_error_digit = np.array(reconstruction_error_digit)\n",
    "reconstruction_error_fashion = np.array(reconstruction_error_fashion)"
   ]
  },
  {
   "cell_type": "code",
   "execution_count": null,
   "metadata": {
    "colab": {
     "base_uri": "https://localhost:8080/"
    },
    "id": "fQL3TNyTtCJp",
    "outputId": "04cecab7-5b50-41bd-96ef-32a60eb2f234"
   },
   "outputs": [
    {
     "data": {
      "text/plain": [
       "[0.17073414301462536, 0.7235807981532061]"
      ]
     },
     "execution_count": 31,
     "metadata": {},
     "output_type": "execute_result"
    }
   ],
   "source": [
    "threshold = [reconstruction_error_digit.mean() - 2* reconstruction_error_digit.std(),\n",
    "             reconstruction_error_digit.mean() + 2* reconstruction_error_digit.std()]\n",
    "\n",
    "threshold"
   ]
  },
  {
   "cell_type": "markdown",
   "metadata": {
    "id": "3Qh-hjbDp3qg"
   },
   "source": [
    "Given an image to test,\n",
    "1. evaulate on the model\n",
    "2. check if error is not  within range."
   ]
  },
  {
   "cell_type": "code",
   "execution_count": null,
   "metadata": {
    "id": "wZAEwRiHtR5H"
   },
   "outputs": [],
   "source": [
    "def detect_anomaly(image):\n",
    "\n",
    "  error = autoencoder.evaluate([image],[image], verbose = 0)[0]\n",
    "\n",
    "  if error >= threshold[0] and error <= threshold[1]:\n",
    "    print(\"No Anomaly\")\n",
    "    return 0\n",
    "\n",
    "  else :\n",
    "    print(\"Anomaly\")\n",
    "    return 1\n"
   ]
  },
  {
   "cell_type": "code",
   "execution_count": null,
   "metadata": {
    "colab": {
     "base_uri": "https://localhost:8080/"
    },
    "id": "NV6lgC9NuPrp",
    "outputId": "41856cf7-889d-4204-d3cf-7dddf5dbdd20"
   },
   "outputs": [
    {
     "name": "stdout",
     "output_type": "stream",
     "text": [
      "Anomaly\n",
      "No Anomaly\n",
      "Anomaly\n",
      "Anomaly\n",
      "Anomaly\n",
      "Anomaly\n",
      "Anomaly\n",
      "Anomaly\n",
      "Anomaly\n",
      "Anomaly\n",
      "Accuracy :  9\n"
     ]
    }
   ],
   "source": [
    "accuracy = 0\n",
    "for i in fashion_test[10:20]:\n",
    "  accuracy += detect_anomaly(i)\n",
    "\n",
    "print(\"Accuracy : \", accuracy)"
   ]
  }
 ],
 "metadata": {
  "accelerator": "GPU",
  "colab": {
   "gpuType": "T4",
   "provenance": []
  },
  "kernelspec": {
   "display_name": "Python 3 (ipykernel)",
   "language": "python",
   "name": "python3"
  },
  "language_info": {
   "codemirror_mode": {
    "name": "ipython",
    "version": 3
   },
   "file_extension": ".py",
   "mimetype": "text/x-python",
   "name": "python",
   "nbconvert_exporter": "python",
   "pygments_lexer": "ipython3",
   "version": "3.9.12"
  }
 },
 "nbformat": 4,
 "nbformat_minor": 1
}
