{
 "cells": [
  {
   "cell_type": "markdown",
   "id": "8ecb4d5d",
   "metadata": {},
   "source": [
    "##  Apply Sentiment analysis on to understand text classification on Keras IMDB dataset using Tensorflow. What is the test accuracy using vanilla RNN?"
   ]
  },
  {
   "cell_type": "code",
   "execution_count": null,
   "id": "432d6714",
   "metadata": {},
   "outputs": [],
   "source": [
    "import tensorflow, keras\n",
    "from keras.models import Sequential\n",
    "from keras.layers import *"
   ]
  },
  {
   "cell_type": "code",
   "execution_count": null,
   "id": "233e8660",
   "metadata": {},
   "outputs": [],
   "source": [
    "x = 1000 # most commonly occuring 1000 words\n",
    "(x_train,y_train),(x_test,y_test) = keras.datasets.imdb.load_data(num_words=x)"
   ]
  },
  {
   "cell_type": "code",
   "execution_count": null,
   "id": "adc6aa96",
   "metadata": {},
   "outputs": [],
   "source": [
    "max_len = 250\n",
    "from tensorflow.keras.preprocessing.sequence import pad_sequences\n",
    "x_train = pad_sequences(x_train,max_len)\n",
    "x_test = pad_sequences(x_test,max_len)"
   ]
  },
  {
   "cell_type": "code",
   "execution_count": 69,
   "id": "f19ef616",
   "metadata": {},
   "outputs": [],
   "source": [
    "model = Sequential()\n",
    "model.add(Embedding(x,50,input_length=max_len)) # how much words we are going to consider, embedding size\n",
    "model.add(SimpleRNN(50))\n",
    "model.add(Dense(1,activation='sigmoid'))"
   ]
  },
  {
   "cell_type": "code",
   "execution_count": 70,
   "id": "a69b1e00",
   "metadata": {},
   "outputs": [],
   "source": [
    "model.compile(optimizer='adam',metrics='acc',loss='binary_crossentropy')"
   ]
  },
  {
   "cell_type": "code",
   "execution_count": 71,
   "id": "41023a7c",
   "metadata": {
    "collapsed": true
   },
   "outputs": [
    {
     "name": "stdout",
     "output_type": "stream",
     "text": [
      "Epoch 1/5\n",
      "782/782 [==============================] - 101s 125ms/step - loss: 0.8429 - acc: 0.6022 - val_loss: 0.5777 - val_acc: 0.7103\n",
      "Epoch 2/5\n",
      "782/782 [==============================] - 95s 122ms/step - loss: 0.6636 - acc: 0.6803 - val_loss: 0.6425 - val_acc: 0.6206\n",
      "Epoch 3/5\n",
      "782/782 [==============================] - 97s 124ms/step - loss: 0.5697 - acc: 0.7120 - val_loss: 0.6628 - val_acc: 0.7041\n",
      "Epoch 4/5\n",
      "782/782 [==============================] - 109s 140ms/step - loss: 0.5401 - acc: 0.7392 - val_loss: 0.6436 - val_acc: 0.6134\n",
      "Epoch 5/5\n",
      "782/782 [==============================] - 99s 127ms/step - loss: 4.3106 - acc: 0.5956 - val_loss: 7.6185 - val_acc: 0.5004\n"
     ]
    },
    {
     "data": {
      "text/plain": [
       "<keras.callbacks.History at 0x22a6be8c160>"
      ]
     },
     "execution_count": 71,
     "metadata": {},
     "output_type": "execute_result"
    }
   ],
   "source": [
    "model.fit(x_train,y_train,epochs=5,validation_data=(x_test,y_test))"
   ]
  },
  {
   "cell_type": "code",
   "execution_count": 76,
   "id": "2fc2b2c3",
   "metadata": {},
   "outputs": [
    {
     "name": "stdout",
     "output_type": "stream",
     "text": [
      "Model: \"sequential_3\"\n",
      "_________________________________________________________________\n",
      " Layer (type)                Output Shape              Param #   \n",
      "=================================================================\n",
      " embedding_3 (Embedding)     (None, 500, 50)           50000     \n",
      "                                                                 \n",
      " simple_rnn_3 (SimpleRNN)    (None, 50)                5050      \n",
      "                                                                 \n",
      " dense_3 (Dense)             (None, 1)                 51        \n",
      "                                                                 \n",
      "=================================================================\n",
      "Total params: 55,101\n",
      "Trainable params: 55,101\n",
      "Non-trainable params: 0\n",
      "_________________________________________________________________\n"
     ]
    }
   ],
   "source": [
    "model.summary()"
   ]
  },
  {
   "cell_type": "code",
   "execution_count": 77,
   "id": "4ceaec33",
   "metadata": {},
   "outputs": [
    {
     "name": "stdout",
     "output_type": "stream",
     "text": [
      "782/782 [==============================] - 25s 32ms/step - loss: 7.6204 - acc: 0.5003\n"
     ]
    },
    {
     "data": {
      "text/plain": [
       "0.5002800226211548"
      ]
     },
     "execution_count": 77,
     "metadata": {},
     "output_type": "execute_result"
    }
   ],
   "source": [
    "model.evaluate(x_train,y_train)[1]"
   ]
  }
 ],
 "metadata": {
  "kernelspec": {
   "display_name": "Python 3 (ipykernel)",
   "language": "python",
   "name": "python3"
  },
  "language_info": {
   "codemirror_mode": {
    "name": "ipython",
    "version": 3
   },
   "file_extension": ".py",
   "mimetype": "text/x-python",
   "name": "python",
   "nbconvert_exporter": "python",
   "pygments_lexer": "ipython3",
   "version": "3.9.12"
  }
 },
 "nbformat": 4,
 "nbformat_minor": 5
}
