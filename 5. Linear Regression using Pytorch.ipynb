{
 "cells": [
  {
   "cell_type": "markdown",
   "id": "e2ceec2b",
   "metadata": {},
   "source": [
    "## Apply linear regression on any random dataset using Pytorch."
   ]
  },
  {
   "cell_type": "code",
   "execution_count": 4,
   "id": "77c29852",
   "metadata": {},
   "outputs": [],
   "source": [
    "import torch\n",
    "import torch.nn as nn\n",
    "import torch.optim as optim\n",
    "import numpy as np\n",
    "import matplotlib.pyplot as plt"
   ]
  },
  {
   "cell_type": "code",
   "execution_count": 5,
   "id": "b4bcc820",
   "metadata": {},
   "outputs": [],
   "source": [
    "np.random.seed(0)\n",
    "x = np.random.rand(100,1)\n",
    "y = x*2 + 1 + 0.5*np.random.rand(100,1)"
   ]
  },
  {
   "cell_type": "code",
   "execution_count": 12,
   "id": "fd3cb8c0",
   "metadata": {},
   "outputs": [],
   "source": [
    "x_tensor = torch.tensor(x,dtype=torch.float32)\n",
    "y_tensor = torch.tensor(y,dtype=torch.float32)"
   ]
  },
  {
   "cell_type": "code",
   "execution_count": 13,
   "id": "5fa8bc8d",
   "metadata": {},
   "outputs": [
    {
     "data": {
      "text/plain": [
       "(array([0.5488135]), tensor([0.5488]))"
      ]
     },
     "execution_count": 13,
     "metadata": {},
     "output_type": "execute_result"
    }
   ],
   "source": [
    "x[0], x_tensor[0]"
   ]
  },
  {
   "cell_type": "code",
   "execution_count": 17,
   "id": "f2028229",
   "metadata": {},
   "outputs": [],
   "source": [
    "class linear_reg(nn.Module):\n",
    "    def __init__(self):\n",
    "        super(linear_reg,self).__init__()\n",
    "        self.linear=nn.Linear(1,1)\n",
    "    def forward(self,x):\n",
    "        return self.linear(x)"
   ]
  },
  {
   "cell_type": "code",
   "execution_count": 20,
   "id": "666ec141",
   "metadata": {},
   "outputs": [],
   "source": [
    "model = linear_reg()"
   ]
  },
  {
   "cell_type": "code",
   "execution_count": 29,
   "id": "5f5996ad",
   "metadata": {},
   "outputs": [
    {
     "name": "stdout",
     "output_type": "stream",
     "text": [
      "Epoch :  1.0  Loss :  0.08460592478513718\n",
      "Epoch :  2.0  Loss :  0.025690792128443718\n",
      "Epoch :  3.0  Loss :  0.023842627182602882\n",
      "Epoch :  4.0  Loss :  0.022714555263519287\n",
      "Epoch :  5.0  Loss :  0.021853912621736526\n",
      "Epoch :  6.0  Loss :  0.02119586057960987\n",
      "Epoch :  7.0  Loss :  0.02069270797073841\n",
      "Epoch :  8.0  Loss :  0.02030797488987446\n",
      "Epoch :  9.0  Loss :  0.020013824105262756\n",
      "Epoch :  10.0  Loss :  0.019788898527622223\n"
     ]
    }
   ],
   "source": [
    "optimizer = optim.SGD(model.parameters(),lr=0.01)\n",
    "epochs = 1000\n",
    "for i in range(epochs):\n",
    "    output = model(x_tensor)\n",
    "    loss = nn.MSELoss()(output,y_tensor)\n",
    "    optimizer.zero_grad()\n",
    "    loss.backward()\n",
    "    optimizer.step()\n",
    "    if (i+1)%100 ==0:\n",
    "        print('Epoch : ',(i+1)/100,' Loss : ',loss.item())"
   ]
  },
  {
   "cell_type": "code",
   "execution_count": 30,
   "id": "4af8cc2e",
   "metadata": {},
   "outputs": [],
   "source": [
    "pred = model(x_tensor).detach().numpy()"
   ]
  },
  {
   "cell_type": "code",
   "execution_count": 31,
   "id": "03cac357",
   "metadata": {},
   "outputs": [
    {
     "data": {
      "text/plain": [
       "[<matplotlib.lines.Line2D at 0x261d62c2eb0>]"
      ]
     },
     "execution_count": 31,
     "metadata": {},
     "output_type": "execute_result"
    },
    {
     "data": {
      "image/png": "[encoded data removed]",
      "text/plain": [
       "<Figure size 432x288 with 1 Axes>"
      ]
     },
     "metadata": {
      "needs_background": "light"
     },
     "output_type": "display_data"
    }
   ],
   "source": [
    "plt.scatter(x,y)\n",
    "plt.plot(x,pred,c='r')"
   ]
  }
 ],
 "metadata": {
  "kernelspec": {
   "display_name": "Python 3 (ipykernel)",
   "language": "python",
   "name": "python3"
  },
  "language_info": {
   "codemirror_mode": {
    "name": "ipython",
    "version": 3
   },
   "file_extension": ".py",
   "mimetype": "text/x-python",
   "name": "python",
   "nbconvert_exporter": "python",
   "pygments_lexer": "ipython3",
   "version": "3.9.12"
  }
 },
 "nbformat": 4,
 "nbformat_minor": 5
}
