{
 "cells": [
  {
   "cell_type": "markdown",
   "id": "4a0b3334",
   "metadata": {},
   "source": [
    "## Week 1 - Logic Gates"
   ]
  },
  {
   "cell_type": "code",
   "execution_count": 1,
   "id": "505b444d",
   "metadata": {},
   "outputs": [],
   "source": [
    "def unit_function(y):\n",
    "    if y>=0: return 1\n",
    "    else: return 0"
   ]
  },
  {
   "cell_type": "code",
   "execution_count": 2,
   "id": "aa922d8d",
   "metadata": {},
   "outputs": [],
   "source": [
    "import numpy as np\n",
    "def perceptron_model(w,x,b):\n",
    "    y = np.dot(w,x) + b\n",
    "    return unit_function(y)"
   ]
  },
  {
   "cell_type": "code",
   "execution_count": 3,
   "id": "89f9d69a",
   "metadata": {},
   "outputs": [
    {
     "data": {
      "text/plain": [
       "(1, 1)"
      ]
     },
     "execution_count": 3,
     "metadata": {},
     "output_type": "execute_result"
    }
   ],
   "source": [
    "# tautology\n",
    "def tautology(x):\n",
    "    w = 1\n",
    "    b = 1\n",
    "    return perceptron_model(w,x,b)\n",
    "\n",
    "tautology(1), tautology(0)"
   ]
  },
  {
   "cell_type": "code",
   "execution_count": 7,
   "id": "1cf2cadb",
   "metadata": {},
   "outputs": [
    {
     "data": {
      "text/plain": [
       "(0, 1)"
      ]
     },
     "execution_count": 7,
     "metadata": {},
     "output_type": "execute_result"
    }
   ],
   "source": [
    "# not gate\n",
    "def not_gate(x):\n",
    "    w = -1.5\n",
    "    b = 0.5\n",
    "    return perceptron_model(w,x,b)\n",
    "\n",
    "not_gate(1), not_gate(0)"
   ]
  },
  {
   "cell_type": "code",
   "execution_count": 9,
   "id": "b8569feb",
   "metadata": {},
   "outputs": [
    {
     "data": {
      "text/plain": [
       "(1, 1, 1, 0)"
      ]
     },
     "execution_count": 9,
     "metadata": {},
     "output_type": "execute_result"
    }
   ],
   "source": [
    "# or gate\n",
    "def or_gate(x):\n",
    "    w = [1,1]\n",
    "    b = -0.5\n",
    "    return perceptron_model(w,x,b)\n",
    "\n",
    "or_gate([1,1]), or_gate([0,1]), or_gate([1,0]), or_gate([0,0])"
   ]
  },
  {
   "cell_type": "code",
   "execution_count": 11,
   "id": "b757859c",
   "metadata": {},
   "outputs": [
    {
     "data": {
      "text/plain": [
       "(1, 0, 0, 0)"
      ]
     },
     "execution_count": 11,
     "metadata": {},
     "output_type": "execute_result"
    }
   ],
   "source": [
    "# and gate\n",
    "def and_gate(x):\n",
    "    w = [1,1]\n",
    "    b = -2\n",
    "    return perceptron_model(w,x,b)\n",
    "\n",
    "and_gate([1,1]), and_gate([0,1]), and_gate([1,0]), and_gate([0,0])"
   ]
  },
  {
   "cell_type": "code",
   "execution_count": 13,
   "id": "23e0d22d",
   "metadata": {},
   "outputs": [
    {
     "data": {
      "text/plain": [
       "(0, 1, 1, 0)"
      ]
     },
     "execution_count": 13,
     "metadata": {},
     "output_type": "execute_result"
    }
   ],
   "source": [
    "# nor gate - not or\n",
    "# nand gate - not and \n",
    "# xor gate - complement(A.B).(A+B)\n",
    "# xnor gate - not xor\n",
    "def xor_gate(x):\n",
    "    a = and_gate(x)\n",
    "    b = or_gate(x)\n",
    "    c = not_gate(a)\n",
    "    d = np.array([b,c])\n",
    "    e = and_gate(d)\n",
    "    return e\n",
    "\n",
    "xor_gate([1,1]), xor_gate([0,1]), xor_gate([1,0]), xor_gate([0,0])"
   ]
  },
  {
   "cell_type": "markdown",
   "id": "d2562a22",
   "metadata": {},
   "source": [
    "## Week 2 - MNIST(ANN), Linear Regression(Tensorflow)"
   ]
  },
  {
   "cell_type": "markdown",
   "id": "8df5deba",
   "metadata": {},
   "source": [
    "### MNIST - ANN"
   ]
  },
  {
   "cell_type": "code",
   "execution_count": 9,
   "id": "550e645c",
   "metadata": {},
   "outputs": [],
   "source": [
    "import tensorflow, keras\n",
    "from keras.models import *\n",
    "from keras.layers import *\n",
    "import keras.optimizers\n",
    "from tensorflow.keras.datasets import mnist\n",
    "import numpy as np\n",
    "import matplotlib.pyplot as plt"
   ]
  },
  {
   "cell_type": "code",
   "execution_count": 58,
   "id": "c83c5f1d",
   "metadata": {},
   "outputs": [],
   "source": [
    "(x_train, y_train), (x_test, y_test) = mnist.load_data()"
   ]
  },
  {
   "cell_type": "code",
   "execution_count": 59,
   "id": "70849b05",
   "metadata": {},
   "outputs": [],
   "source": [
    "x_train = x_train.astype('float32')/255\n",
    "x_test = x_test.astype('float32')/255"
   ]
  },
  {
   "cell_type": "code",
   "execution_count": 60,
   "id": "e88a172d",
   "metadata": {},
   "outputs": [
    {
     "data": {
      "text/plain": [
       "((60000, 28, 28), (60000,))"
      ]
     },
     "execution_count": 60,
     "metadata": {},
     "output_type": "execute_result"
    }
   ],
   "source": [
    "x_train.shape, y_train.shape"
   ]
  },
  {
   "cell_type": "code",
   "execution_count": 61,
   "id": "089db096",
   "metadata": {},
   "outputs": [],
   "source": [
    "x_train_reshaped = x_train.reshape(x_train.shape[0],784)\n",
    "x_test_reshaped = x_test.reshape(x_test.shape[0],784)"
   ]
  },
  {
   "cell_type": "code",
   "execution_count": 62,
   "id": "a2d0faa3",
   "metadata": {},
   "outputs": [
    {
     "data": {
      "text/plain": [
       "(60000, 784)"
      ]
     },
     "execution_count": 62,
     "metadata": {},
     "output_type": "execute_result"
    }
   ],
   "source": [
    "x_train_reshaped.shape"
   ]
  },
  {
   "cell_type": "code",
   "execution_count": 63,
   "id": "421d7c11",
   "metadata": {},
   "outputs": [],
   "source": [
    "model = Sequential()\n",
    "model.add(Dense(128,activation='relu'))\n",
    "model.add(Dense(64,activation='sigmoid'))\n",
    "model.add(Dense(32,activation='softmax'))"
   ]
  },
  {
   "cell_type": "code",
   "execution_count": 64,
   "id": "3edbb5c9",
   "metadata": {},
   "outputs": [],
   "source": [
    "model.compile(optimizer='adam',loss='sparse_categorical_crossentropy',metrics='acc')"
   ]
  },
  {
   "cell_type": "code",
   "execution_count": 65,
   "id": "b60de98b",
   "metadata": {},
   "outputs": [
    {
     "name": "stdout",
     "output_type": "stream",
     "text": [
      "Epoch 1/15\n",
      "1875/1875 [==============================] - 7s 3ms/step - loss: 0.3627 - acc: 0.9082 - val_loss: 0.1526 - val_acc: 0.9560\n",
      "Epoch 2/15\n",
      "1875/1875 [==============================] - 6s 3ms/step - loss: 0.1205 - acc: 0.9645 - val_loss: 0.1022 - val_acc: 0.9672\n",
      "Epoch 3/15\n",
      "1875/1875 [==============================] - 6s 3ms/step - loss: 0.0783 - acc: 0.9765 - val_loss: 0.0867 - val_acc: 0.9731\n",
      "Epoch 4/15\n",
      "1875/1875 [==============================] - 6s 3ms/step - loss: 0.0563 - acc: 0.9833 - val_loss: 0.0804 - val_acc: 0.9743\n",
      "Epoch 5/15\n",
      "1875/1875 [==============================] - 6s 3ms/step - loss: 0.0412 - acc: 0.9880 - val_loss: 0.0807 - val_acc: 0.9743\n",
      "Epoch 6/15\n",
      "1875/1875 [==============================] - 8s 4ms/step - loss: 0.0328 - acc: 0.9898 - val_loss: 0.0765 - val_acc: 0.9769\n",
      "Epoch 7/15\n",
      "1875/1875 [==============================] - 7s 4ms/step - loss: 0.0255 - acc: 0.9926 - val_loss: 0.0701 - val_acc: 0.9795\n",
      "Epoch 8/15\n",
      "1875/1875 [==============================] - 6s 3ms/step - loss: 0.0197 - acc: 0.9944 - val_loss: 0.0886 - val_acc: 0.9725\n",
      "Epoch 9/15\n",
      "1875/1875 [==============================] - 6s 3ms/step - loss: 0.0167 - acc: 0.9953 - val_loss: 0.0785 - val_acc: 0.9781\n",
      "Epoch 10/15\n",
      "1875/1875 [==============================] - 7s 4ms/step - loss: 0.0148 - acc: 0.9957 - val_loss: 0.0794 - val_acc: 0.9783\n",
      "Epoch 11/15\n",
      "1875/1875 [==============================] - 5s 3ms/step - loss: 0.0111 - acc: 0.9969 - val_loss: 0.0759 - val_acc: 0.9784\n",
      "Epoch 12/15\n",
      "1875/1875 [==============================] - 9s 5ms/step - loss: 0.0108 - acc: 0.9968 - val_loss: 0.0777 - val_acc: 0.9794\n",
      "Epoch 13/15\n",
      "1875/1875 [==============================] - 7s 4ms/step - loss: 0.0104 - acc: 0.9967 - val_loss: 0.0723 - val_acc: 0.9815\n",
      "Epoch 14/15\n",
      "1875/1875 [==============================] - 7s 4ms/step - loss: 0.0064 - acc: 0.9983 - val_loss: 0.0836 - val_acc: 0.9799\n",
      "Epoch 15/15\n",
      "1875/1875 [==============================] - 7s 4ms/step - loss: 0.0081 - acc: 0.9977 - val_loss: 0.0868 - val_acc: 0.9793\n"
     ]
    }
   ],
   "source": [
    "history = model.fit(x_train_reshaped, y_train, epochs=15, validation_data=(x_test_reshaped,y_test))"
   ]
  },
  {
   "cell_type": "code",
   "execution_count": 66,
   "id": "acfbd40a",
   "metadata": {},
   "outputs": [
    {
     "name": "stdout",
     "output_type": "stream",
     "text": [
      "1875/1875 [==============================] - 6s 3ms/step - loss: 0.0061 - acc: 0.9982\n"
     ]
    },
    {
     "data": {
      "text/plain": [
       "0.9981833100318909"
      ]
     },
     "execution_count": 66,
     "metadata": {},
     "output_type": "execute_result"
    }
   ],
   "source": [
    "model.evaluate(x_train_reshaped,y_train)[1]"
   ]
  },
  {
   "cell_type": "code",
   "execution_count": 67,
   "id": "35de0e13",
   "metadata": {},
   "outputs": [
    {
     "data": {
      "image/png": "[encoded data removed]",
      "text/plain": [
       "<Figure size 432x288 with 1 Axes>"
      ]
     },
     "metadata": {
      "needs_background": "light"
     },
     "output_type": "display_data"
    }
   ],
   "source": [
    "plt.plot(history.history['acc'],label='Training Accuracy',c='b')\n",
    "plt.plot(history.history['val_acc'],label='Validation Accuracy',c='r')\n",
    "plt.legend()\n",
    "plt.show()"
   ]
  },
  {
   "cell_type": "code",
   "execution_count": 68,
   "id": "7ce5e7d3",
   "metadata": {},
   "outputs": [
    {
     "data": {
      "image/png": "[encoded data removed]",
      "text/plain": [
       "<Figure size 432x288 with 1 Axes>"
      ]
     },
     "metadata": {
      "needs_background": "light"
     },
     "output_type": "display_data"
    }
   ],
   "source": [
    "plt.plot(history.history['loss'],label='Training Loss',c='b')\n",
    "plt.plot(history.history['val_loss'],label='Validation Loss',c='r')\n",
    "plt.legend()\n",
    "plt.show()"
   ]
  },
  {
   "cell_type": "code",
   "execution_count": 75,
   "id": "b538089d",
   "metadata": {},
   "outputs": [
    {
     "data": {
      "text/plain": [
       "<matplotlib.image.AxesImage at 0x1b3b23e2e80>"
      ]
     },
     "execution_count": 75,
     "metadata": {},
     "output_type": "execute_result"
    },
    {
     "data": {
      "image/png": "[encoded data removed]",
      "text/plain": [
       "<Figure size 432x288 with 1 Axes>"
      ]
     },
     "metadata": {
      "needs_background": "light"
     },
     "output_type": "display_data"
    }
   ],
   "source": [
    "plt.imshow(x_test[3])"
   ]
  },
  {
   "cell_type": "code",
   "execution_count": 76,
   "id": "6d8f7617",
   "metadata": {},
   "outputs": [
    {
     "name": "stdout",
     "output_type": "stream",
     "text": [
      "313/313 [==============================] - 0s 2ms/step\n"
     ]
    }
   ],
   "source": [
    "pred = model.predict(x_test_reshaped)"
   ]
  },
  {
   "cell_type": "code",
   "execution_count": 77,
   "id": "723b8d83",
   "metadata": {},
   "outputs": [
    {
     "name": "stdout",
     "output_type": "stream",
     "text": [
      "0\n"
     ]
    }
   ],
   "source": [
    "pred = np.argmax(pred,axis=1)\n",
    "print(pred[3])"
   ]
  },
  {
   "cell_type": "markdown",
   "id": "95366688",
   "metadata": {},
   "source": [
    "### Linear Regression - Tensorflow"
   ]
  },
  {
   "cell_type": "code",
   "execution_count": 91,
   "id": "c0468915",
   "metadata": {},
   "outputs": [],
   "source": [
    "np.random.seed(100)\n",
    "x = np.random.random_sample(500).reshape(-1,1)\n",
    "y = x*2 + 0.5*np.random.random_sample(500).reshape(-1,1)"
   ]
  },
  {
   "cell_type": "code",
   "execution_count": 92,
   "id": "e52d8ce1",
   "metadata": {},
   "outputs": [],
   "source": [
    "learning_rate = 0.01\n",
    "training_epochs = 1000"
   ]
  },
  {
   "cell_type": "code",
   "execution_count": 93,
   "id": "150f6013",
   "metadata": {},
   "outputs": [],
   "source": [
    "model = Sequential()\n",
    "model.add(Dense(1))\n",
    "model.compile(optimizer=keras.optimizers.Adam(learning_rate), loss='mean_squared_error')"
   ]
  },
  {
   "cell_type": "code",
   "execution_count": 94,
   "id": "fa547798",
   "metadata": {},
   "outputs": [
    {
     "name": "stdout",
     "output_type": "stream",
     "text": [
      "Epoch 1/1000\n",
      "16/16 [==============================] - 0s 1ms/step - loss: 0.1399 - acc: 0.0000e+00\n",
      "Epoch 2/1000\n",
      "16/16 [==============================] - 0s 3ms/step - loss: 0.0390 - acc: 0.0000e+00\n",
      "Epoch 3/1000\n",
      "16/16 [==============================] - 0s 3ms/step - loss: 0.0202 - acc: 0.0000e+00\n",
      "Epoch 4/1000\n",
      "16/16 [==============================] - 0s 2ms/step - loss: 0.0206 - acc: 0.0000e+00\n",
      "Epoch 5/1000\n",
      "16/16 [==============================] - 0s 3ms/step - loss: 0.0200 - acc: 0.0000e+00\n",
      "Epoch 6/1000\n",
      "16/16 [==============================] - 0s 2ms/step - loss: 0.0199 - acc: 0.0000e+00\n",
      "Epoch 7/1000\n",
      "16/16 [==============================] - 0s 3ms/step - loss: 0.0199 - acc: 0.0000e+00\n",
      "Epoch 8/1000\n",
      "16/16 [==============================] - 0s 3ms/step - loss: 0.0199 - acc: 0.0000e+00\n",
      "Epoch 9/1000\n",
      "16/16 [==============================] - 0s 3ms/step - loss: 0.0199 - acc: 0.0000e+00\n",
      "Epoch 10/1000\n",
      "16/16 [==============================] - 0s 3ms/step - loss: 0.0198 - acc: 0.0000e+00\n",
      "Epoch 11/1000\n",
      "16/16 [==============================] - 0s 2ms/step - loss: 0.0198 - acc: 0.0000e+00\n",
      "Epoch 12/1000\n",
      "16/16 [==============================] - 0s 3ms/step - loss: 0.0198 - acc: 0.0000e+00\n",
      "Epoch 13/1000\n",
      "16/16 [==============================] - 0s 3ms/step - loss: 0.0198 - acc: 0.0000e+00\n",
      "Epoch 14/1000\n",
      "16/16 [==============================] - 0s 2ms/step - loss: 0.0198 - acc: 0.0000e+00\n",
      "Epoch 15/1000\n",
      "16/16 [==============================] - 0s 4ms/step - loss: 0.0198 - acc: 0.0000e+00\n",
      "Epoch 16/1000\n",
      "16/16 [==============================] - 0s 5ms/step - loss: 0.0198 - acc: 0.0000e+00\n",
      "Epoch 17/1000\n",
      "16/16 [==============================] - 0s 5ms/step - loss: 0.0197 - acc: 0.0000e+00\n",
      "Epoch 18/1000\n",
      "16/16 [==============================] - 0s 4ms/step - loss: 0.0198 - acc: 0.0000e+00\n",
      "Epoch 19/1000\n",
      "16/16 [==============================] - 0s 4ms/step - loss: 0.0198 - acc: 0.0000e+00\n",
      "Epoch 20/1000\n",
      "16/16 [==============================] - 0s 3ms/step - loss: 0.0199 - acc: 0.0000e+00\n",
      "Epoch 21/1000\n",
      "16/16 [==============================] - 0s 3ms/step - loss: 0.0199 - acc: 0.0000e+00\n",
      "Epoch 22/1000\n",
      "16/16 [==============================] - 0s 3ms/step - loss: 0.0197 - acc: 0.0000e+00\n",
      "Epoch 23/1000\n",
      "16/16 [==============================] - 0s 3ms/step - loss: 0.0198 - acc: 0.0000e+00\n",
      "Epoch 24/1000\n",
      "16/16 [==============================] - 0s 4ms/step - loss: 0.0198 - acc: 0.0000e+00\n",
      "Epoch 25/1000\n",
      "16/16 [==============================] - 0s 3ms/step - loss: 0.0198 - acc: 0.0000e+00\n",
      "Epoch 26/1000\n",
      "16/16 [==============================] - 0s 3ms/step - loss: 0.0198 - acc: 0.0000e+00\n",
      "Epoch 27/1000\n",
      "16/16 [==============================] - 0s 3ms/step - loss: 0.0198 - acc: 0.0000e+00\n",
      "Epoch 28/1000\n",
      "16/16 [==============================] - 0s 3ms/step - loss: 0.0198 - acc: 0.0000e+00\n",
      "Epoch 29/1000\n",
      "16/16 [==============================] - 0s 4ms/step - loss: 0.0198 - acc: 0.0000e+00\n",
      "Epoch 30/1000\n",
      "16/16 [==============================] - 0s 5ms/step - loss: 0.0198 - acc: 0.0000e+00\n",
      "Epoch 31/1000\n",
      "16/16 [==============================] - 0s 3ms/step - loss: 0.0198 - acc: 0.0000e+00\n",
      "Epoch 32/1000\n",
      "16/16 [==============================] - 0s 3ms/step - loss: 0.0198 - acc: 0.0000e+00\n",
      "Epoch 33/1000\n",
      "16/16 [==============================] - 0s 2ms/step - loss: 0.0199 - acc: 0.0000e+00\n",
      "Epoch 34/1000\n",
      "16/16 [==============================] - 0s 4ms/step - loss: 0.0199 - acc: 0.0000e+00\n",
      "Epoch 35/1000\n",
      "16/16 [==============================] - 0s 3ms/step - loss: 0.0198 - acc: 0.0000e+00\n",
      "Epoch 36/1000\n",
      "16/16 [==============================] - 0s 3ms/step - loss: 0.0198 - acc: 0.0000e+00\n",
      "Epoch 37/1000\n",
      "16/16 [==============================] - 0s 3ms/step - loss: 0.0198 - acc: 0.0000e+00\n",
      "Epoch 38/1000\n",
      "16/16 [==============================] - 0s 3ms/step - loss: 0.0198 - acc: 0.0000e+00\n",
      "Epoch 39/1000\n",
      "16/16 [==============================] - 0s 3ms/step - loss: 0.0198 - acc: 0.0000e+00\n",
      "Epoch 40/1000\n",
      "16/16 [==============================] - 0s 2ms/step - loss: 0.0198 - acc: 0.0000e+00\n",
      "Epoch 41/1000\n",
      "16/16 [==============================] - 0s 3ms/step - loss: 0.0198 - acc: 0.0000e+00\n",
      "Epoch 42/1000\n",
      "16/16 [==============================] - 0s 4ms/step - loss: 0.0198 - acc: 0.0000e+00\n",
      "Epoch 43/1000\n",
      "16/16 [==============================] - 0s 3ms/step - loss: 0.0198 - acc: 0.0000e+00\n",
      "Epoch 44/1000\n",
      "16/16 [==============================] - 0s 3ms/step - loss: 0.0198 - acc: 0.0000e+00\n",
      "Epoch 45/1000\n",
      "16/16 [==============================] - 0s 3ms/step - loss: 0.0198 - acc: 0.0000e+00\n",
      "Epoch 46/1000\n",
      "16/16 [==============================] - 0s 4ms/step - loss: 0.0198 - acc: 0.0000e+00\n",
      "Epoch 47/1000\n",
      "16/16 [==============================] - 0s 3ms/step - loss: 0.0198 - acc: 0.0000e+00\n",
      "Epoch 48/1000\n",
      "16/16 [==============================] - 0s 4ms/step - loss: 0.0199 - acc: 0.0000e+00\n",
      "Epoch 49/1000\n",
      "16/16 [==============================] - 0s 3ms/step - loss: 0.0198 - acc: 0.0000e+00\n",
      "Epoch 50/1000\n",
      "16/16 [==============================] - 0s 4ms/step - loss: 0.0198 - acc: 0.0000e+00\n",
      "Epoch 51/1000\n",
      "16/16 [==============================] - 0s 3ms/step - loss: 0.0198 - acc: 0.0000e+00\n",
      "Epoch 52/1000\n",
      "16/16 [==============================] - 0s 3ms/step - loss: 0.0198 - acc: 0.0000e+00\n",
      "Epoch 53/1000\n",
      "16/16 [==============================] - 0s 4ms/step - loss: 0.0199 - acc: 0.0000e+00\n",
      "Epoch 54/1000\n",
      "16/16 [==============================] - 0s 5ms/step - loss: 0.0198 - acc: 0.0000e+00\n",
      "Epoch 55/1000\n",
      "16/16 [==============================] - 0s 3ms/step - loss: 0.0199 - acc: 0.0000e+00\n",
      "Epoch 56/1000\n",
      "16/16 [==============================] - 0s 2ms/step - loss: 0.0198 - acc: 0.0000e+00\n",
      "Epoch 57/1000\n",
      "16/16 [==============================] - 0s 2ms/step - loss: 0.0199 - acc: 0.0000e+00\n",
      "Epoch 58/1000\n",
      "16/16 [==============================] - 0s 3ms/step - loss: 0.0198 - acc: 0.0000e+00\n",
      "Epoch 59/1000\n",
      "16/16 [==============================] - 0s 2ms/step - loss: 0.0199 - acc: 0.0000e+00\n",
      "Epoch 60/1000\n",
      "16/16 [==============================] - 0s 2ms/step - loss: 0.0199 - acc: 0.0000e+00\n",
      "Epoch 61/1000\n",
      "16/16 [==============================] - 0s 2ms/step - loss: 0.0199 - acc: 0.0000e+00\n",
      "Epoch 62/1000\n",
      "16/16 [==============================] - 0s 2ms/step - loss: 0.0198 - acc: 0.0000e+00\n",
      "Epoch 63/1000\n",
      "16/16 [==============================] - 0s 2ms/step - loss: 0.0198 - acc: 0.0000e+00\n",
      "Epoch 64/1000\n",
      "16/16 [==============================] - 0s 2ms/step - loss: 0.0198 - acc: 0.0000e+00\n",
      "Epoch 65/1000\n",
      "16/16 [==============================] - 0s 2ms/step - loss: 0.0198 - acc: 0.0000e+00\n",
      "Epoch 66/1000\n",
      "16/16 [==============================] - 0s 2ms/step - loss: 0.0199 - acc: 0.0000e+00\n",
      "Epoch 67/1000\n",
      "16/16 [==============================] - 0s 2ms/step - loss: 0.0198 - acc: 0.0000e+00\n",
      "Epoch 68/1000\n",
      "16/16 [==============================] - 0s 2ms/step - loss: 0.0198 - acc: 0.0000e+00\n",
      "Epoch 69/1000\n",
      "16/16 [==============================] - 0s 2ms/step - loss: 0.0198 - acc: 0.0000e+00\n",
      "Epoch 70/1000\n",
      "16/16 [==============================] - 0s 2ms/step - loss: 0.0198 - acc: 0.0000e+00\n",
      "Epoch 71/1000\n",
      "16/16 [==============================] - 0s 2ms/step - loss: 0.0198 - acc: 0.0000e+00\n",
      "Epoch 72/1000\n",
      "16/16 [==============================] - 0s 2ms/step - loss: 0.0198 - acc: 0.0000e+00\n",
      "Epoch 73/1000\n",
      "16/16 [==============================] - 0s 2ms/step - loss: 0.0200 - acc: 0.0000e+00\n",
      "Epoch 74/1000\n",
      "16/16 [==============================] - 0s 2ms/step - loss: 0.0199 - acc: 0.0000e+00\n",
      "Epoch 75/1000\n",
      "16/16 [==============================] - 0s 2ms/step - loss: 0.0199 - acc: 0.0000e+00\n",
      "Epoch 76/1000\n",
      "16/16 [==============================] - 0s 2ms/step - loss: 0.0198 - acc: 0.0000e+00\n",
      "Epoch 77/1000\n",
      "16/16 [==============================] - 0s 2ms/step - loss: 0.0198 - acc: 0.0000e+00\n",
      "Epoch 78/1000\n",
      "16/16 [==============================] - 0s 2ms/step - loss: 0.0198 - acc: 0.0000e+00\n",
      "Epoch 79/1000\n",
      "16/16 [==============================] - 0s 2ms/step - loss: 0.0198 - acc: 0.0000e+00\n",
      "Epoch 80/1000\n",
      "16/16 [==============================] - 0s 2ms/step - loss: 0.0198 - acc: 0.0000e+00\n",
      "Epoch 81/1000\n",
      "16/16 [==============================] - 0s 2ms/step - loss: 0.0199 - acc: 0.0000e+00\n",
      "Epoch 82/1000\n",
      "16/16 [==============================] - 0s 2ms/step - loss: 0.0199 - acc: 0.0000e+00\n",
      "Epoch 83/1000\n"
     ]
    },
    {
     "name": "stdout",
     "output_type": "stream",
     "text": [
      "16/16 [==============================] - 0s 2ms/step - loss: 0.0199 - acc: 0.0000e+00\n",
      "Epoch 84/1000\n",
      "16/16 [==============================] - 0s 2ms/step - loss: 0.0198 - acc: 0.0000e+00\n",
      "Epoch 85/1000\n",
      "16/16 [==============================] - 0s 2ms/step - loss: 0.0200 - acc: 0.0000e+00\n",
      "Epoch 86/1000\n",
      "16/16 [==============================] - 0s 2ms/step - loss: 0.0198 - acc: 0.0000e+00\n",
      "Epoch 87/1000\n",
      "16/16 [==============================] - 0s 2ms/step - loss: 0.0198 - acc: 0.0000e+00\n",
      "Epoch 88/1000\n",
      "16/16 [==============================] - 0s 2ms/step - loss: 0.0199 - acc: 0.0000e+00\n",
      "Epoch 89/1000\n",
      "16/16 [==============================] - 0s 2ms/step - loss: 0.0198 - acc: 0.0000e+00\n",
      "Epoch 90/1000\n",
      "16/16 [==============================] - 0s 2ms/step - loss: 0.0199 - acc: 0.0000e+00\n",
      "Epoch 91/1000\n",
      "16/16 [==============================] - 0s 2ms/step - loss: 0.0198 - acc: 0.0000e+00\n",
      "Epoch 92/1000\n",
      "16/16 [==============================] - 0s 2ms/step - loss: 0.0198 - acc: 0.0000e+00\n",
      "Epoch 93/1000\n",
      "16/16 [==============================] - 0s 2ms/step - loss: 0.0198 - acc: 0.0000e+00\n",
      "Epoch 94/1000\n",
      "16/16 [==============================] - 0s 2ms/step - loss: 0.0198 - acc: 0.0000e+00\n",
      "Epoch 95/1000\n",
      "16/16 [==============================] - 0s 2ms/step - loss: 0.0199 - acc: 0.0000e+00\n",
      "Epoch 96/1000\n",
      "16/16 [==============================] - 0s 2ms/step - loss: 0.0198 - acc: 0.0000e+00\n",
      "Epoch 97/1000\n",
      "16/16 [==============================] - 0s 2ms/step - loss: 0.0198 - acc: 0.0000e+00\n",
      "Epoch 98/1000\n",
      "16/16 [==============================] - 0s 2ms/step - loss: 0.0198 - acc: 0.0000e+00\n",
      "Epoch 99/1000\n",
      "16/16 [==============================] - 0s 2ms/step - loss: 0.0200 - acc: 0.0000e+00\n",
      "Epoch 100/1000\n",
      "16/16 [==============================] - 0s 2ms/step - loss: 0.0199 - acc: 0.0000e+00\n",
      "Epoch 101/1000\n",
      "16/16 [==============================] - 0s 2ms/step - loss: 0.0198 - acc: 0.0000e+00\n",
      "Epoch 102/1000\n",
      "16/16 [==============================] - 0s 2ms/step - loss: 0.0199 - acc: 0.0000e+00\n",
      "Epoch 103/1000\n",
      "16/16 [==============================] - 0s 2ms/step - loss: 0.0198 - acc: 0.0000e+00\n",
      "Epoch 104/1000\n",
      "16/16 [==============================] - 0s 2ms/step - loss: 0.0198 - acc: 0.0000e+00\n",
      "Epoch 105/1000\n",
      "16/16 [==============================] - 0s 2ms/step - loss: 0.0199 - acc: 0.0000e+00\n",
      "Epoch 106/1000\n",
      "16/16 [==============================] - 0s 2ms/step - loss: 0.0200 - acc: 0.0000e+00\n",
      "Epoch 107/1000\n",
      "16/16 [==============================] - 0s 2ms/step - loss: 0.0201 - acc: 0.0000e+00\n",
      "Epoch 108/1000\n",
      "16/16 [==============================] - 0s 2ms/step - loss: 0.0198 - acc: 0.0000e+00\n",
      "Epoch 109/1000\n",
      "16/16 [==============================] - 0s 2ms/step - loss: 0.0200 - acc: 0.0000e+00\n",
      "Epoch 110/1000\n",
      "16/16 [==============================] - 0s 2ms/step - loss: 0.0198 - acc: 0.0000e+00\n",
      "Epoch 111/1000\n",
      "16/16 [==============================] - 0s 2ms/step - loss: 0.0198 - acc: 0.0000e+00\n",
      "Epoch 112/1000\n",
      "16/16 [==============================] - 0s 2ms/step - loss: 0.0198 - acc: 0.0000e+00\n",
      "Epoch 113/1000\n",
      "16/16 [==============================] - 0s 2ms/step - loss: 0.0198 - acc: 0.0000e+00\n",
      "Epoch 114/1000\n",
      "16/16 [==============================] - 0s 2ms/step - loss: 0.0200 - acc: 0.0000e+00\n",
      "Epoch 115/1000\n",
      "16/16 [==============================] - 0s 2ms/step - loss: 0.0199 - acc: 0.0000e+00\n",
      "Epoch 116/1000\n",
      "16/16 [==============================] - 0s 2ms/step - loss: 0.0198 - acc: 0.0000e+00\n",
      "Epoch 117/1000\n",
      "16/16 [==============================] - 0s 2ms/step - loss: 0.0199 - acc: 0.0000e+00\n",
      "Epoch 118/1000\n",
      "16/16 [==============================] - 0s 2ms/step - loss: 0.0199 - acc: 0.0000e+00\n",
      "Epoch 119/1000\n",
      "16/16 [==============================] - 0s 2ms/step - loss: 0.0198 - acc: 0.0000e+00\n",
      "Epoch 120/1000\n",
      "16/16 [==============================] - 0s 3ms/step - loss: 0.0199 - acc: 0.0000e+00\n",
      "Epoch 121/1000\n",
      "16/16 [==============================] - 0s 2ms/step - loss: 0.0198 - acc: 0.0000e+00\n",
      "Epoch 122/1000\n",
      "16/16 [==============================] - 0s 2ms/step - loss: 0.0198 - acc: 0.0000e+00\n",
      "Epoch 123/1000\n",
      "16/16 [==============================] - 0s 2ms/step - loss: 0.0198 - acc: 0.0000e+00\n",
      "Epoch 124/1000\n",
      "16/16 [==============================] - 0s 2ms/step - loss: 0.0199 - acc: 0.0000e+00\n",
      "Epoch 125/1000\n",
      "16/16 [==============================] - 0s 2ms/step - loss: 0.0199 - acc: 0.0000e+00\n",
      "Epoch 126/1000\n",
      "16/16 [==============================] - 0s 2ms/step - loss: 0.0199 - acc: 0.0000e+00\n",
      "Epoch 127/1000\n",
      "16/16 [==============================] - 0s 2ms/step - loss: 0.0199 - acc: 0.0000e+00\n",
      "Epoch 128/1000\n",
      "16/16 [==============================] - 0s 2ms/step - loss: 0.0199 - acc: 0.0000e+00\n",
      "Epoch 129/1000\n",
      "16/16 [==============================] - 0s 2ms/step - loss: 0.0199 - acc: 0.0000e+00\n",
      "Epoch 130/1000\n",
      "16/16 [==============================] - 0s 2ms/step - loss: 0.0199 - acc: 0.0000e+00\n",
      "Epoch 131/1000\n",
      "16/16 [==============================] - 0s 2ms/step - loss: 0.0199 - acc: 0.0000e+00\n",
      "Epoch 132/1000\n",
      "16/16 [==============================] - 0s 2ms/step - loss: 0.0197 - acc: 0.0000e+00\n",
      "Epoch 133/1000\n",
      "16/16 [==============================] - 0s 2ms/step - loss: 0.0200 - acc: 0.0000e+00\n",
      "Epoch 134/1000\n",
      "16/16 [==============================] - 0s 2ms/step - loss: 0.0199 - acc: 0.0000e+00\n",
      "Epoch 135/1000\n",
      "16/16 [==============================] - 0s 5ms/step - loss: 0.0198 - acc: 0.0000e+00\n",
      "Epoch 136/1000\n",
      "16/16 [==============================] - 0s 3ms/step - loss: 0.0199 - acc: 0.0000e+00\n",
      "Epoch 137/1000\n",
      "16/16 [==============================] - 0s 2ms/step - loss: 0.0199 - acc: 0.0000e+00\n",
      "Epoch 138/1000\n",
      "16/16 [==============================] - 0s 2ms/step - loss: 0.0198 - acc: 0.0000e+00\n",
      "Epoch 139/1000\n",
      "16/16 [==============================] - 0s 2ms/step - loss: 0.0200 - acc: 0.0000e+00\n",
      "Epoch 140/1000\n",
      "16/16 [==============================] - 0s 2ms/step - loss: 0.0198 - acc: 0.0000e+00\n",
      "Epoch 141/1000\n",
      "16/16 [==============================] - 0s 2ms/step - loss: 0.0199 - acc: 0.0000e+00\n",
      "Epoch 142/1000\n",
      "16/16 [==============================] - 0s 2ms/step - loss: 0.0200 - acc: 0.0000e+00\n",
      "Epoch 143/1000\n",
      "16/16 [==============================] - 0s 2ms/step - loss: 0.0198 - acc: 0.0000e+00\n",
      "Epoch 144/1000\n",
      "16/16 [==============================] - 0s 3ms/step - loss: 0.0201 - acc: 0.0000e+00\n",
      "Epoch 145/1000\n",
      "16/16 [==============================] - 0s 2ms/step - loss: 0.0201 - acc: 0.0000e+00\n",
      "Epoch 146/1000\n",
      "16/16 [==============================] - 0s 3ms/step - loss: 0.0198 - acc: 0.0000e+00\n",
      "Epoch 147/1000\n",
      "16/16 [==============================] - 0s 2ms/step - loss: 0.0200 - acc: 0.0000e+00\n",
      "Epoch 148/1000\n",
      "16/16 [==============================] - 0s 2ms/step - loss: 0.0198 - acc: 0.0000e+00\n",
      "Epoch 149/1000\n",
      "16/16 [==============================] - 0s 2ms/step - loss: 0.0201 - acc: 0.0000e+00\n",
      "Epoch 150/1000\n",
      "16/16 [==============================] - 0s 2ms/step - loss: 0.0200 - acc: 0.0000e+00\n",
      "Epoch 151/1000\n",
      "16/16 [==============================] - 0s 2ms/step - loss: 0.0199 - acc: 0.0000e+00\n",
      "Epoch 152/1000\n",
      "16/16 [==============================] - 0s 2ms/step - loss: 0.0199 - acc: 0.0000e+00\n",
      "Epoch 153/1000\n",
      "16/16 [==============================] - 0s 2ms/step - loss: 0.0200 - acc: 0.0000e+00\n",
      "Epoch 154/1000\n",
      "16/16 [==============================] - 0s 2ms/step - loss: 0.0197 - acc: 0.0000e+00\n",
      "Epoch 155/1000\n",
      "16/16 [==============================] - 0s 2ms/step - loss: 0.0200 - acc: 0.0000e+00\n",
      "Epoch 156/1000\n",
      "16/16 [==============================] - 0s 2ms/step - loss: 0.0199 - acc: 0.0000e+00\n",
      "Epoch 157/1000\n",
      "16/16 [==============================] - 0s 2ms/step - loss: 0.0198 - acc: 0.0000e+00\n",
      "Epoch 158/1000\n",
      "16/16 [==============================] - 0s 2ms/step - loss: 0.0199 - acc: 0.0000e+00\n",
      "Epoch 159/1000\n",
      "16/16 [==============================] - 0s 2ms/step - loss: 0.0199 - acc: 0.0000e+00\n",
      "Epoch 160/1000\n",
      "16/16 [==============================] - 0s 3ms/step - loss: 0.0198 - acc: 0.0000e+00\n",
      "Epoch 161/1000\n",
      "16/16 [==============================] - 0s 2ms/step - loss: 0.0198 - acc: 0.0000e+00\n",
      "Epoch 162/1000\n",
      "16/16 [==============================] - 0s 2ms/step - loss: 0.0199 - acc: 0.0000e+00\n",
      "Epoch 163/1000\n",
      "16/16 [==============================] - 0s 2ms/step - loss: 0.0199 - acc: 0.0000e+00\n",
      "Epoch 164/1000\n",
      "16/16 [==============================] - 0s 2ms/step - loss: 0.0199 - acc: 0.0000e+00\n",
      "Epoch 165/1000\n",
      "16/16 [==============================] - 0s 3ms/step - loss: 0.0199 - acc: 0.0000e+00\n",
      "Epoch 166/1000\n",
      "16/16 [==============================] - 0s 6ms/step - loss: 0.0198 - acc: 0.0000e+00\n",
      "Epoch 167/1000\n",
      "16/16 [==============================] - 0s 3ms/step - loss: 0.0198 - acc: 0.0000e+00\n",
      "Epoch 168/1000\n",
      "16/16 [==============================] - 0s 4ms/step - loss: 0.0199 - acc: 0.0000e+00\n",
      "Epoch 169/1000\n",
      "16/16 [==============================] - 0s 3ms/step - loss: 0.0199 - acc: 0.0000e+00\n",
      "Epoch 170/1000\n",
      "16/16 [==============================] - 0s 4ms/step - loss: 0.0199 - acc: 0.0000e+00\n",
      "Epoch 171/1000\n",
      "16/16 [==============================] - 0s 3ms/step - loss: 0.0199 - acc: 0.0000e+00\n",
      "Epoch 172/1000\n",
      "16/16 [==============================] - 0s 2ms/step - loss: 0.0199 - acc: 0.0000e+00\n",
      "Epoch 173/1000\n",
      "16/16 [==============================] - 0s 2ms/step - loss: 0.0199 - acc: 0.0000e+00\n",
      "Epoch 174/1000\n",
      "16/16 [==============================] - 0s 2ms/step - loss: 0.0198 - acc: 0.0000e+00\n",
      "Epoch 175/1000\n",
      "16/16 [==============================] - 0s 3ms/step - loss: 0.0200 - acc: 0.0000e+00\n",
      "Epoch 176/1000\n",
      "16/16 [==============================] - 0s 3ms/step - loss: 0.0203 - acc: 0.0000e+00\n",
      "Epoch 177/1000\n",
      "16/16 [==============================] - 0s 3ms/step - loss: 0.0199 - acc: 0.0000e+00\n",
      "Epoch 178/1000\n",
      "16/16 [==============================] - 0s 3ms/step - loss: 0.0198 - acc: 0.0000e+00\n",
      "Epoch 179/1000\n",
      "16/16 [==============================] - 0s 2ms/step - loss: 0.0199 - acc: 0.0000e+00\n",
      "Epoch 180/1000\n",
      "16/16 [==============================] - 0s 3ms/step - loss: 0.0198 - acc: 0.0000e+00\n",
      "Epoch 181/1000\n",
      "16/16 [==============================] - 0s 2ms/step - loss: 0.0198 - acc: 0.0000e+00\n",
      "Epoch 182/1000\n",
      "16/16 [==============================] - 0s 3ms/step - loss: 0.0198 - acc: 0.0000e+00\n",
      "Epoch 183/1000\n",
      "16/16 [==============================] - 0s 3ms/step - loss: 0.0198 - acc: 0.0000e+00\n",
      "Epoch 184/1000\n",
      "16/16 [==============================] - 0s 2ms/step - loss: 0.0198 - acc: 0.0000e+00\n",
      "Epoch 185/1000\n",
      "16/16 [==============================] - 0s 3ms/step - loss: 0.0198 - acc: 0.0000e+00\n",
      "Epoch 186/1000\n",
      "16/16 [==============================] - 0s 3ms/step - loss: 0.0199 - acc: 0.0000e+00\n",
      "Epoch 187/1000\n",
      "16/16 [==============================] - 0s 2ms/step - loss: 0.0199 - acc: 0.0000e+00\n",
      "Epoch 188/1000\n",
      "16/16 [==============================] - 0s 3ms/step - loss: 0.0198 - acc: 0.0000e+00\n",
      "Epoch 189/1000\n",
      "16/16 [==============================] - 0s 2ms/step - loss: 0.0199 - acc: 0.0000e+00\n",
      "Epoch 190/1000\n",
      "16/16 [==============================] - 0s 2ms/step - loss: 0.0199 - acc: 0.0000e+00\n",
      "Epoch 191/1000\n",
      "16/16 [==============================] - 0s 3ms/step - loss: 0.0198 - acc: 0.0000e+00\n",
      "Epoch 192/1000\n",
      "16/16 [==============================] - 0s 3ms/step - loss: 0.0200 - acc: 0.0000e+00\n",
      "Epoch 193/1000\n",
      "16/16 [==============================] - 0s 2ms/step - loss: 0.0202 - acc: 0.0000e+00\n",
      "Epoch 194/1000\n",
      "16/16 [==============================] - 0s 3ms/step - loss: 0.0199 - acc: 0.0000e+00\n",
      "Epoch 195/1000\n",
      "16/16 [==============================] - 0s 3ms/step - loss: 0.0198 - acc: 0.0000e+00\n",
      "Epoch 196/1000\n",
      "16/16 [==============================] - 0s 3ms/step - loss: 0.0198 - acc: 0.0000e+00\n",
      "Epoch 197/1000\n",
      "16/16 [==============================] - 0s 2ms/step - loss: 0.0199 - acc: 0.0000e+00\n",
      "Epoch 198/1000\n",
      "16/16 [==============================] - 0s 2ms/step - loss: 0.0204 - acc: 0.0000e+00\n",
      "Epoch 199/1000\n",
      "16/16 [==============================] - 0s 2ms/step - loss: 0.0202 - acc: 0.0000e+00\n",
      "Epoch 200/1000\n",
      "16/16 [==============================] - 0s 2ms/step - loss: 0.0204 - acc: 0.0000e+00\n",
      "Epoch 201/1000\n",
      "16/16 [==============================] - 0s 2ms/step - loss: 0.0200 - acc: 0.0000e+00\n",
      "Epoch 202/1000\n",
      "16/16 [==============================] - 0s 2ms/step - loss: 0.0202 - acc: 0.0000e+00\n",
      "Epoch 203/1000\n",
      "16/16 [==============================] - 0s 2ms/step - loss: 0.0203 - acc: 0.0000e+00\n",
      "Epoch 204/1000\n",
      "16/16 [==============================] - 0s 2ms/step - loss: 0.0200 - acc: 0.0000e+00\n",
      "Epoch 205/1000\n",
      "16/16 [==============================] - 0s 2ms/step - loss: 0.0199 - acc: 0.0000e+00\n",
      "Epoch 206/1000\n",
      "16/16 [==============================] - 0s 2ms/step - loss: 0.0199 - acc: 0.0000e+00\n",
      "Epoch 207/1000\n",
      "16/16 [==============================] - 0s 2ms/step - loss: 0.0198 - acc: 0.0000e+00\n",
      "Epoch 208/1000\n",
      "16/16 [==============================] - 0s 2ms/step - loss: 0.0199 - acc: 0.0000e+00\n",
      "Epoch 209/1000\n",
      "16/16 [==============================] - 0s 2ms/step - loss: 0.0200 - acc: 0.0000e+00\n",
      "Epoch 210/1000\n",
      "16/16 [==============================] - 0s 2ms/step - loss: 0.0198 - acc: 0.0000e+00\n",
      "Epoch 211/1000\n",
      "16/16 [==============================] - 0s 2ms/step - loss: 0.0199 - acc: 0.0000e+00\n",
      "Epoch 212/1000\n",
      "16/16 [==============================] - 0s 2ms/step - loss: 0.0198 - acc: 0.0000e+00\n",
      "Epoch 213/1000\n",
      "16/16 [==============================] - 0s 2ms/step - loss: 0.0200 - acc: 0.0000e+00\n",
      "Epoch 214/1000\n",
      "16/16 [==============================] - 0s 2ms/step - loss: 0.0198 - acc: 0.0000e+00\n",
      "Epoch 215/1000\n",
      "16/16 [==============================] - 0s 2ms/step - loss: 0.0199 - acc: 0.0000e+00\n",
      "Epoch 216/1000\n",
      "16/16 [==============================] - 0s 2ms/step - loss: 0.0200 - acc: 0.0000e+00\n",
      "Epoch 217/1000\n",
      "16/16 [==============================] - 0s 2ms/step - loss: 0.0199 - acc: 0.0000e+00\n",
      "Epoch 218/1000\n",
      "16/16 [==============================] - 0s 2ms/step - loss: 0.0199 - acc: 0.0000e+00\n",
      "Epoch 219/1000\n",
      "16/16 [==============================] - 0s 6ms/step - loss: 0.0198 - acc: 0.0000e+00\n",
      "Epoch 220/1000\n",
      "16/16 [==============================] - 0s 2ms/step - loss: 0.0200 - acc: 0.0000e+00\n",
      "Epoch 221/1000\n",
      "16/16 [==============================] - 0s 2ms/step - loss: 0.0199 - acc: 0.0000e+00\n",
      "Epoch 222/1000\n",
      "16/16 [==============================] - 0s 2ms/step - loss: 0.0200 - acc: 0.0000e+00\n",
      "Epoch 223/1000\n",
      "16/16 [==============================] - 0s 2ms/step - loss: 0.0199 - acc: 0.0000e+00\n",
      "Epoch 224/1000\n",
      "16/16 [==============================] - 0s 2ms/step - loss: 0.0202 - acc: 0.0000e+00\n",
      "Epoch 225/1000\n",
      "16/16 [==============================] - 0s 2ms/step - loss: 0.0200 - acc: 0.0000e+00\n",
      "Epoch 226/1000\n",
      "16/16 [==============================] - 0s 2ms/step - loss: 0.0200 - acc: 0.0000e+00\n",
      "Epoch 227/1000\n",
      "16/16 [==============================] - 0s 2ms/step - loss: 0.0197 - acc: 0.0000e+00\n",
      "Epoch 228/1000\n",
      "16/16 [==============================] - 0s 2ms/step - loss: 0.0199 - acc: 0.0000e+00\n",
      "Epoch 229/1000\n",
      "16/16 [==============================] - 0s 2ms/step - loss: 0.0199 - acc: 0.0000e+00\n",
      "Epoch 230/1000\n",
      "16/16 [==============================] - 0s 2ms/step - loss: 0.0199 - acc: 0.0000e+00\n",
      "Epoch 231/1000\n",
      "16/16 [==============================] - 0s 2ms/step - loss: 0.0199 - acc: 0.0000e+00\n",
      "Epoch 232/1000\n",
      "16/16 [==============================] - 0s 2ms/step - loss: 0.0202 - acc: 0.0000e+00\n",
      "Epoch 233/1000\n",
      "16/16 [==============================] - 0s 2ms/step - loss: 0.0199 - acc: 0.0000e+00\n",
      "Epoch 234/1000\n",
      "16/16 [==============================] - 0s 2ms/step - loss: 0.0198 - acc: 0.0000e+00\n",
      "Epoch 235/1000\n",
      "16/16 [==============================] - 0s 2ms/step - loss: 0.0200 - acc: 0.0000e+00\n",
      "Epoch 236/1000\n",
      "16/16 [==============================] - 0s 2ms/step - loss: 0.0198 - acc: 0.0000e+00\n",
      "Epoch 237/1000\n",
      "16/16 [==============================] - 0s 2ms/step - loss: 0.0198 - acc: 0.0000e+00\n",
      "Epoch 238/1000\n",
      "16/16 [==============================] - 0s 2ms/step - loss: 0.0200 - acc: 0.0000e+00\n",
      "Epoch 239/1000\n",
      "16/16 [==============================] - 0s 2ms/step - loss: 0.0199 - acc: 0.0000e+00\n",
      "Epoch 240/1000\n",
      "16/16 [==============================] - 0s 2ms/step - loss: 0.0198 - acc: 0.0000e+00\n",
      "Epoch 241/1000\n",
      "16/16 [==============================] - 0s 2ms/step - loss: 0.0199 - acc: 0.0000e+00\n",
      "Epoch 242/1000\n",
      "16/16 [==============================] - 0s 2ms/step - loss: 0.0199 - acc: 0.0000e+00\n",
      "Epoch 243/1000\n",
      "16/16 [==============================] - 0s 2ms/step - loss: 0.0200 - acc: 0.0000e+00\n",
      "Epoch 244/1000\n",
      "16/16 [==============================] - 0s 2ms/step - loss: 0.0200 - acc: 0.0000e+00\n",
      "Epoch 245/1000\n"
     ]
    },
    {
     "name": "stdout",
     "output_type": "stream",
     "text": [
      "16/16 [==============================] - 0s 2ms/step - loss: 0.0202 - acc: 0.0000e+00\n",
      "Epoch 246/1000\n",
      "16/16 [==============================] - 0s 2ms/step - loss: 0.0198 - acc: 0.0000e+00\n",
      "Epoch 247/1000\n",
      "16/16 [==============================] - 0s 2ms/step - loss: 0.0198 - acc: 0.0000e+00\n",
      "Epoch 248/1000\n",
      "16/16 [==============================] - 0s 2ms/step - loss: 0.0199 - acc: 0.0000e+00\n",
      "Epoch 249/1000\n",
      "16/16 [==============================] - 0s 2ms/step - loss: 0.0200 - acc: 0.0000e+00\n",
      "Epoch 250/1000\n",
      "16/16 [==============================] - 0s 2ms/step - loss: 0.0198 - acc: 0.0000e+00\n",
      "Epoch 251/1000\n",
      "16/16 [==============================] - 0s 2ms/step - loss: 0.0198 - acc: 0.0000e+00\n",
      "Epoch 252/1000\n",
      "16/16 [==============================] - 0s 2ms/step - loss: 0.0199 - acc: 0.0000e+00\n",
      "Epoch 253/1000\n",
      "16/16 [==============================] - 0s 2ms/step - loss: 0.0200 - acc: 0.0000e+00\n",
      "Epoch 254/1000\n",
      "16/16 [==============================] - 0s 2ms/step - loss: 0.0201 - acc: 0.0000e+00\n",
      "Epoch 255/1000\n",
      "16/16 [==============================] - 0s 2ms/step - loss: 0.0202 - acc: 0.0000e+00\n",
      "Epoch 256/1000\n",
      "16/16 [==============================] - 0s 3ms/step - loss: 0.0199 - acc: 0.0000e+00\n",
      "Epoch 257/1000\n",
      "16/16 [==============================] - 0s 3ms/step - loss: 0.0200 - acc: 0.0000e+00\n",
      "Epoch 258/1000\n",
      "16/16 [==============================] - 0s 3ms/step - loss: 0.0202 - acc: 0.0000e+00\n",
      "Epoch 259/1000\n",
      "16/16 [==============================] - 0s 2ms/step - loss: 0.0201 - acc: 0.0000e+00\n",
      "Epoch 260/1000\n",
      "16/16 [==============================] - 0s 2ms/step - loss: 0.0198 - acc: 0.0000e+00\n",
      "Epoch 261/1000\n",
      "16/16 [==============================] - 0s 2ms/step - loss: 0.0198 - acc: 0.0000e+00\n",
      "Epoch 262/1000\n",
      "16/16 [==============================] - 0s 2ms/step - loss: 0.0202 - acc: 0.0000e+00\n",
      "Epoch 263/1000\n",
      "16/16 [==============================] - 0s 2ms/step - loss: 0.0200 - acc: 0.0000e+00\n",
      "Epoch 264/1000\n",
      "16/16 [==============================] - 0s 2ms/step - loss: 0.0199 - acc: 0.0000e+00\n",
      "Epoch 265/1000\n",
      "16/16 [==============================] - 0s 2ms/step - loss: 0.0204 - acc: 0.0000e+00\n",
      "Epoch 266/1000\n",
      "16/16 [==============================] - 0s 2ms/step - loss: 0.0200 - acc: 0.0000e+00\n",
      "Epoch 267/1000\n",
      "16/16 [==============================] - 0s 3ms/step - loss: 0.0198 - acc: 0.0000e+00\n",
      "Epoch 268/1000\n",
      "16/16 [==============================] - 0s 3ms/step - loss: 0.0200 - acc: 0.0000e+00\n",
      "Epoch 269/1000\n",
      "16/16 [==============================] - 0s 2ms/step - loss: 0.0198 - acc: 0.0000e+00\n",
      "Epoch 270/1000\n",
      "16/16 [==============================] - 0s 2ms/step - loss: 0.0199 - acc: 0.0000e+00\n",
      "Epoch 271/1000\n",
      "16/16 [==============================] - 0s 2ms/step - loss: 0.0198 - acc: 0.0000e+00\n",
      "Epoch 272/1000\n",
      "16/16 [==============================] - 0s 2ms/step - loss: 0.0199 - acc: 0.0000e+00\n",
      "Epoch 273/1000\n",
      "16/16 [==============================] - 0s 2ms/step - loss: 0.0200 - acc: 0.0000e+00\n",
      "Epoch 274/1000\n",
      "16/16 [==============================] - 0s 3ms/step - loss: 0.0200 - acc: 0.0000e+00\n",
      "Epoch 275/1000\n",
      "16/16 [==============================] - 0s 5ms/step - loss: 0.0199 - acc: 0.0000e+00\n",
      "Epoch 276/1000\n",
      "16/16 [==============================] - 0s 4ms/step - loss: 0.0199 - acc: 0.0000e+00\n",
      "Epoch 277/1000\n",
      "16/16 [==============================] - 0s 3ms/step - loss: 0.0198 - acc: 0.0000e+00\n",
      "Epoch 278/1000\n",
      "16/16 [==============================] - 0s 3ms/step - loss: 0.0198 - acc: 0.0000e+00\n",
      "Epoch 279/1000\n",
      "16/16 [==============================] - 0s 3ms/step - loss: 0.0198 - acc: 0.0000e+00\n",
      "Epoch 280/1000\n",
      "16/16 [==============================] - 0s 3ms/step - loss: 0.0199 - acc: 0.0000e+00\n",
      "Epoch 281/1000\n",
      "16/16 [==============================] - 0s 2ms/step - loss: 0.0199 - acc: 0.0000e+00\n",
      "Epoch 282/1000\n",
      "16/16 [==============================] - 0s 2ms/step - loss: 0.0199 - acc: 0.0000e+00\n",
      "Epoch 283/1000\n",
      "16/16 [==============================] - 0s 2ms/step - loss: 0.0199 - acc: 0.0000e+00\n",
      "Epoch 284/1000\n",
      "16/16 [==============================] - 0s 2ms/step - loss: 0.0199 - acc: 0.0000e+00\n",
      "Epoch 285/1000\n",
      "16/16 [==============================] - 0s 2ms/step - loss: 0.0199 - acc: 0.0000e+00\n",
      "Epoch 286/1000\n",
      "16/16 [==============================] - 0s 6ms/step - loss: 0.0199 - acc: 0.0000e+00\n",
      "Epoch 287/1000\n",
      "16/16 [==============================] - 0s 2ms/step - loss: 0.0199 - acc: 0.0000e+00\n",
      "Epoch 288/1000\n",
      "16/16 [==============================] - 0s 3ms/step - loss: 0.0198 - acc: 0.0000e+00\n",
      "Epoch 289/1000\n",
      "16/16 [==============================] - 0s 2ms/step - loss: 0.0199 - acc: 0.0000e+00\n",
      "Epoch 290/1000\n",
      "16/16 [==============================] - 0s 1ms/step - loss: 0.0199 - acc: 0.0000e+00\n",
      "Epoch 291/1000\n",
      "16/16 [==============================] - 0s 1ms/step - loss: 0.0198 - acc: 0.0000e+00\n",
      "Epoch 292/1000\n",
      "16/16 [==============================] - 0s 1ms/step - loss: 0.0198 - acc: 0.0000e+00\n",
      "Epoch 293/1000\n",
      "16/16 [==============================] - 0s 1ms/step - loss: 0.0200 - acc: 0.0000e+00\n",
      "Epoch 294/1000\n",
      "16/16 [==============================] - 0s 1ms/step - loss: 0.0199 - acc: 0.0000e+00\n",
      "Epoch 295/1000\n",
      "16/16 [==============================] - 0s 1ms/step - loss: 0.0198 - acc: 0.0000e+00\n",
      "Epoch 296/1000\n",
      "16/16 [==============================] - 0s 1ms/step - loss: 0.0203 - acc: 0.0000e+00\n",
      "Epoch 297/1000\n",
      "16/16 [==============================] - 0s 1ms/step - loss: 0.0199 - acc: 0.0000e+00\n",
      "Epoch 298/1000\n",
      "16/16 [==============================] - 0s 3ms/step - loss: 0.0200 - acc: 0.0000e+00\n",
      "Epoch 299/1000\n",
      "16/16 [==============================] - 0s 3ms/step - loss: 0.0201 - acc: 0.0000e+00\n",
      "Epoch 300/1000\n",
      "16/16 [==============================] - 0s 3ms/step - loss: 0.0198 - acc: 0.0000e+00\n",
      "Epoch 301/1000\n",
      "16/16 [==============================] - 0s 2ms/step - loss: 0.0199 - acc: 0.0000e+00\n",
      "Epoch 302/1000\n",
      "16/16 [==============================] - 0s 2ms/step - loss: 0.0199 - acc: 0.0000e+00\n",
      "Epoch 303/1000\n",
      "16/16 [==============================] - 0s 2ms/step - loss: 0.0199 - acc: 0.0000e+00\n",
      "Epoch 304/1000\n",
      "16/16 [==============================] - 0s 2ms/step - loss: 0.0198 - acc: 0.0000e+00\n",
      "Epoch 305/1000\n",
      "16/16 [==============================] - 0s 1ms/step - loss: 0.0200 - acc: 0.0000e+00\n",
      "Epoch 306/1000\n",
      "16/16 [==============================] - 0s 2ms/step - loss: 0.0202 - acc: 0.0000e+00\n",
      "Epoch 307/1000\n",
      "16/16 [==============================] - 0s 2ms/step - loss: 0.0198 - acc: 0.0000e+00\n",
      "Epoch 308/1000\n",
      "16/16 [==============================] - 0s 1ms/step - loss: 0.0199 - acc: 0.0000e+00\n",
      "Epoch 309/1000\n",
      "16/16 [==============================] - 0s 1ms/step - loss: 0.0198 - acc: 0.0000e+00\n",
      "Epoch 310/1000\n",
      "16/16 [==============================] - 0s 2ms/step - loss: 0.0199 - acc: 0.0000e+00\n",
      "Epoch 311/1000\n",
      "16/16 [==============================] - 0s 2ms/step - loss: 0.0198 - acc: 0.0000e+00\n",
      "Epoch 312/1000\n",
      "16/16 [==============================] - 0s 1ms/step - loss: 0.0199 - acc: 0.0000e+00\n",
      "Epoch 313/1000\n",
      "16/16 [==============================] - 0s 1ms/step - loss: 0.0198 - acc: 0.0000e+00\n",
      "Epoch 314/1000\n",
      "16/16 [==============================] - 0s 1ms/step - loss: 0.0198 - acc: 0.0000e+00\n",
      "Epoch 315/1000\n",
      "16/16 [==============================] - 0s 1ms/step - loss: 0.0198 - acc: 0.0000e+00\n",
      "Epoch 316/1000\n",
      "16/16 [==============================] - 0s 1ms/step - loss: 0.0201 - acc: 0.0000e+00\n",
      "Epoch 317/1000\n",
      "16/16 [==============================] - 0s 1ms/step - loss: 0.0200 - acc: 0.0000e+00\n",
      "Epoch 318/1000\n",
      "16/16 [==============================] - 0s 1ms/step - loss: 0.0199 - acc: 0.0000e+00\n",
      "Epoch 319/1000\n",
      "16/16 [==============================] - 0s 1ms/step - loss: 0.0199 - acc: 0.0000e+00\n",
      "Epoch 320/1000\n",
      "16/16 [==============================] - 0s 1ms/step - loss: 0.0200 - acc: 0.0000e+00\n",
      "Epoch 321/1000\n",
      "16/16 [==============================] - 0s 1ms/step - loss: 0.0198 - acc: 0.0000e+00\n",
      "Epoch 322/1000\n",
      "16/16 [==============================] - 0s 1ms/step - loss: 0.0200 - acc: 0.0000e+00\n",
      "Epoch 323/1000\n",
      "16/16 [==============================] - 0s 1ms/step - loss: 0.0198 - acc: 0.0000e+00\n",
      "Epoch 324/1000\n",
      "16/16 [==============================] - 0s 1ms/step - loss: 0.0199 - acc: 0.0000e+00\n",
      "Epoch 325/1000\n",
      "16/16 [==============================] - 0s 1ms/step - loss: 0.0199 - acc: 0.0000e+00\n",
      "Epoch 326/1000\n",
      "16/16 [==============================] - 0s 1ms/step - loss: 0.0199 - acc: 0.0000e+00\n",
      "Epoch 327/1000\n",
      "16/16 [==============================] - 0s 1ms/step - loss: 0.0200 - acc: 0.0000e+00\n",
      "Epoch 328/1000\n",
      "16/16 [==============================] - 0s 2ms/step - loss: 0.0201 - acc: 0.0000e+00\n",
      "Epoch 329/1000\n",
      "16/16 [==============================] - 0s 2ms/step - loss: 0.0201 - acc: 0.0000e+00\n",
      "Epoch 330/1000\n",
      "16/16 [==============================] - 0s 2ms/step - loss: 0.0202 - acc: 0.0000e+00\n",
      "Epoch 331/1000\n",
      "16/16 [==============================] - 0s 2ms/step - loss: 0.0199 - acc: 0.0000e+00\n",
      "Epoch 332/1000\n",
      "16/16 [==============================] - 0s 2ms/step - loss: 0.0199 - acc: 0.0000e+00\n",
      "Epoch 333/1000\n",
      "16/16 [==============================] - 0s 2ms/step - loss: 0.0200 - acc: 0.0000e+00\n",
      "Epoch 334/1000\n",
      "16/16 [==============================] - 0s 2ms/step - loss: 0.0201 - acc: 0.0000e+00\n",
      "Epoch 335/1000\n",
      "16/16 [==============================] - 0s 2ms/step - loss: 0.0199 - acc: 0.0000e+00\n",
      "Epoch 336/1000\n",
      "16/16 [==============================] - 0s 2ms/step - loss: 0.0199 - acc: 0.0000e+00\n",
      "Epoch 337/1000\n",
      "16/16 [==============================] - 0s 2ms/step - loss: 0.0199 - acc: 0.0000e+00\n",
      "Epoch 338/1000\n",
      "16/16 [==============================] - 0s 2ms/step - loss: 0.0202 - acc: 0.0000e+00\n",
      "Epoch 339/1000\n",
      "16/16 [==============================] - 0s 2ms/step - loss: 0.0199 - acc: 0.0000e+00\n",
      "Epoch 340/1000\n",
      "16/16 [==============================] - 0s 1ms/step - loss: 0.0201 - acc: 0.0000e+00\n",
      "Epoch 341/1000\n",
      "16/16 [==============================] - 0s 2ms/step - loss: 0.0202 - acc: 0.0000e+00\n",
      "Epoch 342/1000\n",
      "16/16 [==============================] - 0s 2ms/step - loss: 0.0199 - acc: 0.0000e+00\n",
      "Epoch 343/1000\n",
      "16/16 [==============================] - 0s 2ms/step - loss: 0.0198 - acc: 0.0000e+00\n",
      "Epoch 344/1000\n",
      "16/16 [==============================] - 0s 2ms/step - loss: 0.0198 - acc: 0.0000e+00\n",
      "Epoch 345/1000\n",
      "16/16 [==============================] - 0s 2ms/step - loss: 0.0199 - acc: 0.0000e+00\n",
      "Epoch 346/1000\n",
      "16/16 [==============================] - 0s 2ms/step - loss: 0.0199 - acc: 0.0000e+00\n",
      "Epoch 347/1000\n",
      "16/16 [==============================] - 0s 1ms/step - loss: 0.0199 - acc: 0.0000e+00\n",
      "Epoch 348/1000\n",
      "16/16 [==============================] - 0s 1ms/step - loss: 0.0198 - acc: 0.0000e+00\n",
      "Epoch 349/1000\n",
      "16/16 [==============================] - 0s 1ms/step - loss: 0.0198 - acc: 0.0000e+00\n",
      "Epoch 350/1000\n",
      "16/16 [==============================] - 0s 1ms/step - loss: 0.0200 - acc: 0.0000e+00\n",
      "Epoch 351/1000\n",
      "16/16 [==============================] - 0s 1ms/step - loss: 0.0199 - acc: 0.0000e+00\n",
      "Epoch 352/1000\n",
      "16/16 [==============================] - 0s 1ms/step - loss: 0.0198 - acc: 0.0000e+00\n",
      "Epoch 353/1000\n",
      "16/16 [==============================] - 0s 1ms/step - loss: 0.0199 - acc: 0.0000e+00\n",
      "Epoch 354/1000\n",
      "16/16 [==============================] - 0s 1ms/step - loss: 0.0202 - acc: 0.0000e+00\n",
      "Epoch 355/1000\n",
      "16/16 [==============================] - 0s 1ms/step - loss: 0.0199 - acc: 0.0000e+00\n",
      "Epoch 356/1000\n",
      "16/16 [==============================] - 0s 1ms/step - loss: 0.0200 - acc: 0.0000e+00\n",
      "Epoch 357/1000\n",
      "16/16 [==============================] - 0s 1ms/step - loss: 0.0198 - acc: 0.0000e+00\n",
      "Epoch 358/1000\n",
      "16/16 [==============================] - 0s 1ms/step - loss: 0.0199 - acc: 0.0000e+00\n",
      "Epoch 359/1000\n",
      "16/16 [==============================] - 0s 1ms/step - loss: 0.0200 - acc: 0.0000e+00\n",
      "Epoch 360/1000\n",
      "16/16 [==============================] - 0s 1ms/step - loss: 0.0199 - acc: 0.0000e+00\n",
      "Epoch 361/1000\n",
      "16/16 [==============================] - 0s 1ms/step - loss: 0.0198 - acc: 0.0000e+00\n",
      "Epoch 362/1000\n",
      "16/16 [==============================] - 0s 1ms/step - loss: 0.0198 - acc: 0.0000e+00\n",
      "Epoch 363/1000\n",
      "16/16 [==============================] - 0s 1ms/step - loss: 0.0198 - acc: 0.0000e+00\n",
      "Epoch 364/1000\n",
      "16/16 [==============================] - 0s 1ms/step - loss: 0.0198 - acc: 0.0000e+00\n",
      "Epoch 365/1000\n",
      "16/16 [==============================] - 0s 1ms/step - loss: 0.0199 - acc: 0.0000e+00\n",
      "Epoch 366/1000\n",
      "16/16 [==============================] - 0s 1ms/step - loss: 0.0199 - acc: 0.0000e+00\n",
      "Epoch 367/1000\n",
      "16/16 [==============================] - 0s 1ms/step - loss: 0.0199 - acc: 0.0000e+00\n",
      "Epoch 368/1000\n",
      "16/16 [==============================] - 0s 1ms/step - loss: 0.0200 - acc: 0.0000e+00\n",
      "Epoch 369/1000\n",
      "16/16 [==============================] - 0s 1ms/step - loss: 0.0201 - acc: 0.0000e+00\n",
      "Epoch 370/1000\n",
      "16/16 [==============================] - 0s 1ms/step - loss: 0.0203 - acc: 0.0000e+00\n",
      "Epoch 371/1000\n",
      "16/16 [==============================] - 0s 1ms/step - loss: 0.0200 - acc: 0.0000e+00\n",
      "Epoch 372/1000\n",
      "16/16 [==============================] - 0s 1ms/step - loss: 0.0199 - acc: 0.0000e+00\n",
      "Epoch 373/1000\n",
      "16/16 [==============================] - 0s 2ms/step - loss: 0.0198 - acc: 0.0000e+00\n",
      "Epoch 374/1000\n",
      "16/16 [==============================] - 0s 2ms/step - loss: 0.0200 - acc: 0.0000e+00\n",
      "Epoch 375/1000\n",
      "16/16 [==============================] - 0s 2ms/step - loss: 0.0200 - acc: 0.0000e+00\n",
      "Epoch 376/1000\n",
      "16/16 [==============================] - 0s 2ms/step - loss: 0.0202 - acc: 0.0000e+00\n",
      "Epoch 377/1000\n",
      "16/16 [==============================] - 0s 1ms/step - loss: 0.0197 - acc: 0.0000e+00\n",
      "Epoch 378/1000\n",
      "16/16 [==============================] - 0s 2ms/step - loss: 0.0201 - acc: 0.0000e+00\n",
      "Epoch 379/1000\n",
      "16/16 [==============================] - 0s 2ms/step - loss: 0.0200 - acc: 0.0000e+00\n",
      "Epoch 380/1000\n",
      "16/16 [==============================] - 0s 1ms/step - loss: 0.0200 - acc: 0.0000e+00\n",
      "Epoch 381/1000\n",
      "16/16 [==============================] - 0s 1ms/step - loss: 0.0198 - acc: 0.0000e+00\n",
      "Epoch 382/1000\n",
      "16/16 [==============================] - 0s 1ms/step - loss: 0.0198 - acc: 0.0000e+00\n",
      "Epoch 383/1000\n",
      "16/16 [==============================] - 0s 1ms/step - loss: 0.0198 - acc: 0.0000e+00\n",
      "Epoch 384/1000\n",
      "16/16 [==============================] - 0s 1ms/step - loss: 0.0199 - acc: 0.0000e+00\n",
      "Epoch 385/1000\n",
      "16/16 [==============================] - 0s 1ms/step - loss: 0.0198 - acc: 0.0000e+00\n",
      "Epoch 386/1000\n",
      "16/16 [==============================] - 0s 1ms/step - loss: 0.0198 - acc: 0.0000e+00\n",
      "Epoch 387/1000\n",
      "16/16 [==============================] - 0s 1ms/step - loss: 0.0199 - acc: 0.0000e+00\n",
      "Epoch 388/1000\n",
      "16/16 [==============================] - 0s 1ms/step - loss: 0.0199 - acc: 0.0000e+00\n",
      "Epoch 389/1000\n",
      "16/16 [==============================] - 0s 1ms/step - loss: 0.0198 - acc: 0.0000e+00\n",
      "Epoch 390/1000\n",
      "16/16 [==============================] - 0s 1ms/step - loss: 0.0199 - acc: 0.0000e+00\n",
      "Epoch 391/1000\n",
      "16/16 [==============================] - 0s 1ms/step - loss: 0.0201 - acc: 0.0000e+00\n",
      "Epoch 392/1000\n",
      "16/16 [==============================] - 0s 1ms/step - loss: 0.0201 - acc: 0.0000e+00\n",
      "Epoch 393/1000\n",
      "16/16 [==============================] - 0s 1ms/step - loss: 0.0199 - acc: 0.0000e+00\n",
      "Epoch 394/1000\n",
      "16/16 [==============================] - 0s 1ms/step - loss: 0.0199 - acc: 0.0000e+00\n",
      "Epoch 395/1000\n",
      "16/16 [==============================] - 0s 1ms/step - loss: 0.0198 - acc: 0.0000e+00\n",
      "Epoch 396/1000\n",
      "16/16 [==============================] - 0s 1ms/step - loss: 0.0198 - acc: 0.0000e+00\n",
      "Epoch 397/1000\n",
      "16/16 [==============================] - 0s 1ms/step - loss: 0.0198 - acc: 0.0000e+00\n",
      "Epoch 398/1000\n",
      "16/16 [==============================] - 0s 6ms/step - loss: 0.0198 - acc: 0.0000e+00\n",
      "Epoch 399/1000\n",
      "16/16 [==============================] - 0s 3ms/step - loss: 0.0199 - acc: 0.0000e+00\n",
      "Epoch 400/1000\n",
      "16/16 [==============================] - 0s 2ms/step - loss: 0.0198 - acc: 0.0000e+00\n",
      "Epoch 401/1000\n",
      "16/16 [==============================] - 0s 2ms/step - loss: 0.0198 - acc: 0.0000e+00\n",
      "Epoch 402/1000\n",
      "16/16 [==============================] - 0s 2ms/step - loss: 0.0199 - acc: 0.0000e+00\n",
      "Epoch 403/1000\n",
      "16/16 [==============================] - 0s 2ms/step - loss: 0.0198 - acc: 0.0000e+00\n",
      "Epoch 404/1000\n",
      "16/16 [==============================] - 0s 2ms/step - loss: 0.0199 - acc: 0.0000e+00\n",
      "Epoch 405/1000\n",
      "16/16 [==============================] - 0s 2ms/step - loss: 0.0198 - acc: 0.0000e+00\n",
      "Epoch 406/1000\n",
      "16/16 [==============================] - 0s 2ms/step - loss: 0.0199 - acc: 0.0000e+00\n",
      "Epoch 407/1000\n"
     ]
    },
    {
     "name": "stdout",
     "output_type": "stream",
     "text": [
      "16/16 [==============================] - 0s 2ms/step - loss: 0.0200 - acc: 0.0000e+00\n",
      "Epoch 408/1000\n",
      "16/16 [==============================] - 0s 2ms/step - loss: 0.0199 - acc: 0.0000e+00\n",
      "Epoch 409/1000\n",
      "16/16 [==============================] - 0s 2ms/step - loss: 0.0198 - acc: 0.0000e+00\n",
      "Epoch 410/1000\n",
      "16/16 [==============================] - 0s 2ms/step - loss: 0.0198 - acc: 0.0000e+00\n",
      "Epoch 411/1000\n",
      "16/16 [==============================] - 0s 2ms/step - loss: 0.0198 - acc: 0.0000e+00\n",
      "Epoch 412/1000\n",
      "16/16 [==============================] - 0s 2ms/step - loss: 0.0199 - acc: 0.0000e+00\n",
      "Epoch 413/1000\n",
      "16/16 [==============================] - 0s 2ms/step - loss: 0.0199 - acc: 0.0000e+00\n",
      "Epoch 414/1000\n",
      "16/16 [==============================] - 0s 2ms/step - loss: 0.0201 - acc: 0.0000e+00\n",
      "Epoch 415/1000\n",
      "16/16 [==============================] - 0s 2ms/step - loss: 0.0201 - acc: 0.0000e+00\n",
      "Epoch 416/1000\n",
      "16/16 [==============================] - 0s 2ms/step - loss: 0.0198 - acc: 0.0000e+00\n",
      "Epoch 417/1000\n",
      "16/16 [==============================] - 0s 2ms/step - loss: 0.0198 - acc: 0.0000e+00\n",
      "Epoch 418/1000\n",
      "16/16 [==============================] - 0s 3ms/step - loss: 0.0200 - acc: 0.0000e+00\n",
      "Epoch 419/1000\n",
      "16/16 [==============================] - 0s 3ms/step - loss: 0.0198 - acc: 0.0000e+00\n",
      "Epoch 420/1000\n",
      "16/16 [==============================] - 0s 2ms/step - loss: 0.0199 - acc: 0.0000e+00\n",
      "Epoch 421/1000\n",
      "16/16 [==============================] - 0s 3ms/step - loss: 0.0199 - acc: 0.0000e+00\n",
      "Epoch 422/1000\n",
      "16/16 [==============================] - 0s 2ms/step - loss: 0.0199 - acc: 0.0000e+00\n",
      "Epoch 423/1000\n",
      "16/16 [==============================] - 0s 2ms/step - loss: 0.0200 - acc: 0.0000e+00\n",
      "Epoch 424/1000\n",
      "16/16 [==============================] - 0s 3ms/step - loss: 0.0199 - acc: 0.0000e+00\n",
      "Epoch 425/1000\n",
      "16/16 [==============================] - 0s 2ms/step - loss: 0.0198 - acc: 0.0000e+00\n",
      "Epoch 426/1000\n",
      "16/16 [==============================] - 0s 2ms/step - loss: 0.0199 - acc: 0.0000e+00\n",
      "Epoch 427/1000\n",
      "16/16 [==============================] - 0s 2ms/step - loss: 0.0198 - acc: 0.0000e+00\n",
      "Epoch 428/1000\n",
      "16/16 [==============================] - 0s 2ms/step - loss: 0.0200 - acc: 0.0000e+00\n",
      "Epoch 429/1000\n",
      "16/16 [==============================] - 0s 2ms/step - loss: 0.0199 - acc: 0.0000e+00\n",
      "Epoch 430/1000\n",
      "16/16 [==============================] - 0s 2ms/step - loss: 0.0199 - acc: 0.0000e+00\n",
      "Epoch 431/1000\n",
      "16/16 [==============================] - 0s 2ms/step - loss: 0.0201 - acc: 0.0000e+00\n",
      "Epoch 432/1000\n",
      "16/16 [==============================] - 0s 2ms/step - loss: 0.0199 - acc: 0.0000e+00\n",
      "Epoch 433/1000\n",
      "16/16 [==============================] - 0s 2ms/step - loss: 0.0198 - acc: 0.0000e+00\n",
      "Epoch 434/1000\n",
      "16/16 [==============================] - 0s 2ms/step - loss: 0.0199 - acc: 0.0000e+00\n",
      "Epoch 435/1000\n",
      "16/16 [==============================] - 0s 2ms/step - loss: 0.0200 - acc: 0.0000e+00\n",
      "Epoch 436/1000\n",
      "16/16 [==============================] - 0s 2ms/step - loss: 0.0198 - acc: 0.0000e+00\n",
      "Epoch 437/1000\n",
      "16/16 [==============================] - 0s 2ms/step - loss: 0.0198 - acc: 0.0000e+00\n",
      "Epoch 438/1000\n",
      "16/16 [==============================] - 0s 2ms/step - loss: 0.0198 - acc: 0.0000e+00\n",
      "Epoch 439/1000\n",
      "16/16 [==============================] - 0s 2ms/step - loss: 0.0201 - acc: 0.0000e+00\n",
      "Epoch 440/1000\n",
      "16/16 [==============================] - 0s 2ms/step - loss: 0.0200 - acc: 0.0000e+00\n",
      "Epoch 441/1000\n",
      "16/16 [==============================] - 0s 6ms/step - loss: 0.0198 - acc: 0.0000e+00\n",
      "Epoch 442/1000\n",
      "16/16 [==============================] - 0s 2ms/step - loss: 0.0198 - acc: 0.0000e+00\n",
      "Epoch 443/1000\n",
      "16/16 [==============================] - 0s 2ms/step - loss: 0.0199 - acc: 0.0000e+00\n",
      "Epoch 444/1000\n",
      "16/16 [==============================] - 0s 2ms/step - loss: 0.0198 - acc: 0.0000e+00\n",
      "Epoch 445/1000\n",
      "16/16 [==============================] - 0s 3ms/step - loss: 0.0198 - acc: 0.0000e+00\n",
      "Epoch 446/1000\n",
      "16/16 [==============================] - 0s 2ms/step - loss: 0.0199 - acc: 0.0000e+00\n",
      "Epoch 447/1000\n",
      "16/16 [==============================] - 0s 2ms/step - loss: 0.0199 - acc: 0.0000e+00\n",
      "Epoch 448/1000\n",
      "16/16 [==============================] - 0s 2ms/step - loss: 0.0201 - acc: 0.0000e+00\n",
      "Epoch 449/1000\n",
      "16/16 [==============================] - 0s 2ms/step - loss: 0.0199 - acc: 0.0000e+00\n",
      "Epoch 450/1000\n",
      "16/16 [==============================] - 0s 2ms/step - loss: 0.0198 - acc: 0.0000e+00\n",
      "Epoch 451/1000\n",
      "16/16 [==============================] - 0s 2ms/step - loss: 0.0199 - acc: 0.0000e+00\n",
      "Epoch 452/1000\n",
      "16/16 [==============================] - 0s 3ms/step - loss: 0.0198 - acc: 0.0000e+00\n",
      "Epoch 453/1000\n",
      "16/16 [==============================] - 0s 2ms/step - loss: 0.0199 - acc: 0.0000e+00\n",
      "Epoch 454/1000\n",
      "16/16 [==============================] - 0s 2ms/step - loss: 0.0199 - acc: 0.0000e+00\n",
      "Epoch 455/1000\n",
      "16/16 [==============================] - 0s 2ms/step - loss: 0.0201 - acc: 0.0000e+00\n",
      "Epoch 456/1000\n",
      "16/16 [==============================] - 0s 2ms/step - loss: 0.0199 - acc: 0.0000e+00\n",
      "Epoch 457/1000\n",
      "16/16 [==============================] - 0s 2ms/step - loss: 0.0208 - acc: 0.0000e+00\n",
      "Epoch 458/1000\n",
      "16/16 [==============================] - 0s 2ms/step - loss: 0.0199 - acc: 0.0000e+00\n",
      "Epoch 459/1000\n",
      "16/16 [==============================] - 0s 2ms/step - loss: 0.0200 - acc: 0.0000e+00\n",
      "Epoch 460/1000\n",
      "16/16 [==============================] - 0s 6ms/step - loss: 0.0199 - acc: 0.0000e+00\n",
      "Epoch 461/1000\n",
      "16/16 [==============================] - 0s 3ms/step - loss: 0.0200 - acc: 0.0000e+00\n",
      "Epoch 462/1000\n",
      "16/16 [==============================] - 0s 1ms/step - loss: 0.0198 - acc: 0.0000e+00\n",
      "Epoch 463/1000\n",
      "16/16 [==============================] - 0s 1ms/step - loss: 0.0200 - acc: 0.0000e+00\n",
      "Epoch 464/1000\n",
      "16/16 [==============================] - 0s 2ms/step - loss: 0.0199 - acc: 0.0000e+00\n",
      "Epoch 465/1000\n",
      "16/16 [==============================] - 0s 1ms/step - loss: 0.0200 - acc: 0.0000e+00\n",
      "Epoch 466/1000\n",
      "16/16 [==============================] - 0s 1ms/step - loss: 0.0200 - acc: 0.0000e+00\n",
      "Epoch 467/1000\n",
      "16/16 [==============================] - 0s 1ms/step - loss: 0.0202 - acc: 0.0000e+00\n",
      "Epoch 468/1000\n",
      "16/16 [==============================] - 0s 1ms/step - loss: 0.0198 - acc: 0.0000e+00\n",
      "Epoch 469/1000\n",
      "16/16 [==============================] - 0s 2ms/step - loss: 0.0198 - acc: 0.0000e+00\n",
      "Epoch 470/1000\n",
      "16/16 [==============================] - 0s 1ms/step - loss: 0.0198 - acc: 0.0000e+00\n",
      "Epoch 471/1000\n",
      "16/16 [==============================] - 0s 1ms/step - loss: 0.0200 - acc: 0.0000e+00\n",
      "Epoch 472/1000\n",
      "16/16 [==============================] - 0s 1ms/step - loss: 0.0203 - acc: 0.0000e+00\n",
      "Epoch 473/1000\n",
      "16/16 [==============================] - 0s 1ms/step - loss: 0.0202 - acc: 0.0000e+00\n",
      "Epoch 474/1000\n",
      "16/16 [==============================] - 0s 2ms/step - loss: 0.0198 - acc: 0.0000e+00\n",
      "Epoch 475/1000\n",
      "16/16 [==============================] - 0s 1ms/step - loss: 0.0200 - acc: 0.0000e+00\n",
      "Epoch 476/1000\n",
      "16/16 [==============================] - 0s 1ms/step - loss: 0.0198 - acc: 0.0000e+00\n",
      "Epoch 477/1000\n",
      "16/16 [==============================] - 0s 2ms/step - loss: 0.0199 - acc: 0.0000e+00\n",
      "Epoch 478/1000\n",
      "16/16 [==============================] - 0s 2ms/step - loss: 0.0200 - acc: 0.0000e+00\n",
      "Epoch 479/1000\n",
      "16/16 [==============================] - 0s 2ms/step - loss: 0.0202 - acc: 0.0000e+00\n",
      "Epoch 480/1000\n",
      "16/16 [==============================] - 0s 2ms/step - loss: 0.0199 - acc: 0.0000e+00\n",
      "Epoch 481/1000\n",
      "16/16 [==============================] - 0s 2ms/step - loss: 0.0199 - acc: 0.0000e+00\n",
      "Epoch 482/1000\n",
      "16/16 [==============================] - 0s 2ms/step - loss: 0.0201 - acc: 0.0000e+00\n",
      "Epoch 483/1000\n",
      "16/16 [==============================] - 0s 2ms/step - loss: 0.0200 - acc: 0.0000e+00\n",
      "Epoch 484/1000\n",
      "16/16 [==============================] - 0s 2ms/step - loss: 0.0204 - acc: 0.0000e+00\n",
      "Epoch 485/1000\n",
      "16/16 [==============================] - 0s 2ms/step - loss: 0.0199 - acc: 0.0000e+00\n",
      "Epoch 486/1000\n",
      "16/16 [==============================] - 0s 2ms/step - loss: 0.0200 - acc: 0.0000e+00\n",
      "Epoch 487/1000\n",
      "16/16 [==============================] - 0s 2ms/step - loss: 0.0198 - acc: 0.0000e+00\n",
      "Epoch 488/1000\n",
      "16/16 [==============================] - 0s 2ms/step - loss: 0.0199 - acc: 0.0000e+00\n",
      "Epoch 489/1000\n",
      "16/16 [==============================] - 0s 2ms/step - loss: 0.0198 - acc: 0.0000e+00\n",
      "Epoch 490/1000\n",
      "16/16 [==============================] - 0s 2ms/step - loss: 0.0200 - acc: 0.0000e+00\n",
      "Epoch 491/1000\n",
      "16/16 [==============================] - 0s 1ms/step - loss: 0.0199 - acc: 0.0000e+00\n",
      "Epoch 492/1000\n",
      "16/16 [==============================] - 0s 1ms/step - loss: 0.0200 - acc: 0.0000e+00\n",
      "Epoch 493/1000\n",
      "16/16 [==============================] - 0s 1ms/step - loss: 0.0200 - acc: 0.0000e+00\n",
      "Epoch 494/1000\n",
      "16/16 [==============================] - 0s 1ms/step - loss: 0.0199 - acc: 0.0000e+00\n",
      "Epoch 495/1000\n",
      "16/16 [==============================] - 0s 2ms/step - loss: 0.0202 - acc: 0.0000e+00\n",
      "Epoch 496/1000\n",
      "16/16 [==============================] - 0s 1ms/step - loss: 0.0197 - acc: 0.0000e+00\n",
      "Epoch 497/1000\n",
      "16/16 [==============================] - 0s 2ms/step - loss: 0.0200 - acc: 0.0000e+00\n",
      "Epoch 498/1000\n",
      "16/16 [==============================] - 0s 1ms/step - loss: 0.0198 - acc: 0.0000e+00\n",
      "Epoch 499/1000\n",
      "16/16 [==============================] - 0s 1ms/step - loss: 0.0198 - acc: 0.0000e+00\n",
      "Epoch 500/1000\n",
      "16/16 [==============================] - 0s 1ms/step - loss: 0.0202 - acc: 0.0000e+00\n",
      "Epoch 501/1000\n",
      "16/16 [==============================] - 0s 1ms/step - loss: 0.0199 - acc: 0.0000e+00\n",
      "Epoch 502/1000\n",
      "16/16 [==============================] - 0s 2ms/step - loss: 0.0198 - acc: 0.0000e+00\n",
      "Epoch 503/1000\n",
      "16/16 [==============================] - 0s 2ms/step - loss: 0.0198 - acc: 0.0000e+00\n",
      "Epoch 504/1000\n",
      "16/16 [==============================] - 0s 2ms/step - loss: 0.0200 - acc: 0.0000e+00\n",
      "Epoch 505/1000\n",
      "16/16 [==============================] - 0s 2ms/step - loss: 0.0198 - acc: 0.0000e+00\n",
      "Epoch 506/1000\n",
      "16/16 [==============================] - 0s 1ms/step - loss: 0.0200 - acc: 0.0000e+00\n",
      "Epoch 507/1000\n",
      "16/16 [==============================] - 0s 1ms/step - loss: 0.0198 - acc: 0.0000e+00\n",
      "Epoch 508/1000\n",
      "16/16 [==============================] - 0s 1ms/step - loss: 0.0198 - acc: 0.0000e+00\n",
      "Epoch 509/1000\n",
      "16/16 [==============================] - 0s 1ms/step - loss: 0.0199 - acc: 0.0000e+00\n",
      "Epoch 510/1000\n",
      "16/16 [==============================] - 0s 1ms/step - loss: 0.0199 - acc: 0.0000e+00\n",
      "Epoch 511/1000\n",
      "16/16 [==============================] - 0s 1ms/step - loss: 0.0198 - acc: 0.0000e+00\n",
      "Epoch 512/1000\n",
      "16/16 [==============================] - 0s 1ms/step - loss: 0.0198 - acc: 0.0000e+00\n",
      "Epoch 513/1000\n",
      "16/16 [==============================] - 0s 1ms/step - loss: 0.0199 - acc: 0.0000e+00\n",
      "Epoch 514/1000\n",
      "16/16 [==============================] - 0s 1ms/step - loss: 0.0199 - acc: 0.0000e+00\n",
      "Epoch 515/1000\n",
      "16/16 [==============================] - 0s 2ms/step - loss: 0.0198 - acc: 0.0000e+00\n",
      "Epoch 516/1000\n",
      "16/16 [==============================] - 0s 3ms/step - loss: 0.0198 - acc: 0.0000e+00\n",
      "Epoch 517/1000\n",
      "16/16 [==============================] - 0s 3ms/step - loss: 0.0198 - acc: 0.0000e+00\n",
      "Epoch 518/1000\n",
      "16/16 [==============================] - 0s 5ms/step - loss: 0.0199 - acc: 0.0000e+00\n",
      "Epoch 519/1000\n",
      "16/16 [==============================] - 0s 7ms/step - loss: 0.0198 - acc: 0.0000e+00\n",
      "Epoch 520/1000\n",
      "16/16 [==============================] - 0s 4ms/step - loss: 0.0199 - acc: 0.0000e+00\n",
      "Epoch 521/1000\n",
      "16/16 [==============================] - 0s 5ms/step - loss: 0.0199 - acc: 0.0000e+00\n",
      "Epoch 522/1000\n",
      "16/16 [==============================] - 0s 4ms/step - loss: 0.0198 - acc: 0.0000e+00\n",
      "Epoch 523/1000\n",
      "16/16 [==============================] - 0s 2ms/step - loss: 0.0201 - acc: 0.0000e+00\n",
      "Epoch 524/1000\n",
      "16/16 [==============================] - 0s 2ms/step - loss: 0.0198 - acc: 0.0000e+00\n",
      "Epoch 525/1000\n",
      "16/16 [==============================] - 0s 3ms/step - loss: 0.0199 - acc: 0.0000e+00\n",
      "Epoch 526/1000\n",
      "16/16 [==============================] - 0s 3ms/step - loss: 0.0198 - acc: 0.0000e+00\n",
      "Epoch 527/1000\n",
      "16/16 [==============================] - 0s 3ms/step - loss: 0.0198 - acc: 0.0000e+00\n",
      "Epoch 528/1000\n",
      "16/16 [==============================] - 0s 3ms/step - loss: 0.0200 - acc: 0.0000e+00\n",
      "Epoch 529/1000\n",
      "16/16 [==============================] - 0s 2ms/step - loss: 0.0201 - acc: 0.0000e+00\n",
      "Epoch 530/1000\n",
      "16/16 [==============================] - 0s 2ms/step - loss: 0.0199 - acc: 0.0000e+00\n",
      "Epoch 531/1000\n",
      "16/16 [==============================] - 0s 2ms/step - loss: 0.0198 - acc: 0.0000e+00\n",
      "Epoch 532/1000\n",
      "16/16 [==============================] - 0s 2ms/step - loss: 0.0199 - acc: 0.0000e+00\n",
      "Epoch 533/1000\n",
      "16/16 [==============================] - 0s 2ms/step - loss: 0.0199 - acc: 0.0000e+00\n",
      "Epoch 534/1000\n",
      "16/16 [==============================] - 0s 2ms/step - loss: 0.0199 - acc: 0.0000e+00\n",
      "Epoch 535/1000\n",
      "16/16 [==============================] - 0s 2ms/step - loss: 0.0199 - acc: 0.0000e+00\n",
      "Epoch 536/1000\n",
      "16/16 [==============================] - 0s 2ms/step - loss: 0.0199 - acc: 0.0000e+00\n",
      "Epoch 537/1000\n",
      "16/16 [==============================] - 0s 2ms/step - loss: 0.0199 - acc: 0.0000e+00\n",
      "Epoch 538/1000\n",
      "16/16 [==============================] - 0s 2ms/step - loss: 0.0198 - acc: 0.0000e+00\n",
      "Epoch 539/1000\n",
      "16/16 [==============================] - 0s 2ms/step - loss: 0.0199 - acc: 0.0000e+00\n",
      "Epoch 540/1000\n",
      "16/16 [==============================] - 0s 2ms/step - loss: 0.0198 - acc: 0.0000e+00\n",
      "Epoch 541/1000\n",
      "16/16 [==============================] - 0s 2ms/step - loss: 0.0198 - acc: 0.0000e+00\n",
      "Epoch 542/1000\n",
      "16/16 [==============================] - 0s 2ms/step - loss: 0.0198 - acc: 0.0000e+00\n",
      "Epoch 543/1000\n",
      "16/16 [==============================] - 0s 3ms/step - loss: 0.0198 - acc: 0.0000e+00\n",
      "Epoch 544/1000\n",
      "16/16 [==============================] - 0s 3ms/step - loss: 0.0198 - acc: 0.0000e+00\n",
      "Epoch 545/1000\n",
      "16/16 [==============================] - 0s 3ms/step - loss: 0.0198 - acc: 0.0000e+00\n",
      "Epoch 546/1000\n",
      "16/16 [==============================] - 0s 2ms/step - loss: 0.0199 - acc: 0.0000e+00\n",
      "Epoch 547/1000\n",
      "16/16 [==============================] - 0s 3ms/step - loss: 0.0200 - acc: 0.0000e+00\n",
      "Epoch 548/1000\n",
      "16/16 [==============================] - 0s 3ms/step - loss: 0.0202 - acc: 0.0000e+00\n",
      "Epoch 549/1000\n",
      "16/16 [==============================] - 0s 2ms/step - loss: 0.0201 - acc: 0.0000e+00\n",
      "Epoch 550/1000\n",
      "16/16 [==============================] - 0s 3ms/step - loss: 0.0200 - acc: 0.0000e+00\n",
      "Epoch 551/1000\n",
      "16/16 [==============================] - 0s 4ms/step - loss: 0.0199 - acc: 0.0000e+00\n",
      "Epoch 552/1000\n",
      "16/16 [==============================] - 0s 3ms/step - loss: 0.0200 - acc: 0.0000e+00\n",
      "Epoch 553/1000\n",
      "16/16 [==============================] - 0s 3ms/step - loss: 0.0205 - acc: 0.0000e+00\n",
      "Epoch 554/1000\n",
      "16/16 [==============================] - 0s 2ms/step - loss: 0.0198 - acc: 0.0000e+00\n",
      "Epoch 555/1000\n",
      "16/16 [==============================] - 0s 3ms/step - loss: 0.0199 - acc: 0.0000e+00\n",
      "Epoch 556/1000\n",
      "16/16 [==============================] - 0s 2ms/step - loss: 0.0200 - acc: 0.0000e+00\n",
      "Epoch 557/1000\n",
      "16/16 [==============================] - 0s 4ms/step - loss: 0.0200 - acc: 0.0000e+00\n",
      "Epoch 558/1000\n",
      "16/16 [==============================] - 0s 2ms/step - loss: 0.0198 - acc: 0.0000e+00\n",
      "Epoch 559/1000\n",
      "16/16 [==============================] - 0s 3ms/step - loss: 0.0200 - acc: 0.0000e+00\n",
      "Epoch 560/1000\n",
      "16/16 [==============================] - 0s 3ms/step - loss: 0.0201 - acc: 0.0000e+00\n",
      "Epoch 561/1000\n",
      "16/16 [==============================] - 0s 2ms/step - loss: 0.0200 - acc: 0.0000e+00\n",
      "Epoch 562/1000\n",
      "16/16 [==============================] - 0s 2ms/step - loss: 0.0198 - acc: 0.0000e+00\n",
      "Epoch 563/1000\n",
      "16/16 [==============================] - 0s 2ms/step - loss: 0.0199 - acc: 0.0000e+00\n",
      "Epoch 564/1000\n",
      "16/16 [==============================] - 0s 2ms/step - loss: 0.0200 - acc: 0.0000e+00\n",
      "Epoch 565/1000\n",
      "16/16 [==============================] - 0s 2ms/step - loss: 0.0202 - acc: 0.0000e+00\n",
      "Epoch 566/1000\n",
      "16/16 [==============================] - 0s 2ms/step - loss: 0.0199 - acc: 0.0000e+00\n",
      "Epoch 567/1000\n",
      "16/16 [==============================] - 0s 3ms/step - loss: 0.0200 - acc: 0.0000e+00\n",
      "Epoch 568/1000\n",
      "16/16 [==============================] - 0s 2ms/step - loss: 0.0200 - acc: 0.0000e+00\n",
      "Epoch 569/1000\n"
     ]
    },
    {
     "name": "stdout",
     "output_type": "stream",
     "text": [
      "16/16 [==============================] - 0s 2ms/step - loss: 0.0199 - acc: 0.0000e+00\n",
      "Epoch 570/1000\n",
      "16/16 [==============================] - 0s 3ms/step - loss: 0.0198 - acc: 0.0000e+00\n",
      "Epoch 571/1000\n",
      "16/16 [==============================] - 0s 2ms/step - loss: 0.0199 - acc: 0.0000e+00\n",
      "Epoch 572/1000\n",
      "16/16 [==============================] - 0s 2ms/step - loss: 0.0199 - acc: 0.0000e+00\n",
      "Epoch 573/1000\n",
      "16/16 [==============================] - 0s 3ms/step - loss: 0.0200 - acc: 0.0000e+00\n",
      "Epoch 574/1000\n",
      "16/16 [==============================] - 0s 2ms/step - loss: 0.0201 - acc: 0.0000e+00\n",
      "Epoch 575/1000\n",
      "16/16 [==============================] - 0s 2ms/step - loss: 0.0199 - acc: 0.0000e+00\n",
      "Epoch 576/1000\n",
      "16/16 [==============================] - 0s 2ms/step - loss: 0.0200 - acc: 0.0000e+00\n",
      "Epoch 577/1000\n",
      "16/16 [==============================] - 0s 3ms/step - loss: 0.0200 - acc: 0.0000e+00\n",
      "Epoch 578/1000\n",
      "16/16 [==============================] - 0s 2ms/step - loss: 0.0198 - acc: 0.0000e+00\n",
      "Epoch 579/1000\n",
      "16/16 [==============================] - 0s 2ms/step - loss: 0.0198 - acc: 0.0000e+00\n",
      "Epoch 580/1000\n",
      "16/16 [==============================] - 0s 3ms/step - loss: 0.0199 - acc: 0.0000e+00\n",
      "Epoch 581/1000\n",
      "16/16 [==============================] - 0s 3ms/step - loss: 0.0198 - acc: 0.0000e+00\n",
      "Epoch 582/1000\n",
      "16/16 [==============================] - 0s 2ms/step - loss: 0.0199 - acc: 0.0000e+00\n",
      "Epoch 583/1000\n",
      "16/16 [==============================] - 0s 2ms/step - loss: 0.0199 - acc: 0.0000e+00\n",
      "Epoch 584/1000\n",
      "16/16 [==============================] - 0s 2ms/step - loss: 0.0199 - acc: 0.0000e+00\n",
      "Epoch 585/1000\n",
      "16/16 [==============================] - 0s 3ms/step - loss: 0.0198 - acc: 0.0000e+00\n",
      "Epoch 586/1000\n",
      "16/16 [==============================] - 0s 2ms/step - loss: 0.0199 - acc: 0.0000e+00\n",
      "Epoch 587/1000\n",
      "16/16 [==============================] - 0s 2ms/step - loss: 0.0199 - acc: 0.0000e+00\n",
      "Epoch 588/1000\n",
      "16/16 [==============================] - 0s 7ms/step - loss: 0.0198 - acc: 0.0000e+00\n",
      "Epoch 589/1000\n",
      "16/16 [==============================] - 0s 2ms/step - loss: 0.0200 - acc: 0.0000e+00\n",
      "Epoch 590/1000\n",
      "16/16 [==============================] - 0s 2ms/step - loss: 0.0199 - acc: 0.0000e+00\n",
      "Epoch 591/1000\n",
      "16/16 [==============================] - 0s 2ms/step - loss: 0.0198 - acc: 0.0000e+00\n",
      "Epoch 592/1000\n",
      "16/16 [==============================] - 0s 2ms/step - loss: 0.0199 - acc: 0.0000e+00\n",
      "Epoch 593/1000\n",
      "16/16 [==============================] - 0s 2ms/step - loss: 0.0199 - acc: 0.0000e+00\n",
      "Epoch 594/1000\n",
      "16/16 [==============================] - 0s 2ms/step - loss: 0.0199 - acc: 0.0000e+00\n",
      "Epoch 595/1000\n",
      "16/16 [==============================] - 0s 2ms/step - loss: 0.0199 - acc: 0.0000e+00\n",
      "Epoch 596/1000\n",
      "16/16 [==============================] - 0s 2ms/step - loss: 0.0200 - acc: 0.0000e+00\n",
      "Epoch 597/1000\n",
      "16/16 [==============================] - 0s 2ms/step - loss: 0.0199 - acc: 0.0000e+00\n",
      "Epoch 598/1000\n",
      "16/16 [==============================] - 0s 2ms/step - loss: 0.0198 - acc: 0.0000e+00\n",
      "Epoch 599/1000\n",
      "16/16 [==============================] - 0s 2ms/step - loss: 0.0198 - acc: 0.0000e+00\n",
      "Epoch 600/1000\n",
      "16/16 [==============================] - 0s 2ms/step - loss: 0.0198 - acc: 0.0000e+00\n",
      "Epoch 601/1000\n",
      "16/16 [==============================] - 0s 2ms/step - loss: 0.0198 - acc: 0.0000e+00\n",
      "Epoch 602/1000\n",
      "16/16 [==============================] - 0s 2ms/step - loss: 0.0198 - acc: 0.0000e+00\n",
      "Epoch 603/1000\n",
      "16/16 [==============================] - 0s 2ms/step - loss: 0.0199 - acc: 0.0000e+00\n",
      "Epoch 604/1000\n",
      "16/16 [==============================] - 0s 2ms/step - loss: 0.0202 - acc: 0.0000e+00\n",
      "Epoch 605/1000\n",
      "16/16 [==============================] - 0s 2ms/step - loss: 0.0199 - acc: 0.0000e+00\n",
      "Epoch 606/1000\n",
      "16/16 [==============================] - 0s 2ms/step - loss: 0.0198 - acc: 0.0000e+00\n",
      "Epoch 607/1000\n",
      "16/16 [==============================] - 0s 3ms/step - loss: 0.0200 - acc: 0.0000e+00\n",
      "Epoch 608/1000\n",
      "16/16 [==============================] - 0s 2ms/step - loss: 0.0200 - acc: 0.0000e+00\n",
      "Epoch 609/1000\n",
      "16/16 [==============================] - 0s 2ms/step - loss: 0.0200 - acc: 0.0000e+00\n",
      "Epoch 610/1000\n",
      "16/16 [==============================] - 0s 2ms/step - loss: 0.0199 - acc: 0.0000e+00\n",
      "Epoch 611/1000\n",
      "16/16 [==============================] - 0s 2ms/step - loss: 0.0200 - acc: 0.0000e+00\n",
      "Epoch 612/1000\n",
      "16/16 [==============================] - 0s 3ms/step - loss: 0.0200 - acc: 0.0000e+00\n",
      "Epoch 613/1000\n",
      "16/16 [==============================] - 0s 2ms/step - loss: 0.0202 - acc: 0.0000e+00\n",
      "Epoch 614/1000\n",
      "16/16 [==============================] - 0s 2ms/step - loss: 0.0199 - acc: 0.0000e+00\n",
      "Epoch 615/1000\n",
      "16/16 [==============================] - 0s 2ms/step - loss: 0.0199 - acc: 0.0000e+00\n",
      "Epoch 616/1000\n",
      "16/16 [==============================] - 0s 2ms/step - loss: 0.0198 - acc: 0.0000e+00\n",
      "Epoch 617/1000\n",
      "16/16 [==============================] - 0s 2ms/step - loss: 0.0198 - acc: 0.0000e+00\n",
      "Epoch 618/1000\n",
      "16/16 [==============================] - 0s 2ms/step - loss: 0.0198 - acc: 0.0000e+00\n",
      "Epoch 619/1000\n",
      "16/16 [==============================] - 0s 2ms/step - loss: 0.0198 - acc: 0.0000e+00\n",
      "Epoch 620/1000\n",
      "16/16 [==============================] - 0s 2ms/step - loss: 0.0198 - acc: 0.0000e+00\n",
      "Epoch 621/1000\n",
      "16/16 [==============================] - 0s 2ms/step - loss: 0.0198 - acc: 0.0000e+00\n",
      "Epoch 622/1000\n",
      "16/16 [==============================] - 0s 3ms/step - loss: 0.0199 - acc: 0.0000e+00\n",
      "Epoch 623/1000\n",
      "16/16 [==============================] - 0s 2ms/step - loss: 0.0198 - acc: 0.0000e+00\n",
      "Epoch 624/1000\n",
      "16/16 [==============================] - 0s 2ms/step - loss: 0.0199 - acc: 0.0000e+00\n",
      "Epoch 625/1000\n",
      "16/16 [==============================] - 0s 2ms/step - loss: 0.0198 - acc: 0.0000e+00\n",
      "Epoch 626/1000\n",
      "16/16 [==============================] - 0s 2ms/step - loss: 0.0199 - acc: 0.0000e+00\n",
      "Epoch 627/1000\n",
      "16/16 [==============================] - 0s 2ms/step - loss: 0.0198 - acc: 0.0000e+00\n",
      "Epoch 628/1000\n",
      "16/16 [==============================] - 0s 2ms/step - loss: 0.0199 - acc: 0.0000e+00\n",
      "Epoch 629/1000\n",
      "16/16 [==============================] - 0s 2ms/step - loss: 0.0200 - acc: 0.0000e+00\n",
      "Epoch 630/1000\n",
      "16/16 [==============================] - 0s 3ms/step - loss: 0.0199 - acc: 0.0000e+00\n",
      "Epoch 631/1000\n",
      "16/16 [==============================] - 0s 3ms/step - loss: 0.0201 - acc: 0.0000e+00\n",
      "Epoch 632/1000\n",
      "16/16 [==============================] - 0s 3ms/step - loss: 0.0199 - acc: 0.0000e+00\n",
      "Epoch 633/1000\n",
      "16/16 [==============================] - 0s 2ms/step - loss: 0.0199 - acc: 0.0000e+00\n",
      "Epoch 634/1000\n",
      "16/16 [==============================] - 0s 2ms/step - loss: 0.0198 - acc: 0.0000e+00\n",
      "Epoch 635/1000\n",
      "16/16 [==============================] - 0s 3ms/step - loss: 0.0199 - acc: 0.0000e+00\n",
      "Epoch 636/1000\n",
      "16/16 [==============================] - 0s 2ms/step - loss: 0.0199 - acc: 0.0000e+00\n",
      "Epoch 637/1000\n",
      "16/16 [==============================] - 0s 2ms/step - loss: 0.0198 - acc: 0.0000e+00\n",
      "Epoch 638/1000\n",
      "16/16 [==============================] - 0s 2ms/step - loss: 0.0199 - acc: 0.0000e+00\n",
      "Epoch 639/1000\n",
      "16/16 [==============================] - 0s 2ms/step - loss: 0.0199 - acc: 0.0000e+00\n",
      "Epoch 640/1000\n",
      "16/16 [==============================] - 0s 2ms/step - loss: 0.0199 - acc: 0.0000e+00\n",
      "Epoch 641/1000\n",
      "16/16 [==============================] - 0s 2ms/step - loss: 0.0198 - acc: 0.0000e+00\n",
      "Epoch 642/1000\n",
      "16/16 [==============================] - 0s 2ms/step - loss: 0.0200 - acc: 0.0000e+00\n",
      "Epoch 643/1000\n",
      "16/16 [==============================] - 0s 2ms/step - loss: 0.0199 - acc: 0.0000e+00\n",
      "Epoch 644/1000\n",
      "16/16 [==============================] - 0s 2ms/step - loss: 0.0200 - acc: 0.0000e+00\n",
      "Epoch 645/1000\n",
      "16/16 [==============================] - 0s 3ms/step - loss: 0.0199 - acc: 0.0000e+00\n",
      "Epoch 646/1000\n",
      "16/16 [==============================] - 0s 3ms/step - loss: 0.0198 - acc: 0.0000e+00\n",
      "Epoch 647/1000\n",
      "16/16 [==============================] - 0s 2ms/step - loss: 0.0198 - acc: 0.0000e+00\n",
      "Epoch 648/1000\n",
      "16/16 [==============================] - 0s 2ms/step - loss: 0.0198 - acc: 0.0000e+00\n",
      "Epoch 649/1000\n",
      "16/16 [==============================] - 0s 2ms/step - loss: 0.0199 - acc: 0.0000e+00\n",
      "Epoch 650/1000\n",
      "16/16 [==============================] - 0s 2ms/step - loss: 0.0198 - acc: 0.0000e+00\n",
      "Epoch 651/1000\n",
      "16/16 [==============================] - 0s 2ms/step - loss: 0.0200 - acc: 0.0000e+00\n",
      "Epoch 652/1000\n",
      "16/16 [==============================] - 0s 2ms/step - loss: 0.0198 - acc: 0.0000e+00\n",
      "Epoch 653/1000\n",
      "16/16 [==============================] - 0s 2ms/step - loss: 0.0198 - acc: 0.0000e+00\n",
      "Epoch 654/1000\n",
      "16/16 [==============================] - 0s 2ms/step - loss: 0.0198 - acc: 0.0000e+00\n",
      "Epoch 655/1000\n",
      "16/16 [==============================] - 0s 2ms/step - loss: 0.0200 - acc: 0.0000e+00\n",
      "Epoch 656/1000\n",
      "16/16 [==============================] - 0s 2ms/step - loss: 0.0199 - acc: 0.0000e+00\n",
      "Epoch 657/1000\n",
      "16/16 [==============================] - 0s 2ms/step - loss: 0.0198 - acc: 0.0000e+00\n",
      "Epoch 658/1000\n",
      "16/16 [==============================] - 0s 2ms/step - loss: 0.0198 - acc: 0.0000e+00\n",
      "Epoch 659/1000\n",
      "16/16 [==============================] - 0s 2ms/step - loss: 0.0203 - acc: 0.0000e+00\n",
      "Epoch 660/1000\n",
      "16/16 [==============================] - 0s 2ms/step - loss: 0.0201 - acc: 0.0000e+00\n",
      "Epoch 661/1000\n",
      "16/16 [==============================] - 0s 2ms/step - loss: 0.0198 - acc: 0.0000e+00\n",
      "Epoch 662/1000\n",
      "16/16 [==============================] - 0s 2ms/step - loss: 0.0199 - acc: 0.0000e+00\n",
      "Epoch 663/1000\n",
      "16/16 [==============================] - 0s 2ms/step - loss: 0.0198 - acc: 0.0000e+00\n",
      "Epoch 664/1000\n",
      "16/16 [==============================] - 0s 2ms/step - loss: 0.0199 - acc: 0.0000e+00\n",
      "Epoch 665/1000\n",
      "16/16 [==============================] - 0s 2ms/step - loss: 0.0200 - acc: 0.0000e+00\n",
      "Epoch 666/1000\n",
      "16/16 [==============================] - 0s 2ms/step - loss: 0.0200 - acc: 0.0000e+00\n",
      "Epoch 667/1000\n",
      "16/16 [==============================] - 0s 2ms/step - loss: 0.0198 - acc: 0.0000e+00\n",
      "Epoch 668/1000\n",
      "16/16 [==============================] - 0s 2ms/step - loss: 0.0198 - acc: 0.0000e+00\n",
      "Epoch 669/1000\n",
      "16/16 [==============================] - 0s 2ms/step - loss: 0.0200 - acc: 0.0000e+00\n",
      "Epoch 670/1000\n",
      "16/16 [==============================] - 0s 2ms/step - loss: 0.0198 - acc: 0.0000e+00\n",
      "Epoch 671/1000\n",
      "16/16 [==============================] - 0s 2ms/step - loss: 0.0199 - acc: 0.0000e+00\n",
      "Epoch 672/1000\n",
      "16/16 [==============================] - 0s 2ms/step - loss: 0.0198 - acc: 0.0000e+00\n",
      "Epoch 673/1000\n",
      "16/16 [==============================] - 0s 2ms/step - loss: 0.0200 - acc: 0.0000e+00\n",
      "Epoch 674/1000\n",
      "16/16 [==============================] - 0s 2ms/step - loss: 0.0200 - acc: 0.0000e+00\n",
      "Epoch 675/1000\n",
      "16/16 [==============================] - 0s 2ms/step - loss: 0.0200 - acc: 0.0000e+00\n",
      "Epoch 676/1000\n",
      "16/16 [==============================] - 0s 2ms/step - loss: 0.0201 - acc: 0.0000e+00\n",
      "Epoch 677/1000\n",
      "16/16 [==============================] - 0s 2ms/step - loss: 0.0199 - acc: 0.0000e+00\n",
      "Epoch 678/1000\n",
      "16/16 [==============================] - 0s 2ms/step - loss: 0.0199 - acc: 0.0000e+00\n",
      "Epoch 679/1000\n",
      "16/16 [==============================] - 0s 2ms/step - loss: 0.0198 - acc: 0.0000e+00\n",
      "Epoch 680/1000\n",
      "16/16 [==============================] - 0s 2ms/step - loss: 0.0199 - acc: 0.0000e+00\n",
      "Epoch 681/1000\n",
      "16/16 [==============================] - 0s 2ms/step - loss: 0.0199 - acc: 0.0000e+00\n",
      "Epoch 682/1000\n",
      "16/16 [==============================] - 0s 2ms/step - loss: 0.0201 - acc: 0.0000e+00\n",
      "Epoch 683/1000\n",
      "16/16 [==============================] - 0s 2ms/step - loss: 0.0198 - acc: 0.0000e+00\n",
      "Epoch 684/1000\n",
      "16/16 [==============================] - 0s 2ms/step - loss: 0.0199 - acc: 0.0000e+00\n",
      "Epoch 685/1000\n",
      "16/16 [==============================] - 0s 2ms/step - loss: 0.0204 - acc: 0.0000e+00\n",
      "Epoch 686/1000\n",
      "16/16 [==============================] - 0s 2ms/step - loss: 0.0202 - acc: 0.0000e+00\n",
      "Epoch 687/1000\n",
      "16/16 [==============================] - 0s 2ms/step - loss: 0.0203 - acc: 0.0000e+00\n",
      "Epoch 688/1000\n",
      "16/16 [==============================] - 0s 2ms/step - loss: 0.0199 - acc: 0.0000e+00\n",
      "Epoch 689/1000\n",
      "16/16 [==============================] - 0s 2ms/step - loss: 0.0199 - acc: 0.0000e+00\n",
      "Epoch 690/1000\n",
      "16/16 [==============================] - 0s 2ms/step - loss: 0.0199 - acc: 0.0000e+00\n",
      "Epoch 691/1000\n",
      "16/16 [==============================] - 0s 2ms/step - loss: 0.0201 - acc: 0.0000e+00\n",
      "Epoch 692/1000\n",
      "16/16 [==============================] - 0s 2ms/step - loss: 0.0203 - acc: 0.0000e+00\n",
      "Epoch 693/1000\n",
      "16/16 [==============================] - 0s 2ms/step - loss: 0.0199 - acc: 0.0000e+00\n",
      "Epoch 694/1000\n",
      "16/16 [==============================] - 0s 2ms/step - loss: 0.0199 - acc: 0.0000e+00\n",
      "Epoch 695/1000\n",
      "16/16 [==============================] - 0s 2ms/step - loss: 0.0199 - acc: 0.0000e+00\n",
      "Epoch 696/1000\n",
      "16/16 [==============================] - 0s 2ms/step - loss: 0.0200 - acc: 0.0000e+00\n",
      "Epoch 697/1000\n",
      "16/16 [==============================] - 0s 2ms/step - loss: 0.0200 - acc: 0.0000e+00\n",
      "Epoch 698/1000\n",
      "16/16 [==============================] - 0s 2ms/step - loss: 0.0199 - acc: 0.0000e+00\n",
      "Epoch 699/1000\n",
      "16/16 [==============================] - 0s 2ms/step - loss: 0.0198 - acc: 0.0000e+00\n",
      "Epoch 700/1000\n",
      "16/16 [==============================] - 0s 2ms/step - loss: 0.0198 - acc: 0.0000e+00\n",
      "Epoch 701/1000\n",
      "16/16 [==============================] - 0s 2ms/step - loss: 0.0200 - acc: 0.0000e+00\n",
      "Epoch 702/1000\n",
      "16/16 [==============================] - 0s 2ms/step - loss: 0.0203 - acc: 0.0000e+00\n",
      "Epoch 703/1000\n",
      "16/16 [==============================] - 0s 2ms/step - loss: 0.0203 - acc: 0.0000e+00\n",
      "Epoch 704/1000\n",
      "16/16 [==============================] - 0s 2ms/step - loss: 0.0205 - acc: 0.0000e+00\n",
      "Epoch 705/1000\n",
      "16/16 [==============================] - 0s 2ms/step - loss: 0.0198 - acc: 0.0000e+00\n",
      "Epoch 706/1000\n",
      "16/16 [==============================] - 0s 2ms/step - loss: 0.0200 - acc: 0.0000e+00\n",
      "Epoch 707/1000\n",
      "16/16 [==============================] - 0s 2ms/step - loss: 0.0197 - acc: 0.0000e+00\n",
      "Epoch 708/1000\n",
      "16/16 [==============================] - 0s 2ms/step - loss: 0.0201 - acc: 0.0000e+00\n",
      "Epoch 709/1000\n",
      "16/16 [==============================] - 0s 6ms/step - loss: 0.0200 - acc: 0.0000e+00\n",
      "Epoch 710/1000\n",
      "16/16 [==============================] - 0s 3ms/step - loss: 0.0200 - acc: 0.0000e+00\n",
      "Epoch 711/1000\n",
      "16/16 [==============================] - 0s 2ms/step - loss: 0.0200 - acc: 0.0000e+00\n",
      "Epoch 712/1000\n",
      "16/16 [==============================] - 0s 2ms/step - loss: 0.0198 - acc: 0.0000e+00\n",
      "Epoch 713/1000\n",
      "16/16 [==============================] - 0s 2ms/step - loss: 0.0198 - acc: 0.0000e+00\n",
      "Epoch 714/1000\n",
      "16/16 [==============================] - 0s 2ms/step - loss: 0.0197 - acc: 0.0000e+00\n",
      "Epoch 715/1000\n",
      "16/16 [==============================] - 0s 2ms/step - loss: 0.0200 - acc: 0.0000e+00\n",
      "Epoch 716/1000\n",
      "16/16 [==============================] - 0s 2ms/step - loss: 0.0199 - acc: 0.0000e+00\n",
      "Epoch 717/1000\n",
      "16/16 [==============================] - 0s 2ms/step - loss: 0.0202 - acc: 0.0000e+00\n",
      "Epoch 718/1000\n",
      "16/16 [==============================] - 0s 2ms/step - loss: 0.0199 - acc: 0.0000e+00\n",
      "Epoch 719/1000\n",
      "16/16 [==============================] - 0s 2ms/step - loss: 0.0200 - acc: 0.0000e+00\n",
      "Epoch 720/1000\n",
      "16/16 [==============================] - 0s 2ms/step - loss: 0.0199 - acc: 0.0000e+00\n",
      "Epoch 721/1000\n",
      "16/16 [==============================] - 0s 2ms/step - loss: 0.0198 - acc: 0.0000e+00\n",
      "Epoch 722/1000\n",
      "16/16 [==============================] - 0s 2ms/step - loss: 0.0198 - acc: 0.0000e+00\n",
      "Epoch 723/1000\n",
      "16/16 [==============================] - 0s 2ms/step - loss: 0.0200 - acc: 0.0000e+00\n",
      "Epoch 724/1000\n",
      "16/16 [==============================] - 0s 2ms/step - loss: 0.0198 - acc: 0.0000e+00\n",
      "Epoch 725/1000\n",
      "16/16 [==============================] - 0s 2ms/step - loss: 0.0198 - acc: 0.0000e+00\n",
      "Epoch 726/1000\n",
      "16/16 [==============================] - 0s 2ms/step - loss: 0.0198 - acc: 0.0000e+00\n",
      "Epoch 727/1000\n",
      "16/16 [==============================] - 0s 2ms/step - loss: 0.0198 - acc: 0.0000e+00\n",
      "Epoch 728/1000\n",
      "16/16 [==============================] - 0s 2ms/step - loss: 0.0201 - acc: 0.0000e+00\n",
      "Epoch 729/1000\n",
      "16/16 [==============================] - 0s 2ms/step - loss: 0.0200 - acc: 0.0000e+00\n",
      "Epoch 730/1000\n",
      "16/16 [==============================] - 0s 2ms/step - loss: 0.0198 - acc: 0.0000e+00\n",
      "Epoch 731/1000\n"
     ]
    },
    {
     "name": "stdout",
     "output_type": "stream",
     "text": [
      "16/16 [==============================] - 0s 2ms/step - loss: 0.0199 - acc: 0.0000e+00\n",
      "Epoch 732/1000\n",
      "16/16 [==============================] - 0s 2ms/step - loss: 0.0198 - acc: 0.0000e+00\n",
      "Epoch 733/1000\n",
      "16/16 [==============================] - 0s 2ms/step - loss: 0.0198 - acc: 0.0000e+00\n",
      "Epoch 734/1000\n",
      "16/16 [==============================] - 0s 2ms/step - loss: 0.0198 - acc: 0.0000e+00\n",
      "Epoch 735/1000\n",
      "16/16 [==============================] - 0s 2ms/step - loss: 0.0199 - acc: 0.0000e+00\n",
      "Epoch 736/1000\n",
      "16/16 [==============================] - 0s 2ms/step - loss: 0.0201 - acc: 0.0000e+00\n",
      "Epoch 737/1000\n",
      "16/16 [==============================] - 0s 2ms/step - loss: 0.0200 - acc: 0.0000e+00\n",
      "Epoch 738/1000\n",
      "16/16 [==============================] - 0s 2ms/step - loss: 0.0200 - acc: 0.0000e+00\n",
      "Epoch 739/1000\n",
      "16/16 [==============================] - 0s 2ms/step - loss: 0.0198 - acc: 0.0000e+00\n",
      "Epoch 740/1000\n",
      "16/16 [==============================] - 0s 2ms/step - loss: 0.0198 - acc: 0.0000e+00\n",
      "Epoch 741/1000\n",
      "16/16 [==============================] - 0s 2ms/step - loss: 0.0200 - acc: 0.0000e+00\n",
      "Epoch 742/1000\n",
      "16/16 [==============================] - 0s 2ms/step - loss: 0.0201 - acc: 0.0000e+00\n",
      "Epoch 743/1000\n",
      "16/16 [==============================] - 0s 2ms/step - loss: 0.0203 - acc: 0.0000e+00\n",
      "Epoch 744/1000\n",
      "16/16 [==============================] - 0s 2ms/step - loss: 0.0201 - acc: 0.0000e+00\n",
      "Epoch 745/1000\n",
      "16/16 [==============================] - 0s 2ms/step - loss: 0.0200 - acc: 0.0000e+00\n",
      "Epoch 746/1000\n",
      "16/16 [==============================] - 0s 2ms/step - loss: 0.0202 - acc: 0.0000e+00\n",
      "Epoch 747/1000\n",
      "16/16 [==============================] - 0s 2ms/step - loss: 0.0198 - acc: 0.0000e+00\n",
      "Epoch 748/1000\n",
      "16/16 [==============================] - 0s 2ms/step - loss: 0.0200 - acc: 0.0000e+00\n",
      "Epoch 749/1000\n",
      "16/16 [==============================] - 0s 2ms/step - loss: 0.0200 - acc: 0.0000e+00\n",
      "Epoch 750/1000\n",
      "16/16 [==============================] - 0s 2ms/step - loss: 0.0198 - acc: 0.0000e+00\n",
      "Epoch 751/1000\n",
      "16/16 [==============================] - 0s 2ms/step - loss: 0.0198 - acc: 0.0000e+00\n",
      "Epoch 752/1000\n",
      "16/16 [==============================] - 0s 2ms/step - loss: 0.0199 - acc: 0.0000e+00\n",
      "Epoch 753/1000\n",
      "16/16 [==============================] - 0s 2ms/step - loss: 0.0200 - acc: 0.0000e+00\n",
      "Epoch 754/1000\n",
      "16/16 [==============================] - 0s 2ms/step - loss: 0.0200 - acc: 0.0000e+00\n",
      "Epoch 755/1000\n",
      "16/16 [==============================] - 0s 2ms/step - loss: 0.0198 - acc: 0.0000e+00\n",
      "Epoch 756/1000\n",
      "16/16 [==============================] - 0s 2ms/step - loss: 0.0199 - acc: 0.0000e+00\n",
      "Epoch 757/1000\n",
      "16/16 [==============================] - 0s 2ms/step - loss: 0.0198 - acc: 0.0000e+00\n",
      "Epoch 758/1000\n",
      "16/16 [==============================] - 0s 2ms/step - loss: 0.0199 - acc: 0.0000e+00\n",
      "Epoch 759/1000\n",
      "16/16 [==============================] - 0s 2ms/step - loss: 0.0198 - acc: 0.0000e+00\n",
      "Epoch 760/1000\n",
      "16/16 [==============================] - 0s 2ms/step - loss: 0.0199 - acc: 0.0000e+00\n",
      "Epoch 761/1000\n",
      "16/16 [==============================] - 0s 2ms/step - loss: 0.0200 - acc: 0.0000e+00\n",
      "Epoch 762/1000\n",
      "16/16 [==============================] - 0s 2ms/step - loss: 0.0200 - acc: 0.0000e+00\n",
      "Epoch 763/1000\n",
      "16/16 [==============================] - 0s 2ms/step - loss: 0.0198 - acc: 0.0000e+00\n",
      "Epoch 764/1000\n",
      "16/16 [==============================] - 0s 2ms/step - loss: 0.0198 - acc: 0.0000e+00\n",
      "Epoch 765/1000\n",
      "16/16 [==============================] - 0s 2ms/step - loss: 0.0198 - acc: 0.0000e+00\n",
      "Epoch 766/1000\n",
      "16/16 [==============================] - 0s 2ms/step - loss: 0.0198 - acc: 0.0000e+00\n",
      "Epoch 767/1000\n",
      "16/16 [==============================] - 0s 2ms/step - loss: 0.0198 - acc: 0.0000e+00\n",
      "Epoch 768/1000\n",
      "16/16 [==============================] - 0s 2ms/step - loss: 0.0199 - acc: 0.0000e+00\n",
      "Epoch 769/1000\n",
      "16/16 [==============================] - 0s 2ms/step - loss: 0.0200 - acc: 0.0000e+00\n",
      "Epoch 770/1000\n",
      "16/16 [==============================] - 0s 2ms/step - loss: 0.0198 - acc: 0.0000e+00\n",
      "Epoch 771/1000\n",
      "16/16 [==============================] - 0s 2ms/step - loss: 0.0198 - acc: 0.0000e+00\n",
      "Epoch 772/1000\n",
      "16/16 [==============================] - 0s 2ms/step - loss: 0.0201 - acc: 0.0000e+00\n",
      "Epoch 773/1000\n",
      "16/16 [==============================] - 0s 2ms/step - loss: 0.0201 - acc: 0.0000e+00\n",
      "Epoch 774/1000\n",
      "16/16 [==============================] - 0s 2ms/step - loss: 0.0200 - acc: 0.0000e+00\n",
      "Epoch 775/1000\n",
      "16/16 [==============================] - 0s 2ms/step - loss: 0.0198 - acc: 0.0000e+00\n",
      "Epoch 776/1000\n",
      "16/16 [==============================] - 0s 2ms/step - loss: 0.0199 - acc: 0.0000e+00\n",
      "Epoch 777/1000\n",
      "16/16 [==============================] - 0s 2ms/step - loss: 0.0199 - acc: 0.0000e+00\n",
      "Epoch 778/1000\n",
      "16/16 [==============================] - 0s 2ms/step - loss: 0.0198 - acc: 0.0000e+00\n",
      "Epoch 779/1000\n",
      "16/16 [==============================] - 0s 2ms/step - loss: 0.0198 - acc: 0.0000e+00\n",
      "Epoch 780/1000\n",
      "16/16 [==============================] - 0s 2ms/step - loss: 0.0198 - acc: 0.0000e+00\n",
      "Epoch 781/1000\n",
      "16/16 [==============================] - 0s 2ms/step - loss: 0.0198 - acc: 0.0000e+00\n",
      "Epoch 782/1000\n",
      "16/16 [==============================] - 0s 2ms/step - loss: 0.0198 - acc: 0.0000e+00\n",
      "Epoch 783/1000\n",
      "16/16 [==============================] - 0s 2ms/step - loss: 0.0198 - acc: 0.0000e+00\n",
      "Epoch 784/1000\n",
      "16/16 [==============================] - 0s 2ms/step - loss: 0.0202 - acc: 0.0000e+00\n",
      "Epoch 785/1000\n",
      "16/16 [==============================] - 0s 2ms/step - loss: 0.0198 - acc: 0.0000e+00\n",
      "Epoch 786/1000\n",
      "16/16 [==============================] - 0s 2ms/step - loss: 0.0198 - acc: 0.0000e+00\n",
      "Epoch 787/1000\n",
      "16/16 [==============================] - 0s 2ms/step - loss: 0.0199 - acc: 0.0000e+00\n",
      "Epoch 788/1000\n",
      "16/16 [==============================] - 0s 2ms/step - loss: 0.0199 - acc: 0.0000e+00\n",
      "Epoch 789/1000\n",
      "16/16 [==============================] - 0s 1ms/step - loss: 0.0199 - acc: 0.0000e+00\n",
      "Epoch 790/1000\n",
      "16/16 [==============================] - 0s 2ms/step - loss: 0.0199 - acc: 0.0000e+00\n",
      "Epoch 791/1000\n",
      "16/16 [==============================] - 0s 2ms/step - loss: 0.0201 - acc: 0.0000e+00\n",
      "Epoch 792/1000\n",
      "16/16 [==============================] - 0s 2ms/step - loss: 0.0198 - acc: 0.0000e+00\n",
      "Epoch 793/1000\n",
      "16/16 [==============================] - 0s 2ms/step - loss: 0.0201 - acc: 0.0000e+00\n",
      "Epoch 794/1000\n",
      "16/16 [==============================] - 0s 2ms/step - loss: 0.0199 - acc: 0.0000e+00\n",
      "Epoch 795/1000\n",
      "16/16 [==============================] - 0s 2ms/step - loss: 0.0198 - acc: 0.0000e+00\n",
      "Epoch 796/1000\n",
      "16/16 [==============================] - 0s 2ms/step - loss: 0.0198 - acc: 0.0000e+00\n",
      "Epoch 797/1000\n",
      "16/16 [==============================] - 0s 2ms/step - loss: 0.0198 - acc: 0.0000e+00\n",
      "Epoch 798/1000\n",
      "16/16 [==============================] - 0s 2ms/step - loss: 0.0200 - acc: 0.0000e+00\n",
      "Epoch 799/1000\n",
      "16/16 [==============================] - 0s 2ms/step - loss: 0.0199 - acc: 0.0000e+00\n",
      "Epoch 800/1000\n",
      "16/16 [==============================] - 0s 2ms/step - loss: 0.0201 - acc: 0.0000e+00\n",
      "Epoch 801/1000\n",
      "16/16 [==============================] - 0s 2ms/step - loss: 0.0198 - acc: 0.0000e+00\n",
      "Epoch 802/1000\n",
      "16/16 [==============================] - 0s 1ms/step - loss: 0.0199 - acc: 0.0000e+00\n",
      "Epoch 803/1000\n",
      "16/16 [==============================] - 0s 2ms/step - loss: 0.0201 - acc: 0.0000e+00\n",
      "Epoch 804/1000\n",
      "16/16 [==============================] - 0s 2ms/step - loss: 0.0198 - acc: 0.0000e+00\n",
      "Epoch 805/1000\n",
      "16/16 [==============================] - 0s 2ms/step - loss: 0.0199 - acc: 0.0000e+00\n",
      "Epoch 806/1000\n",
      "16/16 [==============================] - 0s 2ms/step - loss: 0.0202 - acc: 0.0000e+00\n",
      "Epoch 807/1000\n",
      "16/16 [==============================] - 0s 2ms/step - loss: 0.0199 - acc: 0.0000e+00\n",
      "Epoch 808/1000\n",
      "16/16 [==============================] - 0s 2ms/step - loss: 0.0198 - acc: 0.0000e+00\n",
      "Epoch 809/1000\n",
      "16/16 [==============================] - 0s 2ms/step - loss: 0.0200 - acc: 0.0000e+00\n",
      "Epoch 810/1000\n",
      "16/16 [==============================] - 0s 2ms/step - loss: 0.0201 - acc: 0.0000e+00\n",
      "Epoch 811/1000\n",
      "16/16 [==============================] - 0s 2ms/step - loss: 0.0199 - acc: 0.0000e+00\n",
      "Epoch 812/1000\n",
      "16/16 [==============================] - 0s 2ms/step - loss: 0.0199 - acc: 0.0000e+00\n",
      "Epoch 813/1000\n",
      "16/16 [==============================] - 0s 2ms/step - loss: 0.0199 - acc: 0.0000e+00\n",
      "Epoch 814/1000\n",
      "16/16 [==============================] - 0s 2ms/step - loss: 0.0200 - acc: 0.0000e+00\n",
      "Epoch 815/1000\n",
      "16/16 [==============================] - 0s 2ms/step - loss: 0.0198 - acc: 0.0000e+00\n",
      "Epoch 816/1000\n",
      "16/16 [==============================] - 0s 2ms/step - loss: 0.0199 - acc: 0.0000e+00\n",
      "Epoch 817/1000\n",
      "16/16 [==============================] - 0s 2ms/step - loss: 0.0198 - acc: 0.0000e+00\n",
      "Epoch 818/1000\n",
      "16/16 [==============================] - 0s 2ms/step - loss: 0.0199 - acc: 0.0000e+00\n",
      "Epoch 819/1000\n",
      "16/16 [==============================] - 0s 2ms/step - loss: 0.0198 - acc: 0.0000e+00\n",
      "Epoch 820/1000\n",
      "16/16 [==============================] - 0s 2ms/step - loss: 0.0202 - acc: 0.0000e+00\n",
      "Epoch 821/1000\n",
      "16/16 [==============================] - 0s 2ms/step - loss: 0.0203 - acc: 0.0000e+00\n",
      "Epoch 822/1000\n",
      "16/16 [==============================] - 0s 2ms/step - loss: 0.0200 - acc: 0.0000e+00\n",
      "Epoch 823/1000\n",
      "16/16 [==============================] - 0s 2ms/step - loss: 0.0199 - acc: 0.0000e+00\n",
      "Epoch 824/1000\n",
      "16/16 [==============================] - 0s 2ms/step - loss: 0.0199 - acc: 0.0000e+00\n",
      "Epoch 825/1000\n",
      "16/16 [==============================] - 0s 2ms/step - loss: 0.0198 - acc: 0.0000e+00\n",
      "Epoch 826/1000\n",
      "16/16 [==============================] - 0s 2ms/step - loss: 0.0199 - acc: 0.0000e+00\n",
      "Epoch 827/1000\n",
      "16/16 [==============================] - 0s 2ms/step - loss: 0.0198 - acc: 0.0000e+00\n",
      "Epoch 828/1000\n",
      "16/16 [==============================] - 0s 2ms/step - loss: 0.0198 - acc: 0.0000e+00\n",
      "Epoch 829/1000\n",
      "16/16 [==============================] - 0s 2ms/step - loss: 0.0198 - acc: 0.0000e+00\n",
      "Epoch 830/1000\n",
      "16/16 [==============================] - 0s 2ms/step - loss: 0.0198 - acc: 0.0000e+00\n",
      "Epoch 831/1000\n",
      "16/16 [==============================] - 0s 2ms/step - loss: 0.0199 - acc: 0.0000e+00\n",
      "Epoch 832/1000\n",
      "16/16 [==============================] - 0s 2ms/step - loss: 0.0200 - acc: 0.0000e+00\n",
      "Epoch 833/1000\n",
      "16/16 [==============================] - 0s 2ms/step - loss: 0.0198 - acc: 0.0000e+00\n",
      "Epoch 834/1000\n",
      "16/16 [==============================] - 0s 2ms/step - loss: 0.0200 - acc: 0.0000e+00\n",
      "Epoch 835/1000\n",
      "16/16 [==============================] - 0s 2ms/step - loss: 0.0199 - acc: 0.0000e+00\n",
      "Epoch 836/1000\n",
      "16/16 [==============================] - 0s 2ms/step - loss: 0.0198 - acc: 0.0000e+00\n",
      "Epoch 837/1000\n",
      "16/16 [==============================] - 0s 2ms/step - loss: 0.0198 - acc: 0.0000e+00\n",
      "Epoch 838/1000\n",
      "16/16 [==============================] - 0s 2ms/step - loss: 0.0199 - acc: 0.0000e+00\n",
      "Epoch 839/1000\n",
      "16/16 [==============================] - 0s 2ms/step - loss: 0.0198 - acc: 0.0000e+00\n",
      "Epoch 840/1000\n",
      "16/16 [==============================] - 0s 2ms/step - loss: 0.0199 - acc: 0.0000e+00\n",
      "Epoch 841/1000\n",
      "16/16 [==============================] - 0s 2ms/step - loss: 0.0198 - acc: 0.0000e+00\n",
      "Epoch 842/1000\n",
      "16/16 [==============================] - 0s 2ms/step - loss: 0.0203 - acc: 0.0000e+00\n",
      "Epoch 843/1000\n",
      "16/16 [==============================] - 0s 2ms/step - loss: 0.0198 - acc: 0.0000e+00\n",
      "Epoch 844/1000\n",
      "16/16 [==============================] - 0s 2ms/step - loss: 0.0198 - acc: 0.0000e+00\n",
      "Epoch 845/1000\n",
      "16/16 [==============================] - 0s 2ms/step - loss: 0.0199 - acc: 0.0000e+00\n",
      "Epoch 846/1000\n",
      "16/16 [==============================] - 0s 2ms/step - loss: 0.0198 - acc: 0.0000e+00\n",
      "Epoch 847/1000\n",
      "16/16 [==============================] - 0s 2ms/step - loss: 0.0199 - acc: 0.0000e+00\n",
      "Epoch 848/1000\n",
      "16/16 [==============================] - 0s 2ms/step - loss: 0.0199 - acc: 0.0000e+00\n",
      "Epoch 849/1000\n",
      "16/16 [==============================] - 0s 2ms/step - loss: 0.0198 - acc: 0.0000e+00\n",
      "Epoch 850/1000\n",
      "16/16 [==============================] - 0s 2ms/step - loss: 0.0199 - acc: 0.0000e+00\n",
      "Epoch 851/1000\n",
      "16/16 [==============================] - 0s 2ms/step - loss: 0.0199 - acc: 0.0000e+00\n",
      "Epoch 852/1000\n",
      "16/16 [==============================] - 0s 2ms/step - loss: 0.0199 - acc: 0.0000e+00\n",
      "Epoch 853/1000\n",
      "16/16 [==============================] - 0s 2ms/step - loss: 0.0200 - acc: 0.0000e+00\n",
      "Epoch 854/1000\n",
      "16/16 [==============================] - 0s 2ms/step - loss: 0.0199 - acc: 0.0000e+00\n",
      "Epoch 855/1000\n",
      "16/16 [==============================] - 0s 2ms/step - loss: 0.0199 - acc: 0.0000e+00\n",
      "Epoch 856/1000\n",
      "16/16 [==============================] - 0s 2ms/step - loss: 0.0198 - acc: 0.0000e+00\n",
      "Epoch 857/1000\n",
      "16/16 [==============================] - 0s 2ms/step - loss: 0.0201 - acc: 0.0000e+00\n",
      "Epoch 858/1000\n",
      "16/16 [==============================] - 0s 2ms/step - loss: 0.0199 - acc: 0.0000e+00\n",
      "Epoch 859/1000\n",
      "16/16 [==============================] - 0s 6ms/step - loss: 0.0198 - acc: 0.0000e+00\n",
      "Epoch 860/1000\n",
      "16/16 [==============================] - 0s 2ms/step - loss: 0.0200 - acc: 0.0000e+00\n",
      "Epoch 861/1000\n",
      "16/16 [==============================] - 0s 2ms/step - loss: 0.0198 - acc: 0.0000e+00\n",
      "Epoch 862/1000\n",
      "16/16 [==============================] - 0s 2ms/step - loss: 0.0200 - acc: 0.0000e+00\n",
      "Epoch 863/1000\n",
      "16/16 [==============================] - 0s 2ms/step - loss: 0.0200 - acc: 0.0000e+00\n",
      "Epoch 864/1000\n",
      "16/16 [==============================] - 0s 2ms/step - loss: 0.0198 - acc: 0.0000e+00\n",
      "Epoch 865/1000\n",
      "16/16 [==============================] - 0s 2ms/step - loss: 0.0202 - acc: 0.0000e+00\n",
      "Epoch 866/1000\n",
      "16/16 [==============================] - 0s 2ms/step - loss: 0.0202 - acc: 0.0000e+00\n",
      "Epoch 867/1000\n",
      "16/16 [==============================] - 0s 2ms/step - loss: 0.0198 - acc: 0.0000e+00\n",
      "Epoch 868/1000\n",
      "16/16 [==============================] - 0s 2ms/step - loss: 0.0198 - acc: 0.0000e+00\n",
      "Epoch 869/1000\n",
      "16/16 [==============================] - 0s 2ms/step - loss: 0.0198 - acc: 0.0000e+00\n",
      "Epoch 870/1000\n",
      "16/16 [==============================] - 0s 2ms/step - loss: 0.0198 - acc: 0.0000e+00\n",
      "Epoch 871/1000\n",
      "16/16 [==============================] - 0s 2ms/step - loss: 0.0198 - acc: 0.0000e+00\n",
      "Epoch 872/1000\n",
      "16/16 [==============================] - 0s 2ms/step - loss: 0.0198 - acc: 0.0000e+00\n",
      "Epoch 873/1000\n",
      "16/16 [==============================] - 0s 2ms/step - loss: 0.0199 - acc: 0.0000e+00\n",
      "Epoch 874/1000\n",
      "16/16 [==============================] - 0s 2ms/step - loss: 0.0198 - acc: 0.0000e+00\n",
      "Epoch 875/1000\n",
      "16/16 [==============================] - 0s 2ms/step - loss: 0.0198 - acc: 0.0000e+00\n",
      "Epoch 876/1000\n",
      "16/16 [==============================] - 0s 2ms/step - loss: 0.0200 - acc: 0.0000e+00\n",
      "Epoch 877/1000\n",
      "16/16 [==============================] - 0s 2ms/step - loss: 0.0199 - acc: 0.0000e+00\n",
      "Epoch 878/1000\n",
      "16/16 [==============================] - 0s 2ms/step - loss: 0.0198 - acc: 0.0000e+00\n",
      "Epoch 879/1000\n",
      "16/16 [==============================] - 0s 2ms/step - loss: 0.0199 - acc: 0.0000e+00\n",
      "Epoch 880/1000\n",
      "16/16 [==============================] - 0s 2ms/step - loss: 0.0199 - acc: 0.0000e+00\n",
      "Epoch 881/1000\n",
      "16/16 [==============================] - 0s 2ms/step - loss: 0.0198 - acc: 0.0000e+00\n",
      "Epoch 882/1000\n",
      "16/16 [==============================] - 0s 2ms/step - loss: 0.0198 - acc: 0.0000e+00\n",
      "Epoch 883/1000\n",
      "16/16 [==============================] - 0s 2ms/step - loss: 0.0199 - acc: 0.0000e+00\n",
      "Epoch 884/1000\n",
      "16/16 [==============================] - 0s 2ms/step - loss: 0.0198 - acc: 0.0000e+00\n",
      "Epoch 885/1000\n",
      "16/16 [==============================] - 0s 2ms/step - loss: 0.0198 - acc: 0.0000e+00\n",
      "Epoch 886/1000\n",
      "16/16 [==============================] - 0s 2ms/step - loss: 0.0200 - acc: 0.0000e+00\n",
      "Epoch 887/1000\n",
      "16/16 [==============================] - 0s 2ms/step - loss: 0.0202 - acc: 0.0000e+00\n",
      "Epoch 888/1000\n",
      "16/16 [==============================] - 0s 2ms/step - loss: 0.0200 - acc: 0.0000e+00\n",
      "Epoch 889/1000\n",
      "16/16 [==============================] - 0s 2ms/step - loss: 0.0199 - acc: 0.0000e+00\n",
      "Epoch 890/1000\n",
      "16/16 [==============================] - 0s 2ms/step - loss: 0.0199 - acc: 0.0000e+00\n",
      "Epoch 891/1000\n",
      "16/16 [==============================] - 0s 2ms/step - loss: 0.0199 - acc: 0.0000e+00\n",
      "Epoch 892/1000\n",
      "16/16 [==============================] - 0s 3ms/step - loss: 0.0199 - acc: 0.0000e+00\n",
      "Epoch 893/1000\n"
     ]
    },
    {
     "name": "stdout",
     "output_type": "stream",
     "text": [
      "16/16 [==============================] - 0s 2ms/step - loss: 0.0198 - acc: 0.0000e+00\n",
      "Epoch 894/1000\n",
      "16/16 [==============================] - 0s 2ms/step - loss: 0.0200 - acc: 0.0000e+00\n",
      "Epoch 895/1000\n",
      "16/16 [==============================] - 0s 3ms/step - loss: 0.0199 - acc: 0.0000e+00\n",
      "Epoch 896/1000\n",
      "16/16 [==============================] - 0s 2ms/step - loss: 0.0198 - acc: 0.0000e+00\n",
      "Epoch 897/1000\n",
      "16/16 [==============================] - 0s 2ms/step - loss: 0.0199 - acc: 0.0000e+00\n",
      "Epoch 898/1000\n",
      "16/16 [==============================] - 0s 2ms/step - loss: 0.0199 - acc: 0.0000e+00\n",
      "Epoch 899/1000\n",
      "16/16 [==============================] - 0s 2ms/step - loss: 0.0198 - acc: 0.0000e+00\n",
      "Epoch 900/1000\n",
      "16/16 [==============================] - 0s 2ms/step - loss: 0.0198 - acc: 0.0000e+00\n",
      "Epoch 901/1000\n",
      "16/16 [==============================] - 0s 2ms/step - loss: 0.0199 - acc: 0.0000e+00\n",
      "Epoch 902/1000\n",
      "16/16 [==============================] - 0s 2ms/step - loss: 0.0199 - acc: 0.0000e+00\n",
      "Epoch 903/1000\n",
      "16/16 [==============================] - 0s 2ms/step - loss: 0.0198 - acc: 0.0000e+00\n",
      "Epoch 904/1000\n",
      "16/16 [==============================] - 0s 2ms/step - loss: 0.0198 - acc: 0.0000e+00\n",
      "Epoch 905/1000\n",
      "16/16 [==============================] - 0s 2ms/step - loss: 0.0198 - acc: 0.0000e+00\n",
      "Epoch 906/1000\n",
      "16/16 [==============================] - 0s 2ms/step - loss: 0.0200 - acc: 0.0000e+00\n",
      "Epoch 907/1000\n",
      "16/16 [==============================] - 0s 2ms/step - loss: 0.0198 - acc: 0.0000e+00\n",
      "Epoch 908/1000\n",
      "16/16 [==============================] - 0s 2ms/step - loss: 0.0200 - acc: 0.0000e+00\n",
      "Epoch 909/1000\n",
      "16/16 [==============================] - 0s 2ms/step - loss: 0.0200 - acc: 0.0000e+00\n",
      "Epoch 910/1000\n",
      "16/16 [==============================] - 0s 2ms/step - loss: 0.0199 - acc: 0.0000e+00\n",
      "Epoch 911/1000\n",
      "16/16 [==============================] - 0s 2ms/step - loss: 0.0199 - acc: 0.0000e+00\n",
      "Epoch 912/1000\n",
      "16/16 [==============================] - 0s 2ms/step - loss: 0.0200 - acc: 0.0000e+00\n",
      "Epoch 913/1000\n",
      "16/16 [==============================] - 0s 2ms/step - loss: 0.0199 - acc: 0.0000e+00\n",
      "Epoch 914/1000\n",
      "16/16 [==============================] - 0s 2ms/step - loss: 0.0198 - acc: 0.0000e+00\n",
      "Epoch 915/1000\n",
      "16/16 [==============================] - 0s 2ms/step - loss: 0.0200 - acc: 0.0000e+00\n",
      "Epoch 916/1000\n",
      "16/16 [==============================] - 0s 2ms/step - loss: 0.0198 - acc: 0.0000e+00\n",
      "Epoch 917/1000\n",
      "16/16 [==============================] - 0s 2ms/step - loss: 0.0199 - acc: 0.0000e+00\n",
      "Epoch 918/1000\n",
      "16/16 [==============================] - 0s 2ms/step - loss: 0.0198 - acc: 0.0000e+00\n",
      "Epoch 919/1000\n",
      "16/16 [==============================] - 0s 2ms/step - loss: 0.0199 - acc: 0.0000e+00\n",
      "Epoch 920/1000\n",
      "16/16 [==============================] - 0s 2ms/step - loss: 0.0198 - acc: 0.0000e+00\n",
      "Epoch 921/1000\n",
      "16/16 [==============================] - 0s 2ms/step - loss: 0.0198 - acc: 0.0000e+00\n",
      "Epoch 922/1000\n",
      "16/16 [==============================] - 0s 2ms/step - loss: 0.0198 - acc: 0.0000e+00\n",
      "Epoch 923/1000\n",
      "16/16 [==============================] - 0s 2ms/step - loss: 0.0199 - acc: 0.0000e+00\n",
      "Epoch 924/1000\n",
      "16/16 [==============================] - 0s 2ms/step - loss: 0.0198 - acc: 0.0000e+00\n",
      "Epoch 925/1000\n",
      "16/16 [==============================] - 0s 2ms/step - loss: 0.0199 - acc: 0.0000e+00\n",
      "Epoch 926/1000\n",
      "16/16 [==============================] - 0s 2ms/step - loss: 0.0198 - acc: 0.0000e+00\n",
      "Epoch 927/1000\n",
      "16/16 [==============================] - 0s 2ms/step - loss: 0.0198 - acc: 0.0000e+00\n",
      "Epoch 928/1000\n",
      "16/16 [==============================] - 0s 2ms/step - loss: 0.0199 - acc: 0.0000e+00\n",
      "Epoch 929/1000\n",
      "16/16 [==============================] - 0s 2ms/step - loss: 0.0201 - acc: 0.0000e+00\n",
      "Epoch 930/1000\n",
      "16/16 [==============================] - 0s 2ms/step - loss: 0.0198 - acc: 0.0000e+00\n",
      "Epoch 931/1000\n",
      "16/16 [==============================] - 0s 2ms/step - loss: 0.0198 - acc: 0.0000e+00\n",
      "Epoch 932/1000\n",
      "16/16 [==============================] - 0s 2ms/step - loss: 0.0199 - acc: 0.0000e+00\n",
      "Epoch 933/1000\n",
      "16/16 [==============================] - 0s 2ms/step - loss: 0.0198 - acc: 0.0000e+00\n",
      "Epoch 934/1000\n",
      "16/16 [==============================] - 0s 2ms/step - loss: 0.0200 - acc: 0.0000e+00\n",
      "Epoch 935/1000\n",
      "16/16 [==============================] - 0s 2ms/step - loss: 0.0199 - acc: 0.0000e+00\n",
      "Epoch 936/1000\n",
      "16/16 [==============================] - 0s 2ms/step - loss: 0.0198 - acc: 0.0000e+00\n",
      "Epoch 937/1000\n",
      "16/16 [==============================] - 0s 2ms/step - loss: 0.0198 - acc: 0.0000e+00\n",
      "Epoch 938/1000\n",
      "16/16 [==============================] - 0s 2ms/step - loss: 0.0198 - acc: 0.0000e+00\n",
      "Epoch 939/1000\n",
      "16/16 [==============================] - 0s 2ms/step - loss: 0.0198 - acc: 0.0000e+00\n",
      "Epoch 940/1000\n",
      "16/16 [==============================] - 0s 2ms/step - loss: 0.0199 - acc: 0.0000e+00\n",
      "Epoch 941/1000\n",
      "16/16 [==============================] - 0s 2ms/step - loss: 0.0201 - acc: 0.0000e+00\n",
      "Epoch 942/1000\n",
      "16/16 [==============================] - 0s 2ms/step - loss: 0.0200 - acc: 0.0000e+00\n",
      "Epoch 943/1000\n",
      "16/16 [==============================] - 0s 2ms/step - loss: 0.0198 - acc: 0.0000e+00\n",
      "Epoch 944/1000\n",
      "16/16 [==============================] - 0s 2ms/step - loss: 0.0199 - acc: 0.0000e+00\n",
      "Epoch 945/1000\n",
      "16/16 [==============================] - 0s 2ms/step - loss: 0.0202 - acc: 0.0000e+00\n",
      "Epoch 946/1000\n",
      "16/16 [==============================] - 0s 2ms/step - loss: 0.0202 - acc: 0.0000e+00\n",
      "Epoch 947/1000\n",
      "16/16 [==============================] - 0s 2ms/step - loss: 0.0198 - acc: 0.0000e+00\n",
      "Epoch 948/1000\n",
      "16/16 [==============================] - 0s 2ms/step - loss: 0.0199 - acc: 0.0000e+00\n",
      "Epoch 949/1000\n",
      "16/16 [==============================] - 0s 2ms/step - loss: 0.0199 - acc: 0.0000e+00\n",
      "Epoch 950/1000\n",
      "16/16 [==============================] - 0s 2ms/step - loss: 0.0198 - acc: 0.0000e+00\n",
      "Epoch 951/1000\n",
      "16/16 [==============================] - 0s 2ms/step - loss: 0.0198 - acc: 0.0000e+00\n",
      "Epoch 952/1000\n",
      "16/16 [==============================] - 0s 2ms/step - loss: 0.0200 - acc: 0.0000e+00\n",
      "Epoch 953/1000\n",
      "16/16 [==============================] - 0s 2ms/step - loss: 0.0197 - acc: 0.0000e+00\n",
      "Epoch 954/1000\n",
      "16/16 [==============================] - 0s 2ms/step - loss: 0.0198 - acc: 0.0000e+00\n",
      "Epoch 955/1000\n",
      "16/16 [==============================] - 0s 2ms/step - loss: 0.0199 - acc: 0.0000e+00\n",
      "Epoch 956/1000\n",
      "16/16 [==============================] - 0s 2ms/step - loss: 0.0199 - acc: 0.0000e+00\n",
      "Epoch 957/1000\n",
      "16/16 [==============================] - 0s 2ms/step - loss: 0.0198 - acc: 0.0000e+00\n",
      "Epoch 958/1000\n",
      "16/16 [==============================] - 0s 2ms/step - loss: 0.0199 - acc: 0.0000e+00\n",
      "Epoch 959/1000\n",
      "16/16 [==============================] - 0s 2ms/step - loss: 0.0198 - acc: 0.0000e+00\n",
      "Epoch 960/1000\n",
      "16/16 [==============================] - 0s 2ms/step - loss: 0.0198 - acc: 0.0000e+00\n",
      "Epoch 961/1000\n",
      "16/16 [==============================] - 0s 2ms/step - loss: 0.0198 - acc: 0.0000e+00\n",
      "Epoch 962/1000\n",
      "16/16 [==============================] - 0s 2ms/step - loss: 0.0198 - acc: 0.0000e+00\n",
      "Epoch 963/1000\n",
      "16/16 [==============================] - 0s 2ms/step - loss: 0.0201 - acc: 0.0000e+00\n",
      "Epoch 964/1000\n",
      "16/16 [==============================] - 0s 3ms/step - loss: 0.0198 - acc: 0.0000e+00\n",
      "Epoch 965/1000\n",
      "16/16 [==============================] - 0s 2ms/step - loss: 0.0204 - acc: 0.0000e+00\n",
      "Epoch 966/1000\n",
      "16/16 [==============================] - 0s 2ms/step - loss: 0.0201 - acc: 0.0000e+00\n",
      "Epoch 967/1000\n",
      "16/16 [==============================] - 0s 2ms/step - loss: 0.0199 - acc: 0.0000e+00\n",
      "Epoch 968/1000\n",
      "16/16 [==============================] - 0s 2ms/step - loss: 0.0198 - acc: 0.0000e+00\n",
      "Epoch 969/1000\n",
      "16/16 [==============================] - 0s 2ms/step - loss: 0.0199 - acc: 0.0000e+00\n",
      "Epoch 970/1000\n",
      "16/16 [==============================] - 0s 2ms/step - loss: 0.0199 - acc: 0.0000e+00\n",
      "Epoch 971/1000\n",
      "16/16 [==============================] - 0s 2ms/step - loss: 0.0198 - acc: 0.0000e+00\n",
      "Epoch 972/1000\n",
      "16/16 [==============================] - 0s 2ms/step - loss: 0.0200 - acc: 0.0000e+00\n",
      "Epoch 973/1000\n",
      "16/16 [==============================] - 0s 2ms/step - loss: 0.0198 - acc: 0.0000e+00\n",
      "Epoch 974/1000\n",
      "16/16 [==============================] - 0s 2ms/step - loss: 0.0198 - acc: 0.0000e+00\n",
      "Epoch 975/1000\n",
      "16/16 [==============================] - 0s 2ms/step - loss: 0.0200 - acc: 0.0000e+00\n",
      "Epoch 976/1000\n",
      "16/16 [==============================] - 0s 1ms/step - loss: 0.0201 - acc: 0.0000e+00\n",
      "Epoch 977/1000\n",
      "16/16 [==============================] - 0s 2ms/step - loss: 0.0201 - acc: 0.0000e+00\n",
      "Epoch 978/1000\n",
      "16/16 [==============================] - 0s 2ms/step - loss: 0.0200 - acc: 0.0000e+00\n",
      "Epoch 979/1000\n",
      "16/16 [==============================] - 0s 2ms/step - loss: 0.0201 - acc: 0.0000e+00\n",
      "Epoch 980/1000\n",
      "16/16 [==============================] - 0s 2ms/step - loss: 0.0198 - acc: 0.0000e+00\n",
      "Epoch 981/1000\n",
      "16/16 [==============================] - 0s 2ms/step - loss: 0.0198 - acc: 0.0000e+00\n",
      "Epoch 982/1000\n",
      "16/16 [==============================] - 0s 2ms/step - loss: 0.0198 - acc: 0.0000e+00\n",
      "Epoch 983/1000\n",
      "16/16 [==============================] - 0s 2ms/step - loss: 0.0199 - acc: 0.0000e+00\n",
      "Epoch 984/1000\n",
      "16/16 [==============================] - 0s 2ms/step - loss: 0.0200 - acc: 0.0000e+00\n",
      "Epoch 985/1000\n",
      "16/16 [==============================] - 0s 2ms/step - loss: 0.0198 - acc: 0.0000e+00\n",
      "Epoch 986/1000\n",
      "16/16 [==============================] - 0s 2ms/step - loss: 0.0198 - acc: 0.0000e+00\n",
      "Epoch 987/1000\n",
      "16/16 [==============================] - 0s 2ms/step - loss: 0.0199 - acc: 0.0000e+00\n",
      "Epoch 988/1000\n",
      "16/16 [==============================] - 0s 2ms/step - loss: 0.0198 - acc: 0.0000e+00\n",
      "Epoch 989/1000\n",
      "16/16 [==============================] - 0s 2ms/step - loss: 0.0199 - acc: 0.0000e+00\n",
      "Epoch 990/1000\n",
      "16/16 [==============================] - 0s 2ms/step - loss: 0.0199 - acc: 0.0000e+00\n",
      "Epoch 991/1000\n",
      "16/16 [==============================] - 0s 2ms/step - loss: 0.0198 - acc: 0.0000e+00\n",
      "Epoch 992/1000\n",
      "16/16 [==============================] - 0s 2ms/step - loss: 0.0199 - acc: 0.0000e+00\n",
      "Epoch 993/1000\n",
      "16/16 [==============================] - 0s 2ms/step - loss: 0.0199 - acc: 0.0000e+00\n",
      "Epoch 994/1000\n",
      "16/16 [==============================] - 0s 2ms/step - loss: 0.0199 - acc: 0.0000e+00\n",
      "Epoch 995/1000\n",
      "16/16 [==============================] - 0s 2ms/step - loss: 0.0199 - acc: 0.0000e+00\n",
      "Epoch 996/1000\n",
      "16/16 [==============================] - 0s 2ms/step - loss: 0.0199 - acc: 0.0000e+00\n",
      "Epoch 997/1000\n",
      "16/16 [==============================] - 0s 2ms/step - loss: 0.0198 - acc: 0.0000e+00\n",
      "Epoch 998/1000\n",
      "16/16 [==============================] - 0s 2ms/step - loss: 0.0198 - acc: 0.0000e+00\n",
      "Epoch 999/1000\n",
      "16/16 [==============================] - 0s 2ms/step - loss: 0.0198 - acc: 0.0000e+00\n",
      "Epoch 1000/1000\n",
      "16/16 [==============================] - 0s 2ms/step - loss: 0.0198 - acc: 0.0000e+00\n"
     ]
    },
    {
     "data": {
      "text/plain": [
       "<keras.callbacks.History at 0x1b3b29bbbe0>"
      ]
     },
     "execution_count": 94,
     "metadata": {},
     "output_type": "execute_result"
    }
   ],
   "source": [
    "model.fit(x, y, epochs=training_epochs)"
   ]
  },
  {
   "cell_type": "code",
   "execution_count": 95,
   "id": "06e54fb7",
   "metadata": {},
   "outputs": [
    {
     "name": "stdout",
     "output_type": "stream",
     "text": [
      "16/16 [==============================] - 0s 2ms/step\n"
     ]
    }
   ],
   "source": [
    "pred = model.predict(x)"
   ]
  },
  {
   "cell_type": "code",
   "execution_count": 96,
   "id": "930cbf08",
   "metadata": {},
   "outputs": [
    {
     "name": "stdout",
     "output_type": "stream",
     "text": [
      "0.019967568785761024\n",
      "0.11883513266338752\n",
      "0.9396205959248835\n"
     ]
    },
    {
     "data": {
      "text/plain": [
       "(None, None, None)"
      ]
     },
     "execution_count": 96,
     "metadata": {},
     "output_type": "execute_result"
    }
   ],
   "source": [
    "from sklearn.metrics import mean_squared_error, median_absolute_error, r2_score\n",
    "print(mean_squared_error(pred,y)), print(median_absolute_error(pred,y)), print(r2_score(pred,y))"
   ]
  },
  {
   "cell_type": "code",
   "execution_count": 99,
   "id": "33f9ba0d",
   "metadata": {},
   "outputs": [
    {
     "data": {
      "text/plain": [
       "(array([[1.9633983]], dtype=float32), array([0.25390846], dtype=float32))"
      ]
     },
     "execution_count": 99,
     "metadata": {},
     "output_type": "execute_result"
    }
   ],
   "source": [
    "model.get_weights()[0], model.get_weights()[1]"
   ]
  },
  {
   "cell_type": "markdown",
   "id": "5a905c68",
   "metadata": {},
   "source": [
    "## Week 3 - ANN "
   ]
  },
  {
   "cell_type": "code",
   "execution_count": 36,
   "id": "97193a8a",
   "metadata": {},
   "outputs": [
    {
     "data": {
      "text/html": [
       "<div>\n",
       "<style scoped>\n",
       "    .dataframe tbody tr th:only-of-type {\n",
       "        vertical-align: middle;\n",
       "    }\n",
       "\n",
       "    .dataframe tbody tr th {\n",
       "        vertical-align: top;\n",
       "    }\n",
       "\n",
       "    .dataframe thead th {\n",
       "        text-align: right;\n",
       "    }\n",
       "</style>\n",
       "<table border=\"1\" class=\"dataframe\">\n",
       "  <thead>\n",
       "    <tr style=\"text-align: right;\">\n",
       "      <th></th>\n",
       "      <th>Pregnancies</th>\n",
       "      <th>GlucosePlasma</th>\n",
       "      <th>BloodPressure</th>\n",
       "      <th>SkinThickness</th>\n",
       "      <th>Insulin</th>\n",
       "      <th>BMI</th>\n",
       "      <th>Diabetes Pedigree Function</th>\n",
       "      <th>Age</th>\n",
       "      <th>Outcome</th>\n",
       "    </tr>\n",
       "  </thead>\n",
       "  <tbody>\n",
       "    <tr>\n",
       "      <th>0</th>\n",
       "      <td>6</td>\n",
       "      <td>148</td>\n",
       "      <td>72</td>\n",
       "      <td>35</td>\n",
       "      <td>0</td>\n",
       "      <td>33.6</td>\n",
       "      <td>0.627</td>\n",
       "      <td>50</td>\n",
       "      <td>1</td>\n",
       "    </tr>\n",
       "    <tr>\n",
       "      <th>1</th>\n",
       "      <td>1</td>\n",
       "      <td>85</td>\n",
       "      <td>66</td>\n",
       "      <td>29</td>\n",
       "      <td>0</td>\n",
       "      <td>26.6</td>\n",
       "      <td>0.351</td>\n",
       "      <td>31</td>\n",
       "      <td>0</td>\n",
       "    </tr>\n",
       "    <tr>\n",
       "      <th>2</th>\n",
       "      <td>8</td>\n",
       "      <td>183</td>\n",
       "      <td>64</td>\n",
       "      <td>0</td>\n",
       "      <td>0</td>\n",
       "      <td>23.3</td>\n",
       "      <td>0.672</td>\n",
       "      <td>32</td>\n",
       "      <td>1</td>\n",
       "    </tr>\n",
       "    <tr>\n",
       "      <th>3</th>\n",
       "      <td>1</td>\n",
       "      <td>89</td>\n",
       "      <td>66</td>\n",
       "      <td>23</td>\n",
       "      <td>94</td>\n",
       "      <td>28.1</td>\n",
       "      <td>0.167</td>\n",
       "      <td>21</td>\n",
       "      <td>0</td>\n",
       "    </tr>\n",
       "    <tr>\n",
       "      <th>4</th>\n",
       "      <td>0</td>\n",
       "      <td>137</td>\n",
       "      <td>40</td>\n",
       "      <td>35</td>\n",
       "      <td>168</td>\n",
       "      <td>43.1</td>\n",
       "      <td>2.288</td>\n",
       "      <td>33</td>\n",
       "      <td>1</td>\n",
       "    </tr>\n",
       "  </tbody>\n",
       "</table>\n",
       "</div>"
      ],
      "text/plain": [
       "   Pregnancies  GlucosePlasma  BloodPressure  SkinThickness  Insulin   BMI  \\\n",
       "0            6            148             72             35        0  33.6   \n",
       "1            1             85             66             29        0  26.6   \n",
       "2            8            183             64              0        0  23.3   \n",
       "3            1             89             66             23       94  28.1   \n",
       "4            0            137             40             35      168  43.1   \n",
       "\n",
       "   Diabetes Pedigree Function  Age  Outcome  \n",
       "0                       0.627   50        1  \n",
       "1                       0.351   31        0  \n",
       "2                       0.672   32        1  \n",
       "3                       0.167   21        0  \n",
       "4                       2.288   33        1  "
      ]
     },
     "execution_count": 36,
     "metadata": {},
     "output_type": "execute_result"
    }
   ],
   "source": [
    "import pandas as pd\n",
    "df = pd.read_csv('dataset.csv')\n",
    "df.head()"
   ]
  },
  {
   "cell_type": "code",
   "execution_count": 108,
   "id": "c73b969f",
   "metadata": {},
   "outputs": [],
   "source": [
    "x = df.iloc[:,:-1].values\n",
    "y = df.iloc[:,-1].values\n",
    "\n",
    "from sklearn.model_selection import train_test_split as tts\n",
    "x_train, x_test, y_train, y_test = tts(x,y,test_size=0.25, random_state=32)"
   ]
  },
  {
   "cell_type": "code",
   "execution_count": 148,
   "id": "bc32358f",
   "metadata": {},
   "outputs": [],
   "source": [
    "model = Sequential()\n",
    "model.add(Dense(128,activation='relu'))\n",
    "model.add(Dense(64,activation='sigmoid'))\n",
    "model.add(Dense(1,activation='relu'))\n",
    "model.compile(optimizer='adam',metrics='acc',loss='binary_crossentropy')"
   ]
  },
  {
   "cell_type": "code",
   "execution_count": 149,
   "id": "def39cd8",
   "metadata": {},
   "outputs": [
    {
     "name": "stdout",
     "output_type": "stream",
     "text": [
      "Epoch 1/20\n",
      "18/18 [==============================] - 1s 13ms/step - loss: 2.4637 - acc: 0.6233 - val_loss: 0.6849 - val_acc: 0.5573\n",
      "Epoch 2/20\n",
      "18/18 [==============================] - 0s 4ms/step - loss: 0.7892 - acc: 0.5747 - val_loss: 0.6559 - val_acc: 0.6510\n",
      "Epoch 3/20\n",
      "18/18 [==============================] - 0s 5ms/step - loss: 0.7044 - acc: 0.6580 - val_loss: 0.6037 - val_acc: 0.6771\n",
      "Epoch 4/20\n",
      "18/18 [==============================] - 0s 6ms/step - loss: 0.6837 - acc: 0.6753 - val_loss: 0.5754 - val_acc: 0.7083\n",
      "Epoch 5/20\n",
      "18/18 [==============================] - 0s 4ms/step - loss: 0.6529 - acc: 0.6806 - val_loss: 0.5700 - val_acc: 0.6667\n",
      "Epoch 6/20\n",
      "18/18 [==============================] - 0s 5ms/step - loss: 0.7048 - acc: 0.6962 - val_loss: 0.5653 - val_acc: 0.6823\n",
      "Epoch 7/20\n",
      "18/18 [==============================] - 0s 4ms/step - loss: 0.6421 - acc: 0.6892 - val_loss: 0.5718 - val_acc: 0.7396\n",
      "Epoch 8/20\n",
      "18/18 [==============================] - 0s 4ms/step - loss: 0.6643 - acc: 0.6962 - val_loss: 0.6140 - val_acc: 0.6615\n",
      "Epoch 9/20\n",
      "18/18 [==============================] - 0s 4ms/step - loss: 0.6515 - acc: 0.6944 - val_loss: 0.5878 - val_acc: 0.7031\n",
      "Epoch 10/20\n",
      "18/18 [==============================] - 0s 4ms/step - loss: 0.6409 - acc: 0.6840 - val_loss: 0.5885 - val_acc: 0.7031\n",
      "Epoch 11/20\n",
      "18/18 [==============================] - 0s 6ms/step - loss: 0.6632 - acc: 0.7031 - val_loss: 0.5616 - val_acc: 0.6979\n",
      "Epoch 12/20\n",
      "18/18 [==============================] - 0s 4ms/step - loss: 0.6537 - acc: 0.6979 - val_loss: 0.6865 - val_acc: 0.6562\n",
      "Epoch 13/20\n",
      "18/18 [==============================] - 0s 5ms/step - loss: 0.6393 - acc: 0.6962 - val_loss: 0.5555 - val_acc: 0.7083\n",
      "Epoch 14/20\n",
      "18/18 [==============================] - 0s 4ms/step - loss: 0.6385 - acc: 0.7049 - val_loss: 0.5760 - val_acc: 0.7240\n",
      "Epoch 15/20\n",
      "18/18 [==============================] - 0s 5ms/step - loss: 0.6198 - acc: 0.7274 - val_loss: 0.5625 - val_acc: 0.6979\n",
      "Epoch 16/20\n",
      "18/18 [==============================] - 0s 4ms/step - loss: 0.6727 - acc: 0.6597 - val_loss: 0.6958 - val_acc: 0.5625\n",
      "Epoch 17/20\n",
      "18/18 [==============================] - 0s 4ms/step - loss: 0.7185 - acc: 0.6597 - val_loss: 0.5637 - val_acc: 0.6875\n",
      "Epoch 18/20\n",
      "18/18 [==============================] - 0s 5ms/step - loss: 0.7293 - acc: 0.5712 - val_loss: 0.6632 - val_acc: 0.6198\n",
      "Epoch 19/20\n",
      "18/18 [==============================] - 0s 5ms/step - loss: 0.6626 - acc: 0.6406 - val_loss: 0.5486 - val_acc: 0.6979\n",
      "Epoch 20/20\n",
      "18/18 [==============================] - 0s 6ms/step - loss: 0.6832 - acc: 0.6597 - val_loss: 0.6170 - val_acc: 0.6667\n"
     ]
    },
    {
     "data": {
      "text/plain": [
       "<keras.callbacks.History at 0x1b3dccd63d0>"
      ]
     },
     "execution_count": 149,
     "metadata": {},
     "output_type": "execute_result"
    }
   ],
   "source": [
    "model.fit(x_train, y_train, epochs=20, validation_data=(x_test,y_test))"
   ]
  },
  {
   "cell_type": "code",
   "execution_count": 150,
   "id": "39bb6d25",
   "metadata": {},
   "outputs": [
    {
     "name": "stdout",
     "output_type": "stream",
     "text": [
      "18/18 [==============================] - 0s 2ms/step - loss: 0.6487 - acc: 0.6771\n"
     ]
    },
    {
     "data": {
      "text/plain": [
       "0.6770833134651184"
      ]
     },
     "execution_count": 150,
     "metadata": {},
     "output_type": "execute_result"
    }
   ],
   "source": [
    "acc = model.evaluate(x_train,y_train)[1]\n",
    "acc"
   ]
  },
  {
   "cell_type": "code",
   "execution_count": 154,
   "id": "2d67f889",
   "metadata": {},
   "outputs": [
    {
     "name": "stdout",
     "output_type": "stream",
     "text": [
      "Epoch 1/20\n",
      "18/18 [==============================] - 1s 15ms/step - loss: 5.3291 - acc: 0.6545 - val_loss: 5.5433 - val_acc: 0.6406\n",
      "Epoch 2/20\n",
      "18/18 [==============================] - 0s 4ms/step - loss: 5.3291 - acc: 0.6545 - val_loss: 5.5433 - val_acc: 0.6406\n",
      "Epoch 3/20\n",
      "18/18 [==============================] - 0s 6ms/step - loss: 5.3291 - acc: 0.6545 - val_loss: 5.5433 - val_acc: 0.6406\n",
      "Epoch 4/20\n",
      "18/18 [==============================] - 0s 4ms/step - loss: 5.3291 - acc: 0.6545 - val_loss: 5.5433 - val_acc: 0.6406\n",
      "Epoch 5/20\n",
      "18/18 [==============================] - 0s 6ms/step - loss: 5.3291 - acc: 0.6545 - val_loss: 5.5433 - val_acc: 0.6406\n",
      "Epoch 6/20\n",
      "18/18 [==============================] - 0s 4ms/step - loss: 5.3291 - acc: 0.6545 - val_loss: 5.5433 - val_acc: 0.6406\n",
      "Epoch 7/20\n",
      "18/18 [==============================] - 0s 4ms/step - loss: 5.3291 - acc: 0.6545 - val_loss: 5.5433 - val_acc: 0.6406\n",
      "Epoch 8/20\n",
      "18/18 [==============================] - 0s 5ms/step - loss: 5.3291 - acc: 0.6545 - val_loss: 5.5433 - val_acc: 0.6406\n",
      "Epoch 9/20\n",
      "18/18 [==============================] - 0s 4ms/step - loss: 5.3291 - acc: 0.6545 - val_loss: 5.5433 - val_acc: 0.6406\n",
      "Epoch 10/20\n",
      "18/18 [==============================] - 0s 6ms/step - loss: 5.3291 - acc: 0.6545 - val_loss: 5.5433 - val_acc: 0.6406\n",
      "Epoch 11/20\n",
      "18/18 [==============================] - 0s 4ms/step - loss: 5.3291 - acc: 0.6545 - val_loss: 5.5433 - val_acc: 0.6406\n",
      "Epoch 12/20\n",
      "18/18 [==============================] - 0s 4ms/step - loss: 5.3291 - acc: 0.6545 - val_loss: 5.5433 - val_acc: 0.6406\n",
      "Epoch 13/20\n",
      "18/18 [==============================] - 0s 4ms/step - loss: 5.3291 - acc: 0.6545 - val_loss: 5.5433 - val_acc: 0.6406\n",
      "Epoch 14/20\n",
      "18/18 [==============================] - 0s 4ms/step - loss: 5.3291 - acc: 0.6545 - val_loss: 5.5433 - val_acc: 0.6406\n",
      "Epoch 15/20\n",
      "18/18 [==============================] - 0s 5ms/step - loss: 5.3291 - acc: 0.6545 - val_loss: 5.5433 - val_acc: 0.6406\n",
      "Epoch 16/20\n",
      "18/18 [==============================] - 0s 6ms/step - loss: 5.3291 - acc: 0.6545 - val_loss: 5.5433 - val_acc: 0.6406\n",
      "Epoch 17/20\n",
      "18/18 [==============================] - 0s 4ms/step - loss: 5.3291 - acc: 0.6545 - val_loss: 5.5433 - val_acc: 0.6406\n",
      "Epoch 18/20\n",
      "18/18 [==============================] - 0s 8ms/step - loss: 5.3291 - acc: 0.6545 - val_loss: 5.5433 - val_acc: 0.6406\n",
      "Epoch 19/20\n",
      "18/18 [==============================] - 0s 6ms/step - loss: 5.3291 - acc: 0.6545 - val_loss: 5.5433 - val_acc: 0.6406\n",
      "Epoch 20/20\n",
      "18/18 [==============================] - 0s 4ms/step - loss: 5.3291 - acc: 0.6545 - val_loss: 5.5433 - val_acc: 0.6406\n"
     ]
    },
    {
     "data": {
      "text/plain": [
       "<keras.callbacks.History at 0x1b3e0b24cd0>"
      ]
     },
     "execution_count": 154,
     "metadata": {},
     "output_type": "execute_result"
    }
   ],
   "source": [
    "model2 = Sequential()\n",
    "model2.add(Dense(128,activation='relu'))\n",
    "model2.add(Dense(64,activation='sigmoid'))\n",
    "model2.add(Dense(64,activation='sigmoid'))\n",
    "model2.add(Dense(32,activation='softmax'))\n",
    "model2.add(Dense(1,activation='relu'))\n",
    "model2.compile(optimizer='adam',metrics='acc',loss='binary_crossentropy')\n",
    "model2.fit(x_train, y_train, epochs=20, validation_data=(x_test,y_test))"
   ]
  },
  {
   "cell_type": "code",
   "execution_count": 158,
   "id": "d2a95a2c",
   "metadata": {},
   "outputs": [
    {
     "name": "stdout",
     "output_type": "stream",
     "text": [
      "18/18 [==============================] - 0s 2ms/step - loss: 5.3291 - acc: 0.6545\n"
     ]
    },
    {
     "data": {
      "text/plain": [
       "0.6545138955116272"
      ]
     },
     "execution_count": 158,
     "metadata": {},
     "output_type": "execute_result"
    }
   ],
   "source": [
    "acc2 = model2.evaluate(x_train,y_train)[1]\n",
    "acc2"
   ]
  },
  {
   "cell_type": "code",
   "execution_count": 162,
   "id": "addfdda3",
   "metadata": {},
   "outputs": [
    {
     "name": "stdout",
     "output_type": "stream",
     "text": [
      "Epoch 1/20\n",
      "18/18 [==============================] - 1s 16ms/step - loss: 2.0135 - acc: 0.5347 - val_loss: 0.6606 - val_acc: 0.6406\n",
      "Epoch 2/20\n",
      "18/18 [==============================] - 0s 4ms/step - loss: 1.8097 - acc: 0.6024 - val_loss: 0.6448 - val_acc: 0.6406\n",
      "Epoch 3/20\n",
      "18/18 [==============================] - 0s 5ms/step - loss: 1.5451 - acc: 0.5035 - val_loss: 0.6319 - val_acc: 0.6406\n",
      "Epoch 4/20\n",
      "18/18 [==============================] - 0s 4ms/step - loss: 1.5062 - acc: 0.5712 - val_loss: 0.6405 - val_acc: 0.6406\n",
      "Epoch 5/20\n",
      "18/18 [==============================] - 0s 4ms/step - loss: 1.2608 - acc: 0.5781 - val_loss: 0.7806 - val_acc: 0.3646\n",
      "Epoch 6/20\n",
      "18/18 [==============================] - 0s 4ms/step - loss: 1.3582 - acc: 0.5625 - val_loss: 0.6477 - val_acc: 0.6406\n",
      "Epoch 7/20\n",
      "18/18 [==============================] - 0s 5ms/step - loss: 1.2744 - acc: 0.5625 - val_loss: 0.6433 - val_acc: 0.6406\n",
      "Epoch 8/20\n",
      "18/18 [==============================] - 0s 6ms/step - loss: 1.3130 - acc: 0.5885 - val_loss: 0.6316 - val_acc: 0.6406\n",
      "Epoch 9/20\n",
      "18/18 [==============================] - 0s 5ms/step - loss: 1.4612 - acc: 0.5781 - val_loss: 0.6323 - val_acc: 0.6562\n",
      "Epoch 10/20\n",
      "18/18 [==============================] - 0s 8ms/step - loss: 1.2464 - acc: 0.5538 - val_loss: 0.6833 - val_acc: 0.6406\n",
      "Epoch 11/20\n",
      "18/18 [==============================] - 0s 4ms/step - loss: 1.3983 - acc: 0.5764 - val_loss: 0.6571 - val_acc: 0.6406\n",
      "Epoch 12/20\n",
      "18/18 [==============================] - 0s 4ms/step - loss: 1.3476 - acc: 0.5642 - val_loss: 0.6374 - val_acc: 0.6406\n",
      "Epoch 13/20\n",
      "18/18 [==============================] - 0s 4ms/step - loss: 1.4452 - acc: 0.4809 - val_loss: 0.7838 - val_acc: 0.3594\n",
      "Epoch 14/20\n",
      "18/18 [==============================] - 0s 5ms/step - loss: 1.0124 - acc: 0.4983 - val_loss: 0.6371 - val_acc: 0.6406\n",
      "Epoch 15/20\n",
      "18/18 [==============================] - 0s 5ms/step - loss: 1.1481 - acc: 0.5694 - val_loss: 0.7089 - val_acc: 0.4010\n",
      "Epoch 16/20\n",
      "18/18 [==============================] - 0s 4ms/step - loss: 0.9434 - acc: 0.4583 - val_loss: 0.7124 - val_acc: 0.4219\n",
      "Epoch 17/20\n",
      "18/18 [==============================] - 0s 6ms/step - loss: 1.0398 - acc: 0.5747 - val_loss: 0.6422 - val_acc: 0.6406\n",
      "Epoch 18/20\n",
      "18/18 [==============================] - 0s 6ms/step - loss: 0.8693 - acc: 0.5590 - val_loss: 0.6323 - val_acc: 0.6354\n",
      "Epoch 19/20\n",
      "18/18 [==============================] - 0s 4ms/step - loss: 0.8966 - acc: 0.5503 - val_loss: 0.6491 - val_acc: 0.6927\n",
      "Epoch 20/20\n",
      "18/18 [==============================] - 0s 8ms/step - loss: 0.9276 - acc: 0.5035 - val_loss: 0.6427 - val_acc: 0.6719\n"
     ]
    },
    {
     "data": {
      "text/plain": [
       "<keras.callbacks.History at 0x1b3e4e2a280>"
      ]
     },
     "execution_count": 162,
     "metadata": {},
     "output_type": "execute_result"
    }
   ],
   "source": [
    "model3 = Sequential()\n",
    "model3.add(Dense(128,activation='relu'))\n",
    "model3.add(Dense(64,activation='sigmoid'))\n",
    "model3.add(Dropout(0.2))\n",
    "model3.add(Dense(32,activation='relu'))\n",
    "model3.add(Dense(32,activation='sigmoid'))\n",
    "model3.add(Dropout(0.2))\n",
    "model3.add(Dense(1,activation='relu'))\n",
    "model3.compile(optimizer='adam',metrics='acc',loss='binary_crossentropy')\n",
    "model3.fit(x_train, y_train, epochs=20, validation_data=(x_test,y_test))"
   ]
  },
  {
   "cell_type": "code",
   "execution_count": 163,
   "id": "f9dea609",
   "metadata": {},
   "outputs": [
    {
     "name": "stdout",
     "output_type": "stream",
     "text": [
      "18/18 [==============================] - 0s 2ms/step - loss: 0.6382 - acc: 0.6684\n"
     ]
    },
    {
     "data": {
      "text/plain": [
       "0.6684027910232544"
      ]
     },
     "execution_count": 163,
     "metadata": {},
     "output_type": "execute_result"
    }
   ],
   "source": [
    "acc3 = model3.evaluate(x_train,y_train)[1]\n",
    "acc3"
   ]
  },
  {
   "cell_type": "code",
   "execution_count": 167,
   "id": "75a8dc80",
   "metadata": {},
   "outputs": [],
   "source": [
    "from keras.callbacks import EarlyStopping\n",
    "EarlyStopping?"
   ]
  },
  {
   "cell_type": "code",
   "execution_count": 166,
   "id": "2d312db8",
   "metadata": {},
   "outputs": [],
   "source": [
    "callbacks = EarlyStopping(monitor='loss',patience=200,verbose=1, mode='min')"
   ]
  },
  {
   "cell_type": "code",
   "execution_count": 172,
   "id": "e8dcdc72",
   "metadata": {},
   "outputs": [
    {
     "name": "stdout",
     "output_type": "stream",
     "text": [
      "Epoch 1/20\n",
      "18/18 [==============================] - 1s 12ms/step - loss: 0.6559 - acc: 0.6719 - val_loss: 0.6189 - val_acc: 0.6302\n",
      "Epoch 2/20\n",
      "18/18 [==============================] - 0s 6ms/step - loss: 0.6133 - acc: 0.6580 - val_loss: 0.5947 - val_acc: 0.6406\n",
      "Epoch 3/20\n",
      "18/18 [==============================] - 0s 4ms/step - loss: 0.5979 - acc: 0.6701 - val_loss: 0.5953 - val_acc: 0.6823\n",
      "Epoch 4/20\n",
      "18/18 [==============================] - 0s 6ms/step - loss: 0.5980 - acc: 0.6684 - val_loss: 0.5835 - val_acc: 0.6979\n",
      "Epoch 5/20\n",
      "18/18 [==============================] - 0s 4ms/step - loss: 0.5994 - acc: 0.6840 - val_loss: 0.5685 - val_acc: 0.6979\n",
      "Epoch 6/20\n",
      "18/18 [==============================] - 0s 4ms/step - loss: 0.5912 - acc: 0.6875 - val_loss: 0.5790 - val_acc: 0.6823\n",
      "Epoch 7/20\n",
      "18/18 [==============================] - 0s 5ms/step - loss: 0.5834 - acc: 0.6875 - val_loss: 0.5697 - val_acc: 0.7188\n",
      "Epoch 8/20\n",
      "18/18 [==============================] - 0s 4ms/step - loss: 0.5779 - acc: 0.6840 - val_loss: 0.5699 - val_acc: 0.7188\n",
      "Epoch 9/20\n",
      "18/18 [==============================] - 0s 6ms/step - loss: 0.5790 - acc: 0.6858 - val_loss: 0.5744 - val_acc: 0.7083\n",
      "Epoch 10/20\n",
      "18/18 [==============================] - 0s 4ms/step - loss: 0.5762 - acc: 0.6944 - val_loss: 0.5785 - val_acc: 0.7031\n",
      "Epoch 11/20\n",
      "18/18 [==============================] - 0s 4ms/step - loss: 0.5783 - acc: 0.6997 - val_loss: 0.5732 - val_acc: 0.7083\n",
      "Epoch 12/20\n",
      "18/18 [==============================] - 0s 6ms/step - loss: 0.5706 - acc: 0.7188 - val_loss: 0.5642 - val_acc: 0.7188\n",
      "Epoch 13/20\n",
      "18/18 [==============================] - 0s 4ms/step - loss: 0.5713 - acc: 0.7066 - val_loss: 0.5755 - val_acc: 0.6927\n",
      "Epoch 14/20\n",
      "18/18 [==============================] - 0s 4ms/step - loss: 0.5681 - acc: 0.7014 - val_loss: 0.5603 - val_acc: 0.6927\n",
      "Epoch 15/20\n",
      "18/18 [==============================] - 0s 6ms/step - loss: 0.5691 - acc: 0.7014 - val_loss: 0.5563 - val_acc: 0.7135\n",
      "Epoch 16/20\n",
      "18/18 [==============================] - 0s 4ms/step - loss: 0.5617 - acc: 0.7153 - val_loss: 0.5593 - val_acc: 0.7188\n",
      "Epoch 17/20\n",
      "18/18 [==============================] - 0s 4ms/step - loss: 0.5569 - acc: 0.6997 - val_loss: 0.5636 - val_acc: 0.7083\n",
      "Epoch 18/20\n",
      "18/18 [==============================] - 0s 5ms/step - loss: 0.5585 - acc: 0.7153 - val_loss: 0.5643 - val_acc: 0.7083\n",
      "Epoch 19/20\n",
      "18/18 [==============================] - 0s 4ms/step - loss: 0.5576 - acc: 0.6892 - val_loss: 0.5793 - val_acc: 0.6667\n",
      "Epoch 20/20\n",
      "18/18 [==============================] - 0s 8ms/step - loss: 0.5642 - acc: 0.7135 - val_loss: 0.5641 - val_acc: 0.6979\n"
     ]
    },
    {
     "data": {
      "text/plain": [
       "<keras.callbacks.History at 0x1b3e6fe6e50>"
      ]
     },
     "execution_count": 172,
     "metadata": {},
     "output_type": "execute_result"
    }
   ],
   "source": [
    "model4 = Sequential()\n",
    "model4.add(Dense(128,activation='relu'))\n",
    "model4.add(Dense(64,activation='sigmoid'))\n",
    "model4.add(Dense(1,activation='sigmoid'))\n",
    "model4.compile(optimizer='adam',metrics='acc',loss='binary_crossentropy')\n",
    "model4.fit(x_train, y_train, epochs=20, validation_data=(x_test,y_test), callbacks=[callbacks])"
   ]
  },
  {
   "cell_type": "code",
   "execution_count": 173,
   "id": "d166898c",
   "metadata": {},
   "outputs": [
    {
     "name": "stdout",
     "output_type": "stream",
     "text": [
      "18/18 [==============================] - 0s 2ms/step - loss: 0.5511 - acc: 0.6979\n"
     ]
    },
    {
     "data": {
      "text/plain": [
       "0.6979166865348816"
      ]
     },
     "execution_count": 173,
     "metadata": {},
     "output_type": "execute_result"
    }
   ],
   "source": [
    "acc4 = model4.evaluate(x_train,y_train)[1]\n",
    "acc4"
   ]
  },
  {
   "cell_type": "code",
   "execution_count": 175,
   "id": "96d508b2",
   "metadata": {},
   "outputs": [],
   "source": [
    "from keras.regularizers import l2"
   ]
  },
  {
   "cell_type": "code",
   "execution_count": 176,
   "id": "7e14aa16",
   "metadata": {},
   "outputs": [
    {
     "name": "stdout",
     "output_type": "stream",
     "text": [
      "Epoch 1/20\n",
      "18/18 [==============================] - 1s 14ms/step - loss: 0.8177 - acc: 0.6215 - val_loss: 0.7725 - val_acc: 0.6406\n",
      "Epoch 2/20\n",
      "18/18 [==============================] - 0s 6ms/step - loss: 0.7613 - acc: 0.6545 - val_loss: 0.7466 - val_acc: 0.6406\n",
      "Epoch 3/20\n",
      "18/18 [==============================] - 0s 6ms/step - loss: 0.7436 - acc: 0.6580 - val_loss: 0.7322 - val_acc: 0.6406\n",
      "Epoch 4/20\n",
      "18/18 [==============================] - 0s 5ms/step - loss: 0.7227 - acc: 0.6597 - val_loss: 0.7226 - val_acc: 0.6458\n",
      "Epoch 5/20\n",
      "18/18 [==============================] - 0s 7ms/step - loss: 0.7055 - acc: 0.6736 - val_loss: 0.6986 - val_acc: 0.6615\n",
      "Epoch 6/20\n",
      "18/18 [==============================] - 0s 5ms/step - loss: 0.6918 - acc: 0.6840 - val_loss: 0.6884 - val_acc: 0.6458\n",
      "Epoch 7/20\n",
      "18/18 [==============================] - 0s 6ms/step - loss: 0.6850 - acc: 0.6684 - val_loss: 0.6763 - val_acc: 0.6667\n",
      "Epoch 8/20\n",
      "18/18 [==============================] - 0s 5ms/step - loss: 0.6746 - acc: 0.6875 - val_loss: 0.6685 - val_acc: 0.6354\n",
      "Epoch 9/20\n",
      "18/18 [==============================] - 0s 5ms/step - loss: 0.6659 - acc: 0.6788 - val_loss: 0.6831 - val_acc: 0.6927\n",
      "Epoch 10/20\n",
      "18/18 [==============================] - 0s 6ms/step - loss: 0.6663 - acc: 0.6806 - val_loss: 0.6678 - val_acc: 0.6823\n",
      "Epoch 11/20\n",
      "18/18 [==============================] - 0s 4ms/step - loss: 0.6555 - acc: 0.6997 - val_loss: 0.6542 - val_acc: 0.6927\n",
      "Epoch 12/20\n",
      "18/18 [==============================] - 0s 4ms/step - loss: 0.6488 - acc: 0.6979 - val_loss: 0.6538 - val_acc: 0.7031\n",
      "Epoch 13/20\n",
      "18/18 [==============================] - 0s 9ms/step - loss: 0.6497 - acc: 0.6979 - val_loss: 0.6455 - val_acc: 0.6979\n",
      "Epoch 14/20\n",
      "18/18 [==============================] - 0s 8ms/step - loss: 0.6390 - acc: 0.7188 - val_loss: 0.6474 - val_acc: 0.7083\n",
      "Epoch 15/20\n",
      "18/18 [==============================] - 0s 7ms/step - loss: 0.6353 - acc: 0.7378 - val_loss: 0.6408 - val_acc: 0.7135\n",
      "Epoch 16/20\n",
      "18/18 [==============================] - 0s 6ms/step - loss: 0.6357 - acc: 0.7049 - val_loss: 0.6444 - val_acc: 0.6875\n",
      "Epoch 17/20\n",
      "18/18 [==============================] - 0s 4ms/step - loss: 0.6312 - acc: 0.7066 - val_loss: 0.6420 - val_acc: 0.7135\n",
      "Epoch 18/20\n",
      "18/18 [==============================] - 0s 6ms/step - loss: 0.6341 - acc: 0.6997 - val_loss: 0.6711 - val_acc: 0.6562\n",
      "Epoch 19/20\n",
      "18/18 [==============================] - 0s 5ms/step - loss: 0.6391 - acc: 0.6875 - val_loss: 0.6451 - val_acc: 0.6719\n",
      "Epoch 20/20\n",
      "18/18 [==============================] - 0s 5ms/step - loss: 0.6288 - acc: 0.7153 - val_loss: 0.6525 - val_acc: 0.6979\n"
     ]
    },
    {
     "data": {
      "text/plain": [
       "<keras.callbacks.History at 0x1b3e9e0aca0>"
      ]
     },
     "execution_count": 176,
     "metadata": {},
     "output_type": "execute_result"
    }
   ],
   "source": [
    "model5 = Sequential()\n",
    "model5.add(Dense(128,activation='relu', kernel_regularizer='l2'))\n",
    "model5.add(Dense(64,activation='sigmoid'))\n",
    "model5.add(Dense(1,activation='sigmoid', kernel_regularizer='l2'))\n",
    "model5.compile(optimizer='adam',metrics='acc',loss='binary_crossentropy')\n",
    "model5.fit(x_train, y_train, epochs=20, validation_data=(x_test,y_test), callbacks=[callbacks])"
   ]
  },
  {
   "cell_type": "code",
   "execution_count": 177,
   "id": "5cf373e7",
   "metadata": {},
   "outputs": [
    {
     "name": "stdout",
     "output_type": "stream",
     "text": [
      "18/18 [==============================] - 0s 2ms/step - loss: 0.6241 - acc: 0.7170\n"
     ]
    },
    {
     "data": {
      "text/plain": [
       "0.7170138955116272"
      ]
     },
     "execution_count": 177,
     "metadata": {},
     "output_type": "execute_result"
    }
   ],
   "source": [
    "acc5 = model5.evaluate(x_train,y_train)[1]\n",
    "acc5"
   ]
  },
  {
   "cell_type": "code",
   "execution_count": 182,
   "id": "e51e850c",
   "metadata": {},
   "outputs": [],
   "source": [
    "dict1 = {'Model':['model1',\"model2\",'model3','model4','model5'],\n",
    "         'Accuracy':[acc,acc2,acc3,acc4,acc5]\n",
    "        }\n",
    "data = pd.DataFrame(dict1)"
   ]
  },
  {
   "cell_type": "code",
   "execution_count": 183,
   "id": "fbc1915a",
   "metadata": {},
   "outputs": [
    {
     "data": {
      "text/html": [
       "<div>\n",
       "<style scoped>\n",
       "    .dataframe tbody tr th:only-of-type {\n",
       "        vertical-align: middle;\n",
       "    }\n",
       "\n",
       "    .dataframe tbody tr th {\n",
       "        vertical-align: top;\n",
       "    }\n",
       "\n",
       "    .dataframe thead th {\n",
       "        text-align: right;\n",
       "    }\n",
       "</style>\n",
       "<table border=\"1\" class=\"dataframe\">\n",
       "  <thead>\n",
       "    <tr style=\"text-align: right;\">\n",
       "      <th></th>\n",
       "      <th>Model</th>\n",
       "      <th>Accuracy</th>\n",
       "    </tr>\n",
       "  </thead>\n",
       "  <tbody>\n",
       "    <tr>\n",
       "      <th>0</th>\n",
       "      <td>model1</td>\n",
       "      <td>0.677083</td>\n",
       "    </tr>\n",
       "    <tr>\n",
       "      <th>1</th>\n",
       "      <td>model2</td>\n",
       "      <td>0.654514</td>\n",
       "    </tr>\n",
       "    <tr>\n",
       "      <th>2</th>\n",
       "      <td>model3</td>\n",
       "      <td>0.668403</td>\n",
       "    </tr>\n",
       "    <tr>\n",
       "      <th>3</th>\n",
       "      <td>model4</td>\n",
       "      <td>0.697917</td>\n",
       "    </tr>\n",
       "    <tr>\n",
       "      <th>4</th>\n",
       "      <td>model5</td>\n",
       "      <td>0.717014</td>\n",
       "    </tr>\n",
       "  </tbody>\n",
       "</table>\n",
       "</div>"
      ],
      "text/plain": [
       "    Model  Accuracy\n",
       "0  model1  0.677083\n",
       "1  model2  0.654514\n",
       "2  model3  0.668403\n",
       "3  model4  0.697917\n",
       "4  model5  0.717014"
      ]
     },
     "execution_count": 183,
     "metadata": {},
     "output_type": "execute_result"
    }
   ],
   "source": [
    "data.head()"
   ]
  },
  {
   "cell_type": "markdown",
   "id": "06e91f9d",
   "metadata": {},
   "source": [
    "## Week 4 - Linear Regression using PyTorch"
   ]
  },
  {
   "cell_type": "code",
   "execution_count": 230,
   "id": "331d4b14",
   "metadata": {},
   "outputs": [],
   "source": [
    "import torch\n",
    "import torch.nn as nn\n",
    "import torch.optim as optim"
   ]
  },
  {
   "cell_type": "code",
   "execution_count": 231,
   "id": "e2703872",
   "metadata": {},
   "outputs": [],
   "source": [
    "np.random.seed(0)\n",
    "x = np.random.rand(100,1)\n",
    "y = x*2 + 0.1*np.random.rand(100, 1) + 1"
   ]
  },
  {
   "cell_type": "code",
   "execution_count": 232,
   "id": "02ce5fe6",
   "metadata": {},
   "outputs": [],
   "source": [
    "x_tensor = torch.tensor(x,dtype=torch.float32)\n",
    "y_tensor = torch.tensor(y,dtype=torch.float32)"
   ]
  },
  {
   "cell_type": "code",
   "execution_count": 233,
   "id": "075b598a",
   "metadata": {},
   "outputs": [],
   "source": [
    "class linear_reg(nn.Module):\n",
    "    def __init__(self):\n",
    "        super(linear_reg,self).__init__()\n",
    "        self.linear=nn.Linear(1,1)\n",
    "    def forward(self,x):\n",
    "            return self.linear(x)"
   ]
  },
  {
   "cell_type": "code",
   "execution_count": 234,
   "id": "02659236",
   "metadata": {},
   "outputs": [],
   "source": [
    "model = linear_reg()"
   ]
  },
  {
   "cell_type": "code",
   "execution_count": 238,
   "id": "c1abce8e",
   "metadata": {},
   "outputs": [
    {
     "name": "stdout",
     "output_type": "stream",
     "text": [
      "Epoch [100/1000], Loss: 0.1510\n",
      "Epoch [200/1000], Loss: 0.0891\n",
      "Epoch [300/1000], Loss: 0.0681\n",
      "Epoch [400/1000], Loss: 0.0522\n",
      "Epoch [500/1000], Loss: 0.0401\n",
      "Epoch [600/1000], Loss: 0.0309\n",
      "Epoch [700/1000], Loss: 0.0238\n",
      "Epoch [800/1000], Loss: 0.0184\n",
      "Epoch [900/1000], Loss: 0.0142\n",
      "Epoch [1000/1000], Loss: 0.0111\n"
     ]
    }
   ],
   "source": [
    "optimizer = optim.SGD(model.parameters(), lr=0.01)\n",
    "epoch = 1000\n",
    "for i in range(epoch):\n",
    "    output = model(x_tensor)\n",
    "    loss = nn.MSELoss()(output,y_tensor)\n",
    "    \n",
    "    optimizer.zero_grad()\n",
    "    loss.backward()\n",
    "    optimizer.step()\n",
    "    if (i + 1) % 100 == 0:\n",
    "        print(f'Epoch [{i + 1}/{epoch}], Loss: {loss.item():.4f}')"
   ]
  },
  {
   "cell_type": "code",
   "execution_count": 239,
   "id": "acf0f33a",
   "metadata": {},
   "outputs": [],
   "source": [
    "pred = model(x_tensor).detach().numpy()"
   ]
  },
  {
   "cell_type": "code",
   "execution_count": 240,
   "id": "ab01e4d0",
   "metadata": {},
   "outputs": [
    {
     "data": {
      "image/png": "[encoded data removed]",
      "text/plain": [
       "<Figure size 432x288 with 1 Axes>"
      ]
     },
     "metadata": {
      "needs_background": "light"
     },
     "output_type": "display_data"
    }
   ],
   "source": [
    "plt.scatter(x, y, label='Original data')\n",
    "plt.plot(x, pred, label='Fitted line', color='r')\n",
    "plt.legend()\n",
    "plt.show()"
   ]
  },
  {
   "cell_type": "markdown",
   "id": "2b1cefad",
   "metadata": {},
   "source": [
    "### Week 5 - CNN "
   ]
  },
  {
   "cell_type": "code",
   "execution_count": 293,
   "id": "9ca0634f",
   "metadata": {},
   "outputs": [],
   "source": [
    "from tensorflow.keras.datasets import cifar10\n",
    "(x_train, y_train),(x_test,y_test) = cifar10.load_data()"
   ]
  },
  {
   "cell_type": "code",
   "execution_count": 294,
   "id": "ab8c488d",
   "metadata": {},
   "outputs": [
    {
     "data": {
      "text/plain": [
       "((50000, 32, 32, 3), (50000, 1))"
      ]
     },
     "execution_count": 294,
     "metadata": {},
     "output_type": "execute_result"
    }
   ],
   "source": [
    "x_train.shape, y_train.shape"
   ]
  },
  {
   "cell_type": "code",
   "execution_count": 295,
   "id": "fdce70fa",
   "metadata": {},
   "outputs": [],
   "source": [
    "x_train = x_train.astype('float32')/255\n",
    "x_test = x_test.astype('float32')/255"
   ]
  },
  {
   "cell_type": "code",
   "execution_count": 296,
   "id": "20ddf73b",
   "metadata": {},
   "outputs": [],
   "source": [
    "from keras.utils import to_categorical\n",
    "y_train = to_categorical(y_train,num_classes=10)\n",
    "y_test = to_categorical(y_test,num_classes=10)"
   ]
  },
  {
   "cell_type": "code",
   "execution_count": 297,
   "id": "bce72b2a",
   "metadata": {},
   "outputs": [],
   "source": [
    "model = Sequential()\n",
    "\n",
    "model.add(Conv2D(32,(3,3),activation='relu'))\n",
    "model.add(BatchNormalization())\n",
    "model.add(MaxPool2D((2,2)))\n",
    "\n",
    "model.add(Conv2D(32,(3,3),activation='relu'))\n",
    "model.add(MaxPool2D((2,2)))\n",
    "model.add(Dropout(0.2))\n",
    "\n",
    "model.add(Flatten())\n",
    "model.add(Dense(512,activation='relu'))\n",
    "model.add(Dropout(0.1))\n",
    "model.add(BatchNormalization())\n",
    "\n",
    "model.add(Dense(10,activation='softmax'))"
   ]
  },
  {
   "cell_type": "code",
   "execution_count": 298,
   "id": "eca84228",
   "metadata": {},
   "outputs": [],
   "source": [
    "model.compile(optimizer='adam',loss='categorical_crossentropy',metrics='acc')"
   ]
  },
  {
   "cell_type": "code",
   "execution_count": 299,
   "id": "82478a58",
   "metadata": {},
   "outputs": [
    {
     "name": "stdout",
     "output_type": "stream",
     "text": [
      "Epoch 1/5\n",
      "1563/1563 [==============================] - 77s 48ms/step - loss: 1.4269 - acc: 0.5002 - val_loss: 1.7387 - val_acc: 0.4376\n",
      "Epoch 2/5\n",
      "1563/1563 [==============================] - 86s 55ms/step - loss: 1.1145 - acc: 0.6087 - val_loss: 1.0549 - val_acc: 0.6264\n",
      "Epoch 3/5\n",
      "1563/1563 [==============================] - 87s 56ms/step - loss: 0.9952 - acc: 0.6475 - val_loss: 0.9401 - val_acc: 0.6691\n",
      "Epoch 4/5\n",
      "1563/1563 [==============================] - 86s 55ms/step - loss: 0.9216 - acc: 0.6785 - val_loss: 1.1885 - val_acc: 0.5825\n",
      "Epoch 5/5\n",
      "1563/1563 [==============================] - 86s 55ms/step - loss: 0.8592 - acc: 0.6994 - val_loss: 0.9512 - val_acc: 0.6729\n"
     ]
    }
   ],
   "source": [
    "history = model.fit(x_train,y_train,epochs=5,validation_data=(x_test,y_test))"
   ]
  },
  {
   "cell_type": "code",
   "execution_count": 305,
   "id": "a07e3c67",
   "metadata": {},
   "outputs": [
    {
     "name": "stdout",
     "output_type": "stream",
     "text": [
      "313/313 [==============================] - 3s 10ms/step\n"
     ]
    }
   ],
   "source": [
    "pred = model.predict(x_test)\n",
    "y_pred = np.argmax(pred,axis=1)\n",
    "y_test = np.argmax(y_test,axis=1)"
   ]
  },
  {
   "cell_type": "code",
   "execution_count": 306,
   "id": "3c00c955",
   "metadata": {},
   "outputs": [
    {
     "data": {
      "text/plain": [
       "<matplotlib.image.AxesImage at 0x1b3f4ad2730>"
      ]
     },
     "execution_count": 306,
     "metadata": {},
     "output_type": "execute_result"
    },
    {
     "data": {
      "image/png": "[encoded data removed]",
      "text/plain": [
       "<Figure size 432x288 with 1 Axes>"
      ]
     },
     "metadata": {
      "needs_background": "light"
     },
     "output_type": "display_data"
    }
   ],
   "source": [
    "plt.imshow(x_test[0])"
   ]
  },
  {
   "cell_type": "code",
   "execution_count": 308,
   "id": "36a63d1f",
   "metadata": {},
   "outputs": [
    {
     "data": {
      "text/plain": [
       "3"
      ]
     },
     "execution_count": 308,
     "metadata": {},
     "output_type": "execute_result"
    }
   ],
   "source": [
    "y_pred[0]"
   ]
  },
  {
   "cell_type": "code",
   "execution_count": 309,
   "id": "224f68c8",
   "metadata": {},
   "outputs": [],
   "source": [
    "from sklearn.metrics import confusion_matrix\n",
    "cm = confusion_matrix(y_test,y_pred)"
   ]
  },
  {
   "cell_type": "code",
   "execution_count": 310,
   "id": "ca5cef55",
   "metadata": {},
   "outputs": [
    {
     "data": {
      "text/plain": [
       "<AxesSubplot:>"
      ]
     },
     "execution_count": 310,
     "metadata": {},
     "output_type": "execute_result"
    },
    {
     "data": {
      "image/png": "[encoded data removed]",
      "text/plain": [
       "<Figure size 1440x720 with 2 Axes>"
      ]
     },
     "metadata": {
      "needs_background": "light"
     },
     "output_type": "display_data"
    }
   ],
   "source": [
    "import seaborn as sns\n",
    "plt.figure(figsize=(20,10))\n",
    "sns.heatmap(cm,annot=True)"
   ]
  },
  {
   "cell_type": "code",
   "execution_count": 313,
   "id": "a7ff35af",
   "metadata": {},
   "outputs": [],
   "source": [
    "classes = { 0: \"airplane\", 1: \"automobile\", 2: \"bird\", 3: \"cat\", 4: \"deer\", 5: \"dog\",\n",
    "           6: \"frog\", 7: \"horse\", 8: \"ship\", 9: \"truck\"}\n",
    "pred = [classes[i] for i in y_pred]"
   ]
  },
  {
   "cell_type": "code",
   "execution_count": 314,
   "id": "57c95c58",
   "metadata": {},
   "outputs": [
    {
     "data": {
      "text/plain": [
       "<matplotlib.image.AxesImage at 0x1b402170fd0>"
      ]
     },
     "execution_count": 314,
     "metadata": {},
     "output_type": "execute_result"
    },
    {
     "data": {
      "image/png": "[encoded data removed]",
      "text/plain": [
       "<Figure size 432x288 with 1 Axes>"
      ]
     },
     "metadata": {
      "needs_background": "light"
     },
     "output_type": "display_data"
    }
   ],
   "source": [
    "plt.imshow(x_test[1])"
   ]
  },
  {
   "cell_type": "code",
   "execution_count": 315,
   "id": "8db47a32",
   "metadata": {},
   "outputs": [
    {
     "data": {
      "text/plain": [
       "'ship'"
      ]
     },
     "execution_count": 315,
     "metadata": {},
     "output_type": "execute_result"
    }
   ],
   "source": [
    "pred[1]"
   ]
  },
  {
   "cell_type": "markdown",
   "id": "0140ade7",
   "metadata": {},
   "source": [
    "## Week 6 - ANN and CNN on MNIST"
   ]
  },
  {
   "cell_type": "code",
   "execution_count": 2,
   "id": "4f96e1e9",
   "metadata": {},
   "outputs": [],
   "source": [
    "(x_train, y_train), (x_test, y_test) = mnist.load_data()"
   ]
  },
  {
   "cell_type": "code",
   "execution_count": 3,
   "id": "c0e7c9ae",
   "metadata": {},
   "outputs": [],
   "source": [
    "x_train = x_train.astype('float32')/255\n",
    "x_test = x_test.astype('float32')/255"
   ]
  },
  {
   "cell_type": "code",
   "execution_count": 4,
   "id": "bcd66b62",
   "metadata": {},
   "outputs": [],
   "source": [
    "x_train_ann = x_train.reshape(x_train.shape[0],784) \n",
    "x_test_ann = x_test.reshape(x_test.shape[0],784)\n",
    "\n",
    "x_train_cnn = x_train.reshape(x_train.shape[0],28,28,1)\n",
    "x_test_cnn = x_test.reshape(x_test.shape[0],28,28,1)"
   ]
  },
  {
   "cell_type": "code",
   "execution_count": 5,
   "id": "22b1c00a",
   "metadata": {},
   "outputs": [
    {
     "name": "stdout",
     "output_type": "stream",
     "text": [
      "Epoch 1/10\n",
      "1875/1875 [==============================] - 6s 3ms/step - loss: 0.3671 - acc: 0.9065\n",
      "Epoch 2/10\n",
      "1875/1875 [==============================] - 5s 3ms/step - loss: 0.1234 - acc: 0.9634\n",
      "Epoch 3/10\n",
      "1875/1875 [==============================] - 6s 3ms/step - loss: 0.0812 - acc: 0.9763\n",
      "Epoch 4/10\n",
      "1875/1875 [==============================] - 6s 3ms/step - loss: 0.0593 - acc: 0.9827\n",
      "Epoch 5/10\n",
      "1875/1875 [==============================] - 5s 3ms/step - loss: 0.0452 - acc: 0.9865\n",
      "Epoch 6/10\n",
      "1875/1875 [==============================] - 7s 4ms/step - loss: 0.0358 - acc: 0.9894\n",
      "Epoch 7/10\n",
      "1875/1875 [==============================] - 7s 4ms/step - loss: 0.0279 - acc: 0.9919\n",
      "Epoch 8/10\n",
      "1875/1875 [==============================] - 9s 5ms/step - loss: 0.0229 - acc: 0.9935\n",
      "Epoch 9/10\n",
      "1875/1875 [==============================] - 6s 3ms/step - loss: 0.0191 - acc: 0.9944\n",
      "Epoch 10/10\n",
      "1875/1875 [==============================] - 4s 2ms/step - loss: 0.0159 - acc: 0.9953\n"
     ]
    },
    {
     "data": {
      "text/plain": [
       "<keras.callbacks.History at 0x26ec36788b0>"
      ]
     },
     "execution_count": 5,
     "metadata": {},
     "output_type": "execute_result"
    }
   ],
   "source": [
    "model_ann = Sequential()\n",
    "model_ann.add(Dense(128,activation='relu'))\n",
    "model_ann.add(Dense(64,activation='sigmoid'))\n",
    "model_ann.add(Dense(32,activation='softmax'))\n",
    "model_ann.compile(optimizer='adam',loss='sparse_categorical_crossentropy',metrics='acc')\n",
    "model_ann.fit(x_train_ann,y_train,epochs=10)"
   ]
  },
  {
   "cell_type": "code",
   "execution_count": 6,
   "id": "c9faa8ce",
   "metadata": {},
   "outputs": [
    {
     "name": "stdout",
     "output_type": "stream",
     "text": [
      "1875/1875 [==============================] - 3s 1ms/step - loss: 0.0118 - acc: 0.9967\n"
     ]
    },
    {
     "data": {
      "text/plain": [
       "0.996749997138977"
      ]
     },
     "execution_count": 6,
     "metadata": {},
     "output_type": "execute_result"
    }
   ],
   "source": [
    "acc_ann = model_ann.evaluate(x_train_ann,y_train)[1]\n",
    "acc_ann"
   ]
  },
  {
   "cell_type": "code",
   "execution_count": 8,
   "id": "87ef6f13",
   "metadata": {},
   "outputs": [
    {
     "name": "stdout",
     "output_type": "stream",
     "text": [
      "Epoch 1/10\n",
      "1875/1875 [==============================] - 46s 24ms/step - loss: 0.3069 - acc: 0.9303\n",
      "Epoch 2/10\n",
      "1875/1875 [==============================] - 51s 27ms/step - loss: 0.1058 - acc: 0.9687\n",
      "Epoch 3/10\n",
      "1875/1875 [==============================] - 42s 22ms/step - loss: 0.0838 - acc: 0.9752\n",
      "Epoch 4/10\n",
      "1875/1875 [==============================] - 43s 23ms/step - loss: 0.0749 - acc: 0.9777\n",
      "Epoch 5/10\n",
      "1875/1875 [==============================] - 48s 26ms/step - loss: 0.0656 - acc: 0.9805\n",
      "Epoch 6/10\n",
      "1875/1875 [==============================] - 44s 23ms/step - loss: 0.0632 - acc: 0.9804\n",
      "Epoch 7/10\n",
      "1875/1875 [==============================] - 45s 24ms/step - loss: 0.0586 - acc: 0.9813\n",
      "Epoch 8/10\n",
      "1875/1875 [==============================] - 43s 23ms/step - loss: 0.0563 - acc: 0.9825\n",
      "Epoch 9/10\n",
      "1875/1875 [==============================] - 44s 24ms/step - loss: 0.0544 - acc: 0.9832\n",
      "Epoch 10/10\n",
      "1875/1875 [==============================] - 46s 24ms/step - loss: 0.0502 - acc: 0.9840\n"
     ]
    },
    {
     "data": {
      "text/plain": [
       "<keras.callbacks.History at 0x26ece35ef70>"
      ]
     },
     "execution_count": 8,
     "metadata": {},
     "output_type": "execute_result"
    }
   ],
   "source": [
    "model_cnn = Sequential()\n",
    "model_cnn.add(Conv2D(32,(3,3),activation='relu'))\n",
    "model_cnn.add(MaxPooling2D(2,2))\n",
    "model_cnn.add(BatchNormalization())\n",
    "model_cnn.add(Dropout(0.2))\n",
    "\n",
    "model_cnn.add(Conv2D(2,(3,3),activation='relu'))\n",
    "model_cnn.add(BatchNormalization())\n",
    "model_cnn.add(Dropout(0.1))\n",
    "\n",
    "model_cnn.add(Flatten())\n",
    "model_cnn.add(Dense(128,activation='relu'))\n",
    "model_cnn.add(Dropout(0.1))\n",
    "model_cnn.add(BatchNormalization())\n",
    "model_cnn.add(Dense(32,activation='sigmoid'))\n",
    "model_cnn.add(Dense(10,activation='softmax'))\n",
    "model_cnn.compile(optimizer='adam',loss='sparse_categorical_crossentropy',metrics='acc')\n",
    "model_cnn.fit(x_train_cnn,y_train,epochs=10)"
   ]
  },
  {
   "cell_type": "code",
   "execution_count": 9,
   "id": "89ca43de",
   "metadata": {},
   "outputs": [
    {
     "name": "stdout",
     "output_type": "stream",
     "text": [
      "1875/1875 [==============================] - 12s 6ms/step - loss: 0.0236 - acc: 0.9930\n"
     ]
    },
    {
     "data": {
      "text/plain": [
       "0.9930333495140076"
      ]
     },
     "execution_count": 9,
     "metadata": {},
     "output_type": "execute_result"
    }
   ],
   "source": [
    "acc_cnn = model_cnn.evaluate(x_train_cnn,y_train)[1]\n",
    "acc_cnn"
   ]
  },
  {
   "cell_type": "markdown",
   "id": "2792aa36",
   "metadata": {},
   "source": [
    "## Week - 7 - Sentiment Analysis using Simple RNN"
   ]
  },
  {
   "cell_type": "code",
   "execution_count": 3,
   "id": "4769d0d8",
   "metadata": {},
   "outputs": [],
   "source": [
    "from keras.datasets import imdb"
   ]
  },
  {
   "cell_type": "code",
   "execution_count": 31,
   "id": "b1cd6d10",
   "metadata": {},
   "outputs": [],
   "source": [
    "vocab_size = 10000\n",
    "(x_train, y_train), (x_test, y_test) = imdb.load_data(num_words=vocab_size)"
   ]
  },
  {
   "cell_type": "code",
   "execution_count": 32,
   "id": "54042073",
   "metadata": {},
   "outputs": [],
   "source": [
    "from tensorflow.keras.preprocessing.sequence import pad_sequences\n",
    "x = 250\n",
    "x_train = pad_sequences(x_train,maxlen=x)\n",
    "x_test = pad_sequences(x_test,maxlen=x)"
   ]
  },
  {
   "cell_type": "code",
   "execution_count": 33,
   "id": "8d076897",
   "metadata": {},
   "outputs": [],
   "source": [
    "model = Sequential()\n",
    "model.add(Embedding(vocab_size,50,input_length=x))\n",
    "model.add(SimpleRNN(50))\n",
    "model.add(Dense(1,activation='sigmoid'))"
   ]
  },
  {
   "cell_type": "code",
   "execution_count": 34,
   "id": "95e036d0",
   "metadata": {},
   "outputs": [],
   "source": [
    "model.compile(optimizer='adam',metrics='acc',loss='binary_crossentropy')"
   ]
  },
  {
   "cell_type": "code",
   "execution_count": 35,
   "id": "4ca048c5",
   "metadata": {
    "scrolled": true
   },
   "outputs": [
    {
     "name": "stdout",
     "output_type": "stream",
     "text": [
      "Epoch 1/5\n",
      "782/782 [==============================] - 64s 80ms/step - loss: 0.5946 - acc: 0.6579 - val_loss: 0.5145 - val_acc: 0.7432\n",
      "Epoch 2/5\n",
      "782/782 [==============================] - 60s 77ms/step - loss: 0.4011 - acc: 0.8276 - val_loss: 0.4316 - val_acc: 0.8187\n",
      "Epoch 3/5\n",
      "782/782 [==============================] - 59s 75ms/step - loss: 0.3905 - acc: 0.8345 - val_loss: 0.5240 - val_acc: 0.7835\n",
      "Epoch 4/5\n",
      "782/782 [==============================] - 66s 84ms/step - loss: 0.3073 - acc: 0.8765 - val_loss: 0.4536 - val_acc: 0.8175\n",
      "Epoch 5/5\n",
      "782/782 [==============================] - 63s 80ms/step - loss: 0.2505 - acc: 0.9011 - val_loss: 0.4616 - val_acc: 0.8312\n"
     ]
    },
    {
     "data": {
      "text/plain": [
       "<keras.callbacks.History at 0x26eea1010a0>"
      ]
     },
     "execution_count": 35,
     "metadata": {},
     "output_type": "execute_result"
    }
   ],
   "source": [
    "model.fit(x_train,y_train,epochs=5,validation_data=(x_test,y_test))"
   ]
  },
  {
   "cell_type": "code",
   "execution_count": 38,
   "id": "92f045a7",
   "metadata": {},
   "outputs": [
    {
     "name": "stdout",
     "output_type": "stream",
     "text": [
      "782/782 [==============================] - 13s 17ms/step - loss: 0.1820 - acc: 0.9290\n"
     ]
    },
    {
     "data": {
      "text/plain": [
       "0.9289600253105164"
      ]
     },
     "execution_count": 38,
     "metadata": {},
     "output_type": "execute_result"
    }
   ],
   "source": [
    "model.evaluate(x_train,y_train)[1]"
   ]
  },
  {
   "cell_type": "markdown",
   "id": "d8dae019",
   "metadata": {},
   "source": [
    "## Week 8 - LSTM and GRU"
   ]
  },
  {
   "cell_type": "code",
   "execution_count": 4,
   "id": "6b13813f",
   "metadata": {},
   "outputs": [],
   "source": [
    "vocab_size = 10000\n",
    "(x_train, y_train), (x_test,y_test) = imdb.load_data(num_words=vocab_size)"
   ]
  },
  {
   "cell_type": "code",
   "execution_count": 6,
   "id": "c95496d0",
   "metadata": {},
   "outputs": [],
   "source": [
    "from tensorflow.keras.preprocessing.sequence import pad_sequences\n",
    "max_len = 250\n",
    "x_train = pad_sequences(x_train,maxlen=max_len)\n",
    "x_test = pad_sequences(x_test,maxlen=max_len)"
   ]
  },
  {
   "cell_type": "code",
   "execution_count": 7,
   "id": "c7f5c92e",
   "metadata": {},
   "outputs": [],
   "source": [
    "model_GRU = Sequential(\n",
    "    [Embedding(vocab_size,128),\n",
    "     GRU(128,dropout=0.2),\n",
    "     Dense(128,activation='relu'),\n",
    "     Dense(1,activation='sigmoid')\n",
    "    ]\n",
    ")"
   ]
  },
  {
   "cell_type": "code",
   "execution_count": 12,
   "id": "35305f78",
   "metadata": {},
   "outputs": [],
   "source": [
    "model_GRU.compile(optimizer='adam',metrics='acc',loss='binary_crossentropy')"
   ]
  },
  {
   "cell_type": "code",
   "execution_count": 13,
   "id": "6a2c69fd",
   "metadata": {},
   "outputs": [
    {
     "name": "stdout",
     "output_type": "stream",
     "text": [
      "Epoch 1/2\n",
      "782/782 [==============================] - 447s 561ms/step - loss: nan - acc: 0.5087 - val_loss: nan - val_acc: 0.5000\n",
      "Epoch 2/2\n",
      "782/782 [==============================] - 425s 544ms/step - loss: nan - acc: 0.5000 - val_loss: nan - val_acc: 0.5000\n"
     ]
    }
   ],
   "source": [
    "history = model_GRU.fit(x_train, y_train, epochs=2, validation_data=(x_test,y_test))"
   ]
  },
  {
   "cell_type": "code",
   "execution_count": 14,
   "id": "029b00ab",
   "metadata": {},
   "outputs": [
    {
     "name": "stdout",
     "output_type": "stream",
     "text": [
      "782/782 [==============================] - 93s 118ms/step - loss: nan - acc: 0.5000\n"
     ]
    },
    {
     "data": {
      "text/plain": [
       "0.5"
      ]
     },
     "execution_count": 14,
     "metadata": {},
     "output_type": "execute_result"
    }
   ],
   "source": [
    "model_GRU.evaluate(x_train,y_train)[1]"
   ]
  },
  {
   "cell_type": "code",
   "execution_count": null,
   "id": "5a606e58",
   "metadata": {},
   "outputs": [],
   "source": [
    "model_LSTM = Sequential(\n",
    "    [Embedding(vocab_size,128),\n",
    "     LSTM(128,dropout=0.2),\n",
    "     Dense(1,activation='sigmoid')\n",
    "    ]\n",
    ")\n",
    "model_LSTM.compile(optimizer='adam',metrics='acc',loss='binary_crossentropy')\n",
    "model_LSTM.fit(x_train, y_train, epochs=2, validation_data=(x_test,y_test))"
   ]
  },
  {
   "cell_type": "code",
   "execution_count": null,
   "id": "a051b008",
   "metadata": {},
   "outputs": [],
   "source": [
    "model_RNN = Sequential(\n",
    "    [Embedding(vocab_size,50),\n",
    "     SimpleRNN(50),\n",
    "     Dense(1,activation='sigmoid')\n",
    "    ]\n",
    ")\n",
    "model_RNN.compile(optimizer='adam',metrics='acc',loss='binary_crossentropy')\n",
    "model_RNN.fit(x_train, y_train, epochs=2, validation_data=(x_test,y_test))"
   ]
  },
  {
   "cell_type": "markdown",
   "id": "f58cba73",
   "metadata": {},
   "source": [
    "## Week 9 - Text Generation using GRU"
   ]
  },
  {
   "cell_type": "code",
   "execution_count": 19,
   "id": "1382ac93",
   "metadata": {},
   "outputs": [],
   "source": [
    "with open('poems.txt',\"r\") as file:\n",
    "    text = file.read()"
   ]
  },
  {
   "cell_type": "code",
   "execution_count": 3,
   "id": "46924780",
   "metadata": {},
   "outputs": [],
   "source": [
    "poem = \"\"\"\n",
    "Buffalo Bill’s\n",
    "defunct\n",
    "who used to\n",
    "ride a watersmooth-silver\n",
    "stallion\n",
    "and break one two three four five pigeons just like that\n",
    "Jesus\n",
    "\n",
    "he was a handsome man\n",
    "and what i want to know is\n",
    "how do you like your blueeyed boy\n",
    "Mister Death\n",
    "\n",
    "Had I the heaven’s embroidered cloths,\n",
    "Enwrought with golden and silver light,\n",
    "The blue and the dim and the dark cloths\n",
    "Of night and light and the half-light,\n",
    "I would spread the cloths under your feet:\n",
    "But I, being poor, have only my dreams;\n",
    "I have spread my dreams under your feet;\n",
    "Tread softly because you tread on my dreams.\n",
    "\n",
    "He clasps the crag with crooked hands;\n",
    "Close to the sun in lonely lands,\n",
    "Ring’d with the azure world, he stands.\n",
    "\n",
    "The wrinkled sea beneath him crawls;\n",
    "He watches from his mountain walls,\n",
    "And like a thunderbolt he falls.\n",
    "\n",
    "Some say the world will end in fire,\n",
    "Some say in ice.\n",
    "From what I’ve tasted of desire\n",
    "I hold with those who favor fire.\n",
    "But if it had to perish twice,\n",
    "I think I know enough of hate\n",
    "To say that for destruction ice\n",
    "Is also great\n",
    "And would suffice.\n",
    "\n",
    "Two roads diverged in a yellow wood,\n",
    "And sorry I could not travel both\n",
    "And be one traveler, long I stood\n",
    "And looked down one as far as I could\n",
    "To where it bent in the undergrowth;\n",
    "\n",
    "Then took the other, as just as fair,\n",
    "And having perhaps the better claim,\n",
    "Because it was grassy and wanted wear;\n",
    "Though as for that the passing there\n",
    "Had worn them really about the same,\n",
    "\n",
    "And both that morning equally lay\n",
    "In leaves no step had trodden black.\n",
    "Oh, I kept the first for another day!\n",
    "Yet knowing how way leads on to way,\n",
    "I doubted if I should ever come back.\n",
    "\n",
    "I shall be telling this with a sigh\n",
    "Somewhere ages and ages hence:\n",
    "Two roads diverged in a wood, and I—\n",
    "I took the one less traveled by,\n",
    "And that has made all the difference.\n",
    "\"\"\""
   ]
  },
  {
   "cell_type": "code",
   "execution_count": 121,
   "id": "c17c0505",
   "metadata": {},
   "outputs": [],
   "source": [
    "text = poem"
   ]
  },
  {
   "cell_type": "code",
   "execution_count": 122,
   "id": "788adb1c",
   "metadata": {},
   "outputs": [],
   "source": [
    "from keras.preprocessing.text import Tokenizer\n",
    "tokenizer = Tokenizer(char_level=True)\n",
    "tokenizer.fit_on_texts(text)"
   ]
  },
  {
   "cell_type": "code",
   "execution_count": 123,
   "id": "b741ebc3",
   "metadata": {},
   "outputs": [
    {
     "data": {
      "text/plain": [
       "array([12, 18, 14, ...,  1, 25, 12])"
      ]
     },
     "execution_count": 123,
     "metadata": {},
     "output_type": "execute_result"
    }
   ],
   "source": [
    "[encoded] = np.array(tokenizer.texts_to_sequences([text])) - 1\n",
    "encoded"
   ]
  },
  {
   "cell_type": "code",
   "execution_count": 124,
   "id": "e0d4f6e0",
   "metadata": {},
   "outputs": [
    {
     "name": "stdout",
     "output_type": "stream",
     "text": [
      "WARNING:tensorflow:From C:\\Users\\Admin\\anaconda3\\lib\\site-packages\\tensorflow\\python\\autograph\\pyct\\static_analysis\\liveness.py:83: Analyzer.lamba_check (from tensorflow.python.autograph.pyct.static_analysis.liveness) is deprecated and will be removed after 2023-09-23.\n",
      "Instructions for updating:\n",
      "Lambda fuctions will be no more assumed to be used in the statement where they are used, or at least in the same block. https://github.com/tensorflow/tensorflow/issues/56089\n"
     ]
    }
   ],
   "source": [
    "voc_len = len(tokenizer.word_index)\n",
    "seq_len = 100\n",
    "dataset = tf.data.Dataset.from_tensor_slices(encoded)\n",
    "dataset = dataset.batch(seq_len+1, drop_remainder=True)\n",
    "dataset = dataset.map(lambda x : (x[:-1], x[1:]))\n",
    "BATCH_SIZE = 32\n",
    "dataset = dataset.shuffle(1000).batch(BATCH_SIZE)"
   ]
  },
  {
   "cell_type": "code",
   "execution_count": 125,
   "id": "fdb58581",
   "metadata": {},
   "outputs": [],
   "source": [
    "model = tf.keras.models.Sequential([\n",
    "    tf.keras.layers.Embedding(voc_len, 64),\n",
    "    tf.keras.layers.GRU(1024, return_sequences=True, dropout=0.2),\n",
    "    tf.keras.layers.Dense(voc_len, activation='relu')\n",
    "])\n",
    "model.compile(\n",
    "    loss=\"sparse_categorical_crossentropy\",\n",
    "    optimizer='adam'\n",
    ")"
   ]
  },
  {
   "cell_type": "code",
   "execution_count": 127,
   "id": "03b9882a",
   "metadata": {},
   "outputs": [
    {
     "name": "stdout",
     "output_type": "stream",
     "text": [
      "Epoch 1/10\n",
      "1/1 [==============================] - 2s 2s/step - loss: 5.0216\n",
      "Epoch 2/10\n",
      "1/1 [==============================] - 3s 3s/step - loss: 4.1541\n",
      "Epoch 3/10\n",
      "1/1 [==============================] - 3s 3s/step - loss: 3.9844\n",
      "Epoch 4/10\n",
      "1/1 [==============================] - 3s 3s/step - loss: 3.8922\n",
      "Epoch 5/10\n",
      "1/1 [==============================] - 2s 2s/step - loss: 3.8207\n",
      "Epoch 6/10\n",
      "1/1 [==============================] - 2s 2s/step - loss: 3.7542\n",
      "Epoch 7/10\n",
      "1/1 [==============================] - 3s 3s/step - loss: 3.5609\n",
      "Epoch 8/10\n",
      "1/1 [==============================] - 3s 3s/step - loss: 3.5170\n",
      "Epoch 9/10\n",
      "1/1 [==============================] - 3s 3s/step - loss: 3.5513\n",
      "Epoch 10/10\n",
      "1/1 [==============================] - 3s 3s/step - loss: 3.5515\n"
     ]
    },
    {
     "data": {
      "text/plain": [
       "<keras.callbacks.History at 0x168cc851640>"
      ]
     },
     "execution_count": 127,
     "metadata": {},
     "output_type": "execute_result"
    }
   ],
   "source": [
    "model.fit(dataset, epochs=10)"
   ]
  },
  {
   "cell_type": "code",
   "execution_count": 128,
   "id": "1f275ed7",
   "metadata": {},
   "outputs": [
    {
     "name": "stdout",
     "output_type": "stream",
     "text": [
      "1/1 [==============================] - 2s 2s/step - loss: 3.5401\n"
     ]
    },
    {
     "data": {
      "text/plain": [
       "3.540050506591797"
      ]
     },
     "execution_count": 128,
     "metadata": {},
     "output_type": "execute_result"
    }
   ],
   "source": [
    "model.evaluate(dataset)"
   ]
  },
  {
   "cell_type": "code",
   "execution_count": 129,
   "id": "b0ee1579",
   "metadata": {},
   "outputs": [],
   "source": [
    "def next_char(s):\n",
    "    input_seq = np.array(tokenizer.texts_to_sequences([s])) - 1\n",
    "    model_out = model(input_seq)\n",
    "    output_seq = np.argmax(model_out, axis=-1) + 1\n",
    "    last_letter = tokenizer.sequences_to_texts(output_seq)[0][-1]\n",
    "    return last_letter\n",
    "def generate(s, count=10):\n",
    "    for _ in range(count):\n",
    "        s += next_char(s)\n",
    "    return s"
   ]
  },
  {
   "cell_type": "code",
   "execution_count": 132,
   "id": "66222679",
   "metadata": {},
   "outputs": [
    {
     "data": {
      "text/plain": [
       "'I doubted if f'"
      ]
     },
     "execution_count": 132,
     "metadata": {},
     "output_type": "execute_result"
    }
   ],
   "source": [
    "generate(\"I doubted if \",1)"
   ]
  },
  {
   "cell_type": "code",
   "execution_count": null,
   "id": "1a48840a",
   "metadata": {},
   "outputs": [],
   "source": []
  },
  {
   "cell_type": "code",
   "execution_count": 2,
   "id": "acc67568",
   "metadata": {},
   "outputs": [],
   "source": [
    "text = poem"
   ]
  },
  {
   "cell_type": "code",
   "execution_count": 3,
   "id": "f87051b9",
   "metadata": {},
   "outputs": [],
   "source": [
    "vocabulary = sorted(list(set(text)))\n",
    "char_to_indices = dict((c,i) for i,c in enumerate(vocabulary))\n",
    "indices_to_char = dict((i,c) for i,c in enumerate(vocabulary))"
   ]
  },
  {
   "cell_type": "code",
   "execution_count": 4,
   "id": "15c7a440",
   "metadata": {},
   "outputs": [],
   "source": [
    "max_length=100\n",
    "steps=5\n",
    "sentences=[]\n",
    "next_chars=[]\n",
    "for i in range(0,len(text)-max_length,steps):\n",
    "    sentences.append(text[i:i+max_length])\n",
    "    next_chars.append(text[i+max_length])"
   ]
  },
  {
   "cell_type": "code",
   "execution_count": 7,
   "id": "b701a4d8",
   "metadata": {},
   "outputs": [],
   "source": [
    "X = np.zeros((len(sentences),max_length,len(vocabulary)),dtype=bool)\n",
    "y = np.zeros((len(sentences),len(vocabulary)),dtype=bool)"
   ]
  },
  {
   "cell_type": "code",
   "execution_count": 8,
   "id": "ec1f00d4",
   "metadata": {},
   "outputs": [],
   "source": [
    "for i,sentence in enumerate(sentences):\n",
    "    for t,char in enumerate(sentence):\n",
    "        X[i,t,char_to_indices[char]]=1\n",
    "    y[i,char_to_indices[next_chars[i]]]=1"
   ]
  },
  {
   "cell_type": "code",
   "execution_count": 10,
   "id": "c744fdd1",
   "metadata": {},
   "outputs": [],
   "source": [
    "model = Sequential([\n",
    "    GRU(128,input_shape=(max_length,len(vocabulary))),\n",
    "    Dense(len(vocabulary)),\n",
    "    Activation('softmax')\n",
    "])\n",
    "optimizer = keras.optimizers.RMSprop(learning_rate=0.01)\n",
    "model.compile(loss='categorical_crossentropy',optimizer=optimizer)"
   ]
  },
  {
   "cell_type": "code",
   "execution_count": 11,
   "id": "60935720",
   "metadata": {},
   "outputs": [],
   "source": [
    "# helper function to sample the next char\n",
    "def sample_index(preds,temperature=1.0):\n",
    "    preds=np.asarray(preds).astype('float64')\n",
    "    preds=np.log(preds)/temperature\n",
    "    exp_preds=np.exp(preds)\n",
    "    preds=exp_preds/np.sum(exp_preds)\n",
    "    probas=np.random.multinomial(1,preds,1)\n",
    "    return np.argmax(probas)"
   ]
  },
  {
   "cell_type": "code",
   "execution_count": 13,
   "id": "add3f35c",
   "metadata": {},
   "outputs": [],
   "source": [
    "from keras.callbacks import *\n",
    "# Helper function to generate text after the end of each epoch \n",
    "def on_epoch_end(epoch, logs): \n",
    "    print() \n",
    "    print('----- Generating text after Epoch: % d' % epoch) \n",
    "    start_index = random.randint(0, len(text) - max_length - 1) \n",
    "    for diversity in [0.2, 0.5, 1.0, 1.2]: \n",
    "        print('----- diversity:', diversity) \n",
    "        generated = '' \n",
    "        sentence = text[start_index: start_index + max_length] \n",
    "        generated += sentence \n",
    "        print('----- Generating with seed: \"' + sentence + '\"') \n",
    "        sys.stdout.write(generated) \n",
    "        for i in range(400): \n",
    "            x_pred = np.zeros((1, max_length, len(vocabulary))) \n",
    "            for t, char in enumerate(sentence): \n",
    "                x_pred[0, t, char_to_indices[char]] = 1.\n",
    "            preds = model.predict(x_pred, verbose = 0)[0] \n",
    "            next_index = sample_index(preds, diversity) \n",
    "            next_char = indices_to_char[next_index] \n",
    "            generated += next_char \n",
    "            sentence = sentence[1:] + next_char \n",
    "            sys.stdout.write(next_char) \n",
    "            sys.stdout.flush() \n",
    "        print() \n",
    "print_callback = LambdaCallback(on_epoch_end = on_epoch_end) "
   ]
  },
  {
   "cell_type": "code",
   "execution_count": 14,
   "id": "73b3d3e4",
   "metadata": {},
   "outputs": [],
   "source": [
    "filepath = \"weights.hdf5\"\n",
    "checkpoint = ModelCheckpoint(filepath, monitor ='loss', verbose = 1, save_best_only = True, mode ='min') "
   ]
  },
  {
   "cell_type": "code",
   "execution_count": 15,
   "id": "c9897476",
   "metadata": {},
   "outputs": [],
   "source": [
    "reduce_alpha = ReduceLROnPlateau(monitor ='loss', factor = 0.2, patience = 1, min_lr = 0.001) \n",
    "callbacks = [print_callback, checkpoint, reduce_alpha] "
   ]
  },
  {
   "cell_type": "code",
   "execution_count": 16,
   "id": "2db10766",
   "metadata": {
    "scrolled": true
   },
   "outputs": [
    {
     "name": "stdout",
     "output_type": "stream",
     "text": [
      "Epoch 1/30\n",
      "11/11 [==============================] - 8s 121ms/step - loss: 3.5349\n",
      "Epoch 2/30\n",
      "11/11 [==============================] - 1s 120ms/step - loss: 2.7448\n",
      "Epoch 3/30\n",
      "11/11 [==============================] - 1s 114ms/step - loss: 2.3900\n",
      "Epoch 4/30\n",
      "11/11 [==============================] - 1s 113ms/step - loss: 2.1125\n",
      "Epoch 5/30\n",
      "11/11 [==============================] - 1s 117ms/step - loss: 1.8293\n",
      "Epoch 6/30\n",
      "11/11 [==============================] - 1s 118ms/step - loss: 1.5295\n",
      "Epoch 7/30\n",
      "11/11 [==============================] - 1s 113ms/step - loss: 1.2334\n",
      "Epoch 8/30\n",
      "11/11 [==============================] - 1s 113ms/step - loss: 0.9624\n",
      "Epoch 9/30\n",
      "11/11 [==============================] - 1s 127ms/step - loss: 0.6337\n",
      "Epoch 10/30\n",
      "11/11 [==============================] - 2s 150ms/step - loss: 0.4598\n",
      "Epoch 11/30\n",
      "11/11 [==============================] - 1s 124ms/step - loss: 0.3078\n",
      "Epoch 12/30\n",
      "11/11 [==============================] - 2s 134ms/step - loss: 0.1760\n",
      "Epoch 13/30\n",
      "11/11 [==============================] - 2s 135ms/step - loss: 0.1360\n",
      "Epoch 14/30\n",
      "11/11 [==============================] - 2s 143ms/step - loss: 0.0986\n",
      "Epoch 15/30\n",
      "11/11 [==============================] - 1s 132ms/step - loss: 0.1002\n",
      "Epoch 16/30\n",
      "11/11 [==============================] - 1s 122ms/step - loss: 0.1265\n",
      "Epoch 17/30\n",
      "11/11 [==============================] - 1s 116ms/step - loss: 0.0780\n",
      "Epoch 18/30\n",
      "11/11 [==============================] - 1s 132ms/step - loss: 0.0185\n",
      "Epoch 19/30\n",
      "11/11 [==============================] - 1s 118ms/step - loss: 0.0112\n",
      "Epoch 20/30\n",
      "11/11 [==============================] - 1s 110ms/step - loss: 0.0217\n",
      "Epoch 21/30\n",
      "11/11 [==============================] - 1s 119ms/step - loss: 0.0906\n",
      "Epoch 22/30\n",
      "11/11 [==============================] - 1s 116ms/step - loss: 0.0134\n",
      "Epoch 23/30\n",
      "11/11 [==============================] - 1s 117ms/step - loss: 0.0101\n",
      "Epoch 24/30\n",
      "11/11 [==============================] - 1s 116ms/step - loss: 0.0035\n",
      "Epoch 25/30\n",
      "11/11 [==============================] - 1s 116ms/step - loss: 0.0015\n",
      "Epoch 26/30\n",
      "11/11 [==============================] - 1s 126ms/step - loss: 9.5349e-04\n",
      "Epoch 27/30\n",
      "11/11 [==============================] - 1s 118ms/step - loss: 5.9690e-04\n",
      "Epoch 28/30\n",
      "11/11 [==============================] - 1s 119ms/step - loss: 3.7171e-04\n",
      "Epoch 29/30\n",
      "11/11 [==============================] - 1s 118ms/step - loss: 2.2243e-04\n",
      "Epoch 30/30\n",
      "11/11 [==============================] - 1s 113ms/step - loss: 1.3251e-04\n"
     ]
    },
    {
     "data": {
      "text/plain": [
       "<keras.callbacks.History at 0x226c15eab20>"
      ]
     },
     "execution_count": 16,
     "metadata": {},
     "output_type": "execute_result"
    }
   ],
   "source": [
    "model.fit(X,y,epochs=30,callbacks=callbacks)"
   ]
  },
  {
   "cell_type": "code",
   "execution_count": 19,
   "id": "e16f9352",
   "metadata": {},
   "outputs": [
    {
     "name": "stdout",
     "output_type": "stream",
     "text": [
      " sun in lonely lands,\n",
      "Ring’d with the azure world, he stands.\n",
      "\n",
      "The wrinkled sea beneath him crawls;\n",
      "d han the bandere\n",
      "TTw wroam faery thave passundererout sand thavey it  tasderorout fereecce cassg was y thaveroroass alss assy \n",
      "ausd deroe assald dhir fereccceassy thaverciis  tasdere\n",
      "OTw wroam fandereeey it for at as y wan g tead \n",
      "Tu whave pit feroecy thaverpeim  randere\n",
      "TTw wroam feee classy in  tasderorous y thave cbande I hand thavey it spavir fereecceandere\n",
      "TTw wroam faery it feroat he casss and thavey it  tasderorout fereececeraDsy \n",
      "I thav hit feroecy thave passundererout sand thavey it  t\n"
     ]
    }
   ],
   "source": [
    "import random\n",
    "def generate_text(length, diversity): \n",
    "    start_index = random.randint(0, len(text) - max_length - 1) \n",
    "    generated = '' \n",
    "    sentence = text[start_index: start_index + max_length] \n",
    "    generated += sentence \n",
    "    for i in range(length): \n",
    "            x_pred = np.zeros((1, max_length, len(vocabulary))) \n",
    "            for t, char in enumerate(sentence): \n",
    "                x_pred[0, t, char_to_indices[char]] = 1.\n",
    "            preds = model.predict(x_pred, verbose = 0)[0] \n",
    "            next_index = sample_index(preds, diversity) \n",
    "            next_char = indices_to_char[next_index] \n",
    "            generated += next_char \n",
    "            sentence = sentence[1:] + next_char \n",
    "    return generated \n",
    "print(generate_text(500, 0.2)) "
   ]
  },
  {
   "cell_type": "markdown",
   "id": "ed79a222",
   "metadata": {},
   "source": [
    "## Week 10 - CIFAR 10 CNN - already done"
   ]
  },
  {
   "cell_type": "markdown",
   "id": "026a3c95",
   "metadata": {},
   "source": [
    "## Week 11 - Credit Card Fraud Detection (RandomForestClassifier)"
   ]
  },
  {
   "cell_type": "code",
   "execution_count": 37,
   "id": "83d9b644",
   "metadata": {
    "collapsed": true
   },
   "outputs": [
    {
     "data": {
      "text/html": [
       "<div>\n",
       "<style scoped>\n",
       "    .dataframe tbody tr th:only-of-type {\n",
       "        vertical-align: middle;\n",
       "    }\n",
       "\n",
       "    .dataframe tbody tr th {\n",
       "        vertical-align: top;\n",
       "    }\n",
       "\n",
       "    .dataframe thead th {\n",
       "        text-align: right;\n",
       "    }\n",
       "</style>\n",
       "<table border=\"1\" class=\"dataframe\">\n",
       "  <thead>\n",
       "    <tr style=\"text-align: right;\">\n",
       "      <th></th>\n",
       "      <th>Time</th>\n",
       "      <th>V1</th>\n",
       "      <th>V2</th>\n",
       "      <th>V3</th>\n",
       "      <th>V4</th>\n",
       "      <th>V5</th>\n",
       "      <th>V6</th>\n",
       "      <th>V7</th>\n",
       "      <th>V8</th>\n",
       "      <th>V9</th>\n",
       "      <th>...</th>\n",
       "      <th>V21</th>\n",
       "      <th>V22</th>\n",
       "      <th>V23</th>\n",
       "      <th>V24</th>\n",
       "      <th>V25</th>\n",
       "      <th>V26</th>\n",
       "      <th>V27</th>\n",
       "      <th>V28</th>\n",
       "      <th>Amount</th>\n",
       "      <th>Class</th>\n",
       "    </tr>\n",
       "  </thead>\n",
       "  <tbody>\n",
       "    <tr>\n",
       "      <th>0</th>\n",
       "      <td>0.0</td>\n",
       "      <td>-1.359807</td>\n",
       "      <td>-0.072781</td>\n",
       "      <td>2.536347</td>\n",
       "      <td>1.378155</td>\n",
       "      <td>-0.338321</td>\n",
       "      <td>0.462388</td>\n",
       "      <td>0.239599</td>\n",
       "      <td>0.098698</td>\n",
       "      <td>0.363787</td>\n",
       "      <td>...</td>\n",
       "      <td>-0.018307</td>\n",
       "      <td>0.277838</td>\n",
       "      <td>-0.110474</td>\n",
       "      <td>0.066928</td>\n",
       "      <td>0.128539</td>\n",
       "      <td>-0.189115</td>\n",
       "      <td>0.133558</td>\n",
       "      <td>-0.021053</td>\n",
       "      <td>149.62</td>\n",
       "      <td>0</td>\n",
       "    </tr>\n",
       "    <tr>\n",
       "      <th>1</th>\n",
       "      <td>0.0</td>\n",
       "      <td>1.191857</td>\n",
       "      <td>0.266151</td>\n",
       "      <td>0.166480</td>\n",
       "      <td>0.448154</td>\n",
       "      <td>0.060018</td>\n",
       "      <td>-0.082361</td>\n",
       "      <td>-0.078803</td>\n",
       "      <td>0.085102</td>\n",
       "      <td>-0.255425</td>\n",
       "      <td>...</td>\n",
       "      <td>-0.225775</td>\n",
       "      <td>-0.638672</td>\n",
       "      <td>0.101288</td>\n",
       "      <td>-0.339846</td>\n",
       "      <td>0.167170</td>\n",
       "      <td>0.125895</td>\n",
       "      <td>-0.008983</td>\n",
       "      <td>0.014724</td>\n",
       "      <td>2.69</td>\n",
       "      <td>0</td>\n",
       "    </tr>\n",
       "    <tr>\n",
       "      <th>2</th>\n",
       "      <td>1.0</td>\n",
       "      <td>-1.358354</td>\n",
       "      <td>-1.340163</td>\n",
       "      <td>1.773209</td>\n",
       "      <td>0.379780</td>\n",
       "      <td>-0.503198</td>\n",
       "      <td>1.800499</td>\n",
       "      <td>0.791461</td>\n",
       "      <td>0.247676</td>\n",
       "      <td>-1.514654</td>\n",
       "      <td>...</td>\n",
       "      <td>0.247998</td>\n",
       "      <td>0.771679</td>\n",
       "      <td>0.909412</td>\n",
       "      <td>-0.689281</td>\n",
       "      <td>-0.327642</td>\n",
       "      <td>-0.139097</td>\n",
       "      <td>-0.055353</td>\n",
       "      <td>-0.059752</td>\n",
       "      <td>378.66</td>\n",
       "      <td>0</td>\n",
       "    </tr>\n",
       "    <tr>\n",
       "      <th>3</th>\n",
       "      <td>1.0</td>\n",
       "      <td>-0.966272</td>\n",
       "      <td>-0.185226</td>\n",
       "      <td>1.792993</td>\n",
       "      <td>-0.863291</td>\n",
       "      <td>-0.010309</td>\n",
       "      <td>1.247203</td>\n",
       "      <td>0.237609</td>\n",
       "      <td>0.377436</td>\n",
       "      <td>-1.387024</td>\n",
       "      <td>...</td>\n",
       "      <td>-0.108300</td>\n",
       "      <td>0.005274</td>\n",
       "      <td>-0.190321</td>\n",
       "      <td>-1.175575</td>\n",
       "      <td>0.647376</td>\n",
       "      <td>-0.221929</td>\n",
       "      <td>0.062723</td>\n",
       "      <td>0.061458</td>\n",
       "      <td>123.50</td>\n",
       "      <td>0</td>\n",
       "    </tr>\n",
       "    <tr>\n",
       "      <th>4</th>\n",
       "      <td>2.0</td>\n",
       "      <td>-1.158233</td>\n",
       "      <td>0.877737</td>\n",
       "      <td>1.548718</td>\n",
       "      <td>0.403034</td>\n",
       "      <td>-0.407193</td>\n",
       "      <td>0.095921</td>\n",
       "      <td>0.592941</td>\n",
       "      <td>-0.270533</td>\n",
       "      <td>0.817739</td>\n",
       "      <td>...</td>\n",
       "      <td>-0.009431</td>\n",
       "      <td>0.798278</td>\n",
       "      <td>-0.137458</td>\n",
       "      <td>0.141267</td>\n",
       "      <td>-0.206010</td>\n",
       "      <td>0.502292</td>\n",
       "      <td>0.219422</td>\n",
       "      <td>0.215153</td>\n",
       "      <td>69.99</td>\n",
       "      <td>0</td>\n",
       "    </tr>\n",
       "  </tbody>\n",
       "</table>\n",
       "<p>5 rows × 31 columns</p>\n",
       "</div>"
      ],
      "text/plain": [
       "   Time        V1        V2        V3        V4        V5        V6        V7  \\\n",
       "0   0.0 -1.359807 -0.072781  2.536347  1.378155 -0.338321  0.462388  0.239599   \n",
       "1   0.0  1.191857  0.266151  0.166480  0.448154  0.060018 -0.082361 -0.078803   \n",
       "2   1.0 -1.358354 -1.340163  1.773209  0.379780 -0.503198  1.800499  0.791461   \n",
       "3   1.0 -0.966272 -0.185226  1.792993 -0.863291 -0.010309  1.247203  0.237609   \n",
       "4   2.0 -1.158233  0.877737  1.548718  0.403034 -0.407193  0.095921  0.592941   \n",
       "\n",
       "         V8        V9  ...       V21       V22       V23       V24       V25  \\\n",
       "0  0.098698  0.363787  ... -0.018307  0.277838 -0.110474  0.066928  0.128539   \n",
       "1  0.085102 -0.255425  ... -0.225775 -0.638672  0.101288 -0.339846  0.167170   \n",
       "2  0.247676 -1.514654  ...  0.247998  0.771679  0.909412 -0.689281 -0.327642   \n",
       "3  0.377436 -1.387024  ... -0.108300  0.005274 -0.190321 -1.175575  0.647376   \n",
       "4 -0.270533  0.817739  ... -0.009431  0.798278 -0.137458  0.141267 -0.206010   \n",
       "\n",
       "        V26       V27       V28  Amount  Class  \n",
       "0 -0.189115  0.133558 -0.021053  149.62      0  \n",
       "1  0.125895 -0.008983  0.014724    2.69      0  \n",
       "2 -0.139097 -0.055353 -0.059752  378.66      0  \n",
       "3 -0.221929  0.062723  0.061458  123.50      0  \n",
       "4  0.502292  0.219422  0.215153   69.99      0  \n",
       "\n",
       "[5 rows x 31 columns]"
      ]
     },
     "execution_count": 37,
     "metadata": {},
     "output_type": "execute_result"
    }
   ],
   "source": [
    "df = pd.read_csv(r'creditcard.csv')\n",
    "df.head()"
   ]
  },
  {
   "cell_type": "code",
   "execution_count": 40,
   "id": "3066bd91",
   "metadata": {},
   "outputs": [
    {
     "data": {
      "text/plain": [
       "array([0, 1], dtype=int64)"
      ]
     },
     "execution_count": 40,
     "metadata": {},
     "output_type": "execute_result"
    }
   ],
   "source": [
    "df['Class'].unique()"
   ]
  },
  {
   "cell_type": "code",
   "execution_count": 41,
   "id": "caaa7c34",
   "metadata": {},
   "outputs": [],
   "source": [
    "x = df.iloc[:,:-1].values\n",
    "y = df.iloc[:,-1].values"
   ]
  },
  {
   "cell_type": "code",
   "execution_count": 47,
   "id": "6d8df42e",
   "metadata": {},
   "outputs": [],
   "source": [
    "from sklearn.model_selection import train_test_split as tts\n",
    "x_train, x_test, y_train, y_test = tts(x,y,random_state=23,test_size=0.25)"
   ]
  },
  {
   "cell_type": "code",
   "execution_count": 48,
   "id": "89bc6731",
   "metadata": {},
   "outputs": [],
   "source": [
    "from sklearn.ensemble import RandomForestClassifier\n",
    "rfc = RandomForestClassifier()"
   ]
  },
  {
   "cell_type": "code",
   "execution_count": 50,
   "id": "ee89a08f",
   "metadata": {},
   "outputs": [
    {
     "data": {
      "text/plain": [
       "RandomForestClassifier()"
      ]
     },
     "execution_count": 50,
     "metadata": {},
     "output_type": "execute_result"
    }
   ],
   "source": [
    "rfc.fit(x_train,y_train)"
   ]
  },
  {
   "cell_type": "code",
   "execution_count": 51,
   "id": "78a74092",
   "metadata": {},
   "outputs": [],
   "source": [
    "pred = rfc.predict(x_test)"
   ]
  },
  {
   "cell_type": "code",
   "execution_count": 52,
   "id": "a1c95eef",
   "metadata": {},
   "outputs": [
    {
     "name": "stdout",
     "output_type": "stream",
     "text": [
      "0.9996769753658605\n",
      "0.8632478632478633\n",
      "0.9351851851851852\n",
      "0.8977777777777779\n"
     ]
    }
   ],
   "source": [
    "from sklearn.metrics import *\n",
    "print(accuracy_score(pred,y_test))\n",
    "print(precision_score(pred,y_test))\n",
    "print(recall_score(pred,y_test))\n",
    "print(f1_score(pred,y_test))"
   ]
  },
  {
   "cell_type": "code",
   "execution_count": 59,
   "id": "25a77655",
   "metadata": {},
   "outputs": [
    {
     "name": "stdout",
     "output_type": "stream",
     "text": [
      "              precision    recall  f1-score   support\n",
      "\n",
      "           0       1.00      1.00      1.00     71094\n",
      "           1       0.86      0.94      0.90       108\n",
      "\n",
      "    accuracy                           1.00     71202\n",
      "   macro avg       0.93      0.97      0.95     71202\n",
      "weighted avg       1.00      1.00      1.00     71202\n",
      "\n"
     ]
    }
   ],
   "source": [
    "print(classification_report(pred, y_test))"
   ]
  },
  {
   "cell_type": "code",
   "execution_count": 56,
   "id": "62b198d5",
   "metadata": {},
   "outputs": [
    {
     "name": "stdout",
     "output_type": "stream",
     "text": [
      "[[71078    16]\n",
      " [    7   101]]\n"
     ]
    }
   ],
   "source": [
    "print(confusion_matrix(pred,y_test))"
   ]
  },
  {
   "cell_type": "code",
   "execution_count": 60,
   "id": "7e8cda2f",
   "metadata": {},
   "outputs": [
    {
     "name": "stdout",
     "output_type": "stream",
     "text": [
      "[[1.        0.8983375]\n",
      " [0.8983375 1.       ]]\n"
     ]
    }
   ],
   "source": [
    "correlation_matrix = np.corrcoef(y_test,pred)\n",
    "print(correlation_matrix)"
   ]
  },
  {
   "cell_type": "markdown",
   "id": "d141fba2",
   "metadata": {},
   "source": [
    "## Week 12 - Simple Autoencoder on MNIST"
   ]
  },
  {
   "cell_type": "markdown",
   "id": "9f68584d",
   "metadata": {},
   "source": [
    "### Vanilla AE"
   ]
  },
  {
   "cell_type": "code",
   "execution_count": 110,
   "id": "3a58e447",
   "metadata": {},
   "outputs": [],
   "source": [
    "(x_train, y_train), (x_test, y_test) = mnist.load_data()\n",
    "x_train = x_train.astype('float32')/255\n",
    "x_test = x_test.astype('float32')/255\n",
    "x_train = x_train.reshape(x_train.shape[0],784)\n",
    "x_test = x_test.reshape(x_test.shape[0],784)"
   ]
  },
  {
   "cell_type": "code",
   "execution_count": 113,
   "id": "57793e95",
   "metadata": {},
   "outputs": [],
   "source": [
    "input_img = Input((784,))\n",
    "encoded = Dense(32,activation='relu')(input_img)\n",
    "decoded = Dense(784,activation='sigmoid')(encoded)\n",
    "autoencoder = Model(input_img,decoded)\n",
    "encoder = Model(input_img,encoded)\n",
    "encoded_input = Input((32,))\n",
    "decoded_layer = autoencoder.layers[-1]\n",
    "decoder = Model(encoded_input,decoded_layer(encoded_input))"
   ]
  },
  {
   "cell_type": "code",
   "execution_count": 114,
   "id": "21c7e26d",
   "metadata": {
    "collapsed": true
   },
   "outputs": [
    {
     "name": "stdout",
     "output_type": "stream",
     "text": [
      "Epoch 1/10\n",
      "1875/1875 [==============================] - 5s 2ms/step - loss: 0.1619\n",
      "Epoch 2/10\n",
      "1875/1875 [==============================] - 5s 3ms/step - loss: 0.1043\n",
      "Epoch 3/10\n",
      "1875/1875 [==============================] - 6s 3ms/step - loss: 0.0964\n",
      "Epoch 4/10\n",
      "1875/1875 [==============================] - 8s 4ms/step - loss: 0.0950\n",
      "Epoch 5/10\n",
      "1875/1875 [==============================] - 6s 3ms/step - loss: 0.0946\n",
      "Epoch 6/10\n",
      "1875/1875 [==============================] - 8s 4ms/step - loss: 0.0943\n",
      "Epoch 7/10\n",
      "1875/1875 [==============================] - 9s 5ms/step - loss: 0.0941\n",
      "Epoch 8/10\n",
      "1875/1875 [==============================] - 7s 4ms/step - loss: 0.0940\n",
      "Epoch 9/10\n",
      "1875/1875 [==============================] - 7s 4ms/step - loss: 0.0939\n",
      "Epoch 10/10\n",
      "1875/1875 [==============================] - 7s 4ms/step - loss: 0.0938\n"
     ]
    },
    {
     "data": {
      "text/plain": [
       "<keras.callbacks.History at 0x26edfff3e50>"
      ]
     },
     "execution_count": 114,
     "metadata": {},
     "output_type": "execute_result"
    }
   ],
   "source": [
    "autoencoder.compile(optimizer='adam', loss='binary_crossentropy')\n",
    "autoencoder.fit(x_train, x_train, epochs=10)"
   ]
  },
  {
   "cell_type": "code",
   "execution_count": 115,
   "id": "28f15668",
   "metadata": {},
   "outputs": [
    {
     "name": "stdout",
     "output_type": "stream",
     "text": [
      "313/313 [==============================] - 0s 1ms/step\n",
      "313/313 [==============================] - 0s 1ms/step\n"
     ]
    }
   ],
   "source": [
    "encoded_imgs = encoder.predict(x_test)\n",
    "decoded_imgs = decoder.predict(encoded_imgs)"
   ]
  },
  {
   "cell_type": "code",
   "execution_count": 122,
   "id": "40d788bd",
   "metadata": {},
   "outputs": [
    {
     "data": {
      "text/plain": [
       "((10000, 32), (10000, 784))"
      ]
     },
     "execution_count": 122,
     "metadata": {},
     "output_type": "execute_result"
    }
   ],
   "source": [
    "encoded_imgs.shape, decoded_imgs.shape"
   ]
  },
  {
   "cell_type": "code",
   "execution_count": 126,
   "id": "9f988430",
   "metadata": {},
   "outputs": [
    {
     "data": {
      "image/png": "[encoded data removed]",
      "text/plain": [
       "<Figure size 1440x288 with 20 Axes>"
      ]
     },
     "metadata": {},
     "output_type": "display_data"
    }
   ],
   "source": [
    "n = 10  \n",
    "plt.figure(figsize=(20, 4))\n",
    "for i in range(n):\n",
    "    plt.subplot(2, n, i+1)\n",
    "    plt.imshow(x_test[i].reshape(28, 28))\n",
    "    plt.xticks([]); plt.yticks([])\n",
    "    \n",
    "    plt.subplot(2, n, i+1+n)\n",
    "    plt.imshow(decoded_imgs[i].reshape(28, 28))\n",
    "    plt.xticks([]); plt.yticks([])\n",
    "\n",
    "plt.show()"
   ]
  },
  {
   "cell_type": "markdown",
   "id": "4b3b0b5a",
   "metadata": {},
   "source": [
    "### Convolutional AE"
   ]
  },
  {
   "cell_type": "code",
   "execution_count": 75,
   "id": "25d42875",
   "metadata": {},
   "outputs": [],
   "source": [
    "(x_train, y_train), (x_test, y_test) = mnist.load_data()"
   ]
  },
  {
   "cell_type": "code",
   "execution_count": 76,
   "id": "78a67f3b",
   "metadata": {},
   "outputs": [],
   "source": [
    "x_train = x_train.astype('float32')/255\n",
    "x_test = x_test.astype('float32')/255"
   ]
  },
  {
   "cell_type": "code",
   "execution_count": 77,
   "id": "6d884d0a",
   "metadata": {},
   "outputs": [
    {
     "data": {
      "text/plain": [
       "(60000, 28, 28)"
      ]
     },
     "execution_count": 77,
     "metadata": {},
     "output_type": "execute_result"
    }
   ],
   "source": [
    "x_train.shape"
   ]
  },
  {
   "cell_type": "code",
   "execution_count": 78,
   "id": "385965a5",
   "metadata": {},
   "outputs": [],
   "source": [
    "x_train = x_train.reshape(x_train.shape[0],28,28,1)\n",
    "x_test = x_test.reshape(x_test.shape[0],28,28,1)"
   ]
  },
  {
   "cell_type": "code",
   "execution_count": 79,
   "id": "087ea1ce",
   "metadata": {},
   "outputs": [],
   "source": [
    "noise_factor = 0.5\n",
    "x_train_noisy = x_train + noise_factor*np.random.normal(size=x_train.shape)\n",
    "x_test_noisy = x_test+noise_factor*np.random.normal(size=x_test.shape)"
   ]
  },
  {
   "cell_type": "code",
   "execution_count": 80,
   "id": "82d6c0f3",
   "metadata": {
    "collapsed": true
   },
   "outputs": [
    {
     "data": {
      "image/png": "[encoded data removed]",
      "text/plain": [
       "<Figure size 432x288 with 1 Axes>"
      ]
     },
     "metadata": {
      "needs_background": "light"
     },
     "output_type": "display_data"
    },
    {
     "data": {
      "text/plain": [
       "<matplotlib.image.AxesImage at 0x26ee43ccca0>"
      ]
     },
     "execution_count": 80,
     "metadata": {},
     "output_type": "execute_result"
    },
    {
     "data": {
      "image/png": "[encoded data removed]",
      "text/plain": [
       "<Figure size 432x288 with 1 Axes>"
      ]
     },
     "metadata": {
      "needs_background": "light"
     },
     "output_type": "display_data"
    }
   ],
   "source": [
    "plt.gray()\n",
    "plt.imshow(x_train[1])\n",
    "plt.show()\n",
    "plt.imshow(x_train_noisy[1])"
   ]
  },
  {
   "cell_type": "code",
   "execution_count": 81,
   "id": "47880391",
   "metadata": {},
   "outputs": [],
   "source": [
    "x_train_noisy = np.clip(x_train_noisy,0,1)\n",
    "x_test_noisy = np.clip(x_test_noisy,0,1)"
   ]
  },
  {
   "cell_type": "code",
   "execution_count": 86,
   "id": "371dc332",
   "metadata": {},
   "outputs": [],
   "source": [
    "model = Sequential()\n",
    "\n",
    "model.add(Conv2D(32,(3,3),activation='relu',padding='same',input_shape=(28,28,1)))\n",
    "model.add(MaxPooling2D((2,2),padding='same'))\n",
    "model.add(Conv2D(8,(3,3),activation='relu',padding='same'))\n",
    "model.add(MaxPooling2D((2,2),padding='same'))\n",
    "model.add(Conv2D(8,(3,3),activation='relu',padding='same'))\n",
    "model.add(MaxPooling2D((2,2),padding='same'))\n",
    "\n",
    "model.add(Conv2D(8,(3,3),activation='relu',padding='same'))\n",
    "model.add(UpSampling2D((2,2)))\n",
    "model.add(Conv2D(8,(3,3),activation='relu',padding='same'))\n",
    "model.add(UpSampling2D((2,2)))\n",
    "model.add(Conv2D(8,(3,3),activation='relu'))\n",
    "model.add(UpSampling2D((2,2)))\n",
    "\n",
    "model.add(Conv2D(1,(3,3),padding='same',activation='relu'))"
   ]
  },
  {
   "cell_type": "code",
   "execution_count": 87,
   "id": "5c8a12dc",
   "metadata": {
    "collapsed": true
   },
   "outputs": [
    {
     "name": "stdout",
     "output_type": "stream",
     "text": [
      "Model: \"sequential_10\"\n",
      "_________________________________________________________________\n",
      " Layer (type)                Output Shape              Param #   \n",
      "=================================================================\n",
      " conv2d_18 (Conv2D)          (None, 28, 28, 32)        320       \n",
      "                                                                 \n",
      " max_pooling2d_8 (MaxPooling  (None, 14, 14, 32)       0         \n",
      " 2D)                                                             \n",
      "                                                                 \n",
      " conv2d_19 (Conv2D)          (None, 14, 14, 8)         2312      \n",
      "                                                                 \n",
      " max_pooling2d_9 (MaxPooling  (None, 7, 7, 8)          0         \n",
      " 2D)                                                             \n",
      "                                                                 \n",
      " conv2d_20 (Conv2D)          (None, 7, 7, 8)           584       \n",
      "                                                                 \n",
      " max_pooling2d_10 (MaxPoolin  (None, 4, 4, 8)          0         \n",
      " g2D)                                                            \n",
      "                                                                 \n",
      " conv2d_21 (Conv2D)          (None, 4, 4, 8)           584       \n",
      "                                                                 \n",
      " up_sampling2d_6 (UpSampling  (None, 8, 8, 8)          0         \n",
      " 2D)                                                             \n",
      "                                                                 \n",
      " conv2d_22 (Conv2D)          (None, 8, 8, 8)           584       \n",
      "                                                                 \n",
      " up_sampling2d_7 (UpSampling  (None, 16, 16, 8)        0         \n",
      " 2D)                                                             \n",
      "                                                                 \n",
      " conv2d_23 (Conv2D)          (None, 14, 14, 8)         584       \n",
      "                                                                 \n",
      " up_sampling2d_8 (UpSampling  (None, 28, 28, 8)        0         \n",
      " 2D)                                                             \n",
      "                                                                 \n",
      " conv2d_24 (Conv2D)          (None, 28, 28, 2)         146       \n",
      "                                                                 \n",
      "=================================================================\n",
      "Total params: 5,114\n",
      "Trainable params: 5,114\n",
      "Non-trainable params: 0\n",
      "_________________________________________________________________\n"
     ]
    }
   ],
   "source": [
    "model.summary()"
   ]
  },
  {
   "cell_type": "code",
   "execution_count": 103,
   "id": "3d625c98",
   "metadata": {},
   "outputs": [],
   "source": [
    "model.compile(optimizer='adam',loss='mean_squared_error')"
   ]
  },
  {
   "cell_type": "code",
   "execution_count": 107,
   "id": "af531c20",
   "metadata": {},
   "outputs": [
    {
     "name": "stdout",
     "output_type": "stream",
     "text": [
      "Epoch 1/5\n",
      "1875/1875 [==============================] - 86s 46ms/step - loss: 0.0210 - val_loss: 0.1151\n",
      "Epoch 2/5\n",
      "1875/1875 [==============================] - 86s 46ms/step - loss: 0.0199 - val_loss: 0.1147\n",
      "Epoch 3/5\n",
      "1875/1875 [==============================] - 88s 47ms/step - loss: 0.0196 - val_loss: 0.1153\n",
      "Epoch 4/5\n",
      "1875/1875 [==============================] - 95s 50ms/step - loss: 0.0193 - val_loss: 0.1150\n",
      "Epoch 5/5\n",
      "1875/1875 [==============================] - 90s 48ms/step - loss: 0.0191 - val_loss: 0.1153\n"
     ]
    },
    {
     "data": {
      "text/plain": [
       "<keras.callbacks.History at 0x26ef30f9400>"
      ]
     },
     "execution_count": 107,
     "metadata": {},
     "output_type": "execute_result"
    }
   ],
   "source": [
    "model.fit(x_train_noisy,x_train, epochs=5, validation_data=(x_test_noisy,x_test_noisy))"
   ]
  },
  {
   "cell_type": "code",
   "execution_count": 108,
   "id": "c0443756",
   "metadata": {},
   "outputs": [
    {
     "name": "stdout",
     "output_type": "stream",
     "text": [
      "313/313 [==============================] - 4s 12ms/step\n"
     ]
    }
   ],
   "source": [
    "pred = model.predict(x_test_noisy)"
   ]
  },
  {
   "cell_type": "code",
   "execution_count": 117,
   "id": "58e43225",
   "metadata": {},
   "outputs": [
    {
     "data": {
      "text/plain": [
       "(10000, 28, 28, 2)"
      ]
     },
     "execution_count": 117,
     "metadata": {},
     "output_type": "execute_result"
    }
   ],
   "source": [
    "pred.shape"
   ]
  },
  {
   "cell_type": "code",
   "execution_count": 118,
   "id": "19db5a48",
   "metadata": {},
   "outputs": [
    {
     "data": {
      "image/png": "[encoded data removed]",
      "text/plain": [
       "<Figure size 1440x720 with 20 Axes>"
      ]
     },
     "metadata": {},
     "output_type": "display_data"
    }
   ],
   "source": [
    "plt.figure(figsize=(20,10))\n",
    "n = 10\n",
    "for i in range(n):\n",
    "    plt.subplot(2,n,i+1)\n",
    "    plt.imshow(x_test_noisy[i].reshape(28,28))\n",
    "    plt.xticks([])\n",
    "    plt.yticks([])\n",
    "    \n",
    "    plt.subplot(2,n,i+1+n)\n",
    "    plt.imshow(pred[i].reshape(28,28))\n",
    "#    plt.imshow(pred[i][:, :, 0].reshape(28, 28)) - use if u encounter any error\n",
    "    plt.xticks([])\n",
    "    plt.yticks([])\n",
    "    \n",
    "plt.show()"
   ]
  },
  {
   "cell_type": "markdown",
   "id": "eecc05a4",
   "metadata": {},
   "source": [
    "## Week 13 - Object Detection using AE"
   ]
  },
  {
   "cell_type": "code",
   "execution_count": 47,
   "id": "f413b22e",
   "metadata": {},
   "outputs": [],
   "source": [
    "from keras.datasets import mnist, fashion_mnist\n",
    "(x_train,y_train),(x_test,y_test) = mnist.load_data()\n",
    "(x_train_anamoly,y_train_anamoly),(x_test_anamoly,y_test_anamoly) = fashion_mnist.load_data()"
   ]
  },
  {
   "cell_type": "code",
   "execution_count": 48,
   "id": "e5a15c13",
   "metadata": {},
   "outputs": [
    {
     "data": {
      "text/plain": [
       "((60000, 28, 28), (60000, 28, 28))"
      ]
     },
     "execution_count": 48,
     "metadata": {},
     "output_type": "execute_result"
    }
   ],
   "source": [
    "x_train.shape, x_train_anamoly.shape"
   ]
  },
  {
   "cell_type": "code",
   "execution_count": 49,
   "id": "6e0c1106",
   "metadata": {},
   "outputs": [],
   "source": [
    "x_train = x_train.reshape(x_train.shape[0],28,28,1)\n",
    "x_train_anamoly = x_train_anamoly.reshape(x_train_anamoly.shape[0],28,28,1)"
   ]
  },
  {
   "cell_type": "code",
   "execution_count": 50,
   "id": "1e3af904",
   "metadata": {},
   "outputs": [],
   "source": [
    "x_train = x_train.astype('float32')/255\n",
    "x_train_anamoly = x_train_anamoly.astype('float32')/255"
   ]
  },
  {
   "cell_type": "code",
   "execution_count": 51,
   "id": "40738463",
   "metadata": {},
   "outputs": [
    {
     "data": {
      "text/plain": [
       "<matplotlib.image.AxesImage at 0x1689dc91850>"
      ]
     },
     "execution_count": 51,
     "metadata": {},
     "output_type": "execute_result"
    },
    {
     "data": {
      "image/png": "[encoded data removed]",
      "text/plain": [
       "<Figure size 432x288 with 1 Axes>"
      ]
     },
     "metadata": {
      "needs_background": "light"
     },
     "output_type": "display_data"
    }
   ],
   "source": [
    "plt.imshow(x_train[0])"
   ]
  },
  {
   "cell_type": "code",
   "execution_count": 52,
   "id": "074c584a",
   "metadata": {},
   "outputs": [
    {
     "data": {
      "text/plain": [
       "<matplotlib.image.AxesImage at 0x1689e16fe50>"
      ]
     },
     "execution_count": 52,
     "metadata": {},
     "output_type": "execute_result"
    },
    {
     "data": {
      "image/png": "[encoded data removed]",
      "text/plain": [
       "<Figure size 432x288 with 1 Axes>"
      ]
     },
     "metadata": {
      "needs_background": "light"
     },
     "output_type": "display_data"
    }
   ],
   "source": [
    "plt.imshow(x_train_anamoly[0])"
   ]
  },
  {
   "cell_type": "code",
   "execution_count": 53,
   "id": "719e2055",
   "metadata": {},
   "outputs": [],
   "source": [
    "model = Sequential([\n",
    "    Conv2D(32,(3,3),padding='same',activation='relu'),\n",
    "    MaxPooling2D((2,2),padding='same'),\n",
    "    Conv2D(8,(3,3),padding='same',activation='relu'),\n",
    "    MaxPooling2D((2,2),padding='same'),\n",
    "    Conv2D(8,(3,3),padding='same',activation='relu'),\n",
    "    MaxPooling2D((2,2),padding='same'),\n",
    "    \n",
    "    Conv2D(8,(3,3),padding='same',activation='relu'),\n",
    "    UpSampling2D((2,2)),\n",
    "    Conv2D(8,(3,3),padding='same',activation='relu'),\n",
    "    UpSampling2D((2,2)),\n",
    "    Conv2D(8,(3,3),activation='relu'),\n",
    "    UpSampling2D((2,2)),\n",
    "    \n",
    "    Conv2D(1,(3,3),padding='same',activation='softmax')\n",
    "])"
   ]
  },
  {
   "cell_type": "code",
   "execution_count": 55,
   "id": "308bc464",
   "metadata": {},
   "outputs": [
    {
     "name": "stdout",
     "output_type": "stream",
     "text": [
      "Epoch 1/5\n",
      "1875/1875 [==============================] - 258s 122ms/step - loss: 0.8507\n",
      "Epoch 2/5\n",
      "1875/1875 [==============================] - 149s 80ms/step - loss: 0.8507\n",
      "Epoch 3/5\n",
      "1875/1875 [==============================] - 112s 60ms/step - loss: 0.8507\n",
      "Epoch 4/5\n",
      "1875/1875 [==============================] - 111s 59ms/step - loss: 0.8507\n",
      "Epoch 5/5\n",
      "1875/1875 [==============================] - 113s 60ms/step - loss: 0.8507\n"
     ]
    },
    {
     "data": {
      "text/plain": [
       "<keras.callbacks.History at 0x16895873820>"
      ]
     },
     "execution_count": 55,
     "metadata": {},
     "output_type": "execute_result"
    }
   ],
   "source": [
    "model.compile(optimizer='adam',loss='mean_squared_error')\n",
    "model.fit(x_train,x_train,epochs=5)"
   ]
  },
  {
   "cell_type": "code",
   "execution_count": 77,
   "id": "4ee7e2f0",
   "metadata": {},
   "outputs": [
    {
     "name": "stdout",
     "output_type": "stream",
     "text": [
      "313/313 [==============================] - 7s 22ms/step\n",
      "313/313 [==============================] - 8s 24ms/step\n"
     ]
    }
   ],
   "source": [
    "pred = model.predict(x_test)\n",
    "pred_anamoly = model.predict(x_test_anamoly)"
   ]
  },
  {
   "cell_type": "code",
   "execution_count": 98,
   "id": "d6edbacf",
   "metadata": {},
   "outputs": [],
   "source": [
    "x_test = x_test.reshape(x_test.shape[0],28,28,1)\n",
    "x_test_anamoly = x_test_anamoly.reshape(x_test_anamoly.shape[0],28,28,1)"
   ]
  },
  {
   "cell_type": "code",
   "execution_count": 99,
   "id": "37fb5ec7",
   "metadata": {},
   "outputs": [
    {
     "data": {
      "text/plain": [
       "((10000, 28, 28, 1), (10000, 28, 28, 1))"
      ]
     },
     "execution_count": 99,
     "metadata": {},
     "output_type": "execute_result"
    }
   ],
   "source": [
    "pred.shape, x_test.shape"
   ]
  },
  {
   "cell_type": "code",
   "execution_count": 120,
   "id": "2dca0b8b",
   "metadata": {},
   "outputs": [
    {
     "name": "stdout",
     "output_type": "stream",
     "text": [
      "Anamoly Detection for MNIST -  False\n",
      "Anamoly Detection for Fashion MNIST -  True\n"
     ]
    }
   ],
   "source": [
    "threshold = 0.05\n",
    "\n",
    "mse_mnist = np.mean(np.square(pred-x_test))\n",
    "mse_fmnist = np.mean(np.square(pred_anamoly-x_test_anamoly))\n",
    "\n",
    "a = mse_mnist<threshold\n",
    "b = mse_fmnist>threshold\n",
    "\n",
    "print('Anamoly Detection for MNIST - ',a)\n",
    "print('Anamoly Detection for Fashion MNIST - ',b)"
   ]
  },
  {
   "cell_type": "code",
   "execution_count": 94,
   "id": "1e6fd990",
   "metadata": {},
   "outputs": [
    {
     "data": {
      "image/png": "[encoded data removed]",
      "text/plain": [
       "<Figure size 1440x288 with 20 Axes>"
      ]
     },
     "metadata": {},
     "output_type": "display_data"
    }
   ],
   "source": [
    "plt.figure(figsize=(20, 4))\n",
    "n = 10\n",
    "for i in range(10):\n",
    "    plt.gray()\n",
    "    ax = plt.subplot(2, n, i + 1)\n",
    "    plt.imshow(x_test[i].reshape(28, 28))\n",
    "    plt.title(\"MNIST\")\n",
    "    plt.xticks([]), plt.yticks([])\n",
    "\n",
    "    ax = plt.subplot(2, n, i + 1 + n)\n",
    "    plt.imshow(x_test_anamoly[i].reshape(28, 28))\n",
    "    plt.title(\"Fashion-MNIST\")    \n",
    "    plt.xticks([]), plt.yticks([])\n",
    "\n",
    "plt.show()"
   ]
  }
 ],
 "metadata": {
  "kernelspec": {
   "display_name": "Python 3 (ipykernel)",
   "language": "python",
   "name": "python3"
  },
  "language_info": {
   "codemirror_mode": {
    "name": "ipython",
    "version": 3
   },
   "file_extension": ".py",
   "mimetype": "text/x-python",
   "name": "python",
   "nbconvert_exporter": "python",
   "pygments_lexer": "ipython3",
   "version": "3.9.12"
  }
 },
 "nbformat": 4,
 "nbformat_minor": 5
}
