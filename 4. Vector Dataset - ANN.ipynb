{
 "cells": [
  {
   "cell_type": "markdown",
   "id": "d8f729ab",
   "metadata": {},
   "source": [
    "## Train the network and find the accuracy. Tweak the Architecture - Increase number of layers, change activation functions, increase depth, & the like; and note the resultant change in accuracy. 5. Tabulate your observations. Apply at least 3 different regularization techniques (e.g. Weight decay, early stop, dropout etc. ), and note the change in the results in a tabular form."
   ]
  },
  {
   "cell_type": "code",
   "execution_count": 1,
   "id": "81b5cea1",
   "metadata": {},
   "outputs": [],
   "source": [
    "import pandas as pd\n",
    "data = pd.read_csv(r'dataset.csv')"
   ]
  },
  {
   "cell_type": "code",
   "execution_count": 2,
   "id": "297233bc",
   "metadata": {},
   "outputs": [
    {
     "data": {
      "text/html": [
       "<div>\n",
       "<style scoped>\n",
       "    .dataframe tbody tr th:only-of-type {\n",
       "        vertical-align: middle;\n",
       "    }\n",
       "\n",
       "    .dataframe tbody tr th {\n",
       "        vertical-align: top;\n",
       "    }\n",
       "\n",
       "    .dataframe thead th {\n",
       "        text-align: right;\n",
       "    }\n",
       "</style>\n",
       "<table border=\"1\" class=\"dataframe\">\n",
       "  <thead>\n",
       "    <tr style=\"text-align: right;\">\n",
       "      <th></th>\n",
       "      <th>Pregnancies</th>\n",
       "      <th>GlucosePlasma</th>\n",
       "      <th>BloodPressure</th>\n",
       "      <th>SkinThickness</th>\n",
       "      <th>Insulin</th>\n",
       "      <th>BMI</th>\n",
       "      <th>Diabetes Pedigree Function</th>\n",
       "      <th>Age</th>\n",
       "      <th>Outcome</th>\n",
       "    </tr>\n",
       "  </thead>\n",
       "  <tbody>\n",
       "    <tr>\n",
       "      <th>0</th>\n",
       "      <td>6</td>\n",
       "      <td>148</td>\n",
       "      <td>72</td>\n",
       "      <td>35</td>\n",
       "      <td>0</td>\n",
       "      <td>33.6</td>\n",
       "      <td>0.627</td>\n",
       "      <td>50</td>\n",
       "      <td>1</td>\n",
       "    </tr>\n",
       "    <tr>\n",
       "      <th>1</th>\n",
       "      <td>1</td>\n",
       "      <td>85</td>\n",
       "      <td>66</td>\n",
       "      <td>29</td>\n",
       "      <td>0</td>\n",
       "      <td>26.6</td>\n",
       "      <td>0.351</td>\n",
       "      <td>31</td>\n",
       "      <td>0</td>\n",
       "    </tr>\n",
       "    <tr>\n",
       "      <th>2</th>\n",
       "      <td>8</td>\n",
       "      <td>183</td>\n",
       "      <td>64</td>\n",
       "      <td>0</td>\n",
       "      <td>0</td>\n",
       "      <td>23.3</td>\n",
       "      <td>0.672</td>\n",
       "      <td>32</td>\n",
       "      <td>1</td>\n",
       "    </tr>\n",
       "    <tr>\n",
       "      <th>3</th>\n",
       "      <td>1</td>\n",
       "      <td>89</td>\n",
       "      <td>66</td>\n",
       "      <td>23</td>\n",
       "      <td>94</td>\n",
       "      <td>28.1</td>\n",
       "      <td>0.167</td>\n",
       "      <td>21</td>\n",
       "      <td>0</td>\n",
       "    </tr>\n",
       "    <tr>\n",
       "      <th>4</th>\n",
       "      <td>0</td>\n",
       "      <td>137</td>\n",
       "      <td>40</td>\n",
       "      <td>35</td>\n",
       "      <td>168</td>\n",
       "      <td>43.1</td>\n",
       "      <td>2.288</td>\n",
       "      <td>33</td>\n",
       "      <td>1</td>\n",
       "    </tr>\n",
       "  </tbody>\n",
       "</table>\n",
       "</div>"
      ],
      "text/plain": [
       "   Pregnancies  GlucosePlasma  BloodPressure  SkinThickness  Insulin   BMI  \\\n",
       "0            6            148             72             35        0  33.6   \n",
       "1            1             85             66             29        0  26.6   \n",
       "2            8            183             64              0        0  23.3   \n",
       "3            1             89             66             23       94  28.1   \n",
       "4            0            137             40             35      168  43.1   \n",
       "\n",
       "   Diabetes Pedigree Function  Age  Outcome  \n",
       "0                       0.627   50        1  \n",
       "1                       0.351   31        0  \n",
       "2                       0.672   32        1  \n",
       "3                       0.167   21        0  \n",
       "4                       2.288   33        1  "
      ]
     },
     "execution_count": 2,
     "metadata": {},
     "output_type": "execute_result"
    }
   ],
   "source": [
    "data.head()"
   ]
  },
  {
   "cell_type": "code",
   "execution_count": 3,
   "id": "31eb71bd",
   "metadata": {},
   "outputs": [],
   "source": [
    "x = data.iloc[:,:-1].values\n",
    "y = data.iloc[:,-1].values"
   ]
  },
  {
   "cell_type": "code",
   "execution_count": 4,
   "id": "d06660f4",
   "metadata": {},
   "outputs": [],
   "source": [
    "from sklearn.model_selection import train_test_split as tts\n",
    "x_train, x_test, y_train, y_test = tts(x, y, test_size=0.30, random_state=42)"
   ]
  },
  {
   "cell_type": "code",
   "execution_count": 5,
   "id": "01b7ec32",
   "metadata": {},
   "outputs": [
    {
     "data": {
      "text/plain": [
       "((537, 8), (537,))"
      ]
     },
     "execution_count": 5,
     "metadata": {},
     "output_type": "execute_result"
    }
   ],
   "source": [
    "x_train.shape, y_train.shape"
   ]
  },
  {
   "cell_type": "code",
   "execution_count": 6,
   "id": "441db480",
   "metadata": {},
   "outputs": [],
   "source": [
    "import keras\n",
    "from keras import models, layers"
   ]
  },
  {
   "cell_type": "code",
   "execution_count": 7,
   "id": "34eca7f2",
   "metadata": {},
   "outputs": [],
   "source": [
    "model = models.Sequential()\n",
    "model.add(layers.Dense(8,activation='relu'))\n",
    "model.add(layers.Dense(1,activation='softmax'))"
   ]
  },
  {
   "cell_type": "code",
   "execution_count": 8,
   "id": "11514d0d",
   "metadata": {},
   "outputs": [],
   "source": [
    "model.compile(optimizer='adam',loss='binary_crossentropy',metrics='acc')"
   ]
  },
  {
   "cell_type": "code",
   "execution_count": 9,
   "id": "126b580c",
   "metadata": {},
   "outputs": [
    {
     "name": "stdout",
     "output_type": "stream",
     "text": [
      "Epoch 1/5\n",
      "17/17 [==============================] - 2s 4ms/step - loss: 3.6209 - acc: 0.3501\n",
      "Epoch 2/5\n",
      "17/17 [==============================] - 0s 4ms/step - loss: 3.3308 - acc: 0.3501\n",
      "Epoch 3/5\n",
      "17/17 [==============================] - 0s 4ms/step - loss: 3.1576 - acc: 0.3501\n",
      "Epoch 4/5\n",
      "17/17 [==============================] - 0s 5ms/step - loss: 3.0507 - acc: 0.3501\n",
      "Epoch 5/5\n",
      "17/17 [==============================] - 0s 4ms/step - loss: 2.9220 - acc: 0.3501\n"
     ]
    },
    {
     "data": {
      "text/plain": [
       "<keras.callbacks.History at 0x19b56cc65b0>"
      ]
     },
     "execution_count": 9,
     "metadata": {},
     "output_type": "execute_result"
    }
   ],
   "source": [
    "model.fit(x_train,y_train,epochs=5)"
   ]
  },
  {
   "cell_type": "code",
   "execution_count": 10,
   "id": "a83f06ec",
   "metadata": {},
   "outputs": [
    {
     "name": "stdout",
     "output_type": "stream",
     "text": [
      "17/17 [==============================] - 0s 2ms/step - loss: 2.8391 - acc: 0.3501\n"
     ]
    }
   ],
   "source": [
    "_,acc1 = model.evaluate(x_train,y_train)"
   ]
  },
  {
   "cell_type": "code",
   "execution_count": 11,
   "id": "3b28d2b8",
   "metadata": {},
   "outputs": [],
   "source": [
    "model = models.Sequential()\n",
    "model.add(layers.Dense(32,activation='relu'))\n",
    "model.add(layers.Dense(32,activation='sigmoid'))\n",
    "model.add(layers.Dense(32,activation='sigmoid'))\n",
    "model.add(layers.Dense(1,activation='relu'))"
   ]
  },
  {
   "cell_type": "code",
   "execution_count": 12,
   "id": "d30ce70b",
   "metadata": {},
   "outputs": [],
   "source": [
    "model.compile(optimizer='adam',loss='binary_crossentropy',metrics='acc')"
   ]
  },
  {
   "cell_type": "code",
   "execution_count": 13,
   "id": "e51eb334",
   "metadata": {},
   "outputs": [
    {
     "name": "stdout",
     "output_type": "stream",
     "text": [
      "Epoch 1/5\n",
      "17/17 [==============================] - 2s 3ms/step - loss: 5.4002 - acc: 0.6499\n",
      "Epoch 2/5\n",
      "17/17 [==============================] - 0s 4ms/step - loss: 5.4002 - acc: 0.6499\n",
      "Epoch 3/5\n",
      "17/17 [==============================] - 0s 4ms/step - loss: 5.4002 - acc: 0.6499\n",
      "Epoch 4/5\n",
      "17/17 [==============================] - 0s 3ms/step - loss: 5.4002 - acc: 0.6499\n",
      "Epoch 5/5\n",
      "17/17 [==============================] - 0s 9ms/step - loss: 5.4002 - acc: 0.6499\n"
     ]
    },
    {
     "data": {
      "text/plain": [
       "<keras.callbacks.History at 0x19b592c8e50>"
      ]
     },
     "execution_count": 13,
     "metadata": {},
     "output_type": "execute_result"
    }
   ],
   "source": [
    "model.fit(x_train,y_train,epochs=5)"
   ]
  },
  {
   "cell_type": "code",
   "execution_count": 14,
   "id": "80bb8fb9",
   "metadata": {},
   "outputs": [
    {
     "name": "stdout",
     "output_type": "stream",
     "text": [
      "17/17 [==============================] - 0s 2ms/step - loss: 5.4002 - acc: 0.6499\n"
     ]
    }
   ],
   "source": [
    "_,acc2 = model.evaluate(x_train,y_train)"
   ]
  },
  {
   "cell_type": "code",
   "execution_count": 15,
   "id": "dca81952",
   "metadata": {},
   "outputs": [],
   "source": [
    "# Dropout Layer\n",
    "model = models.Sequential()\n",
    "model.add(layers.Dense(8,activation='relu'))\n",
    "model.add(layers.Dense(8,activation='relu'))\n",
    "model.add(layers.Dense(24,activation='relu'))\n",
    "model.add(layers.Dropout(0.2))\n",
    "model.add(layers.Dense(1,activation='sigmoid'))"
   ]
  },
  {
   "cell_type": "code",
   "execution_count": 16,
   "id": "93bee3c7",
   "metadata": {},
   "outputs": [],
   "source": [
    "model.compile(optimizer='adam',loss='binary_crossentropy',metrics='acc')"
   ]
  },
  {
   "cell_type": "code",
   "execution_count": 17,
   "id": "48a28ff1",
   "metadata": {},
   "outputs": [
    {
     "name": "stdout",
     "output_type": "stream",
     "text": [
      "Epoch 1/15\n",
      "22/22 [==============================] - 2s 2ms/step - loss: 69.8242 - acc: 0.3501\n",
      "Epoch 2/15\n",
      "22/22 [==============================] - 0s 5ms/step - loss: 38.5936 - acc: 0.3557\n",
      "Epoch 3/15\n",
      "22/22 [==============================] - 0s 9ms/step - loss: 17.8249 - acc: 0.3724\n",
      "Epoch 4/15\n",
      "22/22 [==============================] - 0s 3ms/step - loss: 7.2062 - acc: 0.4637\n",
      "Epoch 5/15\n",
      "22/22 [==============================] - 0s 2ms/step - loss: 5.5536 - acc: 0.5791\n",
      "Epoch 6/15\n",
      "22/22 [==============================] - 0s 2ms/step - loss: 4.9998 - acc: 0.5512\n",
      "Epoch 7/15\n",
      "22/22 [==============================] - 0s 2ms/step - loss: 4.0750 - acc: 0.5661\n",
      "Epoch 8/15\n",
      "22/22 [==============================] - 0s 2ms/step - loss: 3.4277 - acc: 0.5493\n",
      "Epoch 9/15\n",
      "22/22 [==============================] - 0s 2ms/step - loss: 2.8884 - acc: 0.5642\n",
      "Epoch 10/15\n",
      "22/22 [==============================] - 0s 2ms/step - loss: 2.7288 - acc: 0.5549\n",
      "Epoch 11/15\n",
      "22/22 [==============================] - 0s 2ms/step - loss: 2.2917 - acc: 0.5456\n",
      "Epoch 12/15\n",
      "22/22 [==============================] - 0s 2ms/step - loss: 1.7387 - acc: 0.5736\n",
      "Epoch 13/15\n",
      "22/22 [==============================] - 0s 2ms/step - loss: 1.5864 - acc: 0.5810\n",
      "Epoch 14/15\n",
      "22/22 [==============================] - 0s 2ms/step - loss: 1.4981 - acc: 0.5196\n",
      "Epoch 15/15\n",
      "22/22 [==============================] - 0s 2ms/step - loss: 1.3181 - acc: 0.5549\n"
     ]
    },
    {
     "data": {
      "text/plain": [
       "<keras.callbacks.History at 0x19b5a7f8dc0>"
      ]
     },
     "execution_count": 17,
     "metadata": {},
     "output_type": "execute_result"
    }
   ],
   "source": [
    "model.fit(x_train,y_train,epochs=15,batch_size=25)"
   ]
  },
  {
   "cell_type": "code",
   "execution_count": 18,
   "id": "92243492",
   "metadata": {},
   "outputs": [
    {
     "name": "stdout",
     "output_type": "stream",
     "text": [
      "17/17 [==============================] - 0s 3ms/step - loss: 0.7452 - acc: 0.6294\n"
     ]
    }
   ],
   "source": [
    "_,acc3 = model.evaluate(x_train,y_train)"
   ]
  },
  {
   "cell_type": "code",
   "execution_count": 19,
   "id": "e30734d2",
   "metadata": {},
   "outputs": [],
   "source": [
    "# Early Stopping\n",
    "from keras.callbacks import EarlyStopping\n",
    "EarlyStopping?"
   ]
  },
  {
   "cell_type": "code",
   "execution_count": 20,
   "id": "963a62aa",
   "metadata": {},
   "outputs": [],
   "source": [
    "callback = EarlyStopping(monitor='loss', patience=200, mode='min', verbose=1)"
   ]
  },
  {
   "cell_type": "code",
   "execution_count": 21,
   "id": "3f9096c1",
   "metadata": {},
   "outputs": [],
   "source": [
    "model = models.Sequential()\n",
    "model.add(layers.Dense(8,activation='relu'))\n",
    "model.add(layers.Dense(8,activation='relu'))\n",
    "model.add(layers.Dense(24,activation='relu'))\n",
    "model.add(layers.Dense(1,activation='sigmoid'))"
   ]
  },
  {
   "cell_type": "code",
   "execution_count": 22,
   "id": "c1df3f6e",
   "metadata": {},
   "outputs": [],
   "source": [
    "model.compile(optimizer='adam',loss='binary_crossentropy',metrics='acc')"
   ]
  },
  {
   "cell_type": "code",
   "execution_count": 23,
   "id": "042d5a76",
   "metadata": {},
   "outputs": [
    {
     "name": "stdout",
     "output_type": "stream",
     "text": [
      "Epoch 1/15\n",
      "22/22 [==============================] - 2s 5ms/step - loss: 6.7794 - acc: 0.4953\n",
      "Epoch 2/15\n",
      "22/22 [==============================] - 0s 7ms/step - loss: 3.1846 - acc: 0.4618\n",
      "Epoch 3/15\n",
      "22/22 [==============================] - 0s 5ms/step - loss: 1.3731 - acc: 0.4935\n",
      "Epoch 4/15\n",
      "22/22 [==============================] - 0s 7ms/step - loss: 1.1404 - acc: 0.5102\n",
      "Epoch 5/15\n",
      "22/22 [==============================] - 0s 4ms/step - loss: 1.0079 - acc: 0.5251\n",
      "Epoch 6/15\n",
      "22/22 [==============================] - 0s 4ms/step - loss: 0.9519 - acc: 0.5363\n",
      "Epoch 7/15\n",
      "22/22 [==============================] - 0s 4ms/step - loss: 0.8760 - acc: 0.5270\n",
      "Epoch 8/15\n",
      "22/22 [==============================] - 0s 4ms/step - loss: 0.8656 - acc: 0.5698\n",
      "Epoch 9/15\n",
      "22/22 [==============================] - 0s 4ms/step - loss: 0.8349 - acc: 0.5475\n",
      "Epoch 10/15\n",
      "22/22 [==============================] - 0s 6ms/step - loss: 0.7875 - acc: 0.5754\n",
      "Epoch 11/15\n",
      "22/22 [==============================] - 0s 5ms/step - loss: 0.7452 - acc: 0.5680\n",
      "Epoch 12/15\n",
      "22/22 [==============================] - 0s 4ms/step - loss: 0.7369 - acc: 0.5754\n",
      "Epoch 13/15\n",
      "22/22 [==============================] - 0s 10ms/step - loss: 0.7102 - acc: 0.5754\n",
      "Epoch 14/15\n",
      "22/22 [==============================] - 0s 7ms/step - loss: 0.6955 - acc: 0.5791\n",
      "Epoch 15/15\n",
      "22/22 [==============================] - 0s 4ms/step - loss: 0.6818 - acc: 0.6015\n"
     ]
    },
    {
     "data": {
      "text/plain": [
       "<keras.callbacks.History at 0x19b5be4bbb0>"
      ]
     },
     "execution_count": 23,
     "metadata": {},
     "output_type": "execute_result"
    }
   ],
   "source": [
    "model.fit(x_train,y_train,epochs=15, callbacks=[callback], batch_size=25)"
   ]
  },
  {
   "cell_type": "code",
   "execution_count": 24,
   "id": "d3f66fb9",
   "metadata": {},
   "outputs": [
    {
     "name": "stdout",
     "output_type": "stream",
     "text": [
      "17/17 [==============================] - 0s 3ms/step - loss: 0.6732 - acc: 0.6108\n"
     ]
    }
   ],
   "source": [
    "_,acc4 = model.evaluate(x_train,y_train)"
   ]
  },
  {
   "cell_type": "code",
   "execution_count": 25,
   "id": "456738b8",
   "metadata": {},
   "outputs": [],
   "source": [
    "# Weight Decay\n",
    "from keras.regularizers import l2\n",
    "l2?"
   ]
  },
  {
   "cell_type": "code",
   "execution_count": 26,
   "id": "758b6122",
   "metadata": {},
   "outputs": [],
   "source": [
    "model = models.Sequential()\n",
    "model.add(layers.Dense(8,activation='relu'))\n",
    "model.add(layers.Dense(24,activation='relu',kernel_regularizer='l2'))\n",
    "model.add(layers.Dense(1,activation='sigmoid'))"
   ]
  },
  {
   "cell_type": "code",
   "execution_count": 27,
   "id": "6e22b096",
   "metadata": {},
   "outputs": [],
   "source": [
    "model.compile(optimizer='adam',loss='binary_crossentropy',metrics='acc')"
   ]
  },
  {
   "cell_type": "code",
   "execution_count": 28,
   "id": "a7588d3a",
   "metadata": {},
   "outputs": [
    {
     "name": "stdout",
     "output_type": "stream",
     "text": [
      "Epoch 1/15\n",
      "22/22 [==============================] - 2s 3ms/step - loss: 4.0885 - acc: 0.4097\n",
      "Epoch 2/15\n",
      "22/22 [==============================] - 0s 3ms/step - loss: 1.4560 - acc: 0.6331\n",
      "Epoch 3/15\n",
      "22/22 [==============================] - 0s 3ms/step - loss: 1.1656 - acc: 0.5438\n",
      "Epoch 4/15\n",
      "22/22 [==============================] - 0s 5ms/step - loss: 1.0898 - acc: 0.5810\n",
      "Epoch 5/15\n",
      "22/22 [==============================] - 0s 2ms/step - loss: 1.0379 - acc: 0.5885\n",
      "Epoch 6/15\n",
      "22/22 [==============================] - 0s 3ms/step - loss: 0.9916 - acc: 0.6238\n",
      "Epoch 7/15\n",
      "22/22 [==============================] - 0s 3ms/step - loss: 0.9504 - acc: 0.6145\n",
      "Epoch 8/15\n",
      "22/22 [==============================] - 0s 3ms/step - loss: 0.9017 - acc: 0.6462\n",
      "Epoch 9/15\n",
      "22/22 [==============================] - 0s 3ms/step - loss: 0.8766 - acc: 0.6555\n",
      "Epoch 10/15\n",
      "22/22 [==============================] - 0s 3ms/step - loss: 0.8879 - acc: 0.6220\n",
      "Epoch 11/15\n",
      "22/22 [==============================] - 0s 3ms/step - loss: 0.8198 - acc: 0.6387\n",
      "Epoch 12/15\n",
      "22/22 [==============================] - 0s 4ms/step - loss: 0.7809 - acc: 0.6629\n",
      "Epoch 13/15\n",
      "22/22 [==============================] - 0s 4ms/step - loss: 0.7740 - acc: 0.6667\n",
      "Epoch 14/15\n",
      "22/22 [==============================] - 0s 3ms/step - loss: 0.7496 - acc: 0.6778\n",
      "Epoch 15/15\n",
      "22/22 [==============================] - 0s 4ms/step - loss: 0.7590 - acc: 0.6704\n"
     ]
    },
    {
     "data": {
      "text/plain": [
       "<keras.callbacks.History at 0x19b5d354520>"
      ]
     },
     "execution_count": 28,
     "metadata": {},
     "output_type": "execute_result"
    }
   ],
   "source": [
    "model.fit(x_train,y_train,epochs=15, batch_size=25)"
   ]
  },
  {
   "cell_type": "code",
   "execution_count": 29,
   "id": "dbd0592c",
   "metadata": {},
   "outputs": [
    {
     "name": "stdout",
     "output_type": "stream",
     "text": [
      "17/17 [==============================] - 0s 3ms/step - loss: 0.7154 - acc: 0.6648\n"
     ]
    }
   ],
   "source": [
    "_,acc5 = model.evaluate(x_train,y_train)"
   ]
  },
  {
   "cell_type": "code",
   "execution_count": 30,
   "id": "0571fb19",
   "metadata": {},
   "outputs": [
    {
     "name": "stdout",
     "output_type": "stream",
     "text": [
      "1st Accuracy -  35.00930964946747 %\n",
      "2nd Accuracy -  64.9906873703003 %\n",
      "3rd Accuracy -  62.942272424697876 %\n",
      "4th Accuracy -  61.080074310302734 %\n",
      "5th Accuracy -  66.4804458618164 %\n"
     ]
    }
   ],
   "source": [
    "print(\"1st Accuracy - \",acc1*100,\"%\")\n",
    "print(\"2nd Accuracy - \",acc2*100,\"%\")\n",
    "print(\"3rd Accuracy - \",acc3*100,\"%\")\n",
    "print(\"4th Accuracy - \",acc4*100,\"%\")\n",
    "print(\"5th Accuracy - \",acc5*100,\"%\")"
   ]
  },
  {
   "cell_type": "code",
   "execution_count": 31,
   "id": "390956dc",
   "metadata": {},
   "outputs": [],
   "source": [
    "labels = ['acc1', 'acc2', 'acc3', 'acc4', 'acc5']\n",
    "values = [acc1, acc2, acc3, acc4, acc5]"
   ]
  },
  {
   "cell_type": "code",
   "execution_count": 32,
   "id": "3fef80ab",
   "metadata": {},
   "outputs": [
    {
     "data": {
      "text/plain": [
       "[<matplotlib.lines.Line2D at 0x19b5e23f850>]"
      ]
     },
     "execution_count": 32,
     "metadata": {},
     "output_type": "execute_result"
    },
    {
     "data": {
      "image/png": "[encoded data removed]",
      "text/plain": [
       "<Figure size 432x288 with 1 Axes>"
      ]
     },
     "metadata": {
      "needs_background": "light"
     },
     "output_type": "display_data"
    }
   ],
   "source": [
    "import matplotlib.pyplot as plt\n",
    "plt.plot(labels, values)"
   ]
  }
 ],
 "metadata": {
  "kernelspec": {
   "display_name": "Python 3 (ipykernel)",
   "language": "python",
   "name": "python3"
  },
  "language_info": {
   "codemirror_mode": {
    "name": "ipython",
    "version": 3
   },
   "file_extension": ".py",
   "mimetype": "text/x-python",
   "name": "python",
   "nbconvert_exporter": "python",
   "pygments_lexer": "ipython3",
   "version": "3.9.12"
  }
 },
 "nbformat": 4,
 "nbformat_minor": 5
}
