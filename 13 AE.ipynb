{
 "cells": [
  {
   "cell_type": "markdown",
   "id": "34783bb2",
   "metadata": {},
   "source": [
    "## Explore the process of image anomaly detection using a simple or convolutional autoencoder. Use  images from the MNIST handwritten digit dataset  as the normal data, and images from the Fashion-MNIST fashion product dataset as the anomaly data. The task is to develop an anomaly detection system, which is trained by the normal data only but will be used to identify the normal data and the anomaly data during testing."
   ]
  },
  {
   "cell_type": "code",
   "execution_count": 10,
   "id": "006e0eb3",
   "metadata": {},
   "outputs": [],
   "source": [
    "import numpy as np\n",
    "import matplotlib.pyplot as plt\n",
    "import tensorflow, keras\n",
    "from keras.layers import *\n",
    "from keras.models import *\n",
    "from tensorflow.keras.datasets import mnist, fashion_mnist"
   ]
  },
  {
   "cell_type": "code",
   "execution_count": 11,
   "id": "eaf5cee8",
   "metadata": {},
   "outputs": [],
   "source": [
    "(x_train,_), (x_test,_) = mnist.load_data()\n",
    "x_train = x_train.astype('float32')/255\n",
    "x_test = x_test.astype('float32')/255"
   ]
  },
  {
   "cell_type": "code",
   "execution_count": 12,
   "id": "440b53c9",
   "metadata": {},
   "outputs": [],
   "source": [
    "(_,_),(anamoly_data,_) = fashion_mnist.load_data()\n",
    "anamoly_data = anamoly_data.astype('float32')/255"
   ]
  },
  {
   "cell_type": "code",
   "execution_count": 17,
   "id": "f0338d06",
   "metadata": {},
   "outputs": [
    {
     "data": {
      "text/plain": [
       "((60000, 28, 28, 1), (10000, 28, 28, 1))"
      ]
     },
     "execution_count": 17,
     "metadata": {},
     "output_type": "execute_result"
    }
   ],
   "source": [
    "x_train.shape, anamoly_data.shape"
   ]
  },
  {
   "cell_type": "code",
   "execution_count": 16,
   "id": "d251d7ee",
   "metadata": {},
   "outputs": [],
   "source": [
    "x_train = x_train.reshape(x_train.shape[0],28,28,1)\n",
    "x_test = x_test.reshape(x_test.shape[0],28,28,1)\n",
    "anamoly_data = anamoly_data.reshape(anamoly_data.shape[0],28,28,1)"
   ]
  },
  {
   "cell_type": "code",
   "execution_count": 63,
   "id": "76090d57",
   "metadata": {},
   "outputs": [],
   "source": [
    "model = Sequential()\n",
    "\n",
    "model.add(Conv2D(32,(3,3),activation='relu',padding='same',input_shape=(28,28,1)))\n",
    "model.add(MaxPooling2D((2,2),padding='same'))\n",
    "model.add(Conv2D(8,(3,3),activation='relu',padding='same'))\n",
    "model.add(MaxPooling2D((2,2),padding='same'))\n",
    "model.add(Conv2D(8,(3,3),activation='relu',padding='same'))\n",
    "model.add(MaxPooling2D((2,2),padding='same'))\n",
    "\n",
    "model.add(Conv2D(8,(3,3),activation='relu',padding='same'))\n",
    "model.add(UpSampling2D((2,2)))\n",
    "model.add(Conv2D(8,(3,3),activation='relu',padding='same'))\n",
    "model.add(UpSampling2D((2,2)))\n",
    "model.add(Conv2D(32,(3,3),activation='relu'))\n",
    "model.add(UpSampling2D((2,2)))\n",
    "\n",
    "model.add(Conv2D(1,(3,3),activation='relu',padding='same'))"
   ]
  },
  {
   "cell_type": "code",
   "execution_count": 64,
   "id": "560c7748",
   "metadata": {
    "collapsed": true
   },
   "outputs": [
    {
     "name": "stdout",
     "output_type": "stream",
     "text": [
      "Model: \"sequential_22\"\n",
      "_________________________________________________________________\n",
      " Layer (type)                Output Shape              Param #   \n",
      "=================================================================\n",
      " conv2d_154 (Conv2D)         (None, 28, 28, 32)        320       \n",
      "                                                                 \n",
      " max_pooling2d_72 (MaxPoolin  (None, 14, 14, 32)       0         \n",
      " g2D)                                                            \n",
      "                                                                 \n",
      " conv2d_155 (Conv2D)         (None, 14, 14, 8)         2312      \n",
      "                                                                 \n",
      " max_pooling2d_73 (MaxPoolin  (None, 7, 7, 8)          0         \n",
      " g2D)                                                            \n",
      "                                                                 \n",
      " conv2d_156 (Conv2D)         (None, 7, 7, 8)           584       \n",
      "                                                                 \n",
      " max_pooling2d_74 (MaxPoolin  (None, 4, 4, 8)          0         \n",
      " g2D)                                                            \n",
      "                                                                 \n",
      " conv2d_157 (Conv2D)         (None, 4, 4, 8)           584       \n",
      "                                                                 \n",
      " up_sampling2d_69 (UpSamplin  (None, 8, 8, 8)          0         \n",
      " g2D)                                                            \n",
      "                                                                 \n",
      " conv2d_158 (Conv2D)         (None, 8, 8, 8)           584       \n",
      "                                                                 \n",
      " up_sampling2d_70 (UpSamplin  (None, 16, 16, 8)        0         \n",
      " g2D)                                                            \n",
      "                                                                 \n",
      " conv2d_159 (Conv2D)         (None, 14, 14, 32)        2336      \n",
      "                                                                 \n",
      " up_sampling2d_71 (UpSamplin  (None, 28, 28, 32)       0         \n",
      " g2D)                                                            \n",
      "                                                                 \n",
      " conv2d_160 (Conv2D)         (None, 28, 28, 1)         289       \n",
      "                                                                 \n",
      "=================================================================\n",
      "Total params: 7,009\n",
      "Trainable params: 7,009\n",
      "Non-trainable params: 0\n",
      "_________________________________________________________________\n"
     ]
    }
   ],
   "source": [
    "model.summary()"
   ]
  },
  {
   "cell_type": "code",
   "execution_count": 67,
   "id": "9d639966",
   "metadata": {},
   "outputs": [
    {
     "name": "stdout",
     "output_type": "stream",
     "text": [
      "Epoch 1/5\n",
      "500/500 [==============================] - 131s 255ms/step - loss: 0.0341 - val_loss: 0.0236\n",
      "Epoch 2/5\n",
      "500/500 [==============================] - 124s 248ms/step - loss: 0.0212 - val_loss: 0.0190\n",
      "Epoch 3/5\n",
      "500/500 [==============================] - 121s 242ms/step - loss: 0.0181 - val_loss: 0.0168\n",
      "Epoch 4/5\n",
      "500/500 [==============================] - 123s 246ms/step - loss: 0.0164 - val_loss: 0.0154\n",
      "Epoch 5/5\n",
      "500/500 [==============================] - 120s 240ms/step - loss: 0.0152 - val_loss: 0.0143\n"
     ]
    }
   ],
   "source": [
    "model.compile(optimizer='adam',loss='mean_squared_error')\n",
    "history = model.fit(x_train, x_train, epochs=5, batch_size=120, validation_data=(x_test,x_test))"
   ]
  },
  {
   "cell_type": "code",
   "execution_count": 68,
   "id": "a16a4de0",
   "metadata": {},
   "outputs": [
    {
     "name": "stdout",
     "output_type": "stream",
     "text": [
      "313/313 [==============================] - 8s 25ms/step\n"
     ]
    }
   ],
   "source": [
    "pred = model.predict(x_test)\n",
    "mse_mnist = np.mean(np.square(x_test-pred))"
   ]
  },
  {
   "cell_type": "code",
   "execution_count": 69,
   "id": "2014d212",
   "metadata": {},
   "outputs": [
    {
     "name": "stdout",
     "output_type": "stream",
     "text": [
      "313/313 [==============================] - 10s 32ms/step\n"
     ]
    }
   ],
   "source": [
    "pred1 = model.predict(anamoly_data)\n",
    "mse_anamoly = np.mean(np.square(anamoly_data-pred1))"
   ]
  },
  {
   "cell_type": "code",
   "execution_count": null,
   "id": "b0541cb1",
   "metadata": {},
   "outputs": [],
   "source": [
    "threshold = 0.2"
   ]
  },
  {
   "cell_type": "code",
   "execution_count": null,
   "id": "f39001b7",
   "metadata": {},
   "outputs": [],
   "source": []
  },
  {
   "cell_type": "code",
   "execution_count": null,
   "id": "5fb1fe2d",
   "metadata": {},
   "outputs": [],
   "source": []
  },
  {
   "cell_type": "code",
   "execution_count": 3,
   "id": "37841729",
   "metadata": {
    "collapsed": true
   },
   "outputs": [
    {
     "name": "stdout",
     "output_type": "stream",
     "text": [
      "Epoch 1/5\n",
      "469/469 [==============================] - 256s 538ms/step - loss: 0.1128 - val_loss: 0.1140\n",
      "Epoch 2/5\n",
      "469/469 [==============================] - 262s 559ms/step - loss: 0.1120 - val_loss: 0.1140\n",
      "Epoch 3/5\n",
      "469/469 [==============================] - 391s 833ms/step - loss: 0.1120 - val_loss: 0.1140\n",
      "Epoch 4/5\n",
      "469/469 [==============================] - 226s 482ms/step - loss: 0.1120 - val_loss: 0.1140\n",
      "Epoch 5/5\n",
      "469/469 [==============================] - 240s 511ms/step - loss: 0.1120 - val_loss: 0.1140\n"
     ]
    },
    {
     "data": {
      "text/plain": [
       "<keras.callbacks.History at 0x1eda4c84d30>"
      ]
     },
     "execution_count": 3,
     "metadata": {},
     "output_type": "execute_result"
    }
   ],
   "source": [
    "input_img = Input(shape=(28, 28, 1))\n",
    "x = Conv2D(32, (3, 3), activation='relu', padding='same')(input_img)\n",
    "x = MaxPooling2D((2, 2), padding='same')(x)\n",
    "x = Conv2D(64, (3, 3), activation='relu', padding='same')(x)\n",
    "x = MaxPooling2D((2, 2), padding='same')(x)\n",
    "x = Conv2D(64, (3, 3), activation='relu', padding='same')(x)\n",
    "encoded = MaxPooling2D((2, 2), padding='same')(x)\n",
    "\n",
    "x = Conv2D(64, (3, 3), activation='relu', padding='same')(encoded)\n",
    "x = UpSampling2D((2, 2))(x)\n",
    "x = Conv2D(64, (3, 3), activation='relu', padding='same')(x)\n",
    "x = UpSampling2D((2, 2))(x)\n",
    "x = Conv2D(32, (3, 3), activation='relu')(x)\n",
    "x = UpSampling2D((2, 2))(x)\n",
    "decoded = Conv2D(1, (3, 3), activation='sigmoid', padding='same')(x)\n",
    "\n",
    "autoencoder = Model(input_img, decoded)\n",
    "autoencoder.compile(optimizer='adam', loss='mean_squared_error')\n",
    "\n",
    "autoencoder.fit(x_train, x_train, epochs=5, batch_size=128, shuffle=True, validation_data=(x_test, x_test))"
   ]
  },
  {
   "cell_type": "code",
   "execution_count": 6,
   "id": "c6b1f3e3",
   "metadata": {},
   "outputs": [
    {
     "name": "stdout",
     "output_type": "stream",
     "text": [
      "313/313 [==============================] - 11s 36ms/step\n",
      "313/313 [==============================] - 11s 36ms/step\n"
     ]
    }
   ],
   "source": [
    "reconstructions_mnist = autoencoder.predict(x_test)\n",
    "mse_mnist = np.mean(np.square(x_test_reshaped - reconstructions_mnist))\n",
    "\n",
    "reconstructions_anomaly = autoencoder.predict(x_anomaly)\n",
    "mse_anomaly = np.mean(np.square(x_anomaly_reshaped - reconstructions_anomaly))\n",
    "\n",
    "threshold = 0.02  \n",
    "\n",
    "is_anomaly_mnist = mse_mnist > threshold\n",
    "is_anomaly_anomaly = mse_anomaly > threshold"
   ]
  },
  {
   "cell_type": "code",
   "execution_count": 9,
   "id": "4ada6e4b",
   "metadata": {},
   "outputs": [
    {
     "data": {
      "image/png": "[encoded data removed]",
      "text/plain": [
       "<Figure size 1440x288 with 20 Axes>"
      ]
     },
     "metadata": {},
     "output_type": "display_data"
    }
   ],
   "source": [
    "plt.figure(figsize=(20, 4))\n",
    "for i in range(10):\n",
    "    ax = plt.subplot(2, n, i + 1)\n",
    "    plt.imshow(x_test[i].reshape(28, 28))\n",
    "    plt.title(\"MNIST\")\n",
    "    plt.xticks([]), plt.yticks([])\n",
    "\n",
    "    ax = plt.subplot(2, n, i + 1 + n)\n",
    "    plt.imshow(x_anomaly[i].reshape(28, 28))\n",
    "    plt.title(\"Fashion-MNIST\")    \n",
    "    plt.xticks([]), plt.yticks([])\n",
    "\n",
    "plt.show()"
   ]
  },
  {
   "cell_type": "code",
   "execution_count": null,
   "id": "160642b6",
   "metadata": {},
   "outputs": [],
   "source": []
  }
 ],
 "metadata": {
  "kernelspec": {
   "display_name": "Python 3 (ipykernel)",
   "language": "python",
   "name": "python3"
  },
  "language_info": {
   "codemirror_mode": {
    "name": "ipython",
    "version": 3
   },
   "file_extension": ".py",
   "mimetype": "text/x-python",
   "name": "python",
   "nbconvert_exporter": "python",
   "pygments_lexer": "ipython3",
   "version": "3.9.12"
  }
 },
 "nbformat": 4,
 "nbformat_minor": 5
}
