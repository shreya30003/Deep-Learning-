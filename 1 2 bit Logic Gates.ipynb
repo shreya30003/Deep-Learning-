{
 "cells": [
  {
   "cell_type": "markdown",
   "id": "24b0cda6",
   "metadata": {},
   "source": [
    "## Implement the 2-bit input Tautology (Always ON) Logic Gate using Perceptron Algorithm "
   ]
  },
  {
   "cell_type": "code",
   "execution_count": 1,
   "id": "43f44212",
   "metadata": {},
   "outputs": [],
   "source": [
    "import numpy as np"
   ]
  },
  {
   "cell_type": "code",
   "execution_count": 2,
   "id": "b95765dd",
   "metadata": {},
   "outputs": [],
   "source": [
    "def unit_step(y):\n",
    "    if y>=0:\n",
    "        return 1\n",
    "    else:\n",
    "        return 0"
   ]
  },
  {
   "cell_type": "code",
   "execution_count": 3,
   "id": "d7cf8f43",
   "metadata": {},
   "outputs": [],
   "source": [
    "def perceptron_model(w,x,b):\n",
    "    y = np.dot(w,x) + b\n",
    "    return (unit_step(y))"
   ]
  },
  {
   "cell_type": "code",
   "execution_count": 4,
   "id": "673b3e9b",
   "metadata": {},
   "outputs": [],
   "source": [
    "def tautology(x):\n",
    "    w = 1\n",
    "    b = 1\n",
    "    return perceptron_model(w,x,b)"
   ]
  },
  {
   "cell_type": "code",
   "execution_count": 5,
   "id": "bc313bb9",
   "metadata": {},
   "outputs": [
    {
     "data": {
      "text/plain": [
       "(1, 1)"
      ]
     },
     "execution_count": 5,
     "metadata": {},
     "output_type": "execute_result"
    }
   ],
   "source": [
    "tautology(1), tautology(0)"
   ]
  },
  {
   "cell_type": "markdown",
   "id": "4c2520c7",
   "metadata": {},
   "source": [
    "## Implement the 2-bit input NOT Logic Gate using Perceptron Algorithm "
   ]
  },
  {
   "cell_type": "code",
   "execution_count": 6,
   "id": "6474c8a3",
   "metadata": {},
   "outputs": [],
   "source": [
    "def not_gate(x):\n",
    "    w = -1\n",
    "    b = 0.5\n",
    "    return perceptron_model(w,x,b)"
   ]
  },
  {
   "cell_type": "code",
   "execution_count": 7,
   "id": "3d0fe40b",
   "metadata": {},
   "outputs": [
    {
     "data": {
      "text/plain": [
       "(0, 1)"
      ]
     },
     "execution_count": 7,
     "metadata": {},
     "output_type": "execute_result"
    }
   ],
   "source": [
    "not_gate(1), not_gate(0)"
   ]
  },
  {
   "cell_type": "markdown",
   "id": "c9fba458",
   "metadata": {},
   "source": [
    "## Implement the 2-bit input AND Logic Gate using Perceptron Algorithm "
   ]
  },
  {
   "cell_type": "code",
   "execution_count": 8,
   "id": "e9c81f47",
   "metadata": {},
   "outputs": [],
   "source": [
    "def and_gate(x):\n",
    "    w = [1,1]\n",
    "    b = -1.5\n",
    "    return perceptron_model(w,x,b)"
   ]
  },
  {
   "cell_type": "code",
   "execution_count": 9,
   "id": "fab717bd",
   "metadata": {},
   "outputs": [
    {
     "data": {
      "text/plain": [
       "(1, 0, 0, 0)"
      ]
     },
     "execution_count": 9,
     "metadata": {},
     "output_type": "execute_result"
    }
   ],
   "source": [
    "and_gate([1,1]), and_gate([0,0]), and_gate([1,0]), and_gate([0,1])"
   ]
  },
  {
   "cell_type": "markdown",
   "id": "afc8c9c3",
   "metadata": {},
   "source": [
    "## Implement the 2-bit input OR Logic Gate using Perceptron Algorithm "
   ]
  },
  {
   "cell_type": "code",
   "execution_count": 10,
   "id": "3315c5dc",
   "metadata": {},
   "outputs": [],
   "source": [
    "def or_gate(x):\n",
    "    w = [1,1]\n",
    "    b = -0.5    \n",
    "    return perceptron_model(w,x,b)"
   ]
  },
  {
   "cell_type": "code",
   "execution_count": 11,
   "id": "9334513a",
   "metadata": {},
   "outputs": [
    {
     "data": {
      "text/plain": [
       "(1, 0, 1, 1)"
      ]
     },
     "execution_count": 11,
     "metadata": {},
     "output_type": "execute_result"
    }
   ],
   "source": [
    "or_gate([1,1]), or_gate([0,0]), or_gate([1,0]), or_gate([0,1])"
   ]
  },
  {
   "cell_type": "markdown",
   "id": "ad71aa1a",
   "metadata": {},
   "source": [
    "## Implement the 2-bit input NOR Logic Gate using Perceptron Algorithm "
   ]
  },
  {
   "cell_type": "code",
   "execution_count": 12,
   "id": "4ec94fb2",
   "metadata": {},
   "outputs": [],
   "source": [
    "def nor_gate(x):\n",
    "    a = or_gate(x)\n",
    "    b = not_gate(a)\n",
    "    return b"
   ]
  },
  {
   "cell_type": "code",
   "execution_count": 13,
   "id": "1faa28e6",
   "metadata": {},
   "outputs": [
    {
     "data": {
      "text/plain": [
       "(0, 0, 0, 1)"
      ]
     },
     "execution_count": 13,
     "metadata": {},
     "output_type": "execute_result"
    }
   ],
   "source": [
    "nor_gate([1,1]), nor_gate([1,0]), nor_gate([0,1]), nor_gate([0,0])"
   ]
  },
  {
   "cell_type": "markdown",
   "id": "d5c5186b",
   "metadata": {},
   "source": [
    "## Implement the 2-bit input NAND Logic Gate using Perceptron Algorithm "
   ]
  },
  {
   "cell_type": "code",
   "execution_count": 14,
   "id": "9edea1fb",
   "metadata": {},
   "outputs": [],
   "source": [
    "def nand_gate(x):\n",
    "    a = and_gate(x)\n",
    "    b = not_gate(a)\n",
    "    return b"
   ]
  },
  {
   "cell_type": "code",
   "execution_count": 15,
   "id": "45c704c9",
   "metadata": {},
   "outputs": [
    {
     "data": {
      "text/plain": [
       "(0, 1, 1, 1)"
      ]
     },
     "execution_count": 15,
     "metadata": {},
     "output_type": "execute_result"
    }
   ],
   "source": [
    "nand_gate([1,1]), nand_gate([0,0]), nand_gate([1,0]), nand_gate([0,1])"
   ]
  },
  {
   "cell_type": "markdown",
   "id": "d8ad9883",
   "metadata": {},
   "source": [
    "##\tImplement Perceptron Algorithm for XOR Logic Gate with 2-bit Binary Input"
   ]
  },
  {
   "cell_type": "code",
   "execution_count": 16,
   "id": "5a2e39d6",
   "metadata": {},
   "outputs": [],
   "source": [
    "# complement(A.B).(A+B)\n",
    "def xor_gate(x):\n",
    "    a = or_gate(x)\n",
    "    b = and_gate(x)\n",
    "    c = not_gate(b)\n",
    "    d = np.array([a,c])\n",
    "    e = and_gate(d)\n",
    "    return e"
   ]
  },
  {
   "cell_type": "code",
   "execution_count": 17,
   "id": "214f8757",
   "metadata": {},
   "outputs": [
    {
     "data": {
      "text/plain": [
       "(0, 1, 1, 0)"
      ]
     },
     "execution_count": 17,
     "metadata": {},
     "output_type": "execute_result"
    }
   ],
   "source": [
    "xor_gate([1,1]), xor_gate([1,0]), xor_gate([0,1]), xor_gate([0,0])"
   ]
  },
  {
   "cell_type": "markdown",
   "id": "a39d13eb",
   "metadata": {},
   "source": [
    "##\tImplement Perceptron Algorithm for XNOR Logic Gate with 2-bit Binary Input"
   ]
  },
  {
   "cell_type": "code",
   "execution_count": 18,
   "id": "2613c27c",
   "metadata": {},
   "outputs": [],
   "source": [
    "def xnor_gate(x):\n",
    "    a = xor_gate(x)\n",
    "    return not_gate(a)"
   ]
  },
  {
   "cell_type": "code",
   "execution_count": 19,
   "id": "59efcf30",
   "metadata": {},
   "outputs": [
    {
     "data": {
      "text/plain": [
       "(1, 0, 0, 1)"
      ]
     },
     "execution_count": 19,
     "metadata": {},
     "output_type": "execute_result"
    }
   ],
   "source": [
    "xnor_gate([1,1]), xnor_gate([1,0]), xnor_gate([0,1]), xnor_gate([0,0])"
   ]
  }
 ],
 "metadata": {
  "kernelspec": {
   "display_name": "Python 3 (ipykernel)",
   "language": "python",
   "name": "python3"
  },
  "language_info": {
   "codemirror_mode": {
    "name": "ipython",
    "version": 3
   },
   "file_extension": ".py",
   "mimetype": "text/x-python",
   "name": "python",
   "nbconvert_exporter": "python",
   "pygments_lexer": "ipython3",
   "version": "3.9.12"
  }
 },
 "nbformat": 4,
 "nbformat_minor": 5
}
